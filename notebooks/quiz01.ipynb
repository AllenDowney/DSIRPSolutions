{
 "cells": [
  {
   "cell_type": "markdown",
   "metadata": {},
   "source": [
    "# Quiz 1\n",
    "\n",
    "BEFORE YOU START THIS QUIZ:\n",
    "\n",
    "1. Click on \"Copy to Drive\" to make a copy of the quiz,\n",
    "\n",
    "2. Click on \"Share\",\n",
    "    \n",
    "3. Click on \"Change\" and select \"Anyone with this link can edit\"\n",
    "    \n",
    "4. Click \"Copy link\" and\n",
    "\n",
    "5. Paste the link into [this Canvas assignment](https://canvas.olin.edu/courses/313/assignments/4866). \n",
    "\n",
    "Copyright 2021 Allen Downey, [MIT License](http://opensource.org/licenses/MIT)"
   ]
  },
  {
   "cell_type": "markdown",
   "metadata": {},
   "source": [
    "## Setup"
   ]
  },
  {
   "cell_type": "markdown",
   "metadata": {},
   "source": [
    "The following cells download a file that contains a list of words, reads the words, and stores them in a `set`."
   ]
  },
  {
   "cell_type": "code",
   "execution_count": 2,
   "metadata": {},
   "outputs": [],
   "source": [
    "from os.path import basename, exists\n",
    "\n",
    "def download(url):\n",
    "    filename = basename(url)\n",
    "    if not exists(filename):\n",
    "        from urllib.request import urlretrieve\n",
    "        local, _ = urlretrieve(url, filename)\n",
    "        print('Downloaded ' + local)\n",
    "    \n",
    "download('https://github.com/AllenDowney/DSIRP/raw/main/american-english')"
   ]
  },
  {
   "cell_type": "code",
   "execution_count": 3,
   "metadata": {},
   "outputs": [],
   "source": [
    "def read_words(filename):\n",
    "    \"\"\"Read lines from a file and split them into words.\"\"\"\n",
    "    res = set()\n",
    "    for line in open(filename):\n",
    "        for word in line.split():\n",
    "            res.add(word.strip().lower())\n",
    "    return res"
   ]
  },
  {
   "cell_type": "code",
   "execution_count": 4,
   "metadata": {},
   "outputs": [
    {
     "data": {
      "text/plain": [
       "100781"
      ]
     },
     "execution_count": 4,
     "metadata": {},
     "output_type": "execute_result"
    }
   ],
   "source": [
    "word_list = read_words('american-english')\n",
    "len(word_list)"
   ]
  },
  {
   "cell_type": "markdown",
   "metadata": {},
   "source": [
    "## Question 1\n",
    "\n",
    "The following function takes a string and returns `True` if the letters in the string appear in alphabetical order."
   ]
  },
  {
   "cell_type": "code",
   "execution_count": 5,
   "metadata": {},
   "outputs": [],
   "source": [
    "def is_alphabetical(word):\n",
    "    return list(word) == sorted(word)"
   ]
  },
  {
   "cell_type": "code",
   "execution_count": 6,
   "metadata": {},
   "outputs": [
    {
     "data": {
      "text/plain": [
       "True"
      ]
     },
     "execution_count": 6,
     "metadata": {},
     "output_type": "execute_result"
    }
   ],
   "source": [
    "is_alphabetical('almost') # True"
   ]
  },
  {
   "cell_type": "code",
   "execution_count": 7,
   "metadata": {},
   "outputs": [
    {
     "data": {
      "text/plain": [
       "False"
      ]
     },
     "execution_count": 7,
     "metadata": {},
     "output_type": "execute_result"
    }
   ],
   "source": [
    "is_alphabetical('alphabetical') # False"
   ]
  },
  {
   "cell_type": "markdown",
   "metadata": {},
   "source": [
    "Make a new list called `alpha_words` that contains only the words in `word_list` that are alphabetical, and display the length of the list."
   ]
  },
  {
   "cell_type": "code",
   "execution_count": 8,
   "metadata": {},
   "outputs": [
    {
     "data": {
      "text/plain": [
       "502"
      ]
     },
     "execution_count": 8,
     "metadata": {},
     "output_type": "execute_result"
    }
   ],
   "source": [
    "# Solution\n",
    "\n",
    "alpha_words = []\n",
    "for word in word_list:\n",
    "    if is_alphabetical(word):\n",
    "        alpha_words.append(word)\n",
    "        \n",
    "len(alpha_words)"
   ]
  },
  {
   "cell_type": "code",
   "execution_count": 9,
   "metadata": {},
   "outputs": [
    {
     "data": {
      "text/plain": [
       "502"
      ]
     },
     "execution_count": 9,
     "metadata": {},
     "output_type": "execute_result"
    }
   ],
   "source": [
    "# Solution\n",
    "\n",
    "alpha_words = [word for word in word_list if is_alphabetical(word)]\n",
    "len(alpha_words)"
   ]
  },
  {
   "cell_type": "markdown",
   "metadata": {},
   "source": [
    "## Question 2\n",
    "\n",
    "Find and display the longest word in `alpha_words`.\n",
    "If there is more than one word with the maximal length, you can display any one of them (but only one).\n",
    "\n",
    "NOTE: You can write code for this question even if your answer to the previous question doesn't work. I'll grade the code, not the output."
   ]
  },
  {
   "cell_type": "code",
   "execution_count": 10,
   "metadata": {},
   "outputs": [
    {
     "data": {
      "text/plain": [
       "'billowy'"
      ]
     },
     "execution_count": 10,
     "metadata": {},
     "output_type": "execute_result"
    }
   ],
   "source": [
    "# Solution\n",
    "\n",
    "max(alpha_words, key=len)"
   ]
  },
  {
   "cell_type": "code",
   "execution_count": 12,
   "metadata": {},
   "outputs": [
    {
     "data": {
      "text/plain": [
       "['billowy',\n",
       " 'almost',\n",
       " 'chilly',\n",
       " 'glossy',\n",
       " 'knotty',\n",
       " 'effort',\n",
       " 'chintz',\n",
       " 'accost',\n",
       " 'deimos',\n",
       " 'bellow']"
      ]
     },
     "execution_count": 12,
     "metadata": {},
     "output_type": "execute_result"
    }
   ],
   "source": [
    "# Solution\n",
    "\n",
    "sorted(alpha_words, key=len, reverse=True)[:10]"
   ]
  },
  {
   "cell_type": "markdown",
   "metadata": {},
   "source": [
    "## Question 3\n",
    "\n",
    "Write a function called `encompasses` that takes two words and returns `True` if the first word contains the second word, but not at the beginning or the end (and `False` otherwise). For example, `hippopotomus` encompasses the word `pot`.\n",
    "\n",
    "HINT: You might find the string method `find` useful. "
   ]
  },
  {
   "cell_type": "code",
   "execution_count": 11,
   "metadata": {},
   "outputs": [
    {
     "data": {
      "text/plain": [
       "5"
      ]
     },
     "execution_count": 11,
     "metadata": {},
     "output_type": "execute_result"
    }
   ],
   "source": [
    "'hippopotomus'.find('pot')"
   ]
  },
  {
   "cell_type": "code",
   "execution_count": 12,
   "metadata": {},
   "outputs": [
    {
     "data": {
      "text/plain": [
       "-1"
      ]
     },
     "execution_count": 12,
     "metadata": {},
     "output_type": "execute_result"
    }
   ],
   "source": [
    "'hippopotomus'.find('potato')"
   ]
  },
  {
   "cell_type": "code",
   "execution_count": 13,
   "metadata": {},
   "outputs": [],
   "source": [
    "# WRITE YOUR FUNCTION HERE"
   ]
  },
  {
   "cell_type": "code",
   "execution_count": 14,
   "metadata": {},
   "outputs": [],
   "source": [
    "# Solution\n",
    "\n",
    "def encompasses(word1, word2):\n",
    "    i = word1.find(word2)\n",
    "    if i == -1 or i == 0 or i == len(word1)-len(word2):\n",
    "        return False\n",
    "    else:\n",
    "        return True"
   ]
  },
  {
   "cell_type": "code",
   "execution_count": 15,
   "metadata": {},
   "outputs": [],
   "source": [
    "# Solution\n",
    "\n",
    "def encompasses(word1, word2):\n",
    "    i = word1.find(word2)\n",
    "    return i > 0 and i < len(word1)-len(word2)"
   ]
  },
  {
   "cell_type": "code",
   "execution_count": 16,
   "metadata": {},
   "outputs": [],
   "source": [
    "# Solution\n",
    "\n",
    "def encompasses(word1, word2):\n",
    "    return word2 in word1[1:-1]"
   ]
  },
  {
   "cell_type": "markdown",
   "metadata": {},
   "source": [
    "You can use the following examples to test your function."
   ]
  },
  {
   "cell_type": "code",
   "execution_count": 17,
   "metadata": {},
   "outputs": [],
   "source": [
    "word1 = 'hippopotamus'\n",
    "word2 = 'pot'\n",
    "word3 = 'hippo'\n",
    "word4 = 'mus'\n",
    "word5 = 'potato'"
   ]
  },
  {
   "cell_type": "code",
   "execution_count": 18,
   "metadata": {},
   "outputs": [
    {
     "data": {
      "text/plain": [
       "True"
      ]
     },
     "execution_count": 18,
     "metadata": {},
     "output_type": "execute_result"
    }
   ],
   "source": [
    "encompasses(word1, word2) # True"
   ]
  },
  {
   "cell_type": "code",
   "execution_count": 19,
   "metadata": {},
   "outputs": [
    {
     "data": {
      "text/plain": [
       "False"
      ]
     },
     "execution_count": 19,
     "metadata": {},
     "output_type": "execute_result"
    }
   ],
   "source": [
    "encompasses(word1, word3) # False because word3 is at the beginning"
   ]
  },
  {
   "cell_type": "code",
   "execution_count": 20,
   "metadata": {},
   "outputs": [
    {
     "data": {
      "text/plain": [
       "False"
      ]
     },
     "execution_count": 20,
     "metadata": {},
     "output_type": "execute_result"
    }
   ],
   "source": [
    "encompasses(word1, word4) # False because word4 is at the end"
   ]
  },
  {
   "cell_type": "code",
   "execution_count": 21,
   "metadata": {},
   "outputs": [
    {
     "data": {
      "text/plain": [
       "False"
      ]
     },
     "execution_count": 21,
     "metadata": {},
     "output_type": "execute_result"
    }
   ],
   "source": [
    "encompasses(word1, word5) # False because word5 is not in word1"
   ]
  },
  {
   "cell_type": "markdown",
   "metadata": {},
   "source": [
    "## Question 4\n",
    "\n",
    "Two words make a \"reverse pair\" if one of them is the reverse of the other. For example, `pots` and `stop` are a reverse pair.\n",
    "\n",
    "The words in a reverse pair must be different, so `gag` and `gag` are not a reverse pair.\n",
    "\n",
    "\n",
    "Make a list of all reverse pairs in `word_list`. Each pair of words should appear only once, so if `('tons', 'snot')` is in the list, `('snot', 'tons')` should not be.\n"
   ]
  },
  {
   "cell_type": "code",
   "execution_count": 13,
   "metadata": {},
   "outputs": [
    {
     "data": {
      "text/plain": [
       "[('girt', 'trig'),\n",
       " ('maps', 'spam'),\n",
       " ('naps', 'span'),\n",
       " ('diaper', 'repaid'),\n",
       " ('per', 'rep'),\n",
       " ('are', 'era'),\n",
       " ('ali', 'ila'),\n",
       " ('devil', 'lived'),\n",
       " ('pis', 'sip'),\n",
       " ('nuts', 'stun'),\n",
       " ('drawer', 'reward'),\n",
       " ('em', 'me'),\n",
       " ('pas', 'sap'),\n",
       " ('ares', 'sera'),\n",
       " ('draw', 'ward'),\n",
       " ('pans', 'snap'),\n",
       " ('bin', 'nib'),\n",
       " ('pees', 'seep'),\n",
       " ('pit', 'tip'),\n",
       " ('avid', 'diva'),\n",
       " ('gut', 'tug'),\n",
       " ('saw', 'was'),\n",
       " ('ailed', 'delia'),\n",
       " ('gums', 'smug'),\n",
       " ('aim', 'mia'),\n",
       " ('suez', 'zeus'),\n",
       " ('peels', 'sleep'),\n",
       " ('os', 'so'),\n",
       " ('dim', 'mid'),\n",
       " ('al', 'la'),\n",
       " ('dennis', 'sinned'),\n",
       " ('keep', 'peek'),\n",
       " ('fer', 'ref'),\n",
       " ('bad', 'dab'),\n",
       " ('don', 'nod'),\n",
       " ('anal', 'lana'),\n",
       " ('knits', 'stink'),\n",
       " ('elbert', 'treble'),\n",
       " ('it', 'ti'),\n",
       " ('mat', 'tam'),\n",
       " ('map', 'pam'),\n",
       " ('dog', 'god'),\n",
       " ('ergo', 'ogre'),\n",
       " ('gnat', 'tang'),\n",
       " ('pols', 'slop'),\n",
       " ('bur', 'rub'),\n",
       " ('mar', 'ram'),\n",
       " ('desserts', 'stressed'),\n",
       " ('par', 'rap'),\n",
       " ('maws', 'swam'),\n",
       " ('dis', 'sid'),\n",
       " ('aver', 'reva'),\n",
       " ('spat', 'taps'),\n",
       " ('net', 'ten'),\n",
       " ('looter', 'retool'),\n",
       " ('silos', 'solis'),\n",
       " ('dial', 'laid'),\n",
       " ('now', 'won'),\n",
       " ('rot', 'tor'),\n",
       " ('got', 'tog'),\n",
       " ('meet', 'teem'),\n",
       " ('am', 'ma'),\n",
       " ('pets', 'step'),\n",
       " ('able', 'elba'),\n",
       " ('man', 'nam'),\n",
       " ('agar', 'raga'),\n",
       " ('pots', 'stop'),\n",
       " ('rebut', 'tuber'),\n",
       " ('dray', 'yard'),\n",
       " ('cork', 'kroc'),\n",
       " ('snaps', 'spans'),\n",
       " ('asset', 'tessa'),\n",
       " ('ban', 'nab'),\n",
       " ('bp', 'pb'),\n",
       " ('not', 'ton'),\n",
       " ('miles', 'selim'),\n",
       " ('bed', 'deb'),\n",
       " ('in', 'ni'),\n",
       " ('pu', 'up'),\n",
       " ('spit', 'tips'),\n",
       " ('liar', 'rail'),\n",
       " ('eon', 'noe'),\n",
       " ('smut', 'tums'),\n",
       " ('spay', 'yaps'),\n",
       " ('eviler', 'relive'),\n",
       " ('hoop', 'pooh'),\n",
       " ('loot', 'tool'),\n",
       " ('saps', 'spas'),\n",
       " ('nor', 'ron'),\n",
       " ('keel', 'leek'),\n",
       " ('deeps', 'speed'),\n",
       " ('gals', 'slag'),\n",
       " ('gem', 'meg'),\n",
       " ('gal', 'lag'),\n",
       " ('way', 'yaw'),\n",
       " ('aral', 'lara'),\n",
       " ('debut', 'tubed'),\n",
       " ('loop', 'pool'),\n",
       " ('lin', 'nil'),\n",
       " ('leper', 'repel'),\n",
       " ('bun', 'nub'),\n",
       " ('den', 'ned'),\n",
       " ('mit', 'tim'),\n",
       " ('buts', 'stub'),\n",
       " ('smart', 'trams'),\n",
       " ('pools', 'sloop'),\n",
       " ('denier', 'reined'),\n",
       " ('sports', 'strops'),\n",
       " ('spot', 'tops'),\n",
       " ('ear', 'rae'),\n",
       " ('bat', 'tab'),\n",
       " ('nap', 'pan'),\n",
       " ('sleets', 'steels'),\n",
       " ('snips', 'spins'),\n",
       " ('tow', 'wot'),\n",
       " ('los', 'sol'),\n",
       " ('lap', 'pal'),\n",
       " ('leer', 'reel'),\n",
       " ('abut', 'tuba'),\n",
       " ('leon', 'noel'),\n",
       " ('gnaw', 'wang'),\n",
       " ('straw', 'warts'),\n",
       " ('ho', 'oh'),\n",
       " ('draws', 'sward'),\n",
       " ('buns', 'snub'),\n",
       " ('aron', 'nora'),\n",
       " ('flow', 'wolf'),\n",
       " ('brag', 'garb'),\n",
       " ('lever', 'revel'),\n",
       " ('pot', 'top'),\n",
       " ('decal', 'laced'),\n",
       " ('rats', 'star'),\n",
       " ('emir', 'rime'),\n",
       " ('camus', 'sumac'),\n",
       " ('guns', 'snug'),\n",
       " ('emil', 'lime'),\n",
       " ('annam', 'manna'),\n",
       " ('nut', 'tun'),\n",
       " ('sway', 'yaws'),\n",
       " ('tort', 'trot'),\n",
       " ('no', 'on'),\n",
       " ('keels', 'sleek'),\n",
       " ('remit', 'timer'),\n",
       " ('pat', 'tap'),\n",
       " ('eros', 'sore'),\n",
       " ('loots', 'stool'),\n",
       " ('gulp', 'plug'),\n",
       " ('ani', 'ina'),\n",
       " ('notes', 'seton'),\n",
       " ('ajar', 'raja'),\n",
       " ('mils', 'slim'),\n",
       " ('mu', 'um'),\n",
       " ('pay', 'yap'),\n",
       " ('evian', 'naive'),\n",
       " ('sloops', 'spools'),\n",
       " ('ac', 'ca'),\n",
       " ('pus', 'sup'),\n",
       " ('nips', 'spin'),\n",
       " ('raps', 'spar'),\n",
       " ('nat', 'tan'),\n",
       " ('cram', 'marc'),\n",
       " ('an', 'na'),\n",
       " ('eris', 'sire'),\n",
       " ('dos', 'sod'),\n",
       " ('ex', 'xe'),\n",
       " ('door', 'rood'),\n",
       " ('eton', 'note'),\n",
       " ('cod', 'doc'),\n",
       " ('denim', 'mined'),\n",
       " ('but', 'tub'),\n",
       " ('bud', 'dub'),\n",
       " ('lien', 'neil'),\n",
       " ('elam', 'male'),\n",
       " ('avon', 'nova'),\n",
       " ('mart', 'tram'),\n",
       " ('deer', 'reed'),\n",
       " ('regor', 'roger'),\n",
       " ('lop', 'pol'),\n",
       " ('pals', 'slap'),\n",
       " ('deliver', 'reviled'),\n",
       " ('oat', 'tao'),\n",
       " ('edit', 'tide'),\n",
       " ('bag', 'gab'),\n",
       " ('andes', 'sedna'),\n",
       " ('baas', 'saab'),\n",
       " ('evan', 'nave'),\n",
       " ('snot', 'tons'),\n",
       " ('eire', 'erie'),\n",
       " ('dine', 'enid'),\n",
       " ('emos', 'some'),\n",
       " ('is', 'si'),\n",
       " ('may', 'yam'),\n",
       " ('doom', 'mood'),\n",
       " ('bog', 'gob'),\n",
       " ('gas', 'sag'),\n",
       " ('errol', 'lorre'),\n",
       " ('rat', 'tar'),\n",
       " ('bats', 'stab'),\n",
       " ('kay', 'yak'),\n",
       " ('dot', 'tod'),\n",
       " ('di', 'id'),\n",
       " ('ate', 'eta'),\n",
       " ('gnus', 'sung'),\n",
       " ('stew', 'wets'),\n",
       " ('kramer', 'remark'),\n",
       " ('eh', 'he'),\n",
       " ('burg', 'grub'),\n",
       " ('paws', 'swap'),\n",
       " ('avis', 'siva'),\n",
       " ('gel', 'leg'),\n",
       " ('snoops', 'spoons'),\n",
       " ('ports', 'strop'),\n",
       " ('sprat', 'tarps'),\n",
       " ('edam', 'made'),\n",
       " ('anon', 'nona'),\n",
       " ('mir', 'rim'),\n",
       " ('dual', 'laud'),\n",
       " ('eel', 'lee'),\n",
       " ('emit', 'time'),\n",
       " ('parts', 'strap'),\n",
       " ('snit', 'tins'),\n",
       " ('dam', 'mad'),\n",
       " ('gum', 'mug'),\n",
       " ('part', 'trap'),\n",
       " ('damon', 'nomad'),\n",
       " ('deep', 'peed'),\n",
       " ('enif', 'fine'),\n",
       " ('dew', 'wed'),\n",
       " ('oder', 'redo'),\n",
       " ('loops', 'spool'),\n",
       " ('flog', 'golf'),\n",
       " ('las', 'sal'),\n",
       " ('bard', 'drab'),\n",
       " ('redraw', 'warder'),\n",
       " ('moor', 'room'),\n",
       " ('bus', 'sub'),\n",
       " ('ah', 'ha'),\n",
       " ('delbert', 'trebled'),\n",
       " ('nip', 'pin'),\n",
       " ('ages', 'sega'),\n",
       " ('ante', 'etna'),\n",
       " ('raw', 'war'),\n",
       " ('decaf', 'faced'),\n",
       " ('es', 'se'),\n",
       " ('lager', 'regal'),\n",
       " ('spots', 'stops'),\n",
       " ('nit', 'tin'),\n",
       " ('hem', 'meh'),\n",
       " ('evil', 'live'),\n",
       " ('new', 'wen'),\n",
       " ('pins', 'snip')]"
      ]
     },
     "execution_count": 13,
     "metadata": {},
     "output_type": "execute_result"
    }
   ],
   "source": [
    "# Solution\n",
    "\n",
    "res = []\n",
    "for word in word_list:\n",
    "    rev = word[::-1]\n",
    "    if rev in word_list and rev > word:\n",
    "        res.append((word, rev))\n",
    "\n",
    "res"
   ]
  },
  {
   "cell_type": "markdown",
   "metadata": {},
   "source": [
    "BONUS QUESTION JUST FOR FUN: What is the longest reverse pair in this word list?"
   ]
  },
  {
   "cell_type": "code",
   "execution_count": 14,
   "metadata": {},
   "outputs": [
    {
     "data": {
      "text/plain": [
       "('desserts', 'stressed')"
      ]
     },
     "execution_count": 14,
     "metadata": {},
     "output_type": "execute_result"
    }
   ],
   "source": [
    "# Solution\n",
    "\n",
    "max(res, key=lambda x: len(x[0]))"
   ]
  },
  {
   "cell_type": "code",
   "execution_count": null,
   "metadata": {},
   "outputs": [],
   "source": []
  }
 ],
 "metadata": {
  "kernelspec": {
   "display_name": "Python 3",
   "language": "python",
   "name": "python3"
  },
  "language_info": {
   "codemirror_mode": {
    "name": "ipython",
    "version": 3
   },
   "file_extension": ".py",
   "mimetype": "text/x-python",
   "name": "python",
   "nbconvert_exporter": "python",
   "pygments_lexer": "ipython3",
   "version": "3.9.4"
  }
 },
 "nbformat": 4,
 "nbformat_minor": 1
}
