{
 "cells": [
  {
   "cell_type": "markdown",
   "id": "absent-egypt",
   "metadata": {},
   "source": [
    "# Timing Redis Operations"
   ]
  },
  {
   "cell_type": "markdown",
   "id": "professional-enforcement",
   "metadata": {
    "tags": [
     "remove-cell"
    ]
   },
   "source": [
    "*Data Structures and Information Retrieval in Python*\n",
    "\n",
    "Copyright 2021 Allen Downey\n",
    "\n",
    "License: [Creative Commons Attribution-NonCommercial-ShareAlike 4.0 International](https://creativecommons.org/licenses/by-nc-sa/4.0/)"
   ]
  },
  {
   "cell_type": "markdown",
   "id": "committed-editing",
   "metadata": {},
   "source": [
    "[Click here to run this notebook on Colab](https://colab.research.google.com/github/AllenDowney/DSIRP/blob/main/chapters/time_redis.ipynb)"
   ]
  },
  {
   "cell_type": "markdown",
   "id": "953cba43",
   "metadata": {},
   "source": [
    "## Performance of lpush and rpush\n",
    "\n",
    "The [Redis documentation](https://redis.io/topics/data-types) says\n",
    "\n",
    "> The main features of Redis Lists from the point of view of time complexity are the support for constant time insertion and deletion of elements near the head and tail, even with many millions of inserted items. Accessing elements is very fast near the extremes of the list but is slow if you try accessing the middle of a very big list, as it is an O(N) operation.\n",
    "\n",
    "In class recently, we saw some behavior that suggested that `lpush` might be linear (as we would expect from an array list, like Python lists) rather than constant time (as we would expect from a linked list).\n",
    "\n",
    "So let's find out."
   ]
  },
  {
   "cell_type": "code",
   "execution_count": 2,
   "id": "21858d3a",
   "metadata": {},
   "outputs": [
    {
     "name": "stdout",
     "output_type": "stream",
     "text": [
      "76405:C 03 Nov 2021 09:46:34.160 # oO0OoO0OoO0Oo Redis is starting oO0OoO0OoO0Oo\r\n",
      "76405:C 03 Nov 2021 09:46:34.160 # Redis version=5.0.3, bits=64, commit=00000000, modified=0, pid=76405, just started\r\n",
      "76405:C 03 Nov 2021 09:46:34.160 # Configuration loaded\r\n"
     ]
    }
   ],
   "source": [
    "import sys\n",
    "\n",
    "IN_COLAB = 'google.colab' in sys.modules\n",
    "\n",
    "if IN_COLAB:\n",
    "    !pip install redis-server\n",
    "    !/usr/local/lib/python*/dist-packages/redis_server/bin/redis-server --daemonize yes\n",
    "else:\n",
    "    !redis-server --daemonize yes"
   ]
  },
  {
   "cell_type": "code",
   "execution_count": 3,
   "id": "588e5aef",
   "metadata": {},
   "outputs": [],
   "source": [
    "try:\n",
    "    import redis\n",
    "except ImportError:\n",
    "    !pip install redis"
   ]
  },
  {
   "cell_type": "code",
   "execution_count": 4,
   "id": "3459e680",
   "metadata": {},
   "outputs": [],
   "source": [
    "import redis\n",
    "\n",
    "r = redis.Redis()"
   ]
  },
  {
   "cell_type": "code",
   "execution_count": 8,
   "id": "enhanced-choir",
   "metadata": {},
   "outputs": [],
   "source": [
    "import os\n",
    "\n",
    "def etime():\n",
    "    \"\"\"Measures user and system time this process has used.\n",
    "\n",
    "    Returns the sum of user and system time.\"\"\"\n",
    "    user, sys, chuser, chsys, real = os.times()\n",
    "    return user+sys"
   ]
  },
  {
   "cell_type": "code",
   "execution_count": 9,
   "id": "supposed-carpet",
   "metadata": {},
   "outputs": [],
   "source": [
    "def time_func(func, n):\n",
    "    \"\"\"Run a function and return the elapsed time.\n",
    "\n",
    "    func: function\n",
    "    n: problem size, passed as an argument to func\n",
    "\n",
    "    returns: user+sys time in seconds\n",
    "    \"\"\"\n",
    "    start = etime()\n",
    "    func(n)\n",
    "    end = etime()\n",
    "    elapsed = end - start\n",
    "    return elapsed"
   ]
  },
  {
   "cell_type": "code",
   "execution_count": 15,
   "id": "brown-princess",
   "metadata": {},
   "outputs": [],
   "source": [
    "def run_timing_test(func, max_time=1):\n",
    "    \"\"\"Tests the given function with a range of values for n.\n",
    "\n",
    "    func: function object\n",
    "\n",
    "    returns: list of ns and a list of run times.\n",
    "    \"\"\"\n",
    "    ns = []\n",
    "    ts = []\n",
    "    for i in range(10, 28):\n",
    "        n = 2**i\n",
    "        t = time_func(func, n)\n",
    "        print(n, t)\n",
    "        if t > 0:\n",
    "            ns.append(n)\n",
    "            ts.append(t)\n",
    "        if t > max_time:\n",
    "            break\n",
    "\n",
    "    return ns, ts"
   ]
  },
  {
   "cell_type": "markdown",
   "id": "assumed-spell",
   "metadata": {},
   "source": [
    "## lpush\n"
   ]
  },
  {
   "cell_type": "code",
   "execution_count": 22,
   "id": "adjustable-daniel",
   "metadata": {},
   "outputs": [],
   "source": [
    "def lpush(n):\n",
    "    key = 'lpush_test'\n",
    "    [r.lpush(key, x) for x in range(n)]\n",
    "    r.delete(key)"
   ]
  },
  {
   "cell_type": "code",
   "execution_count": 23,
   "id": "32422912",
   "metadata": {},
   "outputs": [],
   "source": [
    "def rpush(n):\n",
    "    key = 'rpush_test'\n",
    "    [r.rpush(key, x) for x in range(n)]\n",
    "    r.delete(key)"
   ]
  },
  {
   "cell_type": "code",
   "execution_count": 24,
   "id": "living-tamil",
   "metadata": {},
   "outputs": [
    {
     "name": "stdout",
     "output_type": "stream",
     "text": [
      "1024 0.03999999999999915\n",
      "2048 0.09000000000000163\n",
      "4096 0.14000000000000057\n",
      "8192 0.29999999999999893\n",
      "16384 0.5999999999999996\n",
      "32768 1.1799999999999997\n"
     ]
    }
   ],
   "source": [
    "ns, ts = run_timing_test(rpush)"
   ]
  },
  {
   "cell_type": "code",
   "execution_count": 25,
   "id": "favorite-lightweight",
   "metadata": {},
   "outputs": [],
   "source": [
    "def fit(ns, ts, exp=1.0, index=-1):\n",
    "    \"\"\"Fits a curve with the given exponent.\n",
    "\n",
    "    ns: sequence of problem sizes\n",
    "    ts: sequence of times\n",
    "    exp: exponent of the fitted curve\n",
    "    index: index of the element the fitted line should go through\n",
    "\n",
    "    returns: sequence of fitted times\n",
    "\n",
    "\n",
    "    \"\"\"\n",
    "    # Use the element with the given index as a reference point,\n",
    "    # and scale all other points accordingly.\n",
    "    nref = ns[index]\n",
    "    tref = ts[index]\n",
    "\n",
    "    tfit = []\n",
    "    for n in ns:\n",
    "        ratio = n / nref\n",
    "        t = ratio**exp * tref\n",
    "        tfit.append(t)\n",
    "\n",
    "    return tfit"
   ]
  },
  {
   "cell_type": "code",
   "execution_count": 26,
   "id": "similar-chapter",
   "metadata": {},
   "outputs": [],
   "source": [
    "def plot_timing_test(ns, ts, label='', color='C0', exp=1.0, scale='log'):\n",
    "    \"\"\"Plots data and a fitted curve.\n",
    "\n",
    "    ns: sequence of n (problem size)\n",
    "    ts: sequence of t (run time)\n",
    "    label: string label for the data curve\n",
    "    color: string color for the data curve\n",
    "    exp: exponent (slope) for the fitted curve\n",
    "    scale: string passed to xscale and yscale\n",
    "    \"\"\"\n",
    "    ts_fit = fit(ns, ts, exp)\n",
    "    fit_label = 'exp = %d' % exp\n",
    "    plt.plot(ns, ts_fit, label=fit_label, color='0.7', linestyle='dashed')\n",
    "    plt.plot(ns, ts, 'o-', label=label, color=color, alpha=0.7)\n",
    "    plt.xlabel('Problem size (n)')\n",
    "    plt.ylabel('Runtime (seconds)')\n",
    "    plt.xscale(scale)\n",
    "    plt.yscale(scale)\n",
    "    plt.legend()"
   ]
  },
  {
   "cell_type": "code",
   "execution_count": 28,
   "id": "particular-roots",
   "metadata": {},
   "outputs": [
    {
     "data": {
      "image/png": "[encoded data removed]",
      "text/plain": [
       "<Figure size 432x288 with 1 Axes>"
      ]
     },
     "metadata": {
      "needs_background": "light"
     },
     "output_type": "display_data"
    }
   ],
   "source": [
    "plot_timing_test(ns, ts, scale='linear')"
   ]
  },
  {
   "cell_type": "code",
   "execution_count": null,
   "id": "specialized-cinema",
   "metadata": {},
   "outputs": [],
   "source": []
  }
 ],
 "metadata": {
  "kernelspec": {
   "display_name": "Python 3",
   "language": "python",
   "name": "python3"
  },
  "language_info": {
   "codemirror_mode": {
    "name": "ipython",
    "version": 3
   },
   "file_extension": ".py",
   "mimetype": "text/x-python",
   "name": "python",
   "nbconvert_exporter": "python",
   "pygments_lexer": "ipython3",
   "version": "3.9.4"
  }
 },
 "nbformat": 4,
 "nbformat_minor": 5
}
