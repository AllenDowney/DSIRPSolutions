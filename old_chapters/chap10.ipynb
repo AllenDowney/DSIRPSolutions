{
 "cells": [
  {
   "cell_type": "markdown",
   "id": "84b5e152",
   "metadata": {},
   "source": [
    "# Chapter xx"
   ]
  },
  {
   "cell_type": "markdown",
   "id": "84a4f95e",
   "metadata": {
    "tags": [
     "remove-cell"
    ]
   },
   "source": [
    "*Data Structures and Information Retrieval in Python*\n",
    "\n",
    "Copyright 2021 Allen Downey\n",
    "\n",
    "License: [Creative Commons Attribution-NonCommercial-ShareAlike 4.0 International](https://creativecommons.org/licenses/by-nc-sa/4.0/)"
   ]
  },
  {
   "cell_type": "code",
   "execution_count": 1,
   "id": "ef0a505e",
   "metadata": {
    "tags": [
     "remove-cell"
    ]
   },
   "outputs": [],
   "source": [
    "from os.path import basename, exists\n",
    "\n",
    "def download(url):\n",
    "    filename = basename(url)\n",
    "    if not exists(filename):\n",
    "        from urllib.request import urlretrieve\n",
    "        local, _ = urlretrieve(url, filename)\n",
    "        print('Downloaded ' + local)\n",
    "    \n",
    "# download('https://github.com/AllenDowney/DSIRP/raw/main/utils.py')"
   ]
  },
  {
   "cell_type": "markdown",
   "id": "33ad42f0",
   "metadata": {},
   "source": [
    "[Click here to run this chapter on Colab](https://colab.research.google.com/github/AllenDowney/DSIRP/blob/main/chapters/chap01.ipynb)"
   ]
  },
  {
   "cell_type": "code",
   "execution_count": null,
   "id": "03746928",
   "metadata": {},
   "outputs": [],
   "source": []
  },
  {
   "cell_type": "markdown",
   "id": "663976cd",
   "metadata": {},
   "source": [
    "# Hashing\n",
    "\n",
    "In this chapter, I define `MyBetterMap`, a better implementation of the\n",
    "`Map` interface than `MyLinearMap`, and introduce **hashing**, which\n",
    "makes `MyBetterMap` more efficient.\n",
    "\n",
    "## Hashing\n",
    "\n",
    "To improve the performance of `MyLinearMap`, we'll write a new class,\n",
    "called `MyBetterMap`, that contains a collection of `MyLinearMap`\n",
    "objects. It divides the keys among the embedded maps, so the number of\n",
    "entries in each map is smaller, which speeds up `findEntry` and the\n",
    "methods that depend on it.\n",
    "\n",
    "Here's the beginning of the class definition:"
   ]
  },
  {
   "cell_type": "code",
   "execution_count": null,
   "id": "120257d8",
   "metadata": {},
   "outputs": [],
   "source": [
    "class BetterMap:\n",
    "    \"\"\"A faster implementation of a map using a list of LinearMaps\n",
    "    and the built-in function hash() to determine which LinearMap\n",
    "    to put each key into.\"\"\"\n",
    "\n",
    "    def __init__(self, n=100):\n",
    "        \"\"\"Appends (n) LinearMaps onto (self).\"\"\"\n",
    "        self.maps = []\n",
    "        for i in range(n):\n",
    "            self.maps.append(LinearMap())\n",
    "\n",
    "    def find_map(self, k):\n",
    "        \"\"\"Finds the right LinearMap for key (k).\"\"\"\n",
    "        index = hash(k) % len(self.maps)\n",
    "        return self.maps[index]\n",
    "\n",
    "    def add(self, k, v):\n",
    "        \"\"\"Adds a new item to the appropriate LinearMap for key (k).\"\"\"\n",
    "        m = self.find_map(k)\n",
    "        m.add(k, v)\n",
    "\n",
    "    def get(self, k):\n",
    "        \"\"\"Finds the right LinearMap for key (k) and looks up (k) in it.\"\"\"\n",
    "        m = self.find_map(k)\n",
    "        return m.get(k)\n"
   ]
  },
  {
   "cell_type": "markdown",
   "id": "ce0d0651",
   "metadata": {},
   "source": [
    "The instance variable, `maps`, is a collection of `MyLinearMap` objects.\n",
    "The constructor takes a parameter, `k`, that determines how many maps to\n",
    "use, at least initially. Then `makeMaps` creates the embedded maps and\n",
    "stores them in an `ArrayList`.\n",
    "\n",
    "Now, the key to making this work is that we need some way to look at a\n",
    "key and decide which of the embedded maps it should go into. When we\n",
    "`put` a new key, we choose one of the maps; when we `get` the same key,\n",
    "we have to remember where we put it.\n",
    "\n",
    "One possibility is to choose one of the sub-maps at random and keep\n",
    "track of where we put each key. But how should we keep track? It might\n",
    "seem like we could use a `Map` to look up the key and find the right\n",
    "sub-map, but the whole point of the exercise is to write an efficient\n",
    "implementation of a `Map`. We can't assume we already have one.\n",
    "\n",
    "A better approach is to use a **hash function**, which takes an\n",
    "`Object`, any `Object`, and returns an integer called a **hash code**.\n",
    "Importantly, if it sees the same `Object` more than once, it always\n",
    "returns the same hash code. That way, if we use the hash code to store a\n",
    "key, we'll get the same hash code when we look it up.\n",
    "\n",
    "In Java, every `Object` provides a method called `hashCode` that\n",
    "computes a hash function. The implementation of this method is different\n",
    "for different objects; we'll see an example soon.\n",
    "\n",
    "Here's a helper method that chooses the right sub-map for a given key:"
   ]
  },
  {
   "cell_type": "code",
   "execution_count": null,
   "id": "84b11138",
   "metadata": {},
   "outputs": [],
   "source": [
    "protected MyLinearMap<K, V> chooseMap(Object key) {\n",
    "    int index = 0;\n",
    "    if (key != null) { \n",
    "        index = Math.abs(key.hashCode()) % maps.size();\n",
    "    }\n",
    "    return maps.get(index);\n",
    "}"
   ]
  },
  {
   "cell_type": "markdown",
   "id": "3fee5bd8",
   "metadata": {},
   "source": [
    "If `key` is `null`, we choose the sub-map with index 0, arbitrarily.\n",
    "Otherwise we use `hashCode` to get an integer, apply `Math.abs` to make\n",
    "sure it is non-negative, then use the remainder operator, `\\%`, which\n",
    "guarantees that the result is between 0 and `maps.size()-1`. So `index`\n",
    "is always a valid index into `maps`. Then `chooseMap` returns a\n",
    "reference to the map it chose.\n",
    "\n",
    "We use `chooseMap` in both `put` and `get`, so when we look up a key, we\n",
    "get the same map we chose when we added the key. At least, we should ---\n",
    "I'll explain a little later why this might not work.\n",
    "\n",
    "Here's my implementation of `put` and `get`:"
   ]
  },
  {
   "cell_type": "code",
   "execution_count": null,
   "id": "c2f66189",
   "metadata": {},
   "outputs": [],
   "source": [
    "public V put(K key, V value) {\n",
    "  MyLinearMap<K, V> map = chooseMap(key);\n",
    "    return map.put(key, value);\n",
    "}\n",
    "\n",
    "public V get(Object key) {\n",
    "    MyLinearMap<K, V> map = chooseMap(key);\n",
    "    return map.get(key);\n",
    "}"
   ]
  },
  {
   "cell_type": "markdown",
   "id": "07233405",
   "metadata": {},
   "source": [
    "Pretty simple, right? In both methods, we use `chooseMap` to find the\n",
    "right sub-map and then invoke a method on the sub-map. That's how it\n",
    "works; now let's think about performance.\n",
    "\n",
    "If there are $n$ entries split up among $k$ sub-maps, there will be\n",
    "$n/k$ entries per map, on average. When we look up a key, we have to\n",
    "compute its hash code, which takes some time, then we search the\n",
    "corresponding sub-map.\n",
    "\n",
    "Because the entry lists in `MyBetterMap` are $k$ times shorter than the\n",
    "entry list in `MyLinearMap`, we expect the search to be $k$ times\n",
    "faster. But the runtime is still proportional to $n$, so `MyBetterMap`\n",
    "is still linear. In the next exercise, you'll see how we can fix that."
   ]
  },
  {
   "cell_type": "markdown",
   "id": "a0dfa4ae",
   "metadata": {},
   "source": [
    "## How does hashing work?\n",
    "\n",
    "The fundamental requirement for a hash function is that the same object\n",
    "should produce the same hash code every time. For immutable objects,\n",
    "that's relatively easy. For objects with mutable state, we have to think\n",
    "harder.\n",
    "\n",
    "As an example of an immutable object, I'll define a class called\n",
    "`SillyString` that encapsulates a `String`:"
   ]
  },
  {
   "cell_type": "code",
   "execution_count": null,
   "id": "582e336b",
   "metadata": {},
   "outputs": [],
   "source": [
    "public class SillyString {\n",
    "    private final String innerString;\n",
    "\n",
    "    public SillyString(String innerString) {\n",
    "        this.innerString = innerString;\n",
    "    }\n",
    "\n",
    "    public String toString() {\n",
    "        return innerString;\n",
    "    }"
   ]
  },
  {
   "cell_type": "markdown",
   "id": "27245359",
   "metadata": {},
   "source": [
    "This class is not very useful, which is why it's called `SillyString`,\n",
    "but I'll use it to show how a class can define its own hash function:"
   ]
  },
  {
   "cell_type": "code",
   "execution_count": null,
   "id": "1d524761",
   "metadata": {},
   "outputs": [],
   "source": [
    "@Override\n",
    "public boolean equals(Object other) {\n",
    "    return this.toString().equals(other.toString());\n",
    "}\n",
    "\n",
    "@Override\n",
    "public int hashCode() {\n",
    "    int total = 0;\n",
    "    for (int i=0; i<innerString.length(); i++) {\n",
    "        total += innerString.charAt(i);\n",
    "    }\n",
    "    return total;\n",
    "}"
   ]
  },
  {
   "cell_type": "markdown",
   "id": "0f7ba677",
   "metadata": {},
   "source": [
    "Notice that `SillyString` overrides both `equals` and `hashCode`. This\n",
    "is important. In order to work properly, `equals` has to be consistent\n",
    "with `hashCode`, which means that if two objects are considered equal\n",
    "--- that is, `equals` returns `true` --- they should have the same hash\n",
    "code. But this requirement only works one way; if two objects have the\n",
    "same hash code, they don't necessarily have to be equal.\n",
    "\n",
    "`equals` works by invoking `toString`, which returns `innerString`. So\n",
    "two `SillyString` objects are equal if their `innerString` instance\n",
    "variables are equal.\n",
    "\n",
    "`hashCode` works by iterating through the characters in the `String` and\n",
    "adding them up. When you add a character to an `int`, Java converts the\n",
    "character to an integer using its Unicode code point. You don't need to\n",
    "know anything about Unicode to understand this example, but if you are\n",
    "curious, you can read more at <http://thinkdast.com/codepoint>.\n",
    "\n",
    "This hash function satisfies the requirement: if two `SillyString`\n",
    "objects contain embedded strings that are equal, they will get the same\n",
    "hash code.\n",
    "\n",
    "This works correctly, but it might not yield good performance, because\n",
    "it returns the same hash code for many different strings. If two strings\n",
    "contain the same letters in any order, they will have the same hash\n",
    "code. And even if they don't contain the same letters, they might yield\n",
    "the same total, like ``ac\\\"\\\" and ``bb\\\"\\\".\n",
    "\n",
    "If many objects have the same hash code, they end up in the same\n",
    "sub-map. If some sub-maps have more entries than others, the speedup\n",
    "when we have $k$ maps might be much less than $k$. So one of the goals\n",
    "of a hash function is to be uniform; that is, it should be equally\n",
    "likely to produce any value in the range. You can read more about\n",
    "designing good hash functions at <http://thinkdast.com/hash>."
   ]
  },
  {
   "cell_type": "markdown",
   "id": "243924c4",
   "metadata": {},
   "source": [
    "## Hashing and mutation\n",
    "\n",
    "`String`s are immutable, and `SillyString` is also immutable because\n",
    "`innerString` is declared to be `final`. Once you create a\n",
    "`SillyString`, you can't make `innerString` refer to a different\n",
    "`String`, and you can't modify the `String` it refers to. Therefore, it\n",
    "will always have the same hash code.\n",
    "\n",
    "But let's see what happens with a mutable object. Here's a definition\n",
    "for `SillyArray`, which is identical to `SillyString`, except that it\n",
    "uses an array of characters instead of a `String`:"
   ]
  },
  {
   "cell_type": "code",
   "execution_count": null,
   "id": "67ebfc69",
   "metadata": {},
   "outputs": [],
   "source": [
    "public class SillyArray {\n",
    "    private final char[] array;\n",
    "\n",
    "    public SillyArray(char[] array) {\n",
    "        this.array = array;\n",
    "    }\n",
    "\n",
    "    public String toString() {\n",
    "        return Arrays.toString(array);\n",
    "    }\n",
    "    \n",
    "    @Override\n",
    "    public boolean equals(Object other) {\n",
    "        return this.toString().equals(other.toString());\n",
    "    }\n",
    "    \n",
    "    @Override\n",
    "    public int hashCode() {\n",
    "        int total = 0;\n",
    "        for (int i=0; i<array.length; i++) {\n",
    "            total += array[i];\n",
    "        }\n",
    "        System.out.println(total);\n",
    "        return total;\n",
    "    }"
   ]
  },
  {
   "cell_type": "markdown",
   "id": "34c42b5e",
   "metadata": {},
   "source": [
    "`SillyArray` also provides `setChar`, which makes it possible to modify\n",
    "the characters in the array:"
   ]
  },
  {
   "cell_type": "code",
   "execution_count": null,
   "id": "21caab0f",
   "metadata": {},
   "outputs": [],
   "source": [
    "public void setChar(int i, char c) {\n",
    "    this.array[i] = c;\n",
    "}"
   ]
  },
  {
   "cell_type": "markdown",
   "id": "edde1820",
   "metadata": {},
   "source": [
    "Now suppose we create a `SillyArray` and add it to a map:"
   ]
  },
  {
   "cell_type": "code",
   "execution_count": null,
   "id": "e8f16343",
   "metadata": {},
   "outputs": [],
   "source": [
    "SillyArray array1 = new SillyArray(\"Word1\".toCharArray());\n",
    "map.put(array1, 1);"
   ]
  },
  {
   "cell_type": "markdown",
   "id": "333985dc",
   "metadata": {},
   "source": [
    "The hash code for this array is 461. Now if we modify the contents of\n",
    "the array and then try to look it up, like this:"
   ]
  },
  {
   "cell_type": "code",
   "execution_count": null,
   "id": "f1728402",
   "metadata": {},
   "outputs": [],
   "source": [
    "array1.setChar(0, 'C');\n",
    "Integer value = map.get(array1);"
   ]
  },
  {
   "cell_type": "markdown",
   "id": "986cec53",
   "metadata": {},
   "source": [
    "the hash code after the mutation is 441. With a different hash code,\n",
    "there's a good chance we'll go looking in the wrong sub-map. In that\n",
    "case, we won't find the key, even though it is in the map. And that's\n",
    "bad.\n",
    "\n",
    "In general, it is dangerous to use mutable objects as keys in data\n",
    "structures that use hashing, which includes `MyBetterMap` and `HashMap`.\n",
    "If you can guarantee that the keys won't be modified while they are in\n",
    "the map, or that any changes won't affect the hash code, it might be OK.\n",
    "But it is probably a good idea to avoid it."
   ]
  },
  {
   "cell_type": "markdown",
   "id": "41646655",
   "metadata": {},
   "source": [
    "## Exercise 8\n",
    "\n",
    "In this exercise, you will finish off the implementation of\n",
    "`MyBetterMap`. In the repository for this book, you'll find the source\n",
    "files for this exercise:\n",
    "\n",
    "-   `MyLinearMap.java` contains our solution to the previous exercise,\n",
    "    which we will build on in this exercise.\n",
    "\n",
    "-   `MyBetterMap.java` contains the code from the previous chapter with\n",
    "    some methods you will fill in.\n",
    "\n",
    "-   `MyHashMap.java` contains the outline of a hash table that grows\n",
    "    when needed, which you will complete.\n",
    "\n",
    "-   `MyLinearMapTest.java` contains the unit tests for `MyLinearMap`.\n",
    "\n",
    "-   `MyBetterMapTest.java` contains the unit tests for `MyBetterMap`.\n",
    "\n",
    "-   `MyHashMapTest.java` contains the unit tests for `MyHashMap`.\n",
    "\n",
    "-   `Profiler.java` contains code for measuring and plotting runtime\n",
    "    versus problem size.\n",
    "\n",
    "-   `ProfileMapPut.java` contains code that profiles the `Map.put`\n",
    "    method.\n",
    "\n",
    "As usual, you should run `ant build` to compile the source files. Then\n",
    "run `ant MyBetterMapTest`. Several tests should fail, because you have\n",
    "some work to do!\n",
    "\n",
    "Review the implementation of `put` and `get` from the previous chapter.\n",
    "Then fill in the body of `containsKey`. HINT: use `chooseMap`. Run\n",
    "`ant MyBetterMapTest` again and confirm that `testContainsKey` passes.\n",
    "\n",
    "Fill in the body of `containsValue`. HINT: *don't* use `chooseMap`. Run\n",
    "`ant MyBetterMapTest` again and confirm that `testContainsValue` passes.\n",
    "Notice that we have to do more work to find a value than to find a key.\n",
    "\n",
    "Like `put` and `get`, this implementation of `containsKey` is linear,\n",
    "because it has to search one of the embedded sub-maps. In the next\n",
    "chapter, we'll see how we can improve this implementation even more."
   ]
  }
 ],
 "metadata": {
  "kernelspec": {
   "display_name": "Python 3",
   "language": "python",
   "name": "python3"
  },
  "language_info": {
   "codemirror_mode": {
    "name": "ipython",
    "version": 3
   },
   "file_extension": ".py",
   "mimetype": "text/x-python",
   "name": "python",
   "nbconvert_exporter": "python",
   "pygments_lexer": "ipython3",
   "version": "3.9.4"
  }
 },
 "nbformat": 4,
 "nbformat_minor": 5
}
