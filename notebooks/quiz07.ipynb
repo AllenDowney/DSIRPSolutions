{
 "cells": [
  {
   "cell_type": "markdown",
   "metadata": {},
   "source": [
    "# Quiz 7\n",
    "\n",
    "BEFORE YOU START THIS QUIZ:\n",
    "\n",
    "1. Click on \"Copy to Drive\" to make a copy of the quiz,\n",
    "\n",
    "2. Click on \"Share\",\n",
    "    \n",
    "3. Click on \"Change\" and select \"Anyone with this link can edit\"\n",
    "    \n",
    "4. Click \"Copy link\" and\n",
    "\n",
    "5. Paste the link into [this Canvas assignment](https://canvas.olin.edu/courses/313/assignments/5183). "
   ]
  },
  {
   "cell_type": "markdown",
   "metadata": {},
   "source": [
    "This quiz is open notes, open internet. \n",
    "\n",
    "* You can ask for help from the instructor, but not from anyone else.\n",
    "\n",
    "* You can use code you find on the internet, but if you use more than a couple of lines from a single source, you should attribute the source.\n",
    "\n"
   ]
  },
  {
   "cell_type": "markdown",
   "metadata": {},
   "source": [
    "## Question 1\n",
    "\n",
    "A certain function is defined recursively like this:\n",
    "\n",
    "$$ f(n, m) = f(n-1, m-1) + f(n-1, m) $$\n",
    "\n",
    "with two special cases: if $m=0$ or $m=n$, the value of the function is 1.\n",
    "\n",
    "Write a (Python) function called `f` that computes this (mathematical) function."
   ]
  },
  {
   "cell_type": "code",
   "execution_count": 1,
   "metadata": {},
   "outputs": [],
   "source": [
    "# Solution\n",
    "\n",
    "def f(n, m):\n",
    "    # print(n, m)\n",
    "    if m == 0 or n == m:\n",
    "        return 1\n",
    "\n",
    "    return f(n-1, m-1) + f(n-1, m)"
   ]
  },
  {
   "cell_type": "markdown",
   "metadata": {},
   "source": [
    "You can use the following examples to test your function."
   ]
  },
  {
   "cell_type": "code",
   "execution_count": 2,
   "metadata": {},
   "outputs": [],
   "source": [
    "assert f(2, 1) == 2"
   ]
  },
  {
   "cell_type": "code",
   "execution_count": 3,
   "metadata": {},
   "outputs": [],
   "source": [
    "assert f(4, 1) == 4"
   ]
  },
  {
   "cell_type": "code",
   "execution_count": 4,
   "metadata": {},
   "outputs": [],
   "source": [
    "assert f(4, 2) == 6"
   ]
  },
  {
   "cell_type": "code",
   "execution_count": 5,
   "metadata": {},
   "outputs": [],
   "source": [
    "assert f(5, 3) == 10 "
   ]
  },
  {
   "cell_type": "code",
   "execution_count": 6,
   "metadata": {},
   "outputs": [],
   "source": [
    "assert f(10, 5) == 252"
   ]
  },
  {
   "cell_type": "markdown",
   "metadata": {},
   "source": [
    "If you try to run the following example, you will find that it runs for a long time."
   ]
  },
  {
   "cell_type": "code",
   "execution_count": 7,
   "metadata": {},
   "outputs": [],
   "source": [
    "# f(100, 50)"
   ]
  },
  {
   "cell_type": "markdown",
   "metadata": {},
   "source": [
    "## Question 2\n",
    "\n",
    "Write a version of `f` called `f_memo` that uses an appropriate Python data structure to \"memoize\" `f`.\n",
    "In other words, you should keep a record of results you have already computed and look them up rather than compute them again.\n",
    "\n",
    "There's an example of memoization in recursion.ipynb."
   ]
  },
  {
   "cell_type": "code",
   "execution_count": 8,
   "metadata": {},
   "outputs": [],
   "source": [
    "# Solution\n",
    "\n",
    "cache = {}\n",
    "\n",
    "def f_memo(n, m):\n",
    "    if m == 0 or m == n:\n",
    "        return 1\n",
    "        \n",
    "    try:\n",
    "        return cache[n, m]\n",
    "    except KeyError:\n",
    "        res = f_memo(n-1, m-1) + f_memo(n-1, m)   \n",
    "        cache[n, m] = res\n",
    "        return res"
   ]
  },
  {
   "cell_type": "markdown",
   "metadata": {},
   "source": [
    "You can use this example to confirm that the function still works."
   ]
  },
  {
   "cell_type": "code",
   "execution_count": 9,
   "metadata": {},
   "outputs": [
    {
     "data": {
      "text/plain": [
       "252"
      ]
     },
     "execution_count": 9,
     "metadata": {},
     "output_type": "execute_result"
    }
   ],
   "source": [
    "f_memo(10, 5)"
   ]
  },
  {
   "cell_type": "markdown",
   "metadata": {},
   "source": [
    "And use this one to confirm that it is faster.\n",
    "It should take less than a second, and the result should be `100891344545564193334812497256`."
   ]
  },
  {
   "cell_type": "code",
   "execution_count": 10,
   "metadata": {},
   "outputs": [
    {
     "name": "stdout",
     "output_type": "stream",
     "text": [
      "CPU times: user 2.7 ms, sys: 0 ns, total: 2.7 ms\n",
      "Wall time: 2.7 ms\n"
     ]
    },
    {
     "data": {
      "text/plain": [
       "100891344545564193334812497256"
      ]
     },
     "execution_count": 10,
     "metadata": {},
     "output_type": "execute_result"
    }
   ],
   "source": [
    "%time f_memo(100, 50)"
   ]
  },
  {
   "cell_type": "markdown",
   "metadata": {},
   "source": [
    "## LetterSet\n",
    "\n",
    "The next two questions are based on a set implementation I'll call a `LetterSet`.\n",
    "\n",
    "> Note: In this problem statement, \"set\" refers to the concept of a set, not the Python object called `set`.\n",
    "We won't use any Python `set` objects in these problems.\n",
    "\n",
    "If you know ahead of time what elements can appear in a set, you can represent the set efficiently using a [bit array](https://en.wikipedia.org/wiki/Bit_array).\n",
    "For example, to represent a set of letters, you can use a list of 26 Boolean values, one for each letter in the Roman alphabet (ignoring upper and lower case).\n",
    "\n",
    "Here's a class definition for this representation of a set."
   ]
  },
  {
   "cell_type": "code",
   "execution_count": 11,
   "metadata": {},
   "outputs": [],
   "source": [
    "class LetterSet:\n",
    "    def __init__(self, bits=None):\n",
    "        if bits is None:\n",
    "            bits = [False]*26\n",
    "        self.bits = bits\n",
    "        \n",
    "    def __repr__(self):\n",
    "        return f'LetterSet({repr(self.bits)})'"
   ]
  },
  {
   "cell_type": "markdown",
   "metadata": {},
   "source": [
    "If all of the elements in the list are False, the set is empty."
   ]
  },
  {
   "cell_type": "code",
   "execution_count": 12,
   "metadata": {},
   "outputs": [
    {
     "data": {
      "text/plain": [
       "LetterSet([False, False, False, False, False, False, False, False, False, False, False, False, False, False, False, False, False, False, False, False, False, False, False, False, False, False])"
      ]
     },
     "execution_count": 12,
     "metadata": {},
     "output_type": "execute_result"
    }
   ],
   "source": [
    "set1 = LetterSet()\n",
    "set1"
   ]
  },
  {
   "cell_type": "markdown",
   "metadata": {},
   "source": [
    "To add a letter to a set, we have to compute the index that corresponds to a given letter.\n",
    "The following function uses `ord`, which is a built-in Python function, to compute the index of a given letter."
   ]
  },
  {
   "cell_type": "code",
   "execution_count": 13,
   "metadata": {},
   "outputs": [],
   "source": [
    "def get_index(letter):\n",
    "    return ord(letter.lower()) - ord('a')"
   ]
  },
  {
   "cell_type": "markdown",
   "metadata": {},
   "source": [
    "The index of `a` is 0, and the index of `Z` is 25."
   ]
  },
  {
   "cell_type": "code",
   "execution_count": 14,
   "metadata": {},
   "outputs": [
    {
     "data": {
      "text/plain": [
       "(0, 25)"
      ]
     },
     "execution_count": 14,
     "metadata": {},
     "output_type": "execute_result"
    }
   ],
   "source": [
    "get_index('a'), get_index('Z')"
   ]
  },
  {
   "cell_type": "markdown",
   "metadata": {},
   "source": [
    "To add a letter, we set the corresponding element of the list to `True`."
   ]
  },
  {
   "cell_type": "code",
   "execution_count": 15,
   "metadata": {},
   "outputs": [],
   "source": [
    "def add(ls, letter):\n",
    "    ls.bits[get_index(letter)] = True"
   ]
  },
  {
   "cell_type": "code",
   "execution_count": 16,
   "metadata": {},
   "outputs": [
    {
     "data": {
      "text/plain": [
       "LetterSet([True, False, False, False, False, False, False, False, False, False, False, False, False, False, False, False, False, False, False, False, False, False, False, False, False, True])"
      ]
     },
     "execution_count": 16,
     "metadata": {},
     "output_type": "execute_result"
    }
   ],
   "source": [
    "add(set1, 'a')\n",
    "add(set1, 'Z')\n",
    "set1"
   ]
  },
  {
   "cell_type": "markdown",
   "metadata": {},
   "source": [
    "To count the elements of a set, we can use the built-in `sum` function:"
   ]
  },
  {
   "cell_type": "code",
   "execution_count": 17,
   "metadata": {},
   "outputs": [],
   "source": [
    "def size(ls):\n",
    "    return sum(ls.bits)"
   ]
  },
  {
   "cell_type": "code",
   "execution_count": 18,
   "metadata": {},
   "outputs": [
    {
     "data": {
      "text/plain": [
       "2"
      ]
     },
     "execution_count": 18,
     "metadata": {},
     "output_type": "execute_result"
    }
   ],
   "source": [
    "size(set1)"
   ]
  },
  {
   "cell_type": "markdown",
   "metadata": {},
   "source": [
    "## Question 3\n",
    "\n",
    "Write a function called `is_in` that takes a set and a letter and returns `True` if the letter is in the set.\n",
    "In a comment, identify the order of growth of this function."
   ]
  },
  {
   "cell_type": "code",
   "execution_count": 19,
   "metadata": {},
   "outputs": [],
   "source": [
    "# Solution\n",
    "\n",
    "def is_in(ls, letter):\n",
    "    # constant time, assuming that ord is constant time\n",
    "    return ls.bits[get_index(letter)]\n",
    "\n",
    "\n",
    "# As an aside, you don't need things like this\n",
    "\n",
    "# if ls.bits[get_index(letter)] == True:\n",
    "#     return True\n",
    "# else:\n",
    "#     return False\n",
    "\n",
    "# If a value is a Boolean, comparing it to True is not necessary\n",
    "# And you can return a Boolean without using an if statement"
   ]
  },
  {
   "cell_type": "markdown",
   "metadata": {},
   "source": [
    "\n",
    "Use the following examples to test your code."
   ]
  },
  {
   "cell_type": "code",
   "execution_count": 20,
   "metadata": {},
   "outputs": [
    {
     "data": {
      "text/plain": [
       "(True, False)"
      ]
     },
     "execution_count": 20,
     "metadata": {},
     "output_type": "execute_result"
    }
   ],
   "source": [
    "is_in(set1, 'a'), is_in(set1, 'b')"
   ]
  },
  {
   "cell_type": "markdown",
   "metadata": {},
   "source": [
    "## Question 4\n",
    "\n",
    "Write a function called `intersect` that takes two `LetterSet` objects and returns a new `LetterSet` that represents the intersection of the two sets.\n",
    "In other words, the new `LetterSet` should contain only elements that appear in both sets.\n",
    "\n",
    "In a comment, identify the order of growth of this function."
   ]
  },
  {
   "cell_type": "code",
   "execution_count": 21,
   "metadata": {},
   "outputs": [],
   "source": [
    "# Solution\n",
    "\n",
    "def intersect(set1, set2):\n",
    "    # O(n), or linear time, if n is the number of bits\n",
    "    # O(1), or constant time, if n is the number of elements \n",
    "    bits = [x and y for x, y in zip(set1.bits, set2.bits)]\n",
    "    return LetterSet(bits)"
   ]
  },
  {
   "cell_type": "markdown",
   "metadata": {},
   "source": [
    "Use the following examples to test your code."
   ]
  },
  {
   "cell_type": "code",
   "execution_count": 22,
   "metadata": {},
   "outputs": [
    {
     "data": {
      "text/plain": [
       "LetterSet([True, False, False, False, False, False, False, False, False, False, False, False, False, False, False, False, False, False, False, False, False, False, False, False, False, True])"
      ]
     },
     "execution_count": 22,
     "metadata": {},
     "output_type": "execute_result"
    }
   ],
   "source": [
    "intersect(set1, set1)"
   ]
  },
  {
   "cell_type": "code",
   "execution_count": 23,
   "metadata": {},
   "outputs": [],
   "source": [
    "set2 = LetterSet()\n",
    "add(set2, 'a')\n",
    "add(set2, 'b')"
   ]
  },
  {
   "cell_type": "code",
   "execution_count": 24,
   "metadata": {},
   "outputs": [
    {
     "data": {
      "text/plain": [
       "LetterSet([True, False, False, False, False, False, False, False, False, False, False, False, False, False, False, False, False, False, False, False, False, False, False, False, False, False])"
      ]
     },
     "execution_count": 24,
     "metadata": {},
     "output_type": "execute_result"
    }
   ],
   "source": [
    "set3 = intersect(set1, set2)\n",
    "set3"
   ]
  },
  {
   "cell_type": "code",
   "execution_count": 25,
   "metadata": {},
   "outputs": [
    {
     "data": {
      "text/plain": [
       "1"
      ]
     },
     "execution_count": 25,
     "metadata": {},
     "output_type": "execute_result"
    }
   ],
   "source": [
    "size(set3)"
   ]
  },
  {
   "cell_type": "markdown",
   "metadata": {},
   "source": [
    "## Just for fun bonus question\n",
    "\n",
    "One way to represent large numbers is to use a linked list where each node contains a digit.\n",
    "\n",
    "Here are class definitions for `DigitList`, which represents a list of digits, and `Node`, which contains one digit and a reference to the next `Node` in the list."
   ]
  },
  {
   "cell_type": "code",
   "execution_count": 26,
   "metadata": {},
   "outputs": [],
   "source": [
    "class DigitList:\n",
    "    def __init__(self, head=None):\n",
    "        self.head = head"
   ]
  },
  {
   "cell_type": "code",
   "execution_count": 27,
   "metadata": {},
   "outputs": [],
   "source": [
    "class Node:\n",
    "    def __init__(self, data=None, next=None):\n",
    "        self.data = data\n",
    "        self.next = next"
   ]
  },
  {
   "cell_type": "markdown",
   "metadata": {},
   "source": [
    "In a `DigitList`, digits are stored in reverse order, so a list that contains the digits `1`, `2`, and `3`, in that order, represents the number `321`."
   ]
  },
  {
   "cell_type": "code",
   "execution_count": 28,
   "metadata": {},
   "outputs": [
    {
     "data": {
      "text/plain": [
       "<__main__.Node at 0x7f8dd0766940>"
      ]
     },
     "execution_count": 28,
     "metadata": {},
     "output_type": "execute_result"
    }
   ],
   "source": [
    "head = Node(1, Node(2, Node(3, None)))\n",
    "head"
   ]
  },
  {
   "cell_type": "code",
   "execution_count": 29,
   "metadata": {},
   "outputs": [
    {
     "data": {
      "text/plain": [
       "<__main__.DigitList at 0x7f8dd0766370>"
      ]
     },
     "execution_count": 29,
     "metadata": {},
     "output_type": "execute_result"
    }
   ],
   "source": [
    "dl321 = DigitList(head)\n",
    "dl321"
   ]
  },
  {
   "cell_type": "markdown",
   "metadata": {},
   "source": [
    "The following function takes a `DigitList` and prints the digits in reverse order."
   ]
  },
  {
   "cell_type": "code",
   "execution_count": 30,
   "metadata": {},
   "outputs": [],
   "source": [
    "def print_dl(dl):\n",
    "    print_dl_rec(dl.head)\n",
    "    print()\n",
    "    \n",
    "def print_dl_rec(node):\n",
    "    if node is not None:\n",
    "        print_dl_rec(node.next)\n",
    "        print(node.data, end='')"
   ]
  },
  {
   "cell_type": "code",
   "execution_count": 31,
   "metadata": {},
   "outputs": [
    {
     "name": "stdout",
     "output_type": "stream",
     "text": [
      "321\n"
     ]
    }
   ],
   "source": [
    "print_dl(dl321)"
   ]
  },
  {
   "cell_type": "code",
   "execution_count": 32,
   "metadata": {},
   "outputs": [
    {
     "name": "stdout",
     "output_type": "stream",
     "text": [
      "654\n"
     ]
    }
   ],
   "source": [
    "head = Node(4, Node(5, Node(6, None)))\n",
    "dl654 = DigitList(head)\n",
    "print_dl(dl654)"
   ]
  },
  {
   "cell_type": "markdown",
   "metadata": {},
   "source": [
    "Write a function called `add` that takes two `DigitList` objects and returns a new `DigitList` that represents their sum."
   ]
  },
  {
   "cell_type": "code",
   "execution_count": 33,
   "metadata": {},
   "outputs": [
    {
     "data": {
      "text/plain": [
       "(1, 1)"
      ]
     },
     "execution_count": 33,
     "metadata": {},
     "output_type": "execute_result"
    }
   ],
   "source": [
    "divmod(11, 10)"
   ]
  },
  {
   "cell_type": "code",
   "execution_count": 34,
   "metadata": {},
   "outputs": [],
   "source": [
    "# Solution\n",
    "\n",
    "def add(int1, int2):\n",
    "    return DigitList(add_rec(int1.head, int2.head, 0))\n",
    "\n",
    "def add_rec(node1, node2, carry_in):\n",
    "    if node1 is None and node2 is None:\n",
    "        if carry_in == 0:\n",
    "            return None\n",
    "        else:\n",
    "            total = carry_in\n",
    "            next1, next2 = None, None\n",
    "    \n",
    "    elif node1 is None:\n",
    "        total = node2.data + carry_in\n",
    "        next1, next2 = None, node2.next\n",
    "    \n",
    "    elif node2 is None:\n",
    "        total = node1.data + carry_in\n",
    "        next1, next2 = node1.next, None\n",
    "    \n",
    "    else:\n",
    "        total = node1.data + node2.data + carry_in\n",
    "        next1, next2 = node1.next, node2.next\n",
    "    \n",
    "    carry_out, total = divmod(total, 10)\n",
    "    rest = add_rec(next1, next2, carry_out)\n",
    "    \n",
    "    return Node(total, rest)"
   ]
  },
  {
   "cell_type": "markdown",
   "metadata": {},
   "source": [
    "You can use the following examples to test your code."
   ]
  },
  {
   "cell_type": "code",
   "execution_count": 35,
   "metadata": {},
   "outputs": [
    {
     "name": "stdout",
     "output_type": "stream",
     "text": [
      "975\n"
     ]
    },
    {
     "data": {
      "text/plain": [
       "975"
      ]
     },
     "execution_count": 35,
     "metadata": {},
     "output_type": "execute_result"
    }
   ],
   "source": [
    "total = add(dl321, dl654)\n",
    "print_dl(total)\n",
    "321 + 654"
   ]
  },
  {
   "cell_type": "code",
   "execution_count": 36,
   "metadata": {},
   "outputs": [
    {
     "name": "stdout",
     "output_type": "stream",
     "text": [
      "87\n"
     ]
    }
   ],
   "source": [
    "head = Node(7, Node(8, None))\n",
    "dl87 = DigitList(head)\n",
    "print_dl(dl87)"
   ]
  },
  {
   "cell_type": "code",
   "execution_count": 37,
   "metadata": {},
   "outputs": [
    {
     "name": "stdout",
     "output_type": "stream",
     "text": [
      "741\n"
     ]
    },
    {
     "data": {
      "text/plain": [
       "741"
      ]
     },
     "execution_count": 37,
     "metadata": {},
     "output_type": "execute_result"
    }
   ],
   "source": [
    "print_dl(add(dl654, dl87))\n",
    "654+87"
   ]
  },
  {
   "cell_type": "code",
   "execution_count": 38,
   "metadata": {},
   "outputs": [
    {
     "name": "stdout",
     "output_type": "stream",
     "text": [
      "741\n"
     ]
    },
    {
     "data": {
      "text/plain": [
       "741"
      ]
     },
     "execution_count": 38,
     "metadata": {},
     "output_type": "execute_result"
    }
   ],
   "source": [
    "print_dl(add(dl87, dl654))\n",
    "87+654"
   ]
  },
  {
   "cell_type": "code",
   "execution_count": 39,
   "metadata": {},
   "outputs": [
    {
     "name": "stdout",
     "output_type": "stream",
     "text": [
      "87\n"
     ]
    },
    {
     "data": {
      "text/plain": [
       "87"
      ]
     },
     "execution_count": 39,
     "metadata": {},
     "output_type": "execute_result"
    }
   ],
   "source": [
    "zero = DigitList(None)\n",
    "print_dl(add(dl87, zero))\n",
    "87 + 0"
   ]
  },
  {
   "cell_type": "code",
   "execution_count": 40,
   "metadata": {},
   "outputs": [
    {
     "name": "stdout",
     "output_type": "stream",
     "text": [
      "87\n"
     ]
    },
    {
     "data": {
      "text/plain": [
       "87"
      ]
     },
     "execution_count": 40,
     "metadata": {},
     "output_type": "execute_result"
    }
   ],
   "source": [
    "print_dl(add(zero, dl87))\n",
    "0 + 87"
   ]
  },
  {
   "cell_type": "markdown",
   "metadata": {},
   "source": [
    "*Data Structures and Information Retrieval in Python*\n",
    "\n",
    "Copyright 2021 Allen Downey\n",
    "\n",
    "License: [Creative Commons Attribution-NonCommercial-ShareAlike 4.0 International](https://creativecommons.org/licenses/by-nc-sa/4.0/)"
   ]
  },
  {
   "cell_type": "code",
   "execution_count": null,
   "metadata": {},
   "outputs": [],
   "source": []
  }
 ],
 "metadata": {
  "kernelspec": {
   "display_name": "Python 3",
   "language": "python",
   "name": "python3"
  },
  "language_info": {
   "codemirror_mode": {
    "name": "ipython",
    "version": 3
   },
   "file_extension": ".py",
   "mimetype": "text/x-python",
   "name": "python",
   "nbconvert_exporter": "python",
   "pygments_lexer": "ipython3",
   "version": "3.9.4"
  }
 },
 "nbformat": 4,
 "nbformat_minor": 4
}
