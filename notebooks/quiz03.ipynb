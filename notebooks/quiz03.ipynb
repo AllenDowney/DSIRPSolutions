{
 "cells": [
  {
   "cell_type": "markdown",
   "metadata": {},
   "source": [
    "# Quiz 3\n",
    "\n",
    "BEFORE YOU START THIS QUIZ:\n",
    "\n",
    "1. Click on \"Copy to Drive\" to make a copy of the quiz,\n",
    "\n",
    "2. Click on \"Share\",\n",
    "    \n",
    "3. Click on \"Change\" and select \"Anyone with this link can edit\"\n",
    "    \n",
    "4. Click \"Copy link\" and\n",
    "\n",
    "5. Paste the link into [this Canvas assignment](https://canvas.olin.edu/courses/313/assignments/4985). \n",
    "\n",
    "This quiz is open notes, open internet. The only thing you can't do is ask for help.\n",
    "\n",
    "Copyright 2021 Allen Downey, [MIT License](http://opensource.org/licenses/MIT)"
   ]
  },
  {
   "cell_type": "code",
   "execution_count": 1,
   "metadata": {},
   "outputs": [],
   "source": [
    "from os.path import basename, exists\n",
    "\n",
    "def download(url):\n",
    "    filename = basename(url)\n",
    "    if not exists(filename):\n",
    "        from urllib.request import urlretrieve\n",
    "        local, _ = urlretrieve(url, filename)\n",
    "        print('Downloaded ' + local)\n",
    "    \n",
    "download('https://github.com/AllenDowney/DSIRP/raw/main/american-english')"
   ]
  },
  {
   "cell_type": "markdown",
   "metadata": {},
   "source": [
    "## Question 1\n",
    "\n",
    "The following is the implementation of a binary search tree (BST) from `search.ipynb`."
   ]
  },
  {
   "cell_type": "code",
   "execution_count": 2,
   "metadata": {},
   "outputs": [],
   "source": [
    "class Node:\n",
    "    def __init__(self, data, left=None, right=None):\n",
    "        self.data = data\n",
    "        self.left = left\n",
    "        self.right = right\n",
    "        \n",
    "    def __repr__(self):\n",
    "        return f'Node({self.data}, {repr(self.left)}, {repr(self.right)})'"
   ]
  },
  {
   "cell_type": "code",
   "execution_count": 3,
   "metadata": {},
   "outputs": [],
   "source": [
    "class BSTree:\n",
    "    def __init__(self, root=None):\n",
    "        self.root = root\n",
    "        \n",
    "    def __repr__(self):\n",
    "        return f'BSTree({repr(self.root)})'"
   ]
  },
  {
   "cell_type": "code",
   "execution_count": 4,
   "metadata": {},
   "outputs": [],
   "source": [
    "def insert(tree, data):\n",
    "    tree.root = insert_rec(tree.root, data)\n",
    "    \n",
    "def insert_rec(node, data):\n",
    "    if node is None:\n",
    "        return Node(data)\n",
    "    \n",
    "    if data < node.data:\n",
    "        node.left = insert_rec(node.left, data)\n",
    "    else:\n",
    "        node.right = insert_rec(node.right, data)\n",
    "        \n",
    "    return node"
   ]
  },
  {
   "cell_type": "markdown",
   "metadata": {},
   "source": [
    "The following cell reads words from a file and adds them to a BST.\n",
    "But if you run it, you'll get a `RecursionError`."
   ]
  },
  {
   "cell_type": "code",
   "execution_count": 5,
   "metadata": {},
   "outputs": [
    {
     "ename": "RecursionError",
     "evalue": "maximum recursion depth exceeded",
     "output_type": "error",
     "traceback": [
      "\u001b[0;31m---------------------------------------------------------------------------\u001b[0m",
      "\u001b[0;31mRecursionError\u001b[0m                            Traceback (most recent call last)",
      "\u001b[0;32m<ipython-input-5-51d6de872b69>\u001b[0m in \u001b[0;36m<module>\u001b[0;34m\u001b[0m\n\u001b[1;32m      3\u001b[0m \u001b[0;32mfor\u001b[0m \u001b[0mline\u001b[0m \u001b[0;32min\u001b[0m \u001b[0mopen\u001b[0m\u001b[0;34m(\u001b[0m\u001b[0mfilename\u001b[0m\u001b[0;34m)\u001b[0m\u001b[0;34m:\u001b[0m\u001b[0;34m\u001b[0m\u001b[0;34m\u001b[0m\u001b[0m\n\u001b[1;32m      4\u001b[0m     \u001b[0;32mfor\u001b[0m \u001b[0mword\u001b[0m \u001b[0;32min\u001b[0m \u001b[0mline\u001b[0m\u001b[0;34m.\u001b[0m\u001b[0msplit\u001b[0m\u001b[0;34m(\u001b[0m\u001b[0;34m)\u001b[0m\u001b[0;34m:\u001b[0m\u001b[0;34m\u001b[0m\u001b[0;34m\u001b[0m\u001b[0m\n\u001b[0;32m----> 5\u001b[0;31m         \u001b[0minsert\u001b[0m\u001b[0;34m(\u001b[0m\u001b[0mtree\u001b[0m\u001b[0;34m,\u001b[0m \u001b[0mword\u001b[0m\u001b[0;34m.\u001b[0m\u001b[0mstrip\u001b[0m\u001b[0;34m(\u001b[0m\u001b[0;34m)\u001b[0m\u001b[0;34m)\u001b[0m\u001b[0;34m\u001b[0m\u001b[0;34m\u001b[0m\u001b[0m\n\u001b[0m",
      "\u001b[0;32m<ipython-input-4-6a6c90da7b3d>\u001b[0m in \u001b[0;36minsert\u001b[0;34m(tree, data)\u001b[0m\n\u001b[1;32m      1\u001b[0m \u001b[0;32mdef\u001b[0m \u001b[0minsert\u001b[0m\u001b[0;34m(\u001b[0m\u001b[0mtree\u001b[0m\u001b[0;34m,\u001b[0m \u001b[0mdata\u001b[0m\u001b[0;34m)\u001b[0m\u001b[0;34m:\u001b[0m\u001b[0;34m\u001b[0m\u001b[0;34m\u001b[0m\u001b[0m\n\u001b[0;32m----> 2\u001b[0;31m     \u001b[0mtree\u001b[0m\u001b[0;34m.\u001b[0m\u001b[0mroot\u001b[0m \u001b[0;34m=\u001b[0m \u001b[0minsert_rec\u001b[0m\u001b[0;34m(\u001b[0m\u001b[0mtree\u001b[0m\u001b[0;34m.\u001b[0m\u001b[0mroot\u001b[0m\u001b[0;34m,\u001b[0m \u001b[0mdata\u001b[0m\u001b[0;34m)\u001b[0m\u001b[0;34m\u001b[0m\u001b[0;34m\u001b[0m\u001b[0m\n\u001b[0m\u001b[1;32m      3\u001b[0m \u001b[0;34m\u001b[0m\u001b[0m\n\u001b[1;32m      4\u001b[0m \u001b[0;32mdef\u001b[0m \u001b[0minsert_rec\u001b[0m\u001b[0;34m(\u001b[0m\u001b[0mnode\u001b[0m\u001b[0;34m,\u001b[0m \u001b[0mdata\u001b[0m\u001b[0;34m)\u001b[0m\u001b[0;34m:\u001b[0m\u001b[0;34m\u001b[0m\u001b[0;34m\u001b[0m\u001b[0m\n\u001b[1;32m      5\u001b[0m     \u001b[0;32mif\u001b[0m \u001b[0mnode\u001b[0m \u001b[0;32mis\u001b[0m \u001b[0;32mNone\u001b[0m\u001b[0;34m:\u001b[0m\u001b[0;34m\u001b[0m\u001b[0;34m\u001b[0m\u001b[0m\n",
      "\u001b[0;32m<ipython-input-4-6a6c90da7b3d>\u001b[0m in \u001b[0;36minsert_rec\u001b[0;34m(node, data)\u001b[0m\n\u001b[1;32m      9\u001b[0m         \u001b[0mnode\u001b[0m\u001b[0;34m.\u001b[0m\u001b[0mleft\u001b[0m \u001b[0;34m=\u001b[0m \u001b[0minsert_rec\u001b[0m\u001b[0;34m(\u001b[0m\u001b[0mnode\u001b[0m\u001b[0;34m.\u001b[0m\u001b[0mleft\u001b[0m\u001b[0;34m,\u001b[0m \u001b[0mdata\u001b[0m\u001b[0;34m)\u001b[0m\u001b[0;34m\u001b[0m\u001b[0;34m\u001b[0m\u001b[0m\n\u001b[1;32m     10\u001b[0m     \u001b[0;32melse\u001b[0m\u001b[0;34m:\u001b[0m\u001b[0;34m\u001b[0m\u001b[0;34m\u001b[0m\u001b[0m\n\u001b[0;32m---> 11\u001b[0;31m         \u001b[0mnode\u001b[0m\u001b[0;34m.\u001b[0m\u001b[0mright\u001b[0m \u001b[0;34m=\u001b[0m \u001b[0minsert_rec\u001b[0m\u001b[0;34m(\u001b[0m\u001b[0mnode\u001b[0m\u001b[0;34m.\u001b[0m\u001b[0mright\u001b[0m\u001b[0;34m,\u001b[0m \u001b[0mdata\u001b[0m\u001b[0;34m)\u001b[0m\u001b[0;34m\u001b[0m\u001b[0;34m\u001b[0m\u001b[0m\n\u001b[0m\u001b[1;32m     12\u001b[0m \u001b[0;34m\u001b[0m\u001b[0m\n\u001b[1;32m     13\u001b[0m     \u001b[0;32mreturn\u001b[0m \u001b[0mnode\u001b[0m\u001b[0;34m\u001b[0m\u001b[0;34m\u001b[0m\u001b[0m\n",
      "... last 1 frames repeated, from the frame below ...\n",
      "\u001b[0;32m<ipython-input-4-6a6c90da7b3d>\u001b[0m in \u001b[0;36minsert_rec\u001b[0;34m(node, data)\u001b[0m\n\u001b[1;32m      9\u001b[0m         \u001b[0mnode\u001b[0m\u001b[0;34m.\u001b[0m\u001b[0mleft\u001b[0m \u001b[0;34m=\u001b[0m \u001b[0minsert_rec\u001b[0m\u001b[0;34m(\u001b[0m\u001b[0mnode\u001b[0m\u001b[0;34m.\u001b[0m\u001b[0mleft\u001b[0m\u001b[0;34m,\u001b[0m \u001b[0mdata\u001b[0m\u001b[0;34m)\u001b[0m\u001b[0;34m\u001b[0m\u001b[0;34m\u001b[0m\u001b[0m\n\u001b[1;32m     10\u001b[0m     \u001b[0;32melse\u001b[0m\u001b[0;34m:\u001b[0m\u001b[0;34m\u001b[0m\u001b[0;34m\u001b[0m\u001b[0m\n\u001b[0;32m---> 11\u001b[0;31m         \u001b[0mnode\u001b[0m\u001b[0;34m.\u001b[0m\u001b[0mright\u001b[0m \u001b[0;34m=\u001b[0m \u001b[0minsert_rec\u001b[0m\u001b[0;34m(\u001b[0m\u001b[0mnode\u001b[0m\u001b[0;34m.\u001b[0m\u001b[0mright\u001b[0m\u001b[0;34m,\u001b[0m \u001b[0mdata\u001b[0m\u001b[0;34m)\u001b[0m\u001b[0;34m\u001b[0m\u001b[0;34m\u001b[0m\u001b[0m\n\u001b[0m\u001b[1;32m     12\u001b[0m \u001b[0;34m\u001b[0m\u001b[0m\n\u001b[1;32m     13\u001b[0m     \u001b[0;32mreturn\u001b[0m \u001b[0mnode\u001b[0m\u001b[0;34m\u001b[0m\u001b[0;34m\u001b[0m\u001b[0m\n",
      "\u001b[0;31mRecursionError\u001b[0m: maximum recursion depth exceeded"
     ]
    }
   ],
   "source": [
    "filename = 'american-english'\n",
    "tree = BSTree()\n",
    "for line in open(filename):\n",
    "    for word in line.split():\n",
    "        insert(tree, word.strip())"
   ]
  },
  {
   "cell_type": "markdown",
   "metadata": {},
   "source": [
    "However, if we put the words into a list, shuffle the list, and then put the shuffled words into the BST, it works."
   ]
  },
  {
   "cell_type": "code",
   "execution_count": null,
   "metadata": {},
   "outputs": [],
   "source": [
    "word_list = []\n",
    "for line in open(filename):\n",
    "    for word in line.split():\n",
    "        word_list.append(word.strip())"
   ]
  },
  {
   "cell_type": "code",
   "execution_count": null,
   "metadata": {},
   "outputs": [],
   "source": [
    "from random import shuffle\n",
    "\n",
    "shuffle(word_list)"
   ]
  },
  {
   "cell_type": "code",
   "execution_count": null,
   "metadata": {},
   "outputs": [],
   "source": [
    "tree = BSTree()\n",
    "for word in word_list:\n",
    "    insert(tree, word.strip())"
   ]
  },
  {
   "cell_type": "markdown",
   "metadata": {},
   "source": [
    "Write a few clear, complete sentences to answer the following two questions:\n",
    "\n",
    "1) Why did we get a `RecursionError`, and why does shuffling the words fix the problem?"
   ]
  },
  {
   "cell_type": "markdown",
   "metadata": {},
   "source": []
  },
  {
   "cell_type": "markdown",
   "metadata": {},
   "source": [
    "2) What is the order of growth for the whole process; that is, reading the words into a list, shuffling the list, and then putting the shuffled words into a binary search tree. You can assume that `shuffle` is linear."
   ]
  },
  {
   "cell_type": "markdown",
   "metadata": {},
   "source": []
  },
  {
   "cell_type": "markdown",
   "metadata": {},
   "source": [
    "## Question 2\n",
    "\n",
    "As we discussed in class, there are three versions of the search problem:\n",
    "\n",
    "1) Checking whether an element is in a collection; for example, this is what the `in` operator does.\n",
    "\n",
    "2) Finding the index of an element in an ordered collection; for example, this is what the string method `find` does.\n",
    "\n",
    "3) In a collection of key-value pairs, finding the value that corresponds to a given key; this is what the dictionary method `get` does.\n",
    "\n",
    "In `search.ipynb`, we used a BST to solve the first problem. In this exercise, you will modify it to solve the third problem.\n",
    "\n",
    "Here's the code again (although notice that the names of the objects are `MapNode` and `BSTMap`)."
   ]
  },
  {
   "cell_type": "code",
   "execution_count": 6,
   "metadata": {},
   "outputs": [],
   "source": [
    "class MapNode:\n",
    "    def __init__(self, data, left=None, right=None):\n",
    "        self.data = data\n",
    "        self.left = left\n",
    "        self.right = right\n",
    "        \n",
    "    def __repr__(self):\n",
    "        return f'Node({self.data}, {repr(self.left)}, {repr(self.right)})'"
   ]
  },
  {
   "cell_type": "code",
   "execution_count": 7,
   "metadata": {},
   "outputs": [],
   "source": [
    "class BSTMap:\n",
    "    def __init__(self, root=None):\n",
    "        self.root = root\n",
    "        \n",
    "    def __repr__(self):\n",
    "        return f'BSTMap({repr(self.root)})'"
   ]
  },
  {
   "cell_type": "code",
   "execution_count": 8,
   "metadata": {},
   "outputs": [],
   "source": [
    "def insert_map(tree, data):\n",
    "    tree.root = insert_map_rec(tree.root, data)\n",
    "    \n",
    "def insert_map_rec(node, data):\n",
    "    if node is None:\n",
    "        return MapNode(data)\n",
    "    \n",
    "    if data < node.data:\n",
    "        node.left = insert_map_rec(node.left, data)\n",
    "    else:\n",
    "        node.right = insert_map_rec(node.right, data)\n",
    "        \n",
    "    return node"
   ]
  },
  {
   "cell_type": "code",
   "execution_count": 9,
   "metadata": {},
   "outputs": [],
   "source": [
    "# Solution\n",
    "\n",
    "class MapNode:\n",
    "    def __init__(self, key, value, left=None, right=None):\n",
    "        self.key = key\n",
    "        self.value = value\n",
    "        self.left = left\n",
    "        self.right = right\n",
    "        \n",
    "    def __repr__(self):\n",
    "        return f'MapNode({self.key}, {repr(self.left)}, {repr(self.right)})'"
   ]
  },
  {
   "cell_type": "code",
   "execution_count": 10,
   "metadata": {},
   "outputs": [],
   "source": [
    "# Solution\n",
    "\n",
    "class BSTMap:\n",
    "    def __init__(self, root=None):\n",
    "        self.root = root\n",
    "        \n",
    "    def __repr__(self):\n",
    "        return f'BSTree({repr(self.root)})'"
   ]
  },
  {
   "cell_type": "code",
   "execution_count": 11,
   "metadata": {},
   "outputs": [],
   "source": [
    "# Solution\n",
    "\n",
    "def insert_map(tree, key, value):\n",
    "    tree.root = insert_map_rec(tree.root, key, value)\n",
    "    \n",
    "def insert_map_rec(node, key, value):\n",
    "    if node is None:\n",
    "        return MapNode(key, value)\n",
    "    \n",
    "    if key < node.key:\n",
    "        node.left = insert_map_rec(node.left, key, value)\n",
    "    else:\n",
    "        node.right = insert_map_rec(node.right, key, value)\n",
    "        \n",
    "    return node"
   ]
  },
  {
   "cell_type": "code",
   "execution_count": 12,
   "metadata": {},
   "outputs": [],
   "source": [
    "# Solution\n",
    "\n",
    "def get(tree, key):\n",
    "    return get_rec(tree.root, key)\n",
    "    \n",
    "def get_rec(node, key):\n",
    "    if node is None:\n",
    "        raise KeyError(f'key {key} not found')\n",
    "        \n",
    "    if key == node.key:\n",
    "        return node.value\n",
    "    \n",
    "    if key < node.key:\n",
    "        return get_rec(node.left, key)\n",
    "    else:\n",
    "        return get_rec(node.right, key)\n",
    "        \n",
    "    return node"
   ]
  },
  {
   "cell_type": "markdown",
   "metadata": {},
   "source": [
    "Modify this code so that it stores keys and values, rather than just elements of a collection.\n",
    "Then write a function called `get` that takes a `BSTMap` and a key:\n",
    "\n",
    "* If the key is in the map, it should return the corresponding value;\n",
    "\n",
    "* Otherwise it should raise a `KeyError` with an appropriate message.\n",
    "\n",
    "You can use the following code to test your implementation."
   ]
  },
  {
   "cell_type": "code",
   "execution_count": 13,
   "metadata": {},
   "outputs": [
    {
     "name": "stdout",
     "output_type": "stream",
     "text": [
      "u 0\n",
      "n 1\n",
      "i 2\n",
      "q 3\n",
      "u 4\n",
      "e 5\n",
      "l 6\n",
      "t 7\n",
      "r 8\n",
      "s 9\n"
     ]
    },
    {
     "data": {
      "text/plain": [
       "BSTree(MapNode(u, MapNode(n, MapNode(i, MapNode(e, None, None), MapNode(l, None, None)), MapNode(q, None, MapNode(t, MapNode(r, None, MapNode(s, None, None)), None))), MapNode(u, None, None)))"
      ]
     },
     "execution_count": 13,
     "metadata": {},
     "output_type": "execute_result"
    }
   ],
   "source": [
    "tree_map = BSTMap()\n",
    "\n",
    "keys = 'uniqueltrs'\n",
    "values = range(len(keys))\n",
    "for key, value in zip(keys, values):\n",
    "    print(key, value)\n",
    "    insert_map(tree_map, key, value)\n",
    "\n",
    "tree_map"
   ]
  },
  {
   "cell_type": "code",
   "execution_count": 14,
   "metadata": {},
   "outputs": [
    {
     "name": "stdout",
     "output_type": "stream",
     "text": [
      "u 0\n",
      "n 1\n",
      "i 2\n",
      "q 3\n",
      "u 0\n",
      "e 5\n",
      "l 6\n",
      "t 7\n",
      "r 8\n",
      "s 9\n"
     ]
    }
   ],
   "source": [
    "for key in keys:\n",
    "    print(key, get(tree_map, key))"
   ]
  },
  {
   "cell_type": "markdown",
   "metadata": {},
   "source": [
    "The following should raise a `KeyError`."
   ]
  },
  {
   "cell_type": "code",
   "execution_count": null,
   "metadata": {},
   "outputs": [],
   "source": [
    "get(tree_map, 'b')"
   ]
  },
  {
   "cell_type": "markdown",
   "metadata": {},
   "source": [
    "## Alternative solution"
   ]
  },
  {
   "cell_type": "code",
   "execution_count": 20,
   "metadata": {},
   "outputs": [],
   "source": [
    "# Solution\n",
    "\n",
    "class MapNode:\n",
    "    def __init__(self, data, left=None, right=None):\n",
    "        self.data = data\n",
    "        self.left = left\n",
    "        self.right = right\n",
    "        \n",
    "    def __repr__(self):\n",
    "        return f'MapNode({self.data}, {repr(self.left)}, {repr(self.right)})'"
   ]
  },
  {
   "cell_type": "code",
   "execution_count": 21,
   "metadata": {},
   "outputs": [],
   "source": [
    "# Solution\n",
    "\n",
    "class BSTMap:\n",
    "    def __init__(self, root=None):\n",
    "        self.root = root\n",
    "        \n",
    "    def __repr__(self):\n",
    "        return f'BSTree({repr(self.root)})'"
   ]
  },
  {
   "cell_type": "code",
   "execution_count": 23,
   "metadata": {},
   "outputs": [],
   "source": [
    "# Solution\n",
    "\n",
    "def insert_map(tree, key, value):\n",
    "    data = (key, value)\n",
    "    tree.root = insert_map_rec(tree.root, data)\n",
    "    \n",
    "def insert_map_rec(node, data):\n",
    "    if node is None:\n",
    "        return MapNode(data)\n",
    "    \n",
    "    if data < node.data:\n",
    "        node.left = insert_map_rec(node.left, data)\n",
    "    else:\n",
    "        node.right = insert_map_rec(node.right, data)\n",
    "        \n",
    "    return node"
   ]
  },
  {
   "cell_type": "code",
   "execution_count": 29,
   "metadata": {},
   "outputs": [],
   "source": [
    "# Solution\n",
    "\n",
    "def get(tree, key):\n",
    "    return get_rec(tree.root, key)\n",
    "    \n",
    "def get_rec(node, key):\n",
    "    if node is None:\n",
    "        raise KeyError(f'key {key} not found')\n",
    "        \n",
    "    if key == node.data[0]:\n",
    "        return node.data[1]\n",
    "    \n",
    "    if (key, None) < node.data:\n",
    "        return get_rec(node.left, key)\n",
    "    else:\n",
    "        return get_rec(node.right, key)\n",
    "        \n",
    "    return node"
   ]
  },
  {
   "cell_type": "markdown",
   "metadata": {},
   "source": [
    "Modify this code so that it stores keys and values, rather than just elements of a collection.\n",
    "Then write a function called `get` that takes a `BSTMap` and a key:\n",
    "\n",
    "* If the key is in the map, it should return the corresponding value;\n",
    "\n",
    "* Otherwise it should raise a `KeyError` with an appropriate message.\n",
    "\n",
    "You can use the following code to test your implementation."
   ]
  },
  {
   "cell_type": "code",
   "execution_count": 30,
   "metadata": {},
   "outputs": [
    {
     "name": "stdout",
     "output_type": "stream",
     "text": [
      "u 0\n",
      "n 1\n",
      "i 2\n",
      "q 3\n",
      "u 4\n",
      "e 5\n",
      "l 6\n",
      "t 7\n",
      "r 8\n",
      "s 9\n"
     ]
    },
    {
     "data": {
      "text/plain": [
       "BSTree(MapNode(('u', 0), MapNode(('n', 1), MapNode(('i', 2), MapNode(('e', 5), None, None), MapNode(('l', 6), None, None)), MapNode(('q', 3), None, MapNode(('t', 7), MapNode(('r', 8), None, MapNode(('s', 9), None, None)), None))), MapNode(('u', 4), None, None)))"
      ]
     },
     "execution_count": 30,
     "metadata": {},
     "output_type": "execute_result"
    }
   ],
   "source": [
    "tree_map = BSTMap()\n",
    "\n",
    "keys = 'uniqueltrs'\n",
    "values = range(len(keys))\n",
    "for key, value in zip(keys, values):\n",
    "    print(key, value)\n",
    "    insert_map(tree_map, key, value)\n",
    "\n",
    "tree_map"
   ]
  },
  {
   "cell_type": "code",
   "execution_count": 31,
   "metadata": {},
   "outputs": [
    {
     "name": "stdout",
     "output_type": "stream",
     "text": [
      "u 0\n",
      "n 1\n",
      "i 2\n",
      "q 3\n",
      "u 0\n",
      "e 5\n",
      "l 6\n",
      "t 7\n",
      "r 8\n",
      "s 9\n"
     ]
    }
   ],
   "source": [
    "for key in keys:\n",
    "    print(key, get(tree_map, key))"
   ]
  },
  {
   "cell_type": "code",
   "execution_count": null,
   "metadata": {},
   "outputs": [],
   "source": []
  }
 ],
 "metadata": {
  "kernelspec": {
   "display_name": "Python 3",
   "language": "python",
   "name": "python3"
  },
  "language_info": {
   "codemirror_mode": {
    "name": "ipython",
    "version": 3
   },
   "file_extension": ".py",
   "mimetype": "text/x-python",
   "name": "python",
   "nbconvert_exporter": "python",
   "pygments_lexer": "ipython3",
   "version": "3.9.4"
  }
 },
 "nbformat": 4,
 "nbformat_minor": 1
}
