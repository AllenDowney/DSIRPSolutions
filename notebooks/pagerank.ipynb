{
 "cells": [
  {
   "cell_type": "markdown",
   "id": "17fb04da",
   "metadata": {},
   "source": [
    "# PageRank"
   ]
  },
  {
   "cell_type": "markdown",
   "id": "b4939489",
   "metadata": {
    "tags": [
     "remove-cell"
    ]
   },
   "source": [
    "*Data Structures and Information Retrieval in Python*\n",
    "\n",
    "Copyright 2021 Allen Downey\n",
    "\n",
    "License: [Creative Commons Attribution-NonCommercial-ShareAlike 4.0 International](https://creativecommons.org/licenses/by-nc-sa/4.0/)"
   ]
  },
  {
   "cell_type": "markdown",
   "id": "457822ea",
   "metadata": {},
   "source": [
    "[Click here to run this notebook on Colab](https://colab.research.google.com/github/AllenDowney/DSIRP/blob/main/notebooks/pagerank.ipynb)"
   ]
  },
  {
   "cell_type": "markdown",
   "id": "bdbcca60",
   "metadata": {},
   "source": [
    "## Ranking pages\n",
    "\n",
    "The goal of information retrieval is to find resources that are relevant and high quality.\n",
    "\"Relevant\" and \"quality\" can be hard to define, and they depend on what kind of resources you are searching.\n",
    "\n",
    "In the context of web search, relevance usually depends on the contents of a web page: if a web page contains the search terms, we assume that it is relevant to the search terms.\n",
    "\n",
    "Quality usually depends on the links between pages.\n",
    "If there are many links to a particular page, we think it is more likely to be high quality, especially if those links come from pages that are high quality themselves.\n",
    "\n",
    "One of the first algorithms to quantify quality in this is PageRank, which was the core of Google's original search engine.\n",
    "As someone who used earlier search engines, like Alta Vista, I can tell you first-hand what a big difference it made.\n",
    "\n",
    "PageRank is described in [\"The PageRank citation ranking: Bringing order to the Web\"](https://web.archive.org/web/20110818093436/http://ilpubs.stanford.edu:8090/422/1/1999-66.pdf) by  Page, Brin, Motwani, and Winograd.\n",
    "\n",
    "It is a surprisingly simple algorithm; it can be computed and updated efficiently; and it is highly effective at identifying good quality pages.\n",
    "So, let's see how it works."
   ]
  },
  {
   "cell_type": "markdown",
   "id": "775247eb",
   "metadata": {},
   "source": [
    "As an example, I'll use `random_k_out_graph` to generate a directed graph with `n` nodes where:\n",
    "\n",
    "* Every node has the same number of out-links, `k`,\n",
    "\n",
    "* The number of in-links varies moderately (controlled by the parameter `alpha`).\n",
    "\n",
    "* Self-links and multiple links are allowed.\n"
   ]
  },
  {
   "cell_type": "code",
   "execution_count": 1,
   "id": "621928b1",
   "metadata": {},
   "outputs": [],
   "source": [
    "import networkx as nx\n",
    "\n",
    "G = nx.random_k_out_graph(n=8, k=2, alpha=0.75)"
   ]
  },
  {
   "cell_type": "markdown",
   "id": "7e3a8733",
   "metadata": {},
   "source": [
    "Here's what the graph looks like. Multiple links appear as slightly thicker lines."
   ]
  },
  {
   "cell_type": "code",
   "execution_count": 2,
   "id": "3d33d291",
   "metadata": {},
   "outputs": [
    {
     "data": {
      "image/png": "[encoded data removed]",
      "text/plain": [
       "<Figure size 432x288 with 1 Axes>"
      ]
     },
     "metadata": {},
     "output_type": "display_data"
    }
   ],
   "source": [
    "def draw_graph(G):\n",
    "    nx.draw_circular(G, node_size=400, with_labels=True)\n",
    "    \n",
    "draw_graph(G)"
   ]
  },
  {
   "cell_type": "markdown",
   "id": "079efdb9",
   "metadata": {},
   "source": [
    "NetworkX provides an implementation of PageRank we can use to compute a metric of \"importance\" for each page."
   ]
  },
  {
   "cell_type": "code",
   "execution_count": 3,
   "id": "60720ba3",
   "metadata": {
    "tags": [
     "fill-in"
    ]
   },
   "outputs": [
    {
     "data": {
      "text/plain": [
       "{0: 0.17812499999999998,\n",
       " 1: 0.026718750000000003,\n",
       " 2: 0.018750000000000003,\n",
       " 3: 0.3236399407472092,\n",
       " 4: 0.03261005925279078,\n",
       " 5: 0.018750000000000003,\n",
       " 6: 0.0414609375,\n",
       " 7: 0.35994531249999995}"
      ]
     },
     "execution_count": 3,
     "metadata": {},
     "output_type": "execute_result"
    }
   ],
   "source": [
    "ranks_pr = nx.pagerank(G)\n",
    "ranks_pr"
   ]
  },
  {
   "cell_type": "markdown",
   "id": "c822bf1f",
   "metadata": {},
   "source": [
    "You should see that nodes with more in-links get higher scores."
   ]
  },
  {
   "cell_type": "markdown",
   "id": "0782e058",
   "metadata": {},
   "source": [
    "##  Random Walk\n",
    "\n",
    "One way to interpret PageRank is in terms of a random walk.\n",
    "Suppose you choose a node at random, then choose one of its out-links at random, and continue like that, making a note of each node you visit.\n",
    "\n",
    "If a node has a lot of in-links, you are likely to visit it more often.\n",
    "And if those in-links come from nodes with many in-links, even more so.\n",
    "\n",
    "However, there is one catch: if a node contains no out-links, or if a set of nodes form a loop with no out-links, the random walker could get trapped.\n",
    "\n",
    "To avoid that, we'll modify the random walk so at every step there is some probability that the walker jumps to a random node rather than following a link.\n",
    "This probability is determined by a parameter, `alpha`, which is the probability of following a link, so `1-alpha` is the probability of making a random jump."
   ]
  },
  {
   "cell_type": "markdown",
   "id": "df4b660c",
   "metadata": {},
   "source": [
    "The following function implements a random walk, with these random jumps, and uses a `Counter` to keep track of the number of times it visits each node.\n",
    "\n",
    "It returns the `Counter` with the frequencies normalized to add up to one.\n",
    "If everything goes according to plan, these values should approximate the results from PageRank."
   ]
  },
  {
   "cell_type": "code",
   "execution_count": 4,
   "id": "65ba086c",
   "metadata": {},
   "outputs": [],
   "source": [
    "import numpy as np\n",
    "\n",
    "def flip(p):\n",
    "    return np.random.random() < p"
   ]
  },
  {
   "cell_type": "code",
   "execution_count": 5,
   "id": "3dc1eea9",
   "metadata": {
    "tags": [
     "fill-in"
    ]
   },
   "outputs": [],
   "source": [
    "from collections import Counter\n",
    "\n",
    "def random_walk(G, alpha=0.85, iters=1000):\n",
    "    counter = Counter()\n",
    "    node = next(iter(G))\n",
    "    \n",
    "    for _ in range(iters):\n",
    "        if flip(alpha):\n",
    "            node = np.random.choice(list(G[node]))\n",
    "        else:\n",
    "            node = np.random.choice(list(G))\n",
    "        \n",
    "        counter[node] += 1\n",
    "        \n",
    "    total = sum(counter.values())\n",
    "    for key in counter:\n",
    "        counter[key] /= total\n",
    "    return counter"
   ]
  },
  {
   "cell_type": "markdown",
   "id": "0f01934c",
   "metadata": {},
   "source": [
    "The default value of `alpha` is 0.85, which is the same as the default value for `nx.pagerank`.\n",
    "\n",
    "Here are the scores we get from the random walk."
   ]
  },
  {
   "cell_type": "code",
   "execution_count": 6,
   "id": "4d64c038",
   "metadata": {},
   "outputs": [
    {
     "data": {
      "text/plain": [
       "Counter({3: 0.285,\n",
       "         0: 0.168,\n",
       "         6: 0.041,\n",
       "         4: 0.034,\n",
       "         2: 0.023,\n",
       "         1: 0.03,\n",
       "         7: 0.401,\n",
       "         5: 0.018})"
      ]
     },
     "execution_count": 6,
     "metadata": {},
     "output_type": "execute_result"
    }
   ],
   "source": [
    "ranks_rw = random_walk(G)\n",
    "ranks_rw"
   ]
  },
  {
   "cell_type": "markdown",
   "id": "a3a1c8a0",
   "metadata": {},
   "source": [
    "To compare them to the results from PageRank, I'll put them in a Pandas `DataFrame`."
   ]
  },
  {
   "cell_type": "code",
   "execution_count": 7,
   "id": "f31d6890",
   "metadata": {},
   "outputs": [
    {
     "data": {
      "text/html": [
       "<div>\n",
       "<style scoped>\n",
       "    .dataframe tbody tr th:only-of-type {\n",
       "        vertical-align: middle;\n",
       "    }\n",
       "\n",
       "    .dataframe tbody tr th {\n",
       "        vertical-align: top;\n",
       "    }\n",
       "\n",
       "    .dataframe thead th {\n",
       "        text-align: right;\n",
       "    }\n",
       "</style>\n",
       "<table border=\"1\" class=\"dataframe\">\n",
       "  <thead>\n",
       "    <tr style=\"text-align: right;\">\n",
       "      <th></th>\n",
       "      <th>PageRank</th>\n",
       "      <th>RandomWalk</th>\n",
       "      <th>Diff</th>\n",
       "    </tr>\n",
       "  </thead>\n",
       "  <tbody>\n",
       "    <tr>\n",
       "      <th>0</th>\n",
       "      <td>17.812500</td>\n",
       "      <td>16.8</td>\n",
       "      <td>-1.012500</td>\n",
       "    </tr>\n",
       "    <tr>\n",
       "      <th>1</th>\n",
       "      <td>2.671875</td>\n",
       "      <td>3.0</td>\n",
       "      <td>0.328125</td>\n",
       "    </tr>\n",
       "    <tr>\n",
       "      <th>2</th>\n",
       "      <td>1.875000</td>\n",
       "      <td>2.3</td>\n",
       "      <td>0.425000</td>\n",
       "    </tr>\n",
       "    <tr>\n",
       "      <th>3</th>\n",
       "      <td>32.363994</td>\n",
       "      <td>28.5</td>\n",
       "      <td>-3.863994</td>\n",
       "    </tr>\n",
       "    <tr>\n",
       "      <th>4</th>\n",
       "      <td>3.261006</td>\n",
       "      <td>3.4</td>\n",
       "      <td>0.138994</td>\n",
       "    </tr>\n",
       "    <tr>\n",
       "      <th>5</th>\n",
       "      <td>1.875000</td>\n",
       "      <td>1.8</td>\n",
       "      <td>-0.075000</td>\n",
       "    </tr>\n",
       "    <tr>\n",
       "      <th>6</th>\n",
       "      <td>4.146094</td>\n",
       "      <td>4.1</td>\n",
       "      <td>-0.046094</td>\n",
       "    </tr>\n",
       "    <tr>\n",
       "      <th>7</th>\n",
       "      <td>35.994531</td>\n",
       "      <td>40.1</td>\n",
       "      <td>4.105469</td>\n",
       "    </tr>\n",
       "  </tbody>\n",
       "</table>\n",
       "</div>"
      ],
      "text/plain": [
       "    PageRank  RandomWalk      Diff\n",
       "0  17.812500        16.8 -1.012500\n",
       "1   2.671875         3.0  0.328125\n",
       "2   1.875000         2.3  0.425000\n",
       "3  32.363994        28.5 -3.863994\n",
       "4   3.261006         3.4  0.138994\n",
       "5   1.875000         1.8 -0.075000\n",
       "6   4.146094         4.1 -0.046094\n",
       "7  35.994531        40.1  4.105469"
      ]
     },
     "execution_count": 7,
     "metadata": {},
     "output_type": "execute_result"
    }
   ],
   "source": [
    "import pandas as pd\n",
    "\n",
    "s1 = pd.Series(ranks_pr)\n",
    "s2 = pd.Series(ranks_rw)\n",
    "\n",
    "df = pd.DataFrame(dict(PageRank=s1, RandomWalk=s2))\n",
    "df['Diff'] = df['RandomWalk'] - df['PageRank']\n",
    "df*100"
   ]
  },
  {
   "cell_type": "markdown",
   "id": "183ecd19",
   "metadata": {},
   "source": [
    "The differences should be a few percentage points at most."
   ]
  },
  {
   "cell_type": "markdown",
   "id": "cc639456",
   "metadata": {},
   "source": [
    "## Adjacency Matrix\n",
    "\n",
    "The random walk implementation of PageRank is conceptually simple, but not very efficient to compute.\n",
    "An alternative is to use a matrix to represent the links from each node to every other node, and compute the eigenvectors of that matrix.\n",
    "\n",
    "In this section, I'll demonstrate this computation and explain how it works.\n",
    "The code here is based on the [implementation of PageRank in NetworkX](https://networkx.org/documentation/stable/_modules/networkx/algorithms/link_analysis/pagerank_alg.html)."
   ]
  },
  {
   "cell_type": "markdown",
   "id": "5030ace4",
   "metadata": {},
   "source": [
    "NetworkX provides a function that creates a NumPy array that represents the [adjacency matrix](https://en.wikipedia.org/wiki/Adjacency_matrix) of the graph."
   ]
  },
  {
   "cell_type": "code",
   "execution_count": 8,
   "id": "3412dff5",
   "metadata": {
    "tags": [
     "fill-in"
    ]
   },
   "outputs": [
    {
     "data": {
      "text/plain": [
       "array([[0., 0., 0., 2., 0., 0., 0., 0.],\n",
       "       [0., 0., 0., 0., 0., 0., 2., 0.],\n",
       "       [0., 1., 0., 1., 0., 0., 0., 0.],\n",
       "       [1., 0., 0., 1., 0., 0., 0., 0.],\n",
       "       [1., 0., 0., 0., 1., 0., 0., 0.],\n",
       "       [1., 0., 0., 1., 0., 0., 0., 0.],\n",
       "       [0., 0., 0., 0., 0., 0., 0., 2.],\n",
       "       [0., 0., 0., 0., 0., 0., 0., 2.]])"
      ]
     },
     "execution_count": 8,
     "metadata": {},
     "output_type": "execute_result"
    }
   ],
   "source": [
    "M = nx.to_numpy_array(G)\n",
    "M"
   ]
  },
  {
   "cell_type": "markdown",
   "id": "272d107f",
   "metadata": {},
   "source": [
    "In this matrix, the element in row `i`, column `j` indicates the number of edges from node `i` to node `j`.\n",
    "\n",
    "If we normalize each row so it adds up to one, each element of the result represents the probability of a transition from one node to another."
   ]
  },
  {
   "cell_type": "code",
   "execution_count": 9,
   "id": "59d2ba7d",
   "metadata": {
    "tags": [
     "fill-in"
    ]
   },
   "outputs": [
    {
     "data": {
      "text/plain": [
       "array([[0. , 0. , 0. , 1. , 0. , 0. , 0. , 0. ],\n",
       "       [0. , 0. , 0. , 0. , 0. , 0. , 1. , 0. ],\n",
       "       [0. , 0.5, 0. , 0.5, 0. , 0. , 0. , 0. ],\n",
       "       [0.5, 0. , 0. , 0.5, 0. , 0. , 0. , 0. ],\n",
       "       [0.5, 0. , 0. , 0. , 0.5, 0. , 0. , 0. ],\n",
       "       [0.5, 0. , 0. , 0.5, 0. , 0. , 0. , 0. ],\n",
       "       [0. , 0. , 0. , 0. , 0. , 0. , 0. , 1. ],\n",
       "       [0. , 0. , 0. , 0. , 0. , 0. , 0. , 1. ]])"
      ]
     },
     "execution_count": 9,
     "metadata": {},
     "output_type": "execute_result"
    }
   ],
   "source": [
    "M /= M.sum(axis=1)\n",
    "M"
   ]
  },
  {
   "cell_type": "markdown",
   "id": "ffc8a866",
   "metadata": {},
   "source": [
    "We can use this matrix to simulate a random walk with many walkers at the same time.\n",
    "For example, suppose we start with 100 walkers at each node, represented by the array `x`:\n"
   ]
  },
  {
   "cell_type": "code",
   "execution_count": 10,
   "id": "7f2e28c5",
   "metadata": {
    "tags": [
     "fill-in"
    ]
   },
   "outputs": [
    {
     "data": {
      "text/plain": [
       "array([100, 100, 100, 100, 100, 100, 100, 100])"
      ]
     },
     "execution_count": 10,
     "metadata": {},
     "output_type": "execute_result"
    }
   ],
   "source": [
    "N = len(G)\n",
    "x = np.full(N, 100)\n",
    "x"
   ]
  },
  {
   "cell_type": "markdown",
   "id": "0450c163",
   "metadata": {},
   "source": [
    "If we transpose `M`, we get a [transition matrix](https://en.wikipedia.org/wiki/Stochastic_matrix) where the element at row `i` and column `j` is the fraction of walkers at node `j` that move to node `i`.\n",
    "\n",
    "If we multiply the transition matrix by `x`, the result is an array with the number of walkers at each node after one time step."
   ]
  },
  {
   "cell_type": "code",
   "execution_count": 11,
   "id": "1f348d36",
   "metadata": {
    "tags": [
     "fill-in"
    ]
   },
   "outputs": [
    {
     "data": {
      "text/plain": [
       "array([150.,  50.,   0., 250.,  50.,   0., 100., 200.])"
      ]
     },
     "execution_count": 11,
     "metadata": {},
     "output_type": "execute_result"
    }
   ],
   "source": [
    "x = M.T @ x\n",
    "x"
   ]
  },
  {
   "cell_type": "markdown",
   "id": "7fa1a824",
   "metadata": {},
   "source": [
    "If you run that cell a few times, you should find that it converges to a steady state where the number of walkers at each node doesn't change much from one time step to the next.\n",
    "\n",
    "However, you might notice that some nodes lose all of their walkers.\n",
    "That's because the random walk we've simulated doesn't include random jumps.\n",
    "\n",
    "To add random jumps, we can create another matrix that include transitions from all nodes to all other nodes with equal probability."
   ]
  },
  {
   "cell_type": "code",
   "execution_count": 12,
   "id": "9c18699e",
   "metadata": {
    "tags": [
     "fill-in"
    ]
   },
   "outputs": [
    {
     "data": {
      "text/plain": [
       "array([[0.125, 0.125, 0.125, 0.125, 0.125, 0.125, 0.125, 0.125],\n",
       "       [0.125, 0.125, 0.125, 0.125, 0.125, 0.125, 0.125, 0.125],\n",
       "       [0.125, 0.125, 0.125, 0.125, 0.125, 0.125, 0.125, 0.125],\n",
       "       [0.125, 0.125, 0.125, 0.125, 0.125, 0.125, 0.125, 0.125],\n",
       "       [0.125, 0.125, 0.125, 0.125, 0.125, 0.125, 0.125, 0.125],\n",
       "       [0.125, 0.125, 0.125, 0.125, 0.125, 0.125, 0.125, 0.125],\n",
       "       [0.125, 0.125, 0.125, 0.125, 0.125, 0.125, 0.125, 0.125],\n",
       "       [0.125, 0.125, 0.125, 0.125, 0.125, 0.125, 0.125, 0.125]])"
      ]
     },
     "execution_count": 12,
     "metadata": {},
     "output_type": "execute_result"
    }
   ],
   "source": [
    "p = np.full((N, N), 1/N)\n",
    "p"
   ]
  },
  {
   "cell_type": "markdown",
   "id": "f18087f2",
   "metadata": {},
   "source": [
    "Now we'll use the parameter `alpha` to compute a weighted sum of `M` and `p`. "
   ]
  },
  {
   "cell_type": "code",
   "execution_count": 13,
   "id": "6bd44ad2",
   "metadata": {
    "tags": [
     "fill-in"
    ]
   },
   "outputs": [],
   "source": [
    "alpha = 0.85\n",
    "GM = alpha * M + (1 - alpha) * p"
   ]
  },
  {
   "cell_type": "markdown",
   "id": "597c5b87",
   "metadata": {},
   "source": [
    "The result is a \"Google matrix\" that represents transitions in a random walk, including random jumps.\n",
    "\n",
    "So let's start again with an equal number of walkers on all nodes and simulate 10 time steps."
   ]
  },
  {
   "cell_type": "code",
   "execution_count": 14,
   "id": "b1721fe5",
   "metadata": {
    "tags": [
     "fill-in"
    ]
   },
   "outputs": [],
   "source": [
    "x = np.full(N, 100)\n",
    "\n",
    "for i in range(10):\n",
    "    x = GM.T @ x"
   ]
  },
  {
   "cell_type": "markdown",
   "id": "063cc1d0",
   "metadata": {},
   "source": [
    "If we normalize `x` so it adds up to one, the result should approximate the ranks we got from PageRank."
   ]
  },
  {
   "cell_type": "code",
   "execution_count": 15,
   "id": "97b540c3",
   "metadata": {
    "tags": [
     "fill-in"
    ]
   },
   "outputs": [
    {
     "data": {
      "text/plain": [
       "array([0.178125  , 0.02671875, 0.01875   , 0.32362354, 0.03262646,\n",
       "       0.01875   , 0.04146094, 0.35994531])"
      ]
     },
     "execution_count": 15,
     "metadata": {},
     "output_type": "execute_result"
    }
   ],
   "source": [
    "ranks_am = x / x.sum()\n",
    "ranks_am"
   ]
  },
  {
   "cell_type": "markdown",
   "id": "e02f9dec",
   "metadata": {},
   "source": [
    "Here's the table that compares the results."
   ]
  },
  {
   "cell_type": "code",
   "execution_count": 16,
   "id": "bd24edfb",
   "metadata": {},
   "outputs": [
    {
     "data": {
      "text/html": [
       "<div>\n",
       "<style scoped>\n",
       "    .dataframe tbody tr th:only-of-type {\n",
       "        vertical-align: middle;\n",
       "    }\n",
       "\n",
       "    .dataframe tbody tr th {\n",
       "        vertical-align: top;\n",
       "    }\n",
       "\n",
       "    .dataframe thead th {\n",
       "        text-align: right;\n",
       "    }\n",
       "</style>\n",
       "<table border=\"1\" class=\"dataframe\">\n",
       "  <thead>\n",
       "    <tr style=\"text-align: right;\">\n",
       "      <th></th>\n",
       "      <th>PageRank</th>\n",
       "      <th>AdjMatrix</th>\n",
       "      <th>Diff</th>\n",
       "    </tr>\n",
       "  </thead>\n",
       "  <tbody>\n",
       "    <tr>\n",
       "      <th>0</th>\n",
       "      <td>17.812500</td>\n",
       "      <td>17.812500</td>\n",
       "      <td>0.000000e+00</td>\n",
       "    </tr>\n",
       "    <tr>\n",
       "      <th>1</th>\n",
       "      <td>2.671875</td>\n",
       "      <td>2.671875</td>\n",
       "      <td>0.000000e+00</td>\n",
       "    </tr>\n",
       "    <tr>\n",
       "      <th>2</th>\n",
       "      <td>1.875000</td>\n",
       "      <td>1.875000</td>\n",
       "      <td>-3.469447e-16</td>\n",
       "    </tr>\n",
       "    <tr>\n",
       "      <th>3</th>\n",
       "      <td>32.363994</td>\n",
       "      <td>32.362354</td>\n",
       "      <td>-1.639957e-03</td>\n",
       "    </tr>\n",
       "    <tr>\n",
       "      <th>4</th>\n",
       "      <td>3.261006</td>\n",
       "      <td>3.262646</td>\n",
       "      <td>1.639957e-03</td>\n",
       "    </tr>\n",
       "    <tr>\n",
       "      <th>5</th>\n",
       "      <td>1.875000</td>\n",
       "      <td>1.875000</td>\n",
       "      <td>-3.469447e-16</td>\n",
       "    </tr>\n",
       "    <tr>\n",
       "      <th>6</th>\n",
       "      <td>4.146094</td>\n",
       "      <td>4.146094</td>\n",
       "      <td>0.000000e+00</td>\n",
       "    </tr>\n",
       "    <tr>\n",
       "      <th>7</th>\n",
       "      <td>35.994531</td>\n",
       "      <td>35.994531</td>\n",
       "      <td>5.551115e-15</td>\n",
       "    </tr>\n",
       "  </tbody>\n",
       "</table>\n",
       "</div>"
      ],
      "text/plain": [
       "    PageRank  AdjMatrix          Diff\n",
       "0  17.812500  17.812500  0.000000e+00\n",
       "1   2.671875   2.671875  0.000000e+00\n",
       "2   1.875000   1.875000 -3.469447e-16\n",
       "3  32.363994  32.362354 -1.639957e-03\n",
       "4   3.261006   3.262646  1.639957e-03\n",
       "5   1.875000   1.875000 -3.469447e-16\n",
       "6   4.146094   4.146094  0.000000e+00\n",
       "7  35.994531  35.994531  5.551115e-15"
      ]
     },
     "execution_count": 16,
     "metadata": {},
     "output_type": "execute_result"
    }
   ],
   "source": [
    "import pandas as pd\n",
    "\n",
    "s1 = pd.Series(ranks_pr)\n",
    "s2 = pd.Series(ranks_am)\n",
    "\n",
    "df = pd.DataFrame(dict(PageRank=s1, AdjMatrix=s2))\n",
    "df['Diff'] = df['AdjMatrix'] - df['PageRank']\n",
    "df*100"
   ]
  },
  {
   "cell_type": "markdown",
   "id": "374d1398",
   "metadata": {},
   "source": [
    "## Eigenvectors\n",
    "\n",
    "If you start with almost any vector and multiply by a matrix repeatedly, as we did in the previous section, the result will converge to the eigenvector of the matrix that corresponds to the largest eigenvalue.\n",
    "\n",
    "In fact, repeated multiplication is one of the algorithms used to compute eigenvalues: it is called [power iteration](https://en.wikipedia.org/wiki/Power_iteration).\n",
    "\n",
    "Instead of using an iterative method, we can also compute eigenvalues directly, which is what the Numpy function `eig` does.\n",
    "Here are the eigenvalues and eigenvectors of the Google matrix."
   ]
  },
  {
   "cell_type": "code",
   "execution_count": 17,
   "id": "14cc38c2",
   "metadata": {
    "tags": [
     "fill-in"
    ]
   },
   "outputs": [
    {
     "data": {
      "text/plain": [
       "array([-4.25000000e-01+0.00000000e+00j,  1.00000000e+00+0.00000000e+00j,\n",
       "        8.50000000e-01+0.00000000e+00j,  4.25000000e-01+0.00000000e+00j,\n",
       "        7.41113906e-07+1.28367677e-06j,  7.41113906e-07-1.28367677e-06j,\n",
       "       -1.48222781e-06+0.00000000e+00j,  1.99627049e-17+0.00000000e+00j])"
      ]
     },
     "execution_count": 17,
     "metadata": {},
     "output_type": "execute_result"
    }
   ],
   "source": [
    "eigenvalues, eigenvectors = np.linalg.eig(GM.T)\n",
    "eigenvalues"
   ]
  },
  {
   "cell_type": "markdown",
   "id": "bc9e137e",
   "metadata": {},
   "source": [
    "And here's how we can get the eigenvector corresponding to the largest eigenvalue."
   ]
  },
  {
   "cell_type": "code",
   "execution_count": 18,
   "id": "a875ef25",
   "metadata": {},
   "outputs": [
    {
     "data": {
      "text/plain": [
       "(1, (0.999999999999999+0j))"
      ]
     },
     "execution_count": 18,
     "metadata": {},
     "output_type": "execute_result"
    }
   ],
   "source": [
    "ind = np.argmax(eigenvalues)\n",
    "ind, eigenvalues[ind]"
   ]
  },
  {
   "cell_type": "code",
   "execution_count": 19,
   "id": "2db0a967",
   "metadata": {},
   "outputs": [
    {
     "data": {
      "text/plain": [
       "array([0.34265442+0.j, 0.05139816+0.j, 0.03606889+0.j, 0.62258034+0.j,\n",
       "       0.0627285 +0.j, 0.03606889+0.j, 0.07975732+0.j, 0.69241741+0.j])"
      ]
     },
     "execution_count": 19,
     "metadata": {},
     "output_type": "execute_result"
    }
   ],
   "source": [
    "largest = eigenvectors[:, ind]\n",
    "largest"
   ]
  },
  {
   "cell_type": "markdown",
   "id": "3eee2347",
   "metadata": {},
   "source": [
    "The result contains complex numbers, but the imaginary parts are all 0, so we can pull out just the real part."
   ]
  },
  {
   "cell_type": "code",
   "execution_count": 20,
   "id": "82b43c9a",
   "metadata": {},
   "outputs": [],
   "source": [
    "largest = largest.real"
   ]
  },
  {
   "cell_type": "markdown",
   "id": "c0850609",
   "metadata": {},
   "source": [
    "And normalize it."
   ]
  },
  {
   "cell_type": "code",
   "execution_count": 21,
   "id": "aa33d0fc",
   "metadata": {},
   "outputs": [
    {
     "data": {
      "text/plain": [
       "array([0.178125  , 0.02671875, 0.01875   , 0.3236413 , 0.0326087 ,\n",
       "       0.01875   , 0.04146094, 0.35994531])"
      ]
     },
     "execution_count": 21,
     "metadata": {},
     "output_type": "execute_result"
    }
   ],
   "source": [
    "ranks_ev = largest / largest.sum()\n",
    "ranks_ev"
   ]
  },
  {
   "cell_type": "markdown",
   "id": "4919c67d",
   "metadata": {},
   "source": [
    "The result is the set of ranks based on the eigenvectors of the Google matrix.\n",
    "They should be identical to the results from PageRank, except for small floating-point errors."
   ]
  },
  {
   "cell_type": "code",
   "execution_count": 22,
   "id": "8c6a11e9",
   "metadata": {},
   "outputs": [
    {
     "data": {
      "text/html": [
       "<div>\n",
       "<style scoped>\n",
       "    .dataframe tbody tr th:only-of-type {\n",
       "        vertical-align: middle;\n",
       "    }\n",
       "\n",
       "    .dataframe tbody tr th {\n",
       "        vertical-align: top;\n",
       "    }\n",
       "\n",
       "    .dataframe thead th {\n",
       "        text-align: right;\n",
       "    }\n",
       "</style>\n",
       "<table border=\"1\" class=\"dataframe\">\n",
       "  <thead>\n",
       "    <tr style=\"text-align: right;\">\n",
       "      <th></th>\n",
       "      <th>PageRank</th>\n",
       "      <th>Eigenvector</th>\n",
       "      <th>Diff</th>\n",
       "    </tr>\n",
       "  </thead>\n",
       "  <tbody>\n",
       "    <tr>\n",
       "      <th>0</th>\n",
       "      <td>17.812500</td>\n",
       "      <td>17.812500</td>\n",
       "      <td>-7.494005e-14</td>\n",
       "    </tr>\n",
       "    <tr>\n",
       "      <th>1</th>\n",
       "      <td>2.671875</td>\n",
       "      <td>2.671875</td>\n",
       "      <td>-6.938894e-16</td>\n",
       "    </tr>\n",
       "    <tr>\n",
       "      <th>2</th>\n",
       "      <td>1.875000</td>\n",
       "      <td>1.875000</td>\n",
       "      <td>4.857226e-15</td>\n",
       "    </tr>\n",
       "    <tr>\n",
       "      <th>3</th>\n",
       "      <td>32.363994</td>\n",
       "      <td>32.364130</td>\n",
       "      <td>1.363601e-04</td>\n",
       "    </tr>\n",
       "    <tr>\n",
       "      <th>4</th>\n",
       "      <td>3.261006</td>\n",
       "      <td>3.260870</td>\n",
       "      <td>-1.363601e-04</td>\n",
       "    </tr>\n",
       "    <tr>\n",
       "      <th>5</th>\n",
       "      <td>1.875000</td>\n",
       "      <td>1.875000</td>\n",
       "      <td>1.734723e-15</td>\n",
       "    </tr>\n",
       "    <tr>\n",
       "      <th>6</th>\n",
       "      <td>4.146094</td>\n",
       "      <td>4.146094</td>\n",
       "      <td>3.469447e-15</td>\n",
       "    </tr>\n",
       "    <tr>\n",
       "      <th>7</th>\n",
       "      <td>35.994531</td>\n",
       "      <td>35.994531</td>\n",
       "      <td>1.165734e-13</td>\n",
       "    </tr>\n",
       "  </tbody>\n",
       "</table>\n",
       "</div>"
      ],
      "text/plain": [
       "    PageRank  Eigenvector          Diff\n",
       "0  17.812500    17.812500 -7.494005e-14\n",
       "1   2.671875     2.671875 -6.938894e-16\n",
       "2   1.875000     1.875000  4.857226e-15\n",
       "3  32.363994    32.364130  1.363601e-04\n",
       "4   3.261006     3.260870 -1.363601e-04\n",
       "5   1.875000     1.875000  1.734723e-15\n",
       "6   4.146094     4.146094  3.469447e-15\n",
       "7  35.994531    35.994531  1.165734e-13"
      ]
     },
     "execution_count": 22,
     "metadata": {},
     "output_type": "execute_result"
    }
   ],
   "source": [
    "import pandas as pd\n",
    "\n",
    "s1 = pd.Series(ranks_pr)\n",
    "s2 = pd.Series(ranks_ev)\n",
    "\n",
    "df = pd.DataFrame(dict(PageRank=s1, Eigenvector=s2))\n",
    "df['Diff'] = df['Eigenvector'] - df['PageRank']\n",
    "df*100"
   ]
  },
  {
   "cell_type": "markdown",
   "id": "c0f94b06",
   "metadata": {},
   "source": [
    "## Putting it all together\n",
    "\n",
    "The following are simplified versions of the NetworkX functions that compute the Google matrix and the PageRank scores."
   ]
  },
  {
   "cell_type": "code",
   "execution_count": 23,
   "id": "23b9c4a1",
   "metadata": {},
   "outputs": [],
   "source": [
    "def google_matrix(G, alpha=0.85):\n",
    "    \"\"\"Returns the Google matrix of the graph.\n",
    "\n",
    "    Parameters\n",
    "    ----------\n",
    "    G : graph\n",
    "      A NetworkX graph.  Undirected graphs will be converted to a directed\n",
    "      graph with two directed edges for each undirected edge.\n",
    "\n",
    "    alpha : float\n",
    "      The damping factor.\n",
    "\n",
    "    Notes\n",
    "    -----\n",
    "    The matrix returned represents the transition matrix that describes the\n",
    "    Markov chain used in PageRank. For PageRank to converge to a unique\n",
    "    solution (i.e., a unique stationary distribution in a Markov chain), the\n",
    "    transition matrix must be irreducible. In other words, it must be that\n",
    "    there exists a path between every pair of nodes in the graph, or else there\n",
    "    is the potential of \"rank sinks.\"\n",
    "    \"\"\"\n",
    "    M = np.asmatrix(nx.to_numpy_array(G))\n",
    "    N = len(G)\n",
    "    if N == 0:\n",
    "        return M\n",
    "\n",
    "    # Personalization vector\n",
    "    p = np.repeat(1.0 / N, N)\n",
    "    \n",
    "    # Dangling nodes\n",
    "    dangling_weights = p\n",
    "    dangling_nodes = np.where(M.sum(axis=1) == 0)[0]\n",
    "\n",
    "    # Assign dangling_weights to any dangling nodes \n",
    "    # (nodes with no out links)\n",
    "    for node in dangling_nodes:\n",
    "        M[node] = dangling_weights\n",
    "\n",
    "    M /= M.sum(axis=1)  # Normalize rows to sum to 1\n",
    "\n",
    "    return alpha * M + (1 - alpha) * p"
   ]
  },
  {
   "cell_type": "code",
   "execution_count": 24,
   "id": "c0f7b486",
   "metadata": {},
   "outputs": [],
   "source": [
    "def pagerank_numpy(G, alpha=0.85):\n",
    "    \"\"\"Returns the PageRank of the nodes in the graph.\n",
    "\n",
    "    PageRank computes a ranking of the nodes in the graph G based on\n",
    "    the structure of the incoming links. It was originally designed as\n",
    "    an algorithm to rank web pages.\n",
    "\n",
    "    Parameters\n",
    "    ----------\n",
    "    G : graph\n",
    "      A NetworkX graph.  Undirected graphs will be converted to a directed\n",
    "      graph with two directed edges for each undirected edge.\n",
    "\n",
    "    alpha : float, optional\n",
    "      Damping parameter for PageRank, default=0.85.\n",
    "\n",
    "    Returns\n",
    "    -------\n",
    "    pagerank : dictionary\n",
    "       Dictionary of nodes with PageRank as value.\n",
    "\n",
    "    Examples\n",
    "    --------\n",
    "    >>> G = nx.DiGraph(nx.path_graph(4))\n",
    "    >>> pr = nx.pagerank_numpy(G, alpha=0.9)\n",
    "\n",
    "    Notes\n",
    "    -----\n",
    "    The eigenvector calculation uses NumPy's interface to the LAPACK\n",
    "    eigenvalue solvers.  This will be the fastest and most accurate\n",
    "    for small graphs.\n",
    "\n",
    "    References\n",
    "    ----------\n",
    "    .. [1] A. Langville and C. Meyer,\n",
    "       \"A survey of eigenvector methods of web information retrieval.\"\n",
    "       http://citeseer.ist.psu.edu/713792.html\n",
    "    .. [2] Page, Lawrence; Brin, Sergey; Motwani, Rajeev and Winograd, Terry,\n",
    "       The PageRank citation ranking: Bringing order to the Web. 1999\n",
    "       http://dbpubs.stanford.edu:8090/pub/showDoc.Fulltext?lang=en&doc=1999-66&format=pdf\n",
    "    \"\"\"\n",
    "    if len(G) == 0:\n",
    "        return {}\n",
    "    M = google_matrix(G, alpha)\n",
    "    \n",
    "    # use numpy LAPACK solver\n",
    "    eigenvalues, eigenvectors = np.linalg.eig(M.T)\n",
    "    ind = np.argmax(eigenvalues)\n",
    "\n",
    "    # eigenvector of largest eigenvalue is at ind, normalized\n",
    "    largest = np.array(eigenvectors[:, ind]).flatten().real\n",
    "    norm = float(largest.sum())\n",
    "    return dict(zip(G, map(float, largest / norm)))"
   ]
  },
  {
   "cell_type": "code",
   "execution_count": 25,
   "id": "c4693b4c",
   "metadata": {},
   "outputs": [
    {
     "data": {
      "text/plain": [
       "{0: 0.17812499999999923,\n",
       " 1: 0.026718749999999996,\n",
       " 2: 0.01875000000000005,\n",
       " 3: 0.32364130434782556,\n",
       " 4: 0.03260869565217396,\n",
       " 5: 0.01875000000000002,\n",
       " 6: 0.04146093750000004,\n",
       " 7: 0.3599453125000011}"
      ]
     },
     "execution_count": 25,
     "metadata": {},
     "output_type": "execute_result"
    }
   ],
   "source": [
    "pagerank_numpy(G)"
   ]
  },
  {
   "cell_type": "code",
   "execution_count": null,
   "id": "56a33cab",
   "metadata": {},
   "outputs": [],
   "source": []
  }
 ],
 "metadata": {
  "celltoolbar": "Tags",
  "kernelspec": {
   "display_name": "Python 3",
   "language": "python",
   "name": "python3"
  },
  "language_info": {
   "codemirror_mode": {
    "name": "ipython",
    "version": 3
   },
   "file_extension": ".py",
   "mimetype": "text/x-python",
   "name": "python",
   "nbconvert_exporter": "python",
   "pygments_lexer": "ipython3",
   "version": "3.9.4"
  }
 },
 "nbformat": 4,
 "nbformat_minor": 5
}
