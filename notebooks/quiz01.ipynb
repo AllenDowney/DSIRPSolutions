{
 "cells": [
  {
   "cell_type": "markdown",
   "metadata": {},
   "source": [
    "# Quiz 1\n",
    "\n",
    "BEFORE YOU START THIS QUIZ:\n",
    "\n",
    "1. Click on \"Copy to Drive\" to make a copy of the quiz,\n",
    "\n",
    "2. Click on \"Share\",\n",
    "    \n",
    "3. Click on \"Change\" and select \"Anyone with this link can edit\"\n",
    "    \n",
    "4. Click \"Copy link\" and\n",
    "\n",
    "5. Paste the link into [this Canvas assignment](https://canvas.olin.edu/courses/313/assignments/4866). \n",
    "\n",
    "Copyright 2021 Allen Downey, [MIT License](http://opensource.org/licenses/MIT)"
   ]
  },
  {
   "cell_type": "markdown",
   "metadata": {},
   "source": [
    "## Setup"
   ]
  },
  {
   "cell_type": "markdown",
   "metadata": {},
   "source": [
    "The following cells download a file that contains a list of words, reads the words, and stores them in a `set`."
   ]
  },
  {
   "cell_type": "code",
   "execution_count": 1,
   "metadata": {},
   "outputs": [],
   "source": [
    "from os.path import basename, exists\n",
    "\n",
    "def download(url):\n",
    "    filename = basename(url)\n",
    "    if not exists(filename):\n",
    "        from urllib.request import urlretrieve\n",
    "        local, _ = urlretrieve(url, filename)\n",
    "        print('Downloaded ' + local)\n",
    "    \n",
    "download('https://github.com/AllenDowney/DSIRP/raw/main/american-english')"
   ]
  },
  {
   "cell_type": "code",
   "execution_count": 2,
   "metadata": {},
   "outputs": [],
   "source": [
    "def read_words(filename):\n",
    "    \"\"\"Read lines from a file and split them into words.\"\"\"\n",
    "    res = set()\n",
    "    for line in open(filename):\n",
    "        for word in line.split():\n",
    "            res.add(word.strip().lower())\n",
    "    return res"
   ]
  },
  {
   "cell_type": "code",
   "execution_count": 3,
   "metadata": {},
   "outputs": [
    {
     "data": {
      "text/plain": [
       "100781"
      ]
     },
     "execution_count": 3,
     "metadata": {},
     "output_type": "execute_result"
    }
   ],
   "source": [
    "word_list = read_words('american-english')\n",
    "len(word_list)"
   ]
  },
  {
   "cell_type": "markdown",
   "metadata": {},
   "source": [
    "## Question 1\n",
    "\n",
    "The following function takes a string and returns `True` if the letters in the string appear in alphabetical order."
   ]
  },
  {
   "cell_type": "code",
   "execution_count": 4,
   "metadata": {},
   "outputs": [],
   "source": [
    "def is_alphabetical(word):\n",
    "    return list(word) == sorted(word)"
   ]
  },
  {
   "cell_type": "code",
   "execution_count": 5,
   "metadata": {},
   "outputs": [
    {
     "data": {
      "text/plain": [
       "True"
      ]
     },
     "execution_count": 5,
     "metadata": {},
     "output_type": "execute_result"
    }
   ],
   "source": [
    "is_alphabetical('almost') # True"
   ]
  },
  {
   "cell_type": "code",
   "execution_count": 6,
   "metadata": {},
   "outputs": [
    {
     "data": {
      "text/plain": [
       "False"
      ]
     },
     "execution_count": 6,
     "metadata": {},
     "output_type": "execute_result"
    }
   ],
   "source": [
    "is_alphabetical('alphabetical') # False"
   ]
  },
  {
   "cell_type": "markdown",
   "metadata": {},
   "source": [
    "Make a new list called `alpha_words` that contains only the words in `word_list` that are alphabetical, and display the length of the list."
   ]
  },
  {
   "cell_type": "code",
   "execution_count": 7,
   "metadata": {},
   "outputs": [
    {
     "data": {
      "text/plain": [
       "502"
      ]
     },
     "execution_count": 7,
     "metadata": {},
     "output_type": "execute_result"
    }
   ],
   "source": [
    "# Solution\n",
    "\n",
    "alpha_words = []\n",
    "for word in word_list:\n",
    "    if is_alphabetical(word):\n",
    "        alpha_words.append(word)\n",
    "        \n",
    "len(alpha_words)"
   ]
  },
  {
   "cell_type": "code",
   "execution_count": 8,
   "metadata": {},
   "outputs": [
    {
     "data": {
      "text/plain": [
       "502"
      ]
     },
     "execution_count": 8,
     "metadata": {},
     "output_type": "execute_result"
    }
   ],
   "source": [
    "# Solution\n",
    "\n",
    "alpha_words = [word for word in word_list if is_alphabetical(word)]\n",
    "len(alpha_words)"
   ]
  },
  {
   "cell_type": "markdown",
   "metadata": {},
   "source": [
    "## Question 2\n",
    "\n",
    "Find and display the longest word in `alpha_words`.\n",
    "If there is more than one word with the maximal length, you can display any one of them (but only one).\n",
    "\n",
    "NOTE: You can write code for this question even if your answer to the previous question doesn't work. I'll grade the code, not the output."
   ]
  },
  {
   "cell_type": "code",
   "execution_count": 9,
   "metadata": {},
   "outputs": [
    {
     "data": {
      "text/plain": [
       "'billowy'"
      ]
     },
     "execution_count": 9,
     "metadata": {},
     "output_type": "execute_result"
    }
   ],
   "source": [
    "# Solution\n",
    "\n",
    "max(alpha_words, key=len)"
   ]
  },
  {
   "cell_type": "code",
   "execution_count": 10,
   "metadata": {},
   "outputs": [
    {
     "data": {
      "text/plain": [
       "'billowy'"
      ]
     },
     "execution_count": 10,
     "metadata": {},
     "output_type": "execute_result"
    }
   ],
   "source": [
    "# Solution\n",
    "\n",
    "sorted(alpha_words, key=len, reverse=True)[0]"
   ]
  },
  {
   "cell_type": "markdown",
   "metadata": {},
   "source": [
    "## Question 3\n",
    "\n",
    "Write a function called `encompasses` that takes two words and returns `True` if the first word contains the second word, but not at the beginning or the end (and `False` otherwise). For example, `hippopotomus` encompasses the word `pot`.\n",
    "\n",
    "HINT: You might find the string method `find` useful. "
   ]
  },
  {
   "cell_type": "code",
   "execution_count": 11,
   "metadata": {},
   "outputs": [
    {
     "data": {
      "text/plain": [
       "5"
      ]
     },
     "execution_count": 11,
     "metadata": {},
     "output_type": "execute_result"
    }
   ],
   "source": [
    "'hippopotomus'.find('pot')"
   ]
  },
  {
   "cell_type": "code",
   "execution_count": 12,
   "metadata": {},
   "outputs": [
    {
     "data": {
      "text/plain": [
       "-1"
      ]
     },
     "execution_count": 12,
     "metadata": {},
     "output_type": "execute_result"
    }
   ],
   "source": [
    "'hippopotomus'.find('potato')"
   ]
  },
  {
   "cell_type": "code",
   "execution_count": 13,
   "metadata": {},
   "outputs": [],
   "source": [
    "# WRITE YOUR FUNCTION HERE"
   ]
  },
  {
   "cell_type": "code",
   "execution_count": 14,
   "metadata": {},
   "outputs": [],
   "source": [
    "# Solution\n",
    "\n",
    "def encompasses(word1, word2):\n",
    "    i = word1.find(word2)\n",
    "    if i == -1 or i == 0 or i == len(word1)-len(word2):\n",
    "        return False\n",
    "    else:\n",
    "        return True"
   ]
  },
  {
   "cell_type": "code",
   "execution_count": 15,
   "metadata": {},
   "outputs": [],
   "source": [
    "# Solution\n",
    "\n",
    "def encompasses(word1, word2):\n",
    "    i = word1.find(word2)\n",
    "    return i > 0 and i < len(word1)-len(word2)"
   ]
  },
  {
   "cell_type": "code",
   "execution_count": 16,
   "metadata": {},
   "outputs": [],
   "source": [
    "# Solution\n",
    "\n",
    "def encompasses(word1, word2):\n",
    "    return word2 in word1[1:-1]"
   ]
  },
  {
   "cell_type": "markdown",
   "metadata": {},
   "source": [
    "You can use the following examples to test your function."
   ]
  },
  {
   "cell_type": "code",
   "execution_count": 17,
   "metadata": {},
   "outputs": [],
   "source": [
    "word1 = 'hippopotamus'\n",
    "word2 = 'pot'\n",
    "word3 = 'hippo'\n",
    "word4 = 'mus'\n",
    "word5 = 'potato'"
   ]
  },
  {
   "cell_type": "code",
   "execution_count": 18,
   "metadata": {},
   "outputs": [
    {
     "data": {
      "text/plain": [
       "True"
      ]
     },
     "execution_count": 18,
     "metadata": {},
     "output_type": "execute_result"
    }
   ],
   "source": [
    "encompasses(word1, word2) # True"
   ]
  },
  {
   "cell_type": "code",
   "execution_count": 19,
   "metadata": {},
   "outputs": [
    {
     "data": {
      "text/plain": [
       "False"
      ]
     },
     "execution_count": 19,
     "metadata": {},
     "output_type": "execute_result"
    }
   ],
   "source": [
    "encompasses(word1, word3) # False because word3 is at the beginning"
   ]
  },
  {
   "cell_type": "code",
   "execution_count": 20,
   "metadata": {},
   "outputs": [
    {
     "data": {
      "text/plain": [
       "False"
      ]
     },
     "execution_count": 20,
     "metadata": {},
     "output_type": "execute_result"
    }
   ],
   "source": [
    "encompasses(word1, word4) # False because word4 is at the end"
   ]
  },
  {
   "cell_type": "code",
   "execution_count": 21,
   "metadata": {},
   "outputs": [
    {
     "data": {
      "text/plain": [
       "False"
      ]
     },
     "execution_count": 21,
     "metadata": {},
     "output_type": "execute_result"
    }
   ],
   "source": [
    "encompasses(word1, word5) # False because word5 is not in word1"
   ]
  },
  {
   "cell_type": "markdown",
   "metadata": {},
   "source": [
    "## Question 4\n",
    "\n",
    "Two words make a \"reverse pair\" if one of them is the reverse of the other. For example, `pots` and `stop` are a reverse pair.\n",
    "\n",
    "The words in a reverse pair must be different, so `gag` and `gag` are not a reverse pair.\n",
    "\n",
    "\n",
    "Make a list of all reverse pairs in `word_list`. Each pair of words should appear only once, so if `('tons', 'snot')` is in the list, `('snot', 'tons')` should not be.\n"
   ]
  },
  {
   "cell_type": "code",
   "execution_count": 25,
   "metadata": {},
   "outputs": [
    {
     "data": {
      "text/plain": [
       "[('em', 'me'),\n",
       " ('rebut', 'tuber'),\n",
       " ('bad', 'dab'),\n",
       " ('emit', 'time'),\n",
       " ('leer', 'reel'),\n",
       " ('aron', 'nora'),\n",
       " ('keep', 'peek'),\n",
       " ('ports', 'strop'),\n",
       " ('snaps', 'spans'),\n",
       " ('gut', 'tug'),\n",
       " ('ani', 'ina'),\n",
       " ('bats', 'stab'),\n",
       " ('loop', 'pool'),\n",
       " ('now', 'won'),\n",
       " ('spay', 'yaps'),\n",
       " ('may', 'yam'),\n",
       " ('spots', 'stops'),\n",
       " ('evil', 'live'),\n",
       " ('denim', 'mined'),\n",
       " ('smut', 'tums'),\n",
       " ('ate', 'eta'),\n",
       " ('nat', 'tan'),\n",
       " ('gnaw', 'wang'),\n",
       " ('gum', 'mug'),\n",
       " ('part', 'trap'),\n",
       " ('mart', 'tram'),\n",
       " ('gals', 'slag'),\n",
       " ('tow', 'wot'),\n",
       " ('anal', 'lana'),\n",
       " ('pat', 'tap'),\n",
       " ('gas', 'sag'),\n",
       " ('an', 'na'),\n",
       " ('ac', 'ca'),\n",
       " ('decaf', 'faced'),\n",
       " ('pins', 'snip'),\n",
       " ('edam', 'made'),\n",
       " ('but', 'tub'),\n",
       " ('ex', 'xe'),\n",
       " ('knits', 'stink'),\n",
       " ('los', 'sol'),\n",
       " ('no', 'on'),\n",
       " ('spat', 'taps'),\n",
       " ('eros', 'sore'),\n",
       " ('girt', 'trig'),\n",
       " ('snit', 'tins'),\n",
       " ('snips', 'spins'),\n",
       " ('dial', 'laid'),\n",
       " ('new', 'wen'),\n",
       " ('ban', 'nab'),\n",
       " ('hem', 'meh'),\n",
       " ('it', 'ti'),\n",
       " ('ages', 'sega'),\n",
       " ('gums', 'smug'),\n",
       " ('eris', 'sire'),\n",
       " ('pit', 'tip'),\n",
       " ('dim', 'mid'),\n",
       " ('os', 'so'),\n",
       " ('lever', 'revel'),\n",
       " ('keels', 'sleek'),\n",
       " ('es', 'se'),\n",
       " ('pees', 'seep'),\n",
       " ('nuts', 'stun'),\n",
       " ('deep', 'peed'),\n",
       " ('draw', 'ward'),\n",
       " ('cram', 'marc'),\n",
       " ('dray', 'yard'),\n",
       " ('avon', 'nova'),\n",
       " ('debut', 'tubed'),\n",
       " ('am', 'ma'),\n",
       " ('pas', 'sap'),\n",
       " ('naps', 'span'),\n",
       " ('pus', 'sup'),\n",
       " ('pots', 'stop'),\n",
       " ('elam', 'male'),\n",
       " ('dine', 'enid'),\n",
       " ('kramer', 'remark'),\n",
       " ('andes', 'sedna'),\n",
       " ('mit', 'tim'),\n",
       " ('hoop', 'pooh'),\n",
       " ('drawer', 'reward'),\n",
       " ('anon', 'nona'),\n",
       " ('devil', 'lived'),\n",
       " ('sway', 'yaws'),\n",
       " ('mar', 'ram'),\n",
       " ('dew', 'wed'),\n",
       " ('tort', 'trot'),\n",
       " ('mat', 'tam'),\n",
       " ('decal', 'laced'),\n",
       " ('dual', 'laud'),\n",
       " ('aral', 'lara'),\n",
       " ('gulp', 'plug'),\n",
       " ('keel', 'leek'),\n",
       " ('dis', 'sid'),\n",
       " ('agar', 'raga'),\n",
       " ('miles', 'selim'),\n",
       " ('ah', 'ha'),\n",
       " ('enif', 'fine'),\n",
       " ('ailed', 'delia'),\n",
       " ('aim', 'mia'),\n",
       " ('kay', 'yak'),\n",
       " ('pets', 'step'),\n",
       " ('lop', 'pol'),\n",
       " ('gnus', 'sung'),\n",
       " ('nor', 'ron'),\n",
       " ('lien', 'neil'),\n",
       " ('raps', 'spar'),\n",
       " ('way', 'yaw'),\n",
       " ('pols', 'slop'),\n",
       " ('cod', 'doc'),\n",
       " ('silos', 'solis'),\n",
       " ('regor', 'roger'),\n",
       " ('raw', 'war'),\n",
       " ('oder', 'redo'),\n",
       " ('denier', 'reined'),\n",
       " ('ajar', 'raja'),\n",
       " ('edit', 'tide'),\n",
       " ('straw', 'warts'),\n",
       " ('eon', 'noe'),\n",
       " ('got', 'tog'),\n",
       " ('eel', 'lee'),\n",
       " ('meet', 'teem'),\n",
       " ('ali', 'ila'),\n",
       " ('net', 'ten'),\n",
       " ('per', 'rep'),\n",
       " ('eton', 'note'),\n",
       " ('paws', 'swap'),\n",
       " ('pals', 'slap'),\n",
       " ('snoops', 'spoons'),\n",
       " ('desserts', 'stressed'),\n",
       " ('evian', 'naive'),\n",
       " ('dos', 'sod'),\n",
       " ('ares', 'sera'),\n",
       " ('notes', 'seton'),\n",
       " ('dot', 'tod'),\n",
       " ('mir', 'rim'),\n",
       " ('pools', 'sloop'),\n",
       " ('pay', 'yap'),\n",
       " ('deliver', 'reviled'),\n",
       " ('emil', 'lime'),\n",
       " ('liar', 'rail'),\n",
       " ('pot', 'top'),\n",
       " ('buts', 'stub'),\n",
       " ('den', 'ned'),\n",
       " ('is', 'si'),\n",
       " ('bog', 'gob'),\n",
       " ('las', 'sal'),\n",
       " ('bin', 'nib'),\n",
       " ('bur', 'rub'),\n",
       " ('smart', 'trams'),\n",
       " ('nips', 'spin'),\n",
       " ('door', 'rood'),\n",
       " ('leon', 'noel'),\n",
       " ('nap', 'pan'),\n",
       " ('eviler', 'relive'),\n",
       " ('remit', 'timer'),\n",
       " ('gnat', 'tang'),\n",
       " ('deeps', 'speed'),\n",
       " ('bp', 'pb'),\n",
       " ('brag', 'garb'),\n",
       " ('rats', 'star'),\n",
       " ('pu', 'up'),\n",
       " ('al', 'la'),\n",
       " ('mu', 'um'),\n",
       " ('loots', 'stool'),\n",
       " ('avid', 'diva'),\n",
       " ('oat', 'tao'),\n",
       " ('abut', 'tuba'),\n",
       " ('pans', 'snap'),\n",
       " ('are', 'era'),\n",
       " ('redraw', 'warder'),\n",
       " ('sports', 'strops'),\n",
       " ('don', 'nod'),\n",
       " ('flow', 'wolf'),\n",
       " ('ergo', 'ogre'),\n",
       " ('lin', 'nil'),\n",
       " ('deer', 'reed'),\n",
       " ('asset', 'tessa'),\n",
       " ('flog', 'golf'),\n",
       " ('bun', 'nub'),\n",
       " ('nip', 'pin'),\n",
       " ('baas', 'saab'),\n",
       " ('map', 'pam'),\n",
       " ('not', 'ton'),\n",
       " ('able', 'elba'),\n",
       " ('mils', 'slim'),\n",
       " ('gem', 'meg'),\n",
       " ('gal', 'lag'),\n",
       " ('man', 'nam'),\n",
       " ('lap', 'pal'),\n",
       " ('saw', 'was'),\n",
       " ('nut', 'tun'),\n",
       " ('par', 'rap'),\n",
       " ('rat', 'tar'),\n",
       " ('emos', 'some'),\n",
       " ('sloops', 'spools'),\n",
       " ('delbert', 'trebled'),\n",
       " ('bud', 'dub'),\n",
       " ('maws', 'swam'),\n",
       " ('sleets', 'steels'),\n",
       " ('dog', 'god'),\n",
       " ('dam', 'mad'),\n",
       " ('evan', 'nave'),\n",
       " ('moor', 'room'),\n",
       " ('parts', 'strap'),\n",
       " ('rot', 'tor'),\n",
       " ('burg', 'grub'),\n",
       " ('lager', 'regal'),\n",
       " ('cork', 'kroc'),\n",
       " ('bat', 'tab'),\n",
       " ('looter', 'retool'),\n",
       " ('dennis', 'sinned'),\n",
       " ('maps', 'spam'),\n",
       " ('doom', 'mood'),\n",
       " ('bus', 'sub'),\n",
       " ('bard', 'drab'),\n",
       " ('eire', 'erie'),\n",
       " ('di', 'id'),\n",
       " ('nit', 'tin'),\n",
       " ('spot', 'tops'),\n",
       " ('gel', 'leg'),\n",
       " ('annam', 'manna'),\n",
       " ('draws', 'sward'),\n",
       " ('avis', 'siva'),\n",
       " ('stew', 'wets'),\n",
       " ('bed', 'deb'),\n",
       " ('pis', 'sip'),\n",
       " ('buns', 'snub'),\n",
       " ('in', 'ni'),\n",
       " ('loops', 'spool'),\n",
       " ('ho', 'oh'),\n",
       " ('elbert', 'treble'),\n",
       " ('diaper', 'repaid'),\n",
       " ('loot', 'tool'),\n",
       " ('camus', 'sumac'),\n",
       " ('aver', 'reva'),\n",
       " ('fer', 'ref'),\n",
       " ('damon', 'nomad'),\n",
       " ('eh', 'he'),\n",
       " ('snot', 'tons'),\n",
       " ('bag', 'gab'),\n",
       " ('ante', 'etna'),\n",
       " ('ear', 'rae'),\n",
       " ('peels', 'sleep'),\n",
       " ('emir', 'rime'),\n",
       " ('saps', 'spas'),\n",
       " ('suez', 'zeus'),\n",
       " ('errol', 'lorre'),\n",
       " ('sprat', 'tarps'),\n",
       " ('leper', 'repel'),\n",
       " ('guns', 'snug'),\n",
       " ('spit', 'tips')]"
      ]
     },
     "execution_count": 25,
     "metadata": {},
     "output_type": "execute_result"
    }
   ],
   "source": [
    "# Solution\n",
    "\n",
    "res = []\n",
    "for word in word_list:\n",
    "    # rev = ''.join(reversed(word))\n",
    "    rev = word[::-1]\n",
    "    if rev in word_list and rev > word:\n",
    "        res.append((word, rev))\n",
    "\n",
    "res"
   ]
  },
  {
   "cell_type": "markdown",
   "metadata": {},
   "source": [
    "BONUS QUESTION JUST FOR FUN: What is the longest reverse pair in this word list?"
   ]
  },
  {
   "cell_type": "code",
   "execution_count": 26,
   "metadata": {},
   "outputs": [
    {
     "data": {
      "text/plain": [
       "('desserts', 'stressed')"
      ]
     },
     "execution_count": 26,
     "metadata": {},
     "output_type": "execute_result"
    }
   ],
   "source": [
    "# Solution\n",
    "\n",
    "max(res, key=lambda x: len(x[0]))"
   ]
  },
  {
   "cell_type": "code",
   "execution_count": null,
   "metadata": {},
   "outputs": [],
   "source": []
  }
 ],
 "metadata": {
  "kernelspec": {
   "display_name": "Python 3",
   "language": "python",
   "name": "python3"
  },
  "language_info": {
   "codemirror_mode": {
    "name": "ipython",
    "version": 3
   },
   "file_extension": ".py",
   "mimetype": "text/x-python",
   "name": "python",
   "nbconvert_exporter": "python",
   "pygments_lexer": "ipython3",
   "version": "3.9.4"
  }
 },
 "nbformat": 4,
 "nbformat_minor": 1
}
