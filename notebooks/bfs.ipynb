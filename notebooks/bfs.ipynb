{
 "cells": [
  {
   "cell_type": "markdown",
   "metadata": {},
   "source": [
    "# Breadth First Search"
   ]
  },
  {
   "cell_type": "markdown",
   "metadata": {},
   "source": [
    "*Data Structures and Information Retrieval in Python*\n",
    "\n",
    "Copyright 2021 Allen Downey\n",
    "\n",
    "License: [Creative Commons Attribution-NonCommercial-ShareAlike 4.0 International](https://creativecommons.org/licenses/by-nc-sa/4.0/)"
   ]
  },
  {
   "cell_type": "markdown",
   "metadata": {},
   "source": [
    "## Barabasi-Albert graphs\n",
    "\n",
    "Each new node is connected to 5 previous ones, so the total number of edges is $5n$."
   ]
  },
  {
   "cell_type": "code",
   "execution_count": 24,
   "metadata": {},
   "outputs": [],
   "source": [
    "import networkx as nx\n",
    "\n",
    "ba = nx.barabasi_albert_graph(100, 5)"
   ]
  },
  {
   "cell_type": "code",
   "execution_count": 23,
   "metadata": {},
   "outputs": [
    {
     "data": {
      "text/plain": [
       "NodeView((0, 1, 2, 3, 4, 5, 6, 7, 8, 9, 10, 11, 12, 13, 14, 15, 16, 17, 18, 19, 20, 21, 22, 23, 24, 25, 26, 27, 28, 29, 30, 31, 32, 33, 34, 35, 36, 37, 38, 39, 40, 41, 42, 43, 44, 45, 46, 47, 48, 49, 50, 51, 52, 53, 54, 55, 56, 57, 58, 59, 60, 61, 62, 63, 64, 65, 66, 67, 68, 69, 70, 71, 72, 73, 74, 75, 76, 77, 78, 79, 80, 81, 82, 83, 84, 85, 86, 87, 88, 89, 90, 91, 92, 93, 94, 95, 96, 97, 98, 99))"
      ]
     },
     "execution_count": 23,
     "metadata": {},
     "output_type": "execute_result"
    }
   ],
   "source": [
    "ba.nodes()"
   ]
  },
  {
   "cell_type": "markdown",
   "metadata": {},
   "source": [
    "Here's the implementation of BFS in NetworkX.\n",
    "\n",
    "[Source code for bfs_edges](https://networkx.org/documentation/stable/_modules/networkx/algorithms/traversal/breadth_first_search.html#bfs_edges)\n",
    "\n"
   ]
  },
  {
   "cell_type": "code",
   "execution_count": 30,
   "metadata": {},
   "outputs": [
    {
     "data": {
      "text/plain": [
       "100"
      ]
     },
     "execution_count": 30,
     "metadata": {},
     "output_type": "execute_result"
    }
   ],
   "source": [
    "nodes = set()\n",
    "for edge in nx.bfs_edges(ba, 0):\n",
    "    nodes.update(edge)\n",
    "    \n",
    "len(nodes)"
   ]
  },
  {
   "cell_type": "markdown",
   "metadata": {},
   "source": [
    "And here's the version in [Think Complexity](https://greenteapress.com/complexity2/html/thinkcomplexity2004.html#sec31)"
   ]
  },
  {
   "cell_type": "code",
   "execution_count": 41,
   "metadata": {},
   "outputs": [],
   "source": [
    "from collections import deque\n",
    "\n",
    "def reachable_nodes_bfs(G, start):\n",
    "    seen = set()\n",
    "    queue = deque([start])\n",
    "    while queue:\n",
    "        node = queue.popleft()\n",
    "        if node not in seen:\n",
    "            seen.add(node)\n",
    "            queue.extend(G.neighbors(node))\n",
    "    return seen"
   ]
  },
  {
   "cell_type": "code",
   "execution_count": 56,
   "metadata": {},
   "outputs": [
    {
     "data": {
      "text/plain": [
       "100"
      ]
     },
     "execution_count": 56,
     "metadata": {},
     "output_type": "execute_result"
    }
   ],
   "source": [
    "nodes = reachable_nodes_bfs(ba, 0)\n",
    "len(nodes)"
   ]
  },
  {
   "cell_type": "markdown",
   "metadata": {},
   "source": [
    "We can confirm that it runs in time proportional to $n$."
   ]
  },
  {
   "cell_type": "code",
   "execution_count": 57,
   "metadata": {},
   "outputs": [
    {
     "name": "stdout",
     "output_type": "stream",
     "text": [
      "1024 0.03999999999999915\n",
      "2048 0.129999999999999\n",
      "4096 0.5\n",
      "8192 2.190000000000005\n"
     ]
    },
    {
     "data": {
      "image/png": "[encoded data removed]",
      "text/plain": [
       "<Figure size 432x288 with 1 Axes>"
      ]
     },
     "metadata": {
      "needs_background": "light"
     },
     "output_type": "display_data"
    }
   ],
   "source": [
    "from order import run_timing_test, plot_timing_test\n",
    "\n",
    "def test_bfs_ba_graph(n):\n",
    "    ba = nx.barabasi_albert_graph(n, 5)\n",
    "    nodes = reachable_nodes_bfs(ba, 0)\n",
    "\n",
    "ns, ts = run_timing_test(test_bfs_ba_graph)\n",
    "plot_timing_test(ns, ts, exp=2)"
   ]
  },
  {
   "cell_type": "markdown",
   "metadata": {},
   "source": [
    "In an Erdos Renyi graph, each possible edge has the same probability of existing, so the total number of edges is proportional to $n^2$.\n",
    "\n",
    "The time is takes to create the graph is proportional to $n^2$, but in a good implementation, it depends on the number of edges that actually exist, rather than enumerating all possible edges.\n",
    "\n",
    "[fast_pnp_random_graph](https://networkx.org/documentation/stable/reference/generated/networkx.generators.random_graphs.fast_gnp_random_graph.html)\n",
    "\n",
    "[Efficient generation of large random networks](http://vlado.fmf.uni-lj.si/pub/networks/doc/ms/rndgen.pdf)"
   ]
  },
  {
   "cell_type": "code",
   "execution_count": 58,
   "metadata": {},
   "outputs": [
    {
     "name": "stdout",
     "output_type": "stream",
     "text": [
      "1024 0.07000000000000028\n",
      "2048 0.26000000000000156\n",
      "4096 1.0999999999999979\n"
     ]
    },
    {
     "data": {
      "image/png": "[encoded data removed]",
      "text/plain": [
       "<Figure size 432x288 with 1 Axes>"
      ]
     },
     "metadata": {
      "needs_background": "light"
     },
     "output_type": "display_data"
    }
   ],
   "source": [
    "def test_fast_gnp_random_graph(n):\n",
    "    ba = nx.fast_gnp_random_graph(n, p=0.1)\n",
    "\n",
    "ns, ts = run_timing_test(test_fast_gnp_random_graph)\n",
    "plot_timing_test(ns, ts, exp=2)"
   ]
  },
  {
   "cell_type": "markdown",
   "metadata": {},
   "source": [
    "With a graph like this, we expect BFS to be proportional to $n^2$.\n",
    "But it's not easy to confirm with the timing tools we're using."
   ]
  },
  {
   "cell_type": "code",
   "execution_count": 59,
   "metadata": {},
   "outputs": [
    {
     "name": "stdout",
     "output_type": "stream",
     "text": [
      "1024 0.46000000000000085\n",
      "2048 3.8800000000000026\n"
     ]
    },
    {
     "data": {
      "image/png": "[encoded data removed]",
      "text/plain": [
       "<Figure size 432x288 with 1 Axes>"
      ]
     },
     "metadata": {
      "needs_background": "light"
     },
     "output_type": "display_data"
    }
   ],
   "source": [
    "def test_bfs_gnp_graph(n):\n",
    "    ba = nx.fast_gnp_random_graph(n, p=0.1)\n",
    "    nodes = reachable_nodes_bfs(ba, 0)\n",
    "\n",
    "ns2, ts2 = run_timing_test(test_bfs_gnp_graph)\n",
    "plot_timing_test(ns, ts, exp=2)"
   ]
  },
  {
   "cell_type": "code",
   "execution_count": null,
   "metadata": {},
   "outputs": [],
   "source": []
  },
  {
   "cell_type": "markdown",
   "metadata": {},
   "source": [
    "If you do a search for \"python breadth first search\", a large majority of the implementations you find contain at least one performance error, so their asymptotic time requirement is not $O(n+m)$.\n",
    "\n",
    "For each of the implementations below, see if you can spot the performance error (if any).\n",
    "\n",
    "[Source](https://eddmann.com/posts/depth-first-search-and-breadth-first-search-in-python)"
   ]
  },
  {
   "cell_type": "code",
   "execution_count": null,
   "metadata": {},
   "outputs": [],
   "source": [
    "def bfs(graph, start):\n",
    "    visited, queue = set(), [start]\n",
    "\n",
    "    while queue:\n",
    "        vertex = queue.pop(0)\n",
    "\n",
    "        if vertex not in visited:\n",
    "            visited.add(vertex)\n",
    "            queue.extend(graph[vertex] - visited)\n",
    "\n",
    "    return visited"
   ]
  },
  {
   "cell_type": "markdown",
   "metadata": {},
   "source": [
    "[Source](https://jeremykun.com/2013/01/22/depth-and-breadth-first-search/)"
   ]
  },
  {
   "cell_type": "code",
   "execution_count": null,
   "metadata": {},
   "outputs": [],
   "source": [
    "from collections import deque\n",
    " \n",
    "def breadthFirst(startingNode, soughtValue):\n",
    "    visitedNodes = set()\n",
    "    queue = deque([startingNode])\n",
    "\n",
    "    while len(queue) > 0:\n",
    "        node = queue.pop()\n",
    "        if node in visitedNodes:\n",
    "            continue\n",
    "\n",
    "        visitedNodes.add(node)\n",
    "        if node.value == soughtValue:\n",
    "            return True\n",
    "\n",
    "        for n in node.adjacentNodes:\n",
    "            if n not in visitedNodes:\n",
    "                queue.appendleft(n)\n",
    "                \n",
    "    return False"
   ]
  },
  {
   "cell_type": "markdown",
   "metadata": {},
   "source": [
    "[Source](https://pythoninwonderland.wordpress.com/2017/03/18/how-to-implement-breadth-first-search-in-python/)"
   ]
  },
  {
   "cell_type": "code",
   "execution_count": null,
   "metadata": {},
   "outputs": [],
   "source": [
    "def bfs_connected_component(graph, start):\n",
    "\n",
    "    # keep track of all visited nodes\n",
    "    explored = []\n",
    "\n",
    "    # keep track of nodes to be checked\n",
    "    queue = [start]\n",
    "\n",
    " \n",
    "\n",
    "    # keep looping until there are nodes still to be checked\n",
    "    while queue:\n",
    "\n",
    "        # pop shallowest node (first node) from queue\n",
    "        node = queue.pop(0)\n",
    "\n",
    "        if node not in explored:\n",
    "\n",
    "            # add node to list of checked nodes\n",
    "            explored.append(node)\n",
    "            neighbours = graph[node]\n",
    "\n",
    "            # add neighbours of node to queue\n",
    "            for neighbour in neighbours:\n",
    "                queue.append(neighbour)\n",
    "\n",
    "    return explored"
   ]
  },
  {
   "cell_type": "markdown",
   "metadata": {},
   "source": [
    "[Source](https://codereview.stackexchange.com/questions/135156/bfs-implementation-in-python-3)"
   ]
  },
  {
   "cell_type": "code",
   "execution_count": null,
   "metadata": {},
   "outputs": [],
   "source": [
    "def bfs(graph, root):\n",
    "\n",
    "    visited, queue = [], [root]\n",
    "\n",
    "    while queue:\n",
    "        vertex = queue.pop(0)\n",
    "\n",
    "        for w in graph[vertex]:\n",
    "            if w not in visited:\n",
    "                visited.append(w)\n",
    "                queue.append(w)"
   ]
  },
  {
   "cell_type": "markdown",
   "metadata": {},
   "source": [
    "[Source](https://www.geeksforgeeks.org/breadth-first-search-or-bfs-for-a-graph/)"
   ]
  },
  {
   "cell_type": "code",
   "execution_count": null,
   "metadata": {},
   "outputs": [],
   "source": [
    "def BFS(self, s):\n",
    "        # Mark all the vertices as not visited\n",
    "        visited = [False]*(len(self.graph))\n",
    "\n",
    "        # Create a queue for BFS\n",
    "        queue = []\n",
    "\n",
    "        # Mark the source node as visited and enqueue it\n",
    "        queue.append(s)\n",
    "        visited[s] = True\n",
    "\n",
    "        while queue:\n",
    "            # Dequeue a vertex from queue and print it\n",
    "            s = queue.pop(0)\n",
    "            print s,\n",
    "\n",
    "            # Get all adjacent vertices of the dequeued\n",
    "            # vertex s. If a adjacent has not been visited,\n",
    "            # then mark it visited and enqueue it\n",
    "\n",
    "            for i in self.graph[s]:\n",
    "                if visited[i] == False:\n",
    "                    queue.append(i)\n",
    "                    visited[i] = True"
   ]
  },
  {
   "cell_type": "markdown",
   "metadata": {},
   "source": [
    "[Source](http://interactivepython.org/runestone/static/pythonds/Graphs/ImplementingBreadthFirstSearch.html)"
   ]
  },
  {
   "cell_type": "code",
   "execution_count": 2,
   "metadata": {},
   "outputs": [],
   "source": [
    "# from pythonds.graphs import Graph, Vertex\n",
    "# from pythonds.basic import Queue\n",
    "\n",
    "def bfs(g,start):\n",
    "    start.setDistance(0)\n",
    "    start.setPred(None)\n",
    "    vertQueue = Queue()\n",
    "    vertQueue.enqueue(start)\n",
    "\n",
    "    while (vertQueue.size() > 0):\n",
    "        currentVert = vertQueue.dequeue()\n",
    "\n",
    "        for nbr in currentVert.getConnections():\n",
    "\n",
    "            if (nbr.getColor() == 'white'):\n",
    "                nbr.setColor('gray')\n",
    "                nbr.setDistance(currentVert.getDistance() + 1)\n",
    "                nbr.setPred(currentVert)\n",
    "                vertQueue.enqueue(nbr)\n",
    "\n",
    "        currentVert.setColor('black')"
   ]
  },
  {
   "cell_type": "markdown",
   "metadata": {},
   "source": [
    "[Source](https://code.activestate.com/recipes/576675-bfs-breadth-first-search-graph-traversal/)"
   ]
  },
  {
   "cell_type": "code",
   "execution_count": 5,
   "metadata": {},
   "outputs": [],
   "source": [
    "# a sample graph\n",
    "graph = {'A': ['B', 'C','E'],\n",
    "             'B': ['A','C', 'D'],\n",
    "             'C': ['D'],\n",
    "             'D': ['C'],\n",
    "             'E': ['F','D'],\n",
    "             'F': ['C']}"
   ]
  },
  {
   "cell_type": "code",
   "execution_count": 7,
   "metadata": {},
   "outputs": [],
   "source": [
    "class MyQUEUE: # just an implementation of a queue\n",
    "\n",
    "    def __init__(self):\n",
    "        self.holder = []\n",
    "        \n",
    "    def enqueue(self,val):\n",
    "        self.holder.append(val)\n",
    "        \n",
    "    def dequeue(self):\n",
    "        val = None\n",
    "        try:\n",
    "            val = self.holder[0]\n",
    "            if len(self.holder) == 1:\n",
    "                self.holder = []\n",
    "            else:\n",
    "                self.holder = self.holder[1:]    \n",
    "        except:\n",
    "            pass\n",
    "            \n",
    "        return val    \n",
    "        \n",
    "    def IsEmpty(self):\n",
    "        result = False\n",
    "        if len(self.holder) == 0:\n",
    "            result = True\n",
    "        return result"
   ]
  },
  {
   "cell_type": "code",
   "execution_count": 8,
   "metadata": {},
   "outputs": [],
   "source": [
    "path_queue = MyQUEUE() # now we make a queue"
   ]
  },
  {
   "cell_type": "code",
   "execution_count": 10,
   "metadata": {},
   "outputs": [],
   "source": [
    "def BFS(graph,start,end,q):\n",
    "\n",
    "    temp_path = [start]\n",
    "\n",
    "    q.enqueue(temp_path)\n",
    "\n",
    "    while q.IsEmpty() == False:\n",
    "        tmp_path = q.dequeue()\n",
    "        last_node = tmp_path[len(tmp_path)-1]\n",
    "        print(tmp_path)\n",
    "        if last_node == end:\n",
    "            print(\"VALID_PATH : \",tmp_path)\n",
    "        for link_node in graph[last_node]:\n",
    "            if link_node not in tmp_path:\n",
    "                new_path = []\n",
    "                new_path = tmp_path + [link_node]\n",
    "                q.enqueue(new_path)"
   ]
  },
  {
   "cell_type": "code",
   "execution_count": 11,
   "metadata": {},
   "outputs": [
    {
     "name": "stdout",
     "output_type": "stream",
     "text": [
      "['A']\n",
      "['A', 'B']\n",
      "['A', 'C']\n",
      "['A', 'E']\n",
      "['A', 'B', 'C']\n",
      "['A', 'B', 'D']\n",
      "VALID_PATH :  ['A', 'B', 'D']\n",
      "['A', 'C', 'D']\n",
      "VALID_PATH :  ['A', 'C', 'D']\n",
      "['A', 'E', 'F']\n",
      "['A', 'E', 'D']\n",
      "VALID_PATH :  ['A', 'E', 'D']\n",
      "['A', 'B', 'C', 'D']\n",
      "VALID_PATH :  ['A', 'B', 'C', 'D']\n",
      "['A', 'B', 'D', 'C']\n",
      "['A', 'E', 'F', 'C']\n",
      "['A', 'E', 'D', 'C']\n",
      "['A', 'E', 'F', 'C', 'D']\n",
      "VALID_PATH :  ['A', 'E', 'F', 'C', 'D']\n"
     ]
    }
   ],
   "source": [
    "BFS(graph,\"A\",\"D\",path_queue)"
   ]
  },
  {
   "cell_type": "markdown",
   "metadata": {},
   "source": [
    "[Source](https://favtutor.com/blogs/breadth-first-search-python)"
   ]
  },
  {
   "cell_type": "code",
   "execution_count": 13,
   "metadata": {},
   "outputs": [
    {
     "name": "stdout",
     "output_type": "stream",
     "text": [
      "Following is the Breadth-First Search\n",
      "5 3 7 2 4 8 "
     ]
    }
   ],
   "source": [
    "graph = {\n",
    "  '5' : ['3','7'],\n",
    "  '3' : ['2', '4'],\n",
    "  '7' : ['8'],\n",
    "  '2' : [],\n",
    "  '4' : ['8'],\n",
    "  '8' : []\n",
    "}\n",
    "\n",
    "visited = [] # List for visited nodes.\n",
    "queue = []     #Initialize a queue\n",
    "\n",
    "def bfs(visited, graph, node): #function for BFS\n",
    "    visited.append(node)\n",
    "    queue.append(node)\n",
    "\n",
    "    while queue:          # Creating loop to visit each node\n",
    "        m = queue.pop(0) \n",
    "        print (m, end = \" \") \n",
    "\n",
    "        for neighbour in graph[m]:\n",
    "            if neighbour not in visited:\n",
    "                visited.append(neighbour)\n",
    "                queue.append(neighbour)\n",
    "\n",
    "# Driver Code\n",
    "print(\"Following is the Breadth-First Search\")\n",
    "bfs(visited, graph, '5')    # function calling"
   ]
  },
  {
   "cell_type": "markdown",
   "metadata": {},
   "source": [
    "[Source](https://www.codespeedy.com/breadth-first-search-algorithm-in-python/)"
   ]
  },
  {
   "cell_type": "code",
   "execution_count": 14,
   "metadata": {},
   "outputs": [
    {
     "name": "stdout",
     "output_type": "stream",
     "text": [
      "['A', 'B', 'C', 'E', 'D', 'F', 'G']\n"
     ]
    }
   ],
   "source": [
    "graph = {'A': ['B', 'C', 'E'],\n",
    "         'B': ['A','D', 'E'],\n",
    "         'C': ['A', 'F', 'G'],\n",
    "         'D': ['B'],\n",
    "         'E': ['A', 'B','D'],\n",
    "         'F': ['C'],\n",
    "         'G': ['C']}\n",
    "         \n",
    "         \n",
    "def bfs(graph, initial):\n",
    "    \n",
    "    visited = []\n",
    "    \n",
    "    queue = [initial]\n",
    " \n",
    "\n",
    "    while queue:\n",
    "        \n",
    "        node = queue.pop(0)\n",
    "        if node not in visited:\n",
    "            \n",
    "            visited.append(node)\n",
    "            neighbours = graph[node]\n",
    " \n",
    "            \n",
    "            for neighbour in neighbours:\n",
    "                queue.append(neighbour)\n",
    "    return visited\n",
    " \n",
    "print(bfs(graph,'A'))"
   ]
  },
  {
   "cell_type": "markdown",
   "metadata": {},
   "source": [
    "[Source](https://riptutorial.com/python/example/20482/breadth-first-search)"
   ]
  },
  {
   "cell_type": "code",
   "execution_count": 16,
   "metadata": {},
   "outputs": [],
   "source": [
    "from collections import deque\n",
    "\n",
    "def bfs(graph, root):\n",
    "    distances = {}\n",
    "    distances[root] = 0\n",
    "    q = deque([root])\n",
    "    while q:\n",
    "        # The oldest seen (but not yet visited) node will be the left most one.\n",
    "        current = q.popleft()\n",
    "        for neighbor in graph[current]:\n",
    "            if neighbor not in distances:\n",
    "                distances[neighbor] = distances[current] + 1\n",
    "                # When we see a new node, we add it to the right side of the queue.\n",
    "                q.append(neighbor)\n",
    "    return distances"
   ]
  },
  {
   "cell_type": "code",
   "execution_count": 17,
   "metadata": {},
   "outputs": [],
   "source": [
    "graph = {1:[2,3], 2:[4], 3:[4,5], 4:[3,5], 5:[]}"
   ]
  },
  {
   "cell_type": "code",
   "execution_count": 18,
   "metadata": {},
   "outputs": [
    {
     "data": {
      "text/plain": [
       "{1: 0, 2: 1, 3: 1, 4: 2, 5: 2}"
      ]
     },
     "execution_count": 18,
     "metadata": {},
     "output_type": "execute_result"
    }
   ],
   "source": [
    "bfs(graph, 1)"
   ]
  },
  {
   "cell_type": "markdown",
   "metadata": {},
   "source": [
    "[Source](https://csanim.com/tutorials/breadth-first-search-python-visualization-and-code)"
   ]
  },
  {
   "cell_type": "code",
   "execution_count": null,
   "metadata": {},
   "outputs": [],
   "source": [
    "def bfs(root: Node):\n",
    "\n",
    "    if root is None:\n",
    "        return\n",
    "\n",
    "    queue = [root]\n",
    "\n",
    "    while len(queue) > 0:\n",
    "        cur_node = queue.pop(0)\n",
    "\n",
    "        if cur_node.left is not None:\n",
    "            queue.append(cur_node.left)\n",
    "\n",
    "        if cur_node.right is not None:\n",
    "            queue.append(cur_node.right)"
   ]
  },
  {
   "cell_type": "markdown",
   "metadata": {},
   "source": [
    "[Source](https://edhenry.github.io/2017/01/06/Breadth-First-Search/)"
   ]
  },
  {
   "cell_type": "code",
   "execution_count": null,
   "metadata": {},
   "outputs": [],
   "source": [
    "from collections import deque\n",
    "\n",
    "def breadth_first_search(starting_node, goal_node):\n",
    "    visited_nodes = set()\n",
    "    queue = deque([starting_node])\n",
    "    \n",
    "    while len(queue) > 0:\n",
    "        node = queue.pop()\n",
    "        if node in visited_nodes:\n",
    "            continue\n",
    "        \n",
    "        visited_nodes.add(node)\n",
    "        if node.get_id == goal_node.get_id:\n",
    "            return True\n",
    "        \n",
    "        for n in node.connected_to:\n",
    "            if n not in visited_nodes:\n",
    "                queue.appendleft(n)\n",
    "    return False     "
   ]
  },
  {
   "cell_type": "markdown",
   "metadata": {},
   "source": [
    "[Source](https://medium.com/nothingaholic/depth-first-search-vs-breadth-first-search-in-python-81521caa8f44)"
   ]
  },
  {
   "cell_type": "code",
   "execution_count": null,
   "metadata": {},
   "outputs": [],
   "source": [
    "visited = [] # List to keep track of visited nodes.\n",
    "# queue is a list that is used to keep track of nodes currently in the queue.\n",
    "queue = []     #Initialize a queue\n",
    "\n",
    "'''bfs follows the algorithm:\n",
    "1. It checks and appends the starting node to the visited list and the queue.\n",
    "2. Then, while the queue contains elements, \n",
    "it keeps taking out nodes from the queue, \n",
    "appends the neighbors of that node to the queue if they are unvisited, \n",
    "and marks them as visited.\n",
    "3. This continues until the queue is empty.'''\n",
    "\n",
    "def bfs(visited, graph, node):\n",
    "    visited.append(node)\n",
    "    queue.append(node)\n",
    "    \n",
    "    while queue:\n",
    "        s = queue.pop(0) \n",
    "        print (s, end = \" \") \n",
    "        \n",
    "        for neighbor in graph[s]:\n",
    "            if neighbor not in visited:\n",
    "                visited.append(neighbor)\n",
    "                queue.append(neighbor)"
   ]
  },
  {
   "cell_type": "markdown",
   "metadata": {},
   "source": [
    "[Source](https://www.educative.io/edpresso/how-to-implement-a-breadth-first-search-in-python)"
   ]
  },
  {
   "cell_type": "code",
   "execution_count": 19,
   "metadata": {},
   "outputs": [
    {
     "name": "stdout",
     "output_type": "stream",
     "text": [
      "A B C D E F "
     ]
    }
   ],
   "source": [
    "graph = {\n",
    "  'A' : ['B','C'],\n",
    "  'B' : ['D', 'E'],\n",
    "  'C' : ['F'],\n",
    "  'D' : [],\n",
    "  'E' : ['F'],\n",
    "  'F' : []\n",
    "}\n",
    "\n",
    "visited = [] # List to keep track of visited nodes.\n",
    "queue = []     #Initialize a queue\n",
    "\n",
    "def bfs(visited, graph, node):\n",
    "    visited.append(node)\n",
    "    queue.append(node)\n",
    "\n",
    "    while queue:\n",
    "        s = queue.pop(0) \n",
    "        print (s, end = \" \") \n",
    "\n",
    "        for neighbour in graph[s]:\n",
    "            if neighbour not in visited:\n",
    "                visited.append(neighbour)\n",
    "                queue.append(neighbour)\n",
    "\n",
    "# Driver Code\n",
    "bfs(visited, graph, 'A')"
   ]
  },
  {
   "cell_type": "markdown",
   "metadata": {},
   "source": [
    "[Source](https://www.programiz.com/dsa/graph-bfs)"
   ]
  },
  {
   "cell_type": "code",
   "execution_count": 20,
   "metadata": {},
   "outputs": [
    {
     "name": "stdout",
     "output_type": "stream",
     "text": [
      "Following is Breadth First Traversal: \n",
      "0 1 2 3 "
     ]
    }
   ],
   "source": [
    "# BFS algorithm in Python\n",
    "\n",
    "\n",
    "import collections\n",
    "\n",
    "# BFS algorithm\n",
    "def bfs(graph, root):\n",
    "\n",
    "    visited, queue = set(), collections.deque([root])\n",
    "    visited.add(root)\n",
    "\n",
    "    while queue:\n",
    "\n",
    "        # Dequeue a vertex from queue\n",
    "        vertex = queue.popleft()\n",
    "        print(str(vertex) + \" \", end=\"\")\n",
    "\n",
    "        # If not visited, mark it as visited, and\n",
    "        # enqueue it\n",
    "        for neighbour in graph[vertex]:\n",
    "            if neighbour not in visited:\n",
    "                visited.add(neighbour)\n",
    "                queue.append(neighbour)\n",
    "\n",
    "\n",
    "if __name__ == '__main__':\n",
    "    graph = {0: [1, 2], 1: [2], 2: [3], 3: [1, 2]}\n",
    "    print(\"Following is Breadth First Traversal: \")\n",
    "    bfs(graph, 0)\n"
   ]
  },
  {
   "cell_type": "code",
   "execution_count": null,
   "metadata": {},
   "outputs": [],
   "source": []
  }
 ],
 "metadata": {
  "anaconda-cloud": {},
  "kernelspec": {
   "display_name": "Python 3",
   "language": "python",
   "name": "python3"
  },
  "language_info": {
   "codemirror_mode": {
    "name": "ipython",
    "version": 3
   },
   "file_extension": ".py",
   "mimetype": "text/x-python",
   "name": "python",
   "nbconvert_exporter": "python",
   "pygments_lexer": "ipython3",
   "version": "3.9.4"
  }
 },
 "nbformat": 4,
 "nbformat_minor": 1
}
