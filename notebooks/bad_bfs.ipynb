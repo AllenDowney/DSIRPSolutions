{
 "cells": [
  {
   "cell_type": "markdown",
   "metadata": {},
   "source": [
    "# Breadth First Search"
   ]
  },
  {
   "cell_type": "markdown",
   "metadata": {},
   "source": [
    "*Data Structures and Information Retrieval in Python*\n",
    "\n",
    "Copyright 2021 Allen Downey\n",
    "\n",
    "License: [Creative Commons Attribution-NonCommercial-ShareAlike 4.0 International](https://creativecommons.org/licenses/by-nc-sa/4.0/)"
   ]
  },
  {
   "cell_type": "markdown",
   "metadata": {},
   "source": [
    "If you do a search for \"python breadth first search\", a large majority of the implementations you find contain at least one performance error, so their asymptotic time requirement is not $O(n+m)$.\n",
    "\n",
    "For each of the implementations below, see if you can spot the performance error (if any).\n",
    "\n",
    "[Source](https://eddmann.com/posts/depth-first-search-and-breadth-first-search-in-python)"
   ]
  },
  {
   "cell_type": "code",
   "execution_count": null,
   "metadata": {},
   "outputs": [],
   "source": [
    "def bfs(graph, start):\n",
    "    visited, queue = set(), [start]\n",
    "\n",
    "    while queue:\n",
    "        vertex = queue.pop(0)\n",
    "\n",
    "        if vertex not in visited:\n",
    "            visited.add(vertex)\n",
    "            queue.extend(graph[vertex] - visited)\n",
    "\n",
    "    return visited"
   ]
  },
  {
   "cell_type": "markdown",
   "metadata": {},
   "source": [
    "[Source](https://jeremykun.com/2013/01/22/depth-and-breadth-first-search/)"
   ]
  },
  {
   "cell_type": "code",
   "execution_count": null,
   "metadata": {},
   "outputs": [],
   "source": [
    "from collections import deque\n",
    " \n",
    "def breadthFirst(startingNode, soughtValue):\n",
    "    visitedNodes = set()\n",
    "    queue = deque([startingNode])\n",
    "\n",
    "    while len(queue) > 0:\n",
    "        node = queue.pop()\n",
    "        if node in visitedNodes:\n",
    "            continue\n",
    "\n",
    "        visitedNodes.add(node)\n",
    "        if node.value == soughtValue:\n",
    "            return True\n",
    "\n",
    "        for n in node.adjacentNodes:\n",
    "            if n not in visitedNodes:\n",
    "                queue.appendleft(n)\n",
    "                \n",
    "    return False"
   ]
  },
  {
   "cell_type": "markdown",
   "metadata": {},
   "source": [
    "[Source](https://pythoninwonderland.wordpress.com/2017/03/18/how-to-implement-breadth-first-search-in-python/)"
   ]
  },
  {
   "cell_type": "code",
   "execution_count": null,
   "metadata": {},
   "outputs": [],
   "source": [
    "def bfs_connected_component(graph, start):\n",
    "\n",
    "    # keep track of all visited nodes\n",
    "    explored = []\n",
    "\n",
    "    # keep track of nodes to be checked\n",
    "    queue = [start]\n",
    "\n",
    " \n",
    "\n",
    "    # keep looping until there are nodes still to be checked\n",
    "    while queue:\n",
    "\n",
    "        # pop shallowest node (first node) from queue\n",
    "        node = queue.pop(0)\n",
    "\n",
    "        if node not in explored:\n",
    "\n",
    "            # add node to list of checked nodes\n",
    "            explored.append(node)\n",
    "            neighbours = graph[node]\n",
    "\n",
    "            # add neighbours of node to queue\n",
    "            for neighbour in neighbours:\n",
    "                queue.append(neighbour)\n",
    "\n",
    "    return explored"
   ]
  },
  {
   "cell_type": "markdown",
   "metadata": {},
   "source": [
    "[Source](https://codereview.stackexchange.com/questions/135156/bfs-implementation-in-python-3)"
   ]
  },
  {
   "cell_type": "code",
   "execution_count": null,
   "metadata": {},
   "outputs": [],
   "source": [
    "def bfs(graph, root):\n",
    "\n",
    "    visited, queue = [], [root]\n",
    "\n",
    "    while queue:\n",
    "        vertex = queue.pop(0)\n",
    "\n",
    "        for w in graph[vertex]:\n",
    "            if w not in visited:\n",
    "                visited.append(w)\n",
    "                queue.append(w)"
   ]
  },
  {
   "cell_type": "markdown",
   "metadata": {},
   "source": [
    "[Source](https://www.geeksforgeeks.org/breadth-first-search-or-bfs-for-a-graph/)"
   ]
  },
  {
   "cell_type": "code",
   "execution_count": null,
   "metadata": {},
   "outputs": [],
   "source": [
    "def BFS(self, s):\n",
    "        # Mark all the vertices as not visited\n",
    "        visited = [False]*(len(self.graph))\n",
    "\n",
    "        # Create a queue for BFS\n",
    "        queue = []\n",
    "\n",
    "        # Mark the source node as visited and enqueue it\n",
    "        queue.append(s)\n",
    "        visited[s] = True\n",
    "\n",
    "        while queue:\n",
    "            # Dequeue a vertex from queue and print it\n",
    "            s = queue.pop(0)\n",
    "            print s,\n",
    "\n",
    "            # Get all adjacent vertices of the dequeued\n",
    "            # vertex s. If a adjacent has not been visited,\n",
    "            # then mark it visited and enqueue it\n",
    "\n",
    "            for i in self.graph[s]:\n",
    "                if visited[i] == False:\n",
    "                    queue.append(i)\n",
    "                    visited[i] = True"
   ]
  },
  {
   "cell_type": "markdown",
   "metadata": {},
   "source": [
    "[Source](http://interactivepython.org/runestone/static/pythonds/Graphs/ImplementingBreadthFirstSearch.html)"
   ]
  },
  {
   "cell_type": "code",
   "execution_count": null,
   "metadata": {},
   "outputs": [],
   "source": [
    "# from pythonds.graphs import Graph, Vertex\n",
    "# from pythonds.basic import Queue\n",
    "\n",
    "def bfs(g,start):\n",
    "    start.setDistance(0)\n",
    "    start.setPred(None)\n",
    "    vertQueue = Queue()\n",
    "    vertQueue.enqueue(start)\n",
    "\n",
    "    while (vertQueue.size() > 0):\n",
    "        currentVert = vertQueue.dequeue()\n",
    "\n",
    "        for nbr in currentVert.getConnections():\n",
    "\n",
    "            if (nbr.getColor() == 'white'):\n",
    "                nbr.setColor('gray')\n",
    "                nbr.setDistance(currentVert.getDistance() + 1)\n",
    "                nbr.setPred(currentVert)\n",
    "                vertQueue.enqueue(nbr)\n",
    "\n",
    "        currentVert.setColor('black')"
   ]
  },
  {
   "cell_type": "markdown",
   "metadata": {},
   "source": [
    "[Source](https://code.activestate.com/recipes/576675-bfs-breadth-first-search-graph-traversal/)"
   ]
  },
  {
   "cell_type": "code",
   "execution_count": null,
   "metadata": {},
   "outputs": [],
   "source": [
    "# a sample graph\n",
    "graph = {'A': ['B', 'C','E'],\n",
    "             'B': ['A','C', 'D'],\n",
    "             'C': ['D'],\n",
    "             'D': ['C'],\n",
    "             'E': ['F','D'],\n",
    "             'F': ['C']}"
   ]
  },
  {
   "cell_type": "code",
   "execution_count": null,
   "metadata": {},
   "outputs": [],
   "source": [
    "class MyQUEUE: # just an implementation of a queue\n",
    "\n",
    "    def __init__(self):\n",
    "        self.holder = []\n",
    "        \n",
    "    def enqueue(self,val):\n",
    "        self.holder.append(val)\n",
    "        \n",
    "    def dequeue(self):\n",
    "        val = None\n",
    "        try:\n",
    "            val = self.holder[0]\n",
    "            if len(self.holder) == 1:\n",
    "                self.holder = []\n",
    "            else:\n",
    "                self.holder = self.holder[1:]    \n",
    "        except:\n",
    "            pass\n",
    "            \n",
    "        return val    \n",
    "        \n",
    "    def IsEmpty(self):\n",
    "        result = False\n",
    "        if len(self.holder) == 0:\n",
    "            result = True\n",
    "        return result"
   ]
  },
  {
   "cell_type": "code",
   "execution_count": null,
   "metadata": {},
   "outputs": [],
   "source": [
    "path_queue = MyQUEUE() # now we make a queue"
   ]
  },
  {
   "cell_type": "code",
   "execution_count": null,
   "metadata": {},
   "outputs": [],
   "source": [
    "def BFS(graph,start,end,q):\n",
    "\n",
    "    temp_path = [start]\n",
    "\n",
    "    q.enqueue(temp_path)\n",
    "\n",
    "    while q.IsEmpty() == False:\n",
    "        tmp_path = q.dequeue()\n",
    "        last_node = tmp_path[len(tmp_path)-1]\n",
    "        print(tmp_path)\n",
    "        if last_node == end:\n",
    "            print(\"VALID_PATH : \",tmp_path)\n",
    "        for link_node in graph[last_node]:\n",
    "            if link_node not in tmp_path:\n",
    "                new_path = []\n",
    "                new_path = tmp_path + [link_node]\n",
    "                q.enqueue(new_path)"
   ]
  },
  {
   "cell_type": "code",
   "execution_count": null,
   "metadata": {},
   "outputs": [],
   "source": [
    "BFS(graph,\"A\",\"D\",path_queue)"
   ]
  },
  {
   "cell_type": "markdown",
   "metadata": {},
   "source": [
    "[Source](https://favtutor.com/blogs/breadth-first-search-python)"
   ]
  },
  {
   "cell_type": "code",
   "execution_count": null,
   "metadata": {},
   "outputs": [],
   "source": [
    "graph = {\n",
    "  '5' : ['3','7'],\n",
    "  '3' : ['2', '4'],\n",
    "  '7' : ['8'],\n",
    "  '2' : [],\n",
    "  '4' : ['8'],\n",
    "  '8' : []\n",
    "}\n",
    "\n",
    "visited = [] # List for visited nodes.\n",
    "queue = []     #Initialize a queue\n",
    "\n",
    "def bfs(visited, graph, node): #function for BFS\n",
    "    visited.append(node)\n",
    "    queue.append(node)\n",
    "\n",
    "    while queue:          # Creating loop to visit each node\n",
    "        m = queue.pop(0) \n",
    "        print (m, end = \" \") \n",
    "\n",
    "        for neighbour in graph[m]:\n",
    "            if neighbour not in visited:\n",
    "                visited.append(neighbour)\n",
    "                queue.append(neighbour)\n",
    "\n",
    "# Driver Code\n",
    "print(\"Following is the Breadth-First Search\")\n",
    "bfs(visited, graph, '5')    # function calling"
   ]
  },
  {
   "cell_type": "markdown",
   "metadata": {},
   "source": [
    "[Source](https://www.codespeedy.com/breadth-first-search-algorithm-in-python/)"
   ]
  },
  {
   "cell_type": "code",
   "execution_count": null,
   "metadata": {},
   "outputs": [],
   "source": [
    "graph = {'A': ['B', 'C', 'E'],\n",
    "         'B': ['A','D', 'E'],\n",
    "         'C': ['A', 'F', 'G'],\n",
    "         'D': ['B'],\n",
    "         'E': ['A', 'B','D'],\n",
    "         'F': ['C'],\n",
    "         'G': ['C']}\n",
    "         \n",
    "         \n",
    "def bfs(graph, initial):\n",
    "    \n",
    "    visited = []\n",
    "    \n",
    "    queue = [initial]\n",
    " \n",
    "\n",
    "    while queue:\n",
    "        \n",
    "        node = queue.pop(0)\n",
    "        if node not in visited:\n",
    "            \n",
    "            visited.append(node)\n",
    "            neighbours = graph[node]\n",
    " \n",
    "            \n",
    "            for neighbour in neighbours:\n",
    "                queue.append(neighbour)\n",
    "    return visited\n",
    " \n",
    "print(bfs(graph,'A'))"
   ]
  },
  {
   "cell_type": "markdown",
   "metadata": {},
   "source": [
    "[Source](https://riptutorial.com/python/example/20482/breadth-first-search)"
   ]
  },
  {
   "cell_type": "code",
   "execution_count": null,
   "metadata": {},
   "outputs": [],
   "source": [
    "from collections import deque\n",
    "\n",
    "def bfs(graph, root):\n",
    "    distances = {}\n",
    "    distances[root] = 0\n",
    "    q = deque([root])\n",
    "    while q:\n",
    "        # The oldest seen (but not yet visited) node will be the left most one.\n",
    "        current = q.popleft()\n",
    "        for neighbor in graph[current]:\n",
    "            if neighbor not in distances:\n",
    "                distances[neighbor] = distances[current] + 1\n",
    "                # When we see a new node, we add it to the right side of the queue.\n",
    "                q.append(neighbor)\n",
    "    return distances"
   ]
  },
  {
   "cell_type": "code",
   "execution_count": null,
   "metadata": {},
   "outputs": [],
   "source": [
    "graph = {1:[2,3], 2:[4], 3:[4,5], 4:[3,5], 5:[]}"
   ]
  },
  {
   "cell_type": "code",
   "execution_count": null,
   "metadata": {},
   "outputs": [],
   "source": [
    "bfs(graph, 1)"
   ]
  },
  {
   "cell_type": "markdown",
   "metadata": {},
   "source": [
    "[Source](https://csanim.com/tutorials/breadth-first-search-python-visualization-and-code)"
   ]
  },
  {
   "cell_type": "code",
   "execution_count": null,
   "metadata": {},
   "outputs": [],
   "source": [
    "def bfs(root: Node):\n",
    "\n",
    "    if root is None:\n",
    "        return\n",
    "\n",
    "    queue = [root]\n",
    "\n",
    "    while len(queue) > 0:\n",
    "        cur_node = queue.pop(0)\n",
    "\n",
    "        if cur_node.left is not None:\n",
    "            queue.append(cur_node.left)\n",
    "\n",
    "        if cur_node.right is not None:\n",
    "            queue.append(cur_node.right)"
   ]
  },
  {
   "cell_type": "markdown",
   "metadata": {},
   "source": [
    "[Source](https://edhenry.github.io/2017/01/06/Breadth-First-Search/)"
   ]
  },
  {
   "cell_type": "code",
   "execution_count": null,
   "metadata": {},
   "outputs": [],
   "source": [
    "from collections import deque\n",
    "\n",
    "def breadth_first_search(starting_node, goal_node):\n",
    "    visited_nodes = set()\n",
    "    queue = deque([starting_node])\n",
    "    \n",
    "    while len(queue) > 0:\n",
    "        node = queue.pop()\n",
    "        if node in visited_nodes:\n",
    "            continue\n",
    "        \n",
    "        visited_nodes.add(node)\n",
    "        if node.get_id == goal_node.get_id:\n",
    "            return True\n",
    "        \n",
    "        for n in node.connected_to:\n",
    "            if n not in visited_nodes:\n",
    "                queue.appendleft(n)\n",
    "    return False     "
   ]
  },
  {
   "cell_type": "markdown",
   "metadata": {},
   "source": [
    "[Source](https://medium.com/nothingaholic/depth-first-search-vs-breadth-first-search-in-python-81521caa8f44)"
   ]
  },
  {
   "cell_type": "code",
   "execution_count": null,
   "metadata": {},
   "outputs": [],
   "source": [
    "visited = [] # List to keep track of visited nodes.\n",
    "# queue is a list that is used to keep track of nodes currently in the queue.\n",
    "queue = []     #Initialize a queue\n",
    "\n",
    "'''bfs follows the algorithm:\n",
    "1. It checks and appends the starting node to the visited list and the queue.\n",
    "2. Then, while the queue contains elements, \n",
    "it keeps taking out nodes from the queue, \n",
    "appends the neighbors of that node to the queue if they are unvisited, \n",
    "and marks them as visited.\n",
    "3. This continues until the queue is empty.'''\n",
    "\n",
    "def bfs(visited, graph, node):\n",
    "    visited.append(node)\n",
    "    queue.append(node)\n",
    "    \n",
    "    while queue:\n",
    "        s = queue.pop(0) \n",
    "        print (s, end = \" \") \n",
    "        \n",
    "        for neighbor in graph[s]:\n",
    "            if neighbor not in visited:\n",
    "                visited.append(neighbor)\n",
    "                queue.append(neighbor)"
   ]
  },
  {
   "cell_type": "markdown",
   "metadata": {},
   "source": [
    "[Source](https://www.educative.io/edpresso/how-to-implement-a-breadth-first-search-in-python)"
   ]
  },
  {
   "cell_type": "code",
   "execution_count": null,
   "metadata": {},
   "outputs": [],
   "source": [
    "graph = {\n",
    "  'A' : ['B','C'],\n",
    "  'B' : ['D', 'E'],\n",
    "  'C' : ['F'],\n",
    "  'D' : [],\n",
    "  'E' : ['F'],\n",
    "  'F' : []\n",
    "}\n",
    "\n",
    "visited = [] # List to keep track of visited nodes.\n",
    "queue = []     #Initialize a queue\n",
    "\n",
    "def bfs(visited, graph, node):\n",
    "    visited.append(node)\n",
    "    queue.append(node)\n",
    "\n",
    "    while queue:\n",
    "        s = queue.pop(0) \n",
    "        print (s, end = \" \") \n",
    "\n",
    "        for neighbour in graph[s]:\n",
    "            if neighbour not in visited:\n",
    "                visited.append(neighbour)\n",
    "                queue.append(neighbour)\n",
    "\n",
    "# Driver Code\n",
    "bfs(visited, graph, 'A')"
   ]
  },
  {
   "cell_type": "markdown",
   "metadata": {},
   "source": [
    "[Source](https://www.programiz.com/dsa/graph-bfs)"
   ]
  },
  {
   "cell_type": "code",
   "execution_count": null,
   "metadata": {},
   "outputs": [],
   "source": [
    "# BFS algorithm in Python\n",
    "\n",
    "\n",
    "import collections\n",
    "\n",
    "# BFS algorithm\n",
    "def bfs(graph, root):\n",
    "\n",
    "    visited, queue = set(), collections.deque([root])\n",
    "    visited.add(root)\n",
    "\n",
    "    while queue:\n",
    "\n",
    "        # Dequeue a vertex from queue\n",
    "        vertex = queue.popleft()\n",
    "        print(str(vertex) + \" \", end=\"\")\n",
    "\n",
    "        # If not visited, mark it as visited, and\n",
    "        # enqueue it\n",
    "        for neighbour in graph[vertex]:\n",
    "            if neighbour not in visited:\n",
    "                visited.add(neighbour)\n",
    "                queue.append(neighbour)\n",
    "\n",
    "\n",
    "if __name__ == '__main__':\n",
    "    graph = {0: [1, 2], 1: [2], 2: [3], 3: [1, 2]}\n",
    "    print(\"Following is Breadth First Traversal: \")\n",
    "    bfs(graph, 0)\n"
   ]
  },
  {
   "cell_type": "code",
   "execution_count": null,
   "metadata": {},
   "outputs": [],
   "source": []
  }
 ],
 "metadata": {
  "anaconda-cloud": {},
  "kernelspec": {
   "display_name": "Python 3",
   "language": "python",
   "name": "python3"
  },
  "language_info": {
   "codemirror_mode": {
    "name": "ipython",
    "version": 3
   },
   "file_extension": ".py",
   "mimetype": "text/x-python",
   "name": "python",
   "nbconvert_exporter": "python",
   "pygments_lexer": "ipython3",
   "version": "3.9.4"
  }
 },
 "nbformat": 4,
 "nbformat_minor": 4
}
