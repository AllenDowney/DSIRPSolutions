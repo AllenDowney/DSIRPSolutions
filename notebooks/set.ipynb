{
 "cells": [
  {
   "cell_type": "markdown",
   "id": "c905f415",
   "metadata": {},
   "source": [
    "# Chapter xx"
   ]
  },
  {
   "cell_type": "markdown",
   "id": "83309c58",
   "metadata": {
    "tags": [
     "remove-cell"
    ]
   },
   "source": [
    "*Data Structures and Information Retrieval in Python*\n",
    "\n",
    "Copyright 2021 Allen Downey\n",
    "\n",
    "License: [Creative Commons Attribution-NonCommercial-ShareAlike 4.0 International](https://creativecommons.org/licenses/by-nc-sa/4.0/)"
   ]
  },
  {
   "cell_type": "markdown",
   "id": "42302f03",
   "metadata": {},
   "source": [
    "[Click here to run this chapter on Colab](https://colab.research.google.com/github/AllenDowney/DSIRP/blob/main/chapters/chap01.ipynb)"
   ]
  },
  {
   "cell_type": "markdown",
   "id": "1cb0143e",
   "metadata": {},
   "source": [
    "[The New York Times Spelling Bee](https://www.nytimes.com/puzzles/spelling-bee) is a daily puzzle where the goal is to spell as many words as possible using only the given set of seven letters. \n",
    "For example, in a recent Spelling Bee, the available letters were `dekiklo`,\n",
    "so you could spell \"like\" and \"hold\".\n",
    "\n",
    "You can use each of the letters more than once, so \"hook\" and \"deed\" would be allowed, too.\n",
    "\n",
    "To make it a little more interesting, one of the letters is special and must be included in every word.\n",
    "In this example, the special letter is `o`, so \"hood\" would be allowed, but not \"like\".\n",
    "\n",
    "Each word you find scores points depending on it's length, which must be at least four letters.\n",
    "A word that uses all of the letters is called a \"pangram\" and scores extra points.\n",
    "\n",
    "We'll use this puzzle to explore the use of Python sets."
   ]
  },
  {
   "cell_type": "markdown",
   "id": "6e3bd559",
   "metadata": {},
   "source": [
    "## Sets\n",
    "\n",
    "Suppose we're given a word and we would like to know whether it can be spelled using only  a given set of letters.\n",
    "The following function solves this problem using list operations."
   ]
  },
  {
   "cell_type": "code",
   "execution_count": 1,
   "id": "61880af0",
   "metadata": {},
   "outputs": [],
   "source": [
    "def uses_only(word, letters):\n",
    "    for letter in word:\n",
    "        if letter not in letters:\n",
    "            return False\n",
    "    return True"
   ]
  },
  {
   "cell_type": "markdown",
   "id": "b691ac21",
   "metadata": {},
   "source": [
    "If we find any letters in `word` that are not in the list of letters, we can return `False` immediately.\n",
    "If we get through the word without finding any unavailable letters, we can return `True`.\n",
    "\n",
    "Let's try it out with some examples. In a recent Spelling Bee, the available letters were `dekiklo`.\n",
    "Let's see what we can spell with them."
   ]
  },
  {
   "cell_type": "code",
   "execution_count": 2,
   "id": "e91c8ab5",
   "metadata": {},
   "outputs": [
    {
     "data": {
      "text/plain": [
       "True"
      ]
     },
     "execution_count": 2,
     "metadata": {},
     "output_type": "execute_result"
    }
   ],
   "source": [
    "letters = \"dehiklo\"\n",
    "uses_only('lode', letters)"
   ]
  },
  {
   "cell_type": "code",
   "execution_count": 3,
   "id": "2043e70a",
   "metadata": {},
   "outputs": [
    {
     "data": {
      "text/plain": [
       "False"
      ]
     },
     "execution_count": 3,
     "metadata": {},
     "output_type": "execute_result"
    }
   ],
   "source": [
    "uses_only('implode', letters)"
   ]
  },
  {
   "cell_type": "markdown",
   "id": "2caed2b8",
   "metadata": {},
   "source": [
    "**Exercise:** It is possible to implement `uses_only` more concisely using set operations rather than list operations. Read the documentation of the `set` class and rewrite `uses_only` using sets."
   ]
  },
  {
   "cell_type": "code",
   "execution_count": 4,
   "id": "c7826a80",
   "metadata": {},
   "outputs": [],
   "source": [
    "# Solution\n",
    "\n",
    "def uses_only(word, letters):\n",
    "    return set(word) <= set(letters)"
   ]
  },
  {
   "cell_type": "code",
   "execution_count": 5,
   "id": "62d631b4",
   "metadata": {},
   "outputs": [
    {
     "data": {
      "text/plain": [
       "True"
      ]
     },
     "execution_count": 5,
     "metadata": {},
     "output_type": "execute_result"
    }
   ],
   "source": [
    "letters = \"dehiklo\"\n",
    "uses_only('lode', letters)"
   ]
  },
  {
   "cell_type": "code",
   "execution_count": 6,
   "id": "c1a84f7d",
   "metadata": {},
   "outputs": [
    {
     "data": {
      "text/plain": [
       "False"
      ]
     },
     "execution_count": 6,
     "metadata": {},
     "output_type": "execute_result"
    }
   ],
   "source": [
    "uses_only('implode', letters)"
   ]
  },
  {
   "cell_type": "markdown",
   "id": "952485c9",
   "metadata": {},
   "source": [
    "## Word list\n",
    "\n",
    "The following function downloads a list of about 100,000 words in American English, which is the word list installed by default on a recent Unix operating system."
   ]
  },
  {
   "cell_type": "code",
   "execution_count": 7,
   "id": "14479b61",
   "metadata": {},
   "outputs": [],
   "source": [
    "from os.path import basename, exists\n",
    "\n",
    "def download(url):\n",
    "    filename = basename(url)\n",
    "    if not exists(filename):\n",
    "        from urllib.request import urlretrieve\n",
    "        local, _ = urlretrieve(url, filename)\n",
    "        print('Downloaded ' + local)\n",
    "    \n",
    "download('https://github.com/AllenDowney/DSIRP/raw/main/american-english')"
   ]
  },
  {
   "cell_type": "markdown",
   "id": "8ba2793b",
   "metadata": {},
   "source": [
    "The file contains one word per line, so we can read the file and split it into a list of words like this:"
   ]
  },
  {
   "cell_type": "code",
   "execution_count": 8,
   "id": "6f4c8f7b",
   "metadata": {},
   "outputs": [
    {
     "data": {
      "text/plain": [
       "102401"
      ]
     },
     "execution_count": 8,
     "metadata": {},
     "output_type": "execute_result"
    }
   ],
   "source": [
    "word_list = open('american-english').read().split()\n",
    "len(word_list)"
   ]
  },
  {
   "cell_type": "markdown",
   "id": "a26292b0",
   "metadata": {},
   "source": [
    "**Exercise:** Write a loop that iterates through this word list and prints only words \n",
    "\n",
    "* With at least four letters,\n",
    "\n",
    "* That can be spelled using only the letters `dehiklo`, and\n",
    "\n",
    "* That include the letter `o`."
   ]
  },
  {
   "cell_type": "code",
   "execution_count": 9,
   "id": "3ace74e4",
   "metadata": {},
   "outputs": [
    {
     "name": "stdout",
     "output_type": "stream",
     "text": [
      "diode\n",
      "dodo\n",
      "dole\n",
      "doled\n",
      "doll\n",
      "dolled\n",
      "doodle\n",
      "doodled\n",
      "hellhole\n",
      "hello\n",
      "hoed\n",
      "hold\n",
      "hole\n",
      "holed\n",
      "hood\n",
      "hooded\n",
      "hoodie\n",
      "hoodoo\n",
      "hoodooed\n",
      "hook\n",
      "hooked\n",
      "idol\n",
      "kiddo\n",
      "kilo\n",
      "kook\n",
      "kookie\n",
      "likelihood\n",
      "lode\n",
      "loll\n",
      "lolled\n",
      "look\n",
      "looked\n",
      "oiled\n",
      "oldie\n",
      "oleo\n"
     ]
    }
   ],
   "source": [
    "for word in word_list:\n",
    "    if len(word) < 4:\n",
    "        continue\n",
    "        \n",
    "    if 'o' not in word:\n",
    "        continue\n",
    "            \n",
    "    if uses_only(word, letters):\n",
    "        print(word)"
   ]
  },
  {
   "cell_type": "markdown",
   "id": "39a69dc4",
   "metadata": {},
   "source": [
    "**Exercise:** Now let's check for pangrams. \n",
    "Write a function called `uses_all` that takes two strings and returns `True` if the first string uses all of the letters in the second string.\n",
    "Think about how to express this computation using set operations.\n",
    "\n",
    "Test your function with at least one case that returns `True` and one that returns `False`."
   ]
  },
  {
   "cell_type": "code",
   "execution_count": 10,
   "id": "9c84b036",
   "metadata": {},
   "outputs": [],
   "source": [
    "# Solution\n",
    "\n",
    "def uses_all(word, letters):\n",
    "    return set(letters) <= set(word)"
   ]
  },
  {
   "cell_type": "code",
   "execution_count": 11,
   "id": "78966218",
   "metadata": {},
   "outputs": [
    {
     "data": {
      "text/plain": [
       "True"
      ]
     },
     "execution_count": 11,
     "metadata": {},
     "output_type": "execute_result"
    }
   ],
   "source": [
    "# Solution\n",
    "\n",
    "letters = \"dehiklo\"\n",
    "uses_all('likelihood', letters)"
   ]
  },
  {
   "cell_type": "code",
   "execution_count": 12,
   "id": "053cef91",
   "metadata": {},
   "outputs": [
    {
     "data": {
      "text/plain": [
       "False"
      ]
     },
     "execution_count": 12,
     "metadata": {},
     "output_type": "execute_result"
    }
   ],
   "source": [
    "# Solution\n",
    "\n",
    "uses_all('hellhole', letters)"
   ]
  },
  {
   "cell_type": "markdown",
   "id": "ac17d8e8",
   "metadata": {},
   "source": [
    "**Exercise:** Modify the previous loop to search the word list for pangrams using `uses_only` and `uses_all`.\n",
    "\n",
    "Or, as a bonus, write a function called `uses_all_and_only` that checks both conditions using a single `set` operation."
   ]
  },
  {
   "cell_type": "code",
   "execution_count": 13,
   "id": "93f8b775",
   "metadata": {},
   "outputs": [
    {
     "name": "stdout",
     "output_type": "stream",
     "text": [
      "likelihood\n"
     ]
    }
   ],
   "source": [
    "# Solution\n",
    "\n",
    "for word in word_list:\n",
    "    if len(word) < 4:\n",
    "        continue\n",
    "        \n",
    "    if 'o' not in word:\n",
    "        continue\n",
    "            \n",
    "    if uses_only(word, letters) and uses_all(word, letters):\n",
    "        print(word)"
   ]
  },
  {
   "cell_type": "code",
   "execution_count": 14,
   "id": "2e8ae3c2",
   "metadata": {},
   "outputs": [],
   "source": [
    "# Solution\n",
    "\n",
    "def uses_all_and_only(word, letters):\n",
    "    return set(letters) == set(word)"
   ]
  },
  {
   "cell_type": "code",
   "execution_count": 15,
   "id": "91cfac2e",
   "metadata": {},
   "outputs": [
    {
     "name": "stdout",
     "output_type": "stream",
     "text": [
      "likelihood\n"
     ]
    }
   ],
   "source": [
    "# Solution\n",
    "\n",
    "for word in word_list:\n",
    "    if len(word) < 4:\n",
    "        continue\n",
    "        \n",
    "    if 'o' not in word:\n",
    "        continue\n",
    "            \n",
    "    if uses_all_and_only(word, letters):\n",
    "        print(word)"
   ]
  },
  {
   "cell_type": "markdown",
   "id": "7d2eba1a",
   "metadata": {},
   "source": [
    "## Leftovers\n",
    "\n",
    "So far we've been writing Boolean functions that test specific conditions, but if they return `False`, they don't explain why.\n",
    "As an alternative to `uses_only`, we could write a function called takes a word and a set of letters, and returns a new string that contain the letters in words that are not available.  Let's call it `bad_letters`. "
   ]
  },
  {
   "cell_type": "code",
   "execution_count": 16,
   "id": "a023ed32",
   "metadata": {},
   "outputs": [],
   "source": [
    "def bad_letters(word, letters):\n",
    "    return set(word) - set(letters)"
   ]
  },
  {
   "cell_type": "markdown",
   "id": "4afd6581",
   "metadata": {},
   "source": [
    "Now if we run this function with an illegal word, it will tell us which letters in the word are not available."
   ]
  },
  {
   "cell_type": "code",
   "execution_count": 17,
   "id": "1c78d5c2",
   "metadata": {},
   "outputs": [
    {
     "data": {
      "text/plain": [
       "{'f'}"
      ]
     },
     "execution_count": 17,
     "metadata": {},
     "output_type": "execute_result"
    }
   ],
   "source": [
    "bad_letters('oilfield', letters)"
   ]
  },
  {
   "cell_type": "markdown",
   "id": "5e044976",
   "metadata": {},
   "source": [
    "**Exercise:** Write a function called `unused_letters` that takes a word and a set of letters and returns the subset of the letters that are not used in `word`."
   ]
  },
  {
   "cell_type": "code",
   "execution_count": 18,
   "id": "b1854ea4",
   "metadata": {},
   "outputs": [],
   "source": [
    "# Solution\n",
    "\n",
    "def unused_letters(word, letters):\n",
    "    return set(letters) - set(word)"
   ]
  },
  {
   "cell_type": "code",
   "execution_count": 19,
   "id": "0a73331a",
   "metadata": {},
   "outputs": [
    {
     "data": {
      "text/plain": [
       "{'h', 'i'}"
      ]
     },
     "execution_count": 19,
     "metadata": {},
     "output_type": "execute_result"
    }
   ],
   "source": [
    "# Solution\n",
    "\n",
    "unused_letters('looked', letters)"
   ]
  },
  {
   "cell_type": "markdown",
   "id": "48be61ac",
   "metadata": {},
   "source": [
    "**Exercise:** Write a function called `no_duplicates` that takes a string and returns `True` if each letter appears only once."
   ]
  },
  {
   "cell_type": "code",
   "execution_count": 20,
   "id": "5c8422d4",
   "metadata": {},
   "outputs": [],
   "source": [
    "# Solution\n",
    "\n",
    "def no_duplicates(word):\n",
    "    return len(set(word)) == len(word)"
   ]
  },
  {
   "cell_type": "code",
   "execution_count": 21,
   "id": "7e77124c",
   "metadata": {},
   "outputs": [
    {
     "data": {
      "text/plain": [
       "True"
      ]
     },
     "execution_count": 21,
     "metadata": {},
     "output_type": "execute_result"
    }
   ],
   "source": [
    "# Solution\n",
    "\n",
    "no_duplicates('oiled')"
   ]
  },
  {
   "cell_type": "code",
   "execution_count": 22,
   "id": "0200d5a4",
   "metadata": {},
   "outputs": [
    {
     "data": {
      "text/plain": [
       "False"
      ]
     },
     "execution_count": 22,
     "metadata": {},
     "output_type": "execute_result"
    }
   ],
   "source": [
    "# Solution\n",
    "\n",
    "no_duplicates('doodled')"
   ]
  },
  {
   "cell_type": "code",
   "execution_count": null,
   "id": "d9b36948",
   "metadata": {},
   "outputs": [],
   "source": []
  }
 ],
 "metadata": {
  "kernelspec": {
   "display_name": "Python 3",
   "language": "python",
   "name": "python3"
  },
  "language_info": {
   "codemirror_mode": {
    "name": "ipython",
    "version": 3
   },
   "file_extension": ".py",
   "mimetype": "text/x-python",
   "name": "python",
   "nbconvert_exporter": "python",
   "pygments_lexer": "ipython3",
   "version": "3.9.4"
  }
 },
 "nbformat": 4,
 "nbformat_minor": 5
}
