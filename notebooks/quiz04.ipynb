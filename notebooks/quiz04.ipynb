{
 "cells": [
  {
   "cell_type": "markdown",
   "metadata": {},
   "source": [
    "# Quiz 4\n",
    "\n",
    "BEFORE YOU START THIS QUIZ:\n",
    "\n",
    "1. Click on \"Copy to Drive\" to make a copy of the quiz,\n",
    "\n",
    "2. Click on \"Share\",\n",
    "    \n",
    "3. Click on \"Change\" and select \"Anyone with this link can edit\"\n",
    "    \n",
    "4. Click \"Copy link\" and\n",
    "\n",
    "5. Paste the link into [this Canvas assignment](https://canvas.olin.edu/courses/313/assignments/5032). \n",
    "\n",
    "This quiz is open notes, open internet. The only thing you can't do is ask for help.\n",
    "\n",
    "Copyright 2021 Allen Downey, [MIT License](http://opensource.org/licenses/MIT)"
   ]
  },
  {
   "cell_type": "code",
   "execution_count": 1,
   "metadata": {},
   "outputs": [],
   "source": [
    "from os.path import basename, exists\n",
    "\n",
    "def download(url):\n",
    "    filename = basename(url)\n",
    "    if not exists(filename):\n",
    "        from urllib.request import urlretrieve\n",
    "        local, _ = urlretrieve(url, filename)\n",
    "        print('Downloaded ' + local)\n",
    "    \n",
    "download('https://github.com/AllenDowney/DSIRP/raw/main/american-english')"
   ]
  },
  {
   "cell_type": "markdown",
   "metadata": {},
   "source": [
    "## Question 1\n",
    "\n",
    "According to [Wikipedia](https://en.wikipedia.org/wiki/Gray_code), a Gray code is \"an ordering of the binary numeral system such that two successive values differ in only one bit (binary digit).\"\n",
    "\n",
    "A \"Gray code list\" is a table that lists the Gray code for each decimal number in order. For example, the following is the Gray code list for decimal numbers up to 3:\n",
    "\n",
    "```\n",
    "number    Gray code\n",
    "------    ---------\n",
    "0         00\n",
    "1         01\n",
    "2         11\n",
    "3         10\n",
    "```\n",
    "\n",
    "In this code, the representation of the number 3 is the bit sequence `10`.\n",
    "\n",
    "[This section of the Wikipedia page](https://en.wikipedia.org/wiki/Gray_code#Constructing_an_n-bit_Gray_code) presents an algorithm for constructing a Gray code list with a given number of binary digits.\n",
    "\n",
    "Write a function called `gray_code` that takes the number of binary digits, `n`, as a parameter and returns a list of strings that represents a Gray code list. \n",
    "\n",
    "For example, `gray_code(3)` should return\n",
    "\n",
    "```\n",
    "['000', '001', '011', '010', '110', '111', '101', '100']\n",
    "```\n",
    "\n",
    "Your function can be iterative or recursive."
   ]
  },
  {
   "cell_type": "code",
   "execution_count": 2,
   "metadata": {},
   "outputs": [],
   "source": [
    "# Solution\n",
    "\n",
    "def gray_code(n):\n",
    "    if n == 1:\n",
    "        return ['0', '1']\n",
    "    \n",
    "    previous = gray_code(n-1)\n",
    "    first = ['0'+x for x in previous]\n",
    "    last = ['1'+x for x in reversed(previous)]\n",
    "    return first + last"
   ]
  },
  {
   "cell_type": "code",
   "execution_count": 1,
   "metadata": {},
   "outputs": [],
   "source": [
    "# Solution from https://www.tutorialspoint.com/python-program-to-generate-gray-codes-using-recursion\n",
    "\n",
    "def generate_gray_list(my_val):\n",
    "    if (my_val <= 0):\n",
    "        return\n",
    "    my_list = list()\n",
    "    my_list.append(\"0\")\n",
    "    my_list.append(\"1\")\n",
    "    i = 2\n",
    "    j = 0\n",
    "    while(True):\n",
    "        if i >= 1 << my_val:\n",
    "            break\n",
    "        for j in range(i - 1, -1, -1):\n",
    "            my_list.append(my_list[j])\n",
    "        for j in range(i):\n",
    "            my_list[j] = \"0\" + my_list[j]\n",
    "        for j in range(i, 2 * i):\n",
    "            my_list[j] = \"1\" + my_list[j]\n",
    "        i = i << 1\n",
    "    for i in range(len(my_list)):\n",
    "        print(my_list[i])"
   ]
  },
  {
   "cell_type": "code",
   "execution_count": null,
   "metadata": {},
   "outputs": [],
   "source": [
    "# Solution from https://stackoverflow.com/questions/38738835/generating-gray-codes\n",
    "\n",
    "def gray_code(g,n):\n",
    "    k=len(g)\n",
    "    if n<=0:\n",
    "        return\n",
    "\n",
    "    else:\n",
    "        for i in range (k-1,-1,-1):\n",
    "            char='1'+g[i]\n",
    "            g.append(char)\n",
    "        for i in range (k-1,-1,-1):\n",
    "            g[i]='0'+g[i]\n",
    "\n",
    "        gray_code(g,n-1)"
   ]
  },
  {
   "cell_type": "code",
   "execution_count": 3,
   "metadata": {},
   "outputs": [],
   "source": [
    "# Solution from https://stackoverflow.com/questions/38738835/generating-gray-codes\n",
    "\n",
    "def main():\n",
    "    n=int(raw_input())\n",
    "    for i in range(0, 1<<n):\n",
    "        gray=i^(i>>1)\n",
    "        print(\"{0:0{1}b}\".format(gray,n),)"
   ]
  },
  {
   "cell_type": "code",
   "execution_count": 4,
   "metadata": {},
   "outputs": [],
   "source": [
    "# Solution from https://stackoverflow.com/questions/38738835/generating-gray-codes\n",
    "\n",
    "def gray_code(n):\n",
    "    def gray_code_recurse (g,n):\n",
    "        k=len(g)\n",
    "        if n<=0:\n",
    "            return\n",
    "\n",
    "        else:\n",
    "            for i in range (k-1,-1,-1):\n",
    "                char='1'+g[i]\n",
    "                g.append(char)\n",
    "            for i in range (k-1,-1,-1):\n",
    "                g[i]='0'+g[i]\n",
    "\n",
    "            gray_code_recurse (g,n-1)\n",
    "\n",
    "    g=['0','1']\n",
    "    gray_code_recurse(g,n-1)\n",
    "    return g"
   ]
  },
  {
   "cell_type": "code",
   "execution_count": 5,
   "metadata": {},
   "outputs": [],
   "source": [
    "# Buggy solution\n",
    "\n",
    "def gray_code(n, codes=['0', '1']):\n",
    "    if n <= 1:\n",
    "        return codes\n",
    "\n",
    "    r = codes[::-1]\n",
    "\n",
    "    for i, code in enumerate(codes):\n",
    "        codes[i] = '0' + code\n",
    "\n",
    "    for i, code in enumerate(r):\n",
    "        r[i] = '1' + code\n",
    "\n",
    "    codes.extend(r)\n",
    "\n",
    "    return gray_code(n-1, codes)"
   ]
  },
  {
   "cell_type": "markdown",
   "metadata": {},
   "source": [
    "You can use the following cells to test your solution."
   ]
  },
  {
   "cell_type": "code",
   "execution_count": 6,
   "metadata": {},
   "outputs": [
    {
     "data": {
      "text/plain": [
       "['0', '1']"
      ]
     },
     "execution_count": 6,
     "metadata": {},
     "output_type": "execute_result"
    }
   ],
   "source": [
    "gray_code(1)   # should be ['0', '1']"
   ]
  },
  {
   "cell_type": "code",
   "execution_count": 7,
   "metadata": {},
   "outputs": [
    {
     "data": {
      "text/plain": [
       "['00', '01', '11', '10']"
      ]
     },
     "execution_count": 7,
     "metadata": {},
     "output_type": "execute_result"
    }
   ],
   "source": [
    "gray_code(2)   # should be ['00', '01', '11', '10']"
   ]
  },
  {
   "cell_type": "code",
   "execution_count": 8,
   "metadata": {},
   "outputs": [
    {
     "data": {
      "text/plain": [
       "['0000',\n",
       " '0001',\n",
       " '0011',\n",
       " '0010',\n",
       " '0110',\n",
       " '0111',\n",
       " '0101',\n",
       " '0100',\n",
       " '1100',\n",
       " '1101',\n",
       " '1111',\n",
       " '1110',\n",
       " '1010',\n",
       " '1011',\n",
       " '1001',\n",
       " '1000']"
      ]
     },
     "execution_count": 8,
     "metadata": {},
     "output_type": "execute_result"
    }
   ],
   "source": [
    "gray_code(3)   # see above"
   ]
  },
  {
   "cell_type": "code",
   "execution_count": 9,
   "metadata": {},
   "outputs": [
    {
     "data": {
      "text/plain": [
       "['0000000',\n",
       " '0000001',\n",
       " '0000011',\n",
       " '0000010',\n",
       " '0000110',\n",
       " '0000111',\n",
       " '0000101',\n",
       " '0000100',\n",
       " '0001100',\n",
       " '0001101',\n",
       " '0001111',\n",
       " '0001110',\n",
       " '0001010',\n",
       " '0001011',\n",
       " '0001001',\n",
       " '0001000',\n",
       " '0011000',\n",
       " '0011001',\n",
       " '0011011',\n",
       " '0011010',\n",
       " '0011110',\n",
       " '0011111',\n",
       " '0011101',\n",
       " '0011100',\n",
       " '0010100',\n",
       " '0010101',\n",
       " '0010111',\n",
       " '0010110',\n",
       " '0010010',\n",
       " '0010011',\n",
       " '0010001',\n",
       " '0010000',\n",
       " '0110000',\n",
       " '0110001',\n",
       " '0110011',\n",
       " '0110010',\n",
       " '0110110',\n",
       " '0110111',\n",
       " '0110101',\n",
       " '0110100',\n",
       " '0111100',\n",
       " '0111101',\n",
       " '0111111',\n",
       " '0111110',\n",
       " '0111010',\n",
       " '0111011',\n",
       " '0111001',\n",
       " '0111000',\n",
       " '0101000',\n",
       " '0101001',\n",
       " '0101011',\n",
       " '0101010',\n",
       " '0101110',\n",
       " '0101111',\n",
       " '0101101',\n",
       " '0101100',\n",
       " '0100100',\n",
       " '0100101',\n",
       " '0100111',\n",
       " '0100110',\n",
       " '0100010',\n",
       " '0100011',\n",
       " '0100001',\n",
       " '0100000',\n",
       " '1100000',\n",
       " '1100001',\n",
       " '1100011',\n",
       " '1100010',\n",
       " '1100110',\n",
       " '1100111',\n",
       " '1100101',\n",
       " '1100100',\n",
       " '1101100',\n",
       " '1101101',\n",
       " '1101111',\n",
       " '1101110',\n",
       " '1101010',\n",
       " '1101011',\n",
       " '1101001',\n",
       " '1101000',\n",
       " '1111000',\n",
       " '1111001',\n",
       " '1111011',\n",
       " '1111010',\n",
       " '1111110',\n",
       " '1111111',\n",
       " '1111101',\n",
       " '1111100',\n",
       " '1110100',\n",
       " '1110101',\n",
       " '1110111',\n",
       " '1110110',\n",
       " '1110010',\n",
       " '1110011',\n",
       " '1110001',\n",
       " '1110000',\n",
       " '1010000',\n",
       " '1010001',\n",
       " '1010011',\n",
       " '1010010',\n",
       " '1010110',\n",
       " '1010111',\n",
       " '1010101',\n",
       " '1010100',\n",
       " '1011100',\n",
       " '1011101',\n",
       " '1011111',\n",
       " '1011110',\n",
       " '1011010',\n",
       " '1011011',\n",
       " '1011001',\n",
       " '1011000',\n",
       " '1001000',\n",
       " '1001001',\n",
       " '1001011',\n",
       " '1001010',\n",
       " '1001110',\n",
       " '1001111',\n",
       " '1001101',\n",
       " '1001100',\n",
       " '1000100',\n",
       " '1000101',\n",
       " '1000111',\n",
       " '1000110',\n",
       " '1000010',\n",
       " '1000011',\n",
       " '1000001',\n",
       " '1000000']"
      ]
     },
     "execution_count": 9,
     "metadata": {},
     "output_type": "execute_result"
    }
   ],
   "source": [
    "gray_code(4)   # see above"
   ]
  },
  {
   "cell_type": "markdown",
   "metadata": {},
   "source": [
    "## Question 2\n",
    "\n",
    "Suppose you are given a very large sequence of numbers and you are asked to find the `k` largest elements.\n",
    "One option would be to sort the sequence, but that would take time proportional to `n log n`, where `n` is the length of the sequence.\n",
    "And you would have to store the entire sequence.\n",
    "\n",
    "An alternative is to use a \"bounded heap\", that is, a heap that never contains more than `k` elements.\n",
    "\n",
    "Write a function called `k_largest` that takes as parameters an iterable and an integer `k` and returns a list that contains the `k` largest elements in the iterable. Don't worry about ties.\n",
    "\n",
    "Your implementation should not store more than `k` elements and it should take time proportional to `n log k`."
   ]
  },
  {
   "cell_type": "code",
   "execution_count": 6,
   "metadata": {},
   "outputs": [],
   "source": [
    "# Solution\n",
    "\n",
    "from heapq import heappush, heapreplace\n",
    "\n",
    "def k_largest(it, k):\n",
    "    heap = []\n",
    "    for x in it:\n",
    "        if len(heap) < k:\n",
    "            heappush(heap, x)\n",
    "        elif x > heap[0]:\n",
    "            heapreplace(heap, x)\n",
    "    return heap"
   ]
  },
  {
   "cell_type": "markdown",
   "metadata": {},
   "source": [
    "You can use the following cells to test your function."
   ]
  },
  {
   "cell_type": "code",
   "execution_count": 7,
   "metadata": {},
   "outputs": [
    {
     "data": {
      "text/plain": [
       "[4, 3, 0, 7, 1, 5, 9, 6, 8, 2]"
      ]
     },
     "execution_count": 7,
     "metadata": {},
     "output_type": "execute_result"
    }
   ],
   "source": [
    "from random import shuffle\n",
    "\n",
    "sequence = list(range(10))\n",
    "shuffle(sequence)\n",
    "sequence"
   ]
  },
  {
   "cell_type": "code",
   "execution_count": 8,
   "metadata": {},
   "outputs": [
    {
     "data": {
      "text/plain": [
       "[7, 9, 8]"
      ]
     },
     "execution_count": 8,
     "metadata": {},
     "output_type": "execute_result"
    }
   ],
   "source": [
    "k_largest(sequence, 3)   # should return [7, 8, 9]"
   ]
  },
  {
   "cell_type": "markdown",
   "metadata": {},
   "source": [
    "## Question 3\n",
    "\n",
    "An expression tree is a tree that represents a mathematical expression.\n",
    "For example, the expression `(1+2) * 3` is represented by a tree with the multiplication operator at the root and two children:\n",
    "\n",
    "* The left child is a node that contains the addition operator and two children, the number 1 and the number 2.\n",
    "\n",
    "* The right child is a node that contains the number 3.\n",
    "\n",
    "To represent an expression tree, we can use a `namedtuple` called `Node` that contains three attributes, `data`, `left`, and `right`."
   ]
  },
  {
   "cell_type": "code",
   "execution_count": 9,
   "metadata": {},
   "outputs": [],
   "source": [
    "from collections import namedtuple\n",
    "\n",
    "Node = namedtuple('Node', ['data', 'left', 'right'])"
   ]
  },
  {
   "cell_type": "markdown",
   "metadata": {},
   "source": [
    "In a leaf node, `data` contains a number. For example, here are two nodes representing the numbers `1` and `2`."
   ]
  },
  {
   "cell_type": "code",
   "execution_count": 10,
   "metadata": {},
   "outputs": [
    {
     "data": {
      "text/plain": [
       "Node(data=1, left=None, right=None)"
      ]
     },
     "execution_count": 10,
     "metadata": {},
     "output_type": "execute_result"
    }
   ],
   "source": [
    "operand1 = Node(1, None, None)\n",
    "operand1"
   ]
  },
  {
   "cell_type": "code",
   "execution_count": 11,
   "metadata": {},
   "outputs": [
    {
     "data": {
      "text/plain": [
       "Node(data=2, left=None, right=None)"
      ]
     },
     "execution_count": 11,
     "metadata": {},
     "output_type": "execute_result"
    }
   ],
   "source": [
    "operand2 = Node(2, None, None)\n",
    "operand2"
   ]
  },
  {
   "cell_type": "markdown",
   "metadata": {},
   "source": [
    "For internal nodes (that is, not leaf nodes) `data` contains a function. To represent addition, subtraction, and multiplication, I'll import functions from the `operator` module."
   ]
  },
  {
   "cell_type": "code",
   "execution_count": 12,
   "metadata": {},
   "outputs": [],
   "source": [
    "from operator import add, sub, mul"
   ]
  },
  {
   "cell_type": "markdown",
   "metadata": {},
   "source": [
    "Now we can make an expression tree with the `add` function at the root and two operands as children."
   ]
  },
  {
   "cell_type": "code",
   "execution_count": 13,
   "metadata": {},
   "outputs": [
    {
     "data": {
      "text/plain": [
       "Node(data=<built-in function add>, left=Node(data=1, left=None, right=None), right=Node(data=2, left=None, right=None))"
      ]
     },
     "execution_count": 13,
     "metadata": {},
     "output_type": "execute_result"
    }
   ],
   "source": [
    "etree = Node(add, operand1, operand2)\n",
    "etree"
   ]
  },
  {
   "cell_type": "markdown",
   "metadata": {},
   "source": [
    "To evaluate this tree, we can extract the function and the two operands, then call the function and pass the operands as arguments."
   ]
  },
  {
   "cell_type": "code",
   "execution_count": 14,
   "metadata": {},
   "outputs": [
    {
     "data": {
      "text/plain": [
       "3"
      ]
     },
     "execution_count": 14,
     "metadata": {},
     "output_type": "execute_result"
    }
   ],
   "source": [
    "func = etree.data\n",
    "left = operand1.data\n",
    "right = operand2.data\n",
    "func(left, right)"
   ]
  },
  {
   "cell_type": "markdown",
   "metadata": {},
   "source": [
    "Write a function called `evaluate` that takes an arbitrary expression tree, evaluates it, and returns an integer. \n",
    "\n",
    "You will probably want to write this one recursively."
   ]
  },
  {
   "cell_type": "code",
   "execution_count": 15,
   "metadata": {},
   "outputs": [],
   "source": [
    "# Solution\n",
    "\n",
    "def evaluate(node):\n",
    "    if node.left is None and node.right is None:\n",
    "        return node.data\n",
    "    \n",
    "    func = node.data\n",
    "    left = evaluate(node.left)\n",
    "    right = evaluate(node.right)\n",
    "    return func(left, right)"
   ]
  },
  {
   "cell_type": "markdown",
   "metadata": {},
   "source": [
    "You can test your function with the following examples:"
   ]
  },
  {
   "cell_type": "code",
   "execution_count": 16,
   "metadata": {},
   "outputs": [
    {
     "data": {
      "text/plain": [
       "Node(data=<built-in function add>, left=Node(data=1, left=None, right=None), right=Node(data=2, left=None, right=None))"
      ]
     },
     "execution_count": 16,
     "metadata": {},
     "output_type": "execute_result"
    }
   ],
   "source": [
    "etree"
   ]
  },
  {
   "cell_type": "code",
   "execution_count": 17,
   "metadata": {},
   "outputs": [
    {
     "data": {
      "text/plain": [
       "3"
      ]
     },
     "execution_count": 17,
     "metadata": {},
     "output_type": "execute_result"
    }
   ],
   "source": [
    "evaluate(etree)  # result should be 3 "
   ]
  },
  {
   "cell_type": "code",
   "execution_count": 18,
   "metadata": {},
   "outputs": [],
   "source": [
    "operand3 = Node(3, None, None)\n",
    "etree2 = Node(mul, etree, operand3)"
   ]
  },
  {
   "cell_type": "code",
   "execution_count": 19,
   "metadata": {},
   "outputs": [
    {
     "data": {
      "text/plain": [
       "9"
      ]
     },
     "execution_count": 19,
     "metadata": {},
     "output_type": "execute_result"
    }
   ],
   "source": [
    "evaluate(etree2)  # result should be 9"
   ]
  },
  {
   "cell_type": "code",
   "execution_count": 20,
   "metadata": {},
   "outputs": [],
   "source": [
    "operand4 = Node(4, None, None)\n",
    "etree3 = Node(sub, etree2, operand4)"
   ]
  },
  {
   "cell_type": "code",
   "execution_count": 21,
   "metadata": {},
   "outputs": [
    {
     "data": {
      "text/plain": [
       "5"
      ]
     },
     "execution_count": 21,
     "metadata": {},
     "output_type": "execute_result"
    }
   ],
   "source": [
    "evaluate(etree3) # result should be 5"
   ]
  },
  {
   "cell_type": "code",
   "execution_count": null,
   "metadata": {},
   "outputs": [],
   "source": []
  }
 ],
 "metadata": {
  "kernelspec": {
   "display_name": "Python 3",
   "language": "python",
   "name": "python3"
  },
  "language_info": {
   "codemirror_mode": {
    "name": "ipython",
    "version": 3
   },
   "file_extension": ".py",
   "mimetype": "text/x-python",
   "name": "python",
   "nbconvert_exporter": "python",
   "pygments_lexer": "ipython3",
   "version": "3.9.4"
  }
 },
 "nbformat": 4,
 "nbformat_minor": 1
}
