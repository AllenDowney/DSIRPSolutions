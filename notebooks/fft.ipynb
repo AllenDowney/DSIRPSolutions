{
 "cells": [
  {
   "cell_type": "markdown",
   "metadata": {},
   "source": [
    "# FFT"
   ]
  },
  {
   "cell_type": "markdown",
   "metadata": {},
   "source": [
    "[Click here to run this chapter on Colab](https://colab.research.google.com/github/AllenDowney/DSIRP/blob/main/notebooks/fft.ipynb)"
   ]
  },
  {
   "cell_type": "code",
   "execution_count": 25,
   "metadata": {},
   "outputs": [],
   "source": [
    "from os.path import basename, exists\n",
    "\n",
    "def download(url):\n",
    "    filename = basename(url)\n",
    "    if not exists(filename):\n",
    "        from urllib.request import urlretrieve\n",
    "        local, _ = urlretrieve(url, filename)\n",
    "        print('Downloaded ' + local)\n",
    "    \n",
    "download('https://github.com/AllenDowney/DSIRP/raw/main/timing.py')"
   ]
  },
  {
   "cell_type": "code",
   "execution_count": 26,
   "metadata": {},
   "outputs": [],
   "source": [
    "from timing import run_timing_test, plot_timing_test"
   ]
  },
  {
   "cell_type": "markdown",
   "metadata": {},
   "source": [
    "## Discrete Fourier Transform\n",
    "\n",
    "According to our friends at [Wikipedia](https://en.wikipedia.org/wiki/Discrete_Fourier_transform):\n",
    "\n",
    "> The discrete Fourier transform transforms a sequence of $N$ complex numbers \n",
    "${\\displaystyle \\mathbf{x} =x_{0},x_{1},\\ldots ,x_{N-1}}$ into another sequence of complex numbers, \n",
    "${\\displaystyle \\mathbf{X} =X_{0},X_{1},\\ldots ,X_{N-1},}$ which is defined by $$X_k = \\sum_{n=0}^N x_n \\cdot e^{-i 2 \\pi k n / N} $$ \n",
    "\n",
    "Notice:\n",
    "\n",
    "* $X$ and $x$ are the same length, $N$.\n",
    "\n",
    "* $n$ is the index that specifies an element of $x$, and \n",
    "\n",
    "* $k$ is the index that specifies an element of $X$.\n",
    "\n",
    "Let's start with a small example and use Numpy's implementation of FFT to compute the DFT."
   ]
  },
  {
   "cell_type": "code",
   "execution_count": 27,
   "metadata": {},
   "outputs": [],
   "source": [
    "x = [1, 0, 0, 0]"
   ]
  },
  {
   "cell_type": "code",
   "execution_count": 28,
   "metadata": {},
   "outputs": [
    {
     "data": {
      "text/plain": [
       "array([1.+0.j, 1.+0.j, 1.+0.j, 1.+0.j])"
      ]
     },
     "execution_count": 28,
     "metadata": {},
     "output_type": "execute_result"
    }
   ],
   "source": [
    "import numpy as np\n",
    "\n",
    "np.fft.fft(x)"
   ]
  },
  {
   "cell_type": "markdown",
   "metadata": {},
   "source": [
    "Now we know what the answer is, let's compute it ourselves.\n",
    "\n",
    "Here's the expression that computes one element of $X$."
   ]
  },
  {
   "cell_type": "code",
   "execution_count": 29,
   "metadata": {},
   "outputs": [],
   "source": [
    "pi = np.pi\n",
    "exp = np.exp\n",
    "N = len(x)\n",
    "k = 0"
   ]
  },
  {
   "cell_type": "code",
   "execution_count": 30,
   "metadata": {
    "tags": [
     "fill-in"
    ]
   },
   "outputs": [
    {
     "data": {
      "text/plain": [
       "(1+0j)"
      ]
     },
     "execution_count": 30,
     "metadata": {},
     "output_type": "execute_result"
    }
   ],
   "source": [
    "sum(x[n] * exp(-2j * pi * k * n / N) for n in range(N))"
   ]
  },
  {
   "cell_type": "markdown",
   "metadata": {},
   "source": [
    "Wrapping this code in a function makes the roles of `k` and `n` clearer:\n",
    "\n",
    "* `k` is the parameter that specifies which element of the DFT to compute, and \n",
    "\n",
    "* `n` is the loop variable we use to compute the summation."
   ]
  },
  {
   "cell_type": "code",
   "execution_count": 31,
   "metadata": {
    "tags": [
     "fill-in"
    ]
   },
   "outputs": [],
   "source": [
    "def dft_k(x, k):\n",
    "    N = len(x)\n",
    "    return sum(x[n] * exp(-2j * pi * k * n / N) for n in range(N))"
   ]
  },
  {
   "cell_type": "code",
   "execution_count": 32,
   "metadata": {},
   "outputs": [
    {
     "data": {
      "text/plain": [
       "(1+0j)"
      ]
     },
     "execution_count": 32,
     "metadata": {},
     "output_type": "execute_result"
    }
   ],
   "source": [
    "dft_k(x, k=1)"
   ]
  },
  {
   "cell_type": "markdown",
   "metadata": {},
   "source": [
    "Usually we compute $X$ all at once, so we can wrap `dft_k` in another function:"
   ]
  },
  {
   "cell_type": "code",
   "execution_count": 33,
   "metadata": {
    "tags": [
     "fill-in"
    ]
   },
   "outputs": [],
   "source": [
    "def dft(x):\n",
    "    N = len(x)\n",
    "    X = [dft_k(x, k) for k in range(N)]\n",
    "    return X"
   ]
  },
  {
   "cell_type": "code",
   "execution_count": 34,
   "metadata": {},
   "outputs": [
    {
     "data": {
      "text/plain": [
       "[(1+0j), (1+0j), (1+0j), (1+0j)]"
      ]
     },
     "execution_count": 34,
     "metadata": {},
     "output_type": "execute_result"
    }
   ],
   "source": [
    "dft(x)"
   ]
  },
  {
   "cell_type": "markdown",
   "metadata": {},
   "source": [
    "And that's what we got from Numpy."
   ]
  },
  {
   "cell_type": "markdown",
   "metadata": {},
   "source": [
    "## Timing DFT\n",
    "\n",
    "Let's see what the performance of `dft` looks like."
   ]
  },
  {
   "cell_type": "code",
   "execution_count": 35,
   "metadata": {},
   "outputs": [],
   "source": [
    "def test_dft(N):\n",
    "    x = np.random.normal(size=N)\n",
    "    X = dft(x)"
   ]
  },
  {
   "cell_type": "code",
   "execution_count": 36,
   "metadata": {},
   "outputs": [
    {
     "name": "stdout",
     "output_type": "stream",
     "text": [
      "CPU times: user 693 ms, sys: 0 ns, total: 693 ms\n",
      "Wall time: 693 ms\n"
     ]
    }
   ],
   "source": [
    "%time test_dft(512)"
   ]
  },
  {
   "cell_type": "code",
   "execution_count": 37,
   "metadata": {},
   "outputs": [
    {
     "name": "stdout",
     "output_type": "stream",
     "text": [
      "32 0.0\n",
      "64 0.009999999999999787\n",
      "128 0.049999999999998934\n",
      "256 0.16999999999999993\n",
      "512 0.6800000000000015\n",
      "1024 2.730000000000002\n"
     ]
    },
    {
     "data": {
      "image/png": "[encoded data removed]",
      "text/plain": [
       "<Figure size 432x288 with 1 Axes>"
      ]
     },
     "metadata": {
      "needs_background": "light"
     },
     "output_type": "display_data"
    }
   ],
   "source": [
    "ns, ts = run_timing_test(test_dft, start_at=5)\n",
    "plot_timing_test(ns, ts, 'test_dft', exp=2)"
   ]
  },
  {
   "cell_type": "markdown",
   "metadata": {},
   "source": [
    "## Implementing FFT\n",
    "\n",
    "The key to the FFT algorithm is the [Danielson-Lanczos lemma](https://mathworld.wolfram.com/Danielson-LanczosLemma.html), which says\n",
    "\n",
    "$ X_k = E_k + e^{-i 2 \\pi n / N} O_k $\n",
    "\n",
    "Where \n",
    "\n",
    "* $E$ is the FFT of the even elements of $x$, and\n",
    "\n",
    "* $O$ is the DFT of the odd elements of $x$.\n",
    "\n",
    "Before we can translate this expression into code, we have to deal with a gotcha.\n",
    "\n",
    "Remember that, if the length of $x$ is $N$, the length of $X$ is also $N$.\n",
    "\n",
    "If we select the even elements of $x$, the result is a sequence with length $N/2$, which means that the length of $E$ is $N/2$.\n",
    "And the same for $O$.\n",
    "\n",
    "But if $k$ goes from $0$ up to $N-1$, what do we do when it exceeds $N/2-1$?\n",
    "\n",
    "Fortunately, the DFT repeats itself so, $X_N$ is the same as $X_0$.\n",
    "That means we can extend $E$ and $O$ to be the same length as $X$ just by repeating them.\n",
    "And we can do that with the Numpy function `tile`.\n",
    "\n",
    "So, here's a version of `merge` based on the D-L lemma."
   ]
  },
  {
   "cell_type": "code",
   "execution_count": 38,
   "metadata": {
    "tags": [
     "fill-in"
    ]
   },
   "outputs": [],
   "source": [
    "def merge(E, O):\n",
    "    N = len(E) * 2\n",
    "    ns = np.arange(N)\n",
    "    W = np.exp(-2j * pi * ns / N)\n",
    "    return np.tile(E, 2) + W * np.tile(O, 2)"
   ]
  },
  {
   "cell_type": "markdown",
   "metadata": {},
   "source": [
    "**Exercise:** As a first step toward implementing FFT, write a non-recursive function called `fft_norec` that takes a sequence called `x` and\n",
    "\n",
    "1. Divides `x` into even and odd elements,\n",
    "\n",
    "2. Uses `dft` to compute `E` and `O`, and\n",
    "\n",
    "3. Uses `merge` to compute `X`."
   ]
  },
  {
   "cell_type": "code",
   "execution_count": 39,
   "metadata": {},
   "outputs": [],
   "source": [
    "# Solution\n",
    "\n",
    "def fft_norec(x):\n",
    "    E = dft(x[::2])\n",
    "    O = dft(x[1::2])\n",
    "    return merge(E, O)"
   ]
  },
  {
   "cell_type": "code",
   "execution_count": 40,
   "metadata": {},
   "outputs": [
    {
     "data": {
      "text/plain": [
       "array([1.+0.j, 1.+0.j, 1.+0.j, 1.+0.j])"
      ]
     },
     "execution_count": 40,
     "metadata": {},
     "output_type": "execute_result"
    }
   ],
   "source": [
    "fft_norec(x)"
   ]
  },
  {
   "cell_type": "markdown",
   "metadata": {},
   "source": [
    "Let's see what the performance looks like."
   ]
  },
  {
   "cell_type": "code",
   "execution_count": 41,
   "metadata": {},
   "outputs": [],
   "source": [
    "def test_fft_norec(N):\n",
    "    x = np.random.normal(size=N)\n",
    "    spectrum = fft_norec(x)"
   ]
  },
  {
   "cell_type": "code",
   "execution_count": 42,
   "metadata": {},
   "outputs": [
    {
     "name": "stdout",
     "output_type": "stream",
     "text": [
      "CPU times: user 353 ms, sys: 0 ns, total: 353 ms\n",
      "Wall time: 352 ms\n"
     ]
    }
   ],
   "source": [
    "%time test_fft_norec(512)"
   ]
  },
  {
   "cell_type": "code",
   "execution_count": 43,
   "metadata": {},
   "outputs": [
    {
     "name": "stdout",
     "output_type": "stream",
     "text": [
      "32 0.0\n",
      "64 0.0\n",
      "128 0.030000000000001137\n",
      "256 0.08999999999999986\n",
      "512 0.33999999999999986\n",
      "1024 1.379999999999999\n"
     ]
    },
    {
     "data": {
      "image/png": "[encoded data removed]",
      "text/plain": [
       "<Figure size 432x288 with 1 Axes>"
      ]
     },
     "metadata": {
      "needs_background": "light"
     },
     "output_type": "display_data"
    }
   ],
   "source": [
    "ns, ts = run_timing_test(test_fft_norec, start_at=5)\n",
    "plot_timing_test(ns, ts, 'test_fft_norec', exp=2)"
   ]
  },
  {
   "cell_type": "markdown",
   "metadata": {},
   "source": [
    "**Exercise:**  Starting with `fft_norec`, write a function called `fft_rec` that's fully recursive; that is, instead of using `dft` to compute the DFTs of the halves, it should use `fft_rec`.\n",
    "\n",
    "You will need a base case to avoid an infinite recursion.  You have two options:\n",
    "\n",
    "1) The DFT of an array with length 1 is the array itself.\n",
    "\n",
    "2) If the parameter, `x`, is smaller than some threshold length, you could use DFT.\n",
    "\n",
    "Use `test_fft_rec`, below, to check the performance of your function."
   ]
  },
  {
   "cell_type": "code",
   "execution_count": 44,
   "metadata": {},
   "outputs": [],
   "source": [
    "# Solution\n",
    "\n",
    "def fft_rec(x):\n",
    "    N = len(x)\n",
    "    if N == 1:\n",
    "        return x\n",
    "    \n",
    "    E = fft_rec(x[::2])\n",
    "    O = fft_rec(x[1::2])\n",
    "    return merge(E, O)"
   ]
  },
  {
   "cell_type": "code",
   "execution_count": 45,
   "metadata": {},
   "outputs": [
    {
     "data": {
      "text/plain": [
       "array([1.+0.j, 1.+0.j, 1.+0.j, 1.+0.j])"
      ]
     },
     "execution_count": 45,
     "metadata": {},
     "output_type": "execute_result"
    }
   ],
   "source": [
    "fft_rec(x)"
   ]
  },
  {
   "cell_type": "code",
   "execution_count": 46,
   "metadata": {},
   "outputs": [],
   "source": [
    "def test_fft_rec(N):\n",
    "    x = np.random.normal(size=N)\n",
    "    spectrum = fft_rec(x)"
   ]
  },
  {
   "cell_type": "code",
   "execution_count": 47,
   "metadata": {},
   "outputs": [
    {
     "name": "stdout",
     "output_type": "stream",
     "text": [
      "CPU times: user 11.6 ms, sys: 0 ns, total: 11.6 ms\n",
      "Wall time: 9.82 ms\n"
     ]
    }
   ],
   "source": [
    "%time test_fft_rec(512)"
   ]
  },
  {
   "cell_type": "code",
   "execution_count": 48,
   "metadata": {},
   "outputs": [
    {
     "name": "stdout",
     "output_type": "stream",
     "text": [
      "1024 0.020000000000003126\n",
      "2048 0.029999999999997584\n",
      "4096 0.060000000000002274\n",
      "8192 0.11999999999999744\n",
      "16384 0.23000000000000043\n",
      "32768 0.46999999999999886\n",
      "65536 0.9400000000000013\n",
      "131072 1.9400000000000013\n"
     ]
    },
    {
     "data": {
      "image/png": "[encoded data removed]",
      "text/plain": [
       "<Figure size 432x288 with 1 Axes>"
      ]
     },
     "metadata": {
      "needs_background": "light"
     },
     "output_type": "display_data"
    }
   ],
   "source": [
    "ns, ts = run_timing_test(test_fft_rec)\n",
    "plot_timing_test(ns, ts, 'test_fft_rec', exp=1)"
   ]
  },
  {
   "cell_type": "markdown",
   "metadata": {},
   "source": [
    "If things go according to plan, your FFT implementation should be faster than `dft` and `fft_norec`, and over a range of problem sizes, it might be indistinguishable from linear."
   ]
  },
  {
   "cell_type": "markdown",
   "metadata": {},
   "source": [
    "*Data Structures and Information Retrieval in Python*\n",
    "\n",
    "Copyright 2021 Allen Downey\n",
    "\n",
    "License: [Creative Commons Attribution-NonCommercial-ShareAlike 4.0 International](https://creativecommons.org/licenses/by-nc-sa/4.0/)"
   ]
  }
 ],
 "metadata": {
  "anaconda-cloud": {},
  "celltoolbar": "Tags",
  "kernelspec": {
   "display_name": "Python 3",
   "language": "python",
   "name": "python3"
  },
  "language_info": {
   "codemirror_mode": {
    "name": "ipython",
    "version": 3
   },
   "file_extension": ".py",
   "mimetype": "text/x-python",
   "name": "python",
   "nbconvert_exporter": "python",
   "pygments_lexer": "ipython3",
   "version": "3.9.4"
  }
 },
 "nbformat": 4,
 "nbformat_minor": 1
}
