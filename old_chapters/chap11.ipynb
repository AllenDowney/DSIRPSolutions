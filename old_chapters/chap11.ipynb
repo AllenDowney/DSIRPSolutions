{
 "cells": [
  {
   "cell_type": "markdown",
   "id": "aaecc102",
   "metadata": {},
   "source": [
    "# Chapter xx"
   ]
  },
  {
   "cell_type": "markdown",
   "id": "10adfb3d",
   "metadata": {
    "tags": [
     "remove-cell"
    ]
   },
   "source": [
    "*Data Structures and Information Retrieval in Python*\n",
    "\n",
    "Copyright 2021 Allen Downey\n",
    "\n",
    "License: [Creative Commons Attribution-NonCommercial-ShareAlike 4.0 International](https://creativecommons.org/licenses/by-nc-sa/4.0/)"
   ]
  },
  {
   "cell_type": "code",
   "execution_count": 1,
   "id": "5303e413",
   "metadata": {
    "tags": [
     "remove-cell"
    ]
   },
   "outputs": [],
   "source": [
    "from os.path import basename, exists\n",
    "\n",
    "def download(url):\n",
    "    filename = basename(url)\n",
    "    if not exists(filename):\n",
    "        from urllib.request import urlretrieve\n",
    "        local, _ = urlretrieve(url, filename)\n",
    "        print('Downloaded ' + local)\n",
    "    \n",
    "# download('https://github.com/AllenDowney/DSIRP/raw/main/utils.py')"
   ]
  },
  {
   "cell_type": "markdown",
   "id": "05f44388",
   "metadata": {},
   "source": [
    "[Click here to run this chapter on Colab](https://colab.research.google.com/github/AllenDowney/DSIRP/blob/main/chapters/chap01.ipynb)"
   ]
  },
  {
   "cell_type": "code",
   "execution_count": null,
   "id": "8f64478c",
   "metadata": {},
   "outputs": [],
   "source": []
  },
  {
   "cell_type": "markdown",
   "id": "334fec79",
   "metadata": {},
   "source": [
    "# HashMap\n",
    "\n",
    "In the previous chapter, we wrote an implementation of the `Map`\n",
    "interface that uses hashing. We expect this version to be faster,\n",
    "because the lists it searches are shorter, but the order of growth is\n",
    "still linear.\n",
    "\n",
    "If there are $n$ entries and $k$ sub-maps, the size of the sub-maps is\n",
    "$n/k$ on average, which is still proportional to $n$. But if we increase\n",
    "$k$ along with $n$, we can limit the size of $n/k$.\n",
    "\n",
    "For example, suppose we double $k$ every time $n$ exceeds $k$; in that\n",
    "case the number of entries per map would be less than 1 on average, and\n",
    "pretty much always less than 10, as long as the hash function spreads\n",
    "out the keys reasonably well.\n",
    "\n",
    "If the number of entries per sub-map is constant, we can search a single\n",
    "sub-map in constant time. And computing the hash function is generally\n",
    "constant time (it might depend on the size of the key, but does not\n",
    "depend on the number of keys). That makes the core `Map` methods, `put`\n",
    "and `get`, constant time.\n",
    "\n",
    "In the next exercise, you'll see the details.\n",
    "\n",
    "## Exercise 9\n",
    "\n",
    "In `MyHashMap.java`, I provide the outline of a hash table that grows\n",
    "when needed. Here's the beginning of the definition:"
   ]
  },
  {
   "cell_type": "code",
   "execution_count": 1,
   "id": "96b835f6",
   "metadata": {},
   "outputs": [],
   "source": [
    "class HashMap:\n",
    "    \"\"\"An implementation of a hashtable using a BetterMap\n",
    "    that grows so that the number of items never exceeds the number\n",
    "    of LinearMaps.\n",
    "\n",
    "    The amortized cost of add should be O(1) provided that the\n",
    "    implementation of sum in resize is linear.\"\"\"\n",
    "\n",
    "    def __init__(self):\n",
    "        \"\"\"Starts with 2 LinearMaps and 0 items.\"\"\"\n",
    "        self.maps = BetterMap(2)\n",
    "        self.num = 0\n",
    "\n",
    "    def get(self, k):\n",
    "        \"\"\"Looks up the key (k) and returns the corresponding value,\n",
    "        or raises KeyError if the key is not found.\"\"\"\n",
    "        return self.maps.get(k)\n",
    "\n",
    "    def add(self, k, v):\n",
    "        \"\"\"Resize the map if necessary and adds the new item.\"\"\"\n",
    "        if self.num == len(self.maps.maps):\n",
    "            self.resize()\n",
    "\n",
    "        self.maps.add(k, v)\n",
    "        self.num += 1\n",
    "\n",
    "    def resize(self):\n",
    "        \"\"\"Makes a new map, twice as big, and rehashes the items.\"\"\"\n",
    "        new_map = BetterMap(self.num * 2)\n",
    "\n",
    "        for m in self.maps.maps:\n",
    "            for k, v in m.items:\n",
    "                new_map.add(k, v)\n",
    "\n",
    "        self.maps = new_map\n"
   ]
  },
  {
   "cell_type": "markdown",
   "id": "0b115227",
   "metadata": {},
   "source": [
    "`MyHashMap` extends `MyBetterMap`, so it inherits the methods defined\n",
    "there. The only method it overrides is `put` which calls `put` in the\n",
    "superclass --- that is, it calls the version of `put` in `MyBetterMap`\n",
    "--- and then it checks whether it has to rehash. Calling `size` returns\n",
    "the total number of entries, $n$. Calling `maps.size` returns the number\n",
    "of embedded maps, $k$.\n",
    "\n",
    "The constant `FACTOR`, which is called the **load factor**, determines\n",
    "the maximum number of entries per sub-map, on average. If\n",
    "`n > k * FACTOR`, that means `n/k > FACTOR`, which means the number of\n",
    "entries per sub-map exceeds the threshold, so we call `rehash`.\n",
    "\n",
    "Run `ant build` to compile the source files. Then run . It should fail\n",
    "because the implementation of `rehash` throws an exception. Your job is\n",
    "to fill it in.\n",
    "\n",
    "Fill in the body of `rehash` to collect the entries in the table, resize\n",
    "the table, and then put the entries back in. I provide two methods that\n",
    "might come in handy: `MyBetterMap.makeMaps` and\n",
    "`MyLinearMap.getEntries`. Your solution should double the number of\n",
    "maps, $k$, each time it is called."
   ]
  },
  {
   "cell_type": "markdown",
   "id": "7831b24b",
   "metadata": {},
   "source": [
    "## Analyzing `MyHashMap`\n",
    "\n",
    "If the number of entries in the biggest sub-map is proportional to\n",
    "$n/k$, and $k$ grows in proportion to $n$, several of the core\n",
    "`MyBetterMap` methods become constant time:"
   ]
  },
  {
   "cell_type": "code",
   "execution_count": null,
   "id": "96093378",
   "metadata": {},
   "outputs": [],
   "source": [
    "public boolean containsKey(Object target) {\n",
    "    MyLinearMap<K, V> map = chooseMap(target);\n",
    "    return map.containsKey(target);\n",
    "}\n",
    "\n",
    "public V get(Object key) {\n",
    "    MyLinearMap<K, V> map = chooseMap(key);\n",
    "    return map.get(key);\n",
    "}\n",
    "\n",
    "public V remove(Object key) {\n",
    "    MyLinearMap<K, V> map = chooseMap(key);\n",
    "    return map.remove(key);\n",
    "}"
   ]
  },
  {
   "cell_type": "markdown",
   "id": "3396899d",
   "metadata": {},
   "source": [
    "Each method hashes a key, which is constant time, and then invokes a\n",
    "method on a sub-map, which is constant time.\n",
    "\n",
    "So far, so good. But the other core method, `put`, is a little harder to\n",
    "analyze. When we don't have to rehash, it is constant time, but when we\n",
    "do, it's linear. In that way, it's similar to `ArrayList.add`, which we\n",
    "analyzed in\n",
    "Section [\\[classifying-add\\]](#classifying-add){reference-type=\"ref\"\n",
    "reference=\"classifying-add\"}.\n",
    "\n",
    "For the same reason, `MyHashMap.put` turns out to be constant time if we\n",
    "average over a series of invocations. Again, the argument is based on\n",
    "amortized analysis (see\n",
    "Section [\\[classifying-add\\]](#classifying-add){reference-type=\"ref\"\n",
    "reference=\"classifying-add\"}).\n",
    "\n",
    "Suppose the initial number of sub-maps, $k$, is 2, and the load factor\n",
    "is 1. Now let's see how much work it takes to `put` a series of keys. As\n",
    "the basic \"unit of work\", we'll count the number of times we have to\n",
    "hash a key and add it to a sub-map.\n",
    "\n",
    "The first time we call `put` it takes 1 unit of work. The second time\n",
    "also takes 1 unit. The third time we have to rehash, so it takes 2 units\n",
    "to rehash the existing keys and 1 unit to hash the new key.\n",
    "\n",
    "Now the size of the hash table is 4, so the next time we call `put`, it\n",
    "takes 1 unit of work. But the next time we have to rehash, which takes 4\n",
    "units to rehash the existing keys and 1 unit to hash the new key.\n",
    "\n",
    "Figure [\\[fig-hashtable\\]](#fig-hashtable){reference-type=\"ref\"\n",
    "reference=\"fig-hashtable\"} shows the pattern, with the normal work of\n",
    "hashing a new key shown across the bottom and extra work of rehashing\n",
    "shown as a tower.\n",
    "\n",
    "![Representation of the work done to add elements to a hash\n",
    "table.](figs/tower.pdf){width=\"5.5in\"}\n",
    "\n",
    "As the arrows suggest, if we knock down the towers, each one fills the\n",
    "space before the next tower. The result is a uniform height of 2 units,\n",
    "which shows that the average work per `put` is about 2 units. And that\n",
    "means that `put` is constant time on average.\n",
    "\n",
    "This diagram also shows why it is important to double the number of\n",
    "sub-maps, $k$, when we rehash. If we only add to $k$ instead of\n",
    "multiplying, the towers would be too close together and they would start\n",
    "piling up. And that would not be constant time."
   ]
  },
  {
   "cell_type": "markdown",
   "id": "e03ab98a",
   "metadata": {},
   "source": [
    "## The tradeoffs\n",
    "\n",
    "We've shown that `containsKey`, `get`, and `remove` are constant time,\n",
    "and `put` is constant time on average. We should take a minute to\n",
    "appreciate how remarkable that is. The performance of these operations\n",
    "is pretty much the same no matter how big the hash table is. Well, sort\n",
    "of.\n",
    "\n",
    "Remember that our analysis is based on a simple model of computation\n",
    "where each \"unit of work\" takes the same amount of time. Real computers\n",
    "are more complicated than that. In particular, they are usually fastest\n",
    "when working with data structures small enough to fit in cache; somewhat\n",
    "slower if the structure doesn't fit in cache but still fits in memory;\n",
    "and *much* slower if the structure doesn't fit in memory.\n",
    "\n",
    "Another limitation of this implementation is that hashing doesn't help\n",
    "if we are given a value rather than a key: `containsValue` is linear\n",
    "because it has to search all of the sub-maps. And there is no\n",
    "particularly efficient way to look up a value and find the corresponding\n",
    "key (or possibly keys).\n",
    "\n",
    "And there's one more limitation: some of the methods that were constant\n",
    "time in `MyLinearMap` have become linear. For example:"
   ]
  },
  {
   "cell_type": "code",
   "execution_count": null,
   "id": "68221bae",
   "metadata": {},
   "outputs": [],
   "source": [
    "public void clear() {\n",
    "    for (int i=0; i<maps.size(); i++) {\n",
    "        maps.get(i).clear();\n",
    "    }\n",
    "}"
   ]
  },
  {
   "cell_type": "markdown",
   "id": "a389bffc",
   "metadata": {},
   "source": [
    "`clear` has to clear all of the sub-maps, and the number of sub-maps is\n",
    "proportional to $n$, so it's linear. Fortunately, this operation is not\n",
    "used very often, so for most applications this tradeoff is acceptable."
   ]
  },
  {
   "cell_type": "markdown",
   "id": "696dc2ee",
   "metadata": {},
   "source": [
    "## Profiling `MyHashMap`\n",
    "\n",
    "Before we go on, we should check whether `MyHashMap.put` is really\n",
    "constant time.\n",
    "\n",
    "Run `ant build` to compile the source files. Then run\n",
    "`ant ProfileMapPut`. It measures the runtime of `HashMap.put` (provided\n",
    "by Java) with a range of problem sizes, and plots runtime versus problem\n",
    "size on a log-log scale. If this operation is constant time, the total\n",
    "time for $n$ operations should be linear, so the result should be a\n",
    "straight line with slope 1. When I ran this code, the estimated slope\n",
    "was close to 1, which is consistent with our analysis. You should get\n",
    "something similar.\n",
    "\n",
    "Modify `ProfileMapPut.java` so it profiles your implementation,\n",
    "`MyHashMap`, instead of Java's `HashMap`. Run the profiler again and see\n",
    "if the slope is near 1. You might have to adjust `startN` and\n",
    "`endMillis` to find a range of problem sizes where the runtimes are more\n",
    "than a few milliseconds, but not more than a few thousand.\n",
    "\n",
    "When I ran this code, I got a surprise: the slope was about 1.7, which\n",
    "suggests that this implementation is not constant time after all. It\n",
    "contains a \"performance bug\".\n",
    "\n",
    "Before you read the next section, you should track down the error, fix\n",
    "it, and confirm that `put` is now constant time, as expected."
   ]
  },
  {
   "cell_type": "markdown",
   "id": "b9a91c96",
   "metadata": {},
   "source": [
    "## Fixing `MyHashMap`\n",
    "\n",
    "The problem with `MyHashMap` is in `size`, which is inherited from\n",
    "`MyBetterMap`:"
   ]
  },
  {
   "cell_type": "code",
   "execution_count": null,
   "id": "8552bdce",
   "metadata": {},
   "outputs": [],
   "source": [
    "public int size() {\n",
    "    int total = 0;\n",
    "    for (MyLinearMap<K, V> map: maps) {\n",
    "        total += map.size();\n",
    "    }\n",
    "    return total;\n",
    "}"
   ]
  },
  {
   "cell_type": "markdown",
   "id": "31e12748",
   "metadata": {},
   "source": [
    "To add up the total size it has to iterate the sub-maps. Since we\n",
    "increase the number of sub-maps, $k$, as the number of entries, $n$,\n",
    "increases, $k$ is proportional to $n$, so `size` is linear.\n",
    "\n",
    "And that makes `put` linear, too, because it uses `size`:"
   ]
  },
  {
   "cell_type": "code",
   "execution_count": null,
   "id": "8d105b80",
   "metadata": {},
   "outputs": [],
   "source": [
    "public V put(K key, V value) {\n",
    "    V oldValue = super.put(key, value);\n",
    "\n",
    "    if (size() > maps.size() * FACTOR) {\n",
    "        rehash();\n",
    "    }\n",
    "    return oldValue;\n",
    "}"
   ]
  },
  {
   "cell_type": "markdown",
   "id": "0d529774",
   "metadata": {},
   "source": [
    "Everything we did to make `put` constant time is wasted if `size` is\n",
    "linear!\n",
    "\n",
    "Fortunately, there is a simple solution, and we have seen it before: we\n",
    "have to keep the number of entries in an instance variable and update it\n",
    "whenever we call a method that changes it.\n",
    "\n",
    "You'll find my solution in the repository for this book, in\n",
    "`MyFixedHashMap.java`. Here's the beginning of the class definition:"
   ]
  },
  {
   "cell_type": "code",
   "execution_count": null,
   "id": "193f7513",
   "metadata": {},
   "outputs": [],
   "source": [
    "public class MyFixedHashMap<K, V> extends MyHashMap<K, V> implements Map<K, V> {\n",
    "\n",
    "    private int size = 0;\n",
    "\n",
    "    public void clear() {\n",
    "        super.clear();\n",
    "        size = 0;\n",
    "    }"
   ]
  },
  {
   "cell_type": "markdown",
   "id": "a0a592e7",
   "metadata": {},
   "source": [
    "Rather than modify `MyHashMap`, I define a new class that extends it. It\n",
    "adds a new instance variable, `size`, which is initialized to zero.\n",
    "\n",
    "Updating `clear` is straightforward; we invoke `clear` in the superclass\n",
    "(which clears the sub-maps), and then update `size`.\n",
    "\n",
    "Updating `remove` and `put` is a little more difficult because when we\n",
    "invoke the method on the superclass, we can't tell whether the size of\n",
    "the sub-map changed. Here's how I worked around that:"
   ]
  },
  {
   "cell_type": "code",
   "execution_count": null,
   "id": "4deae29b",
   "metadata": {},
   "outputs": [],
   "source": [
    "public V remove(Object key) {\n",
    "    MyLinearMap<K, V> map = chooseMap(key);\n",
    "    size -= map.size();\n",
    "    V oldValue = map.remove(key);\n",
    "    size += map.size();\n",
    "    return oldValue;\n",
    "}"
   ]
  },
  {
   "cell_type": "markdown",
   "id": "c672fd75",
   "metadata": {},
   "source": [
    "`remove` uses `chooseMap` to find the right sub-map, then subtracts away\n",
    "the size of the sub-map. It invokes `remove` on the sub-map, which may\n",
    "or may not change the size of the sub-map, depending on whether it finds\n",
    "the key. But either way, we add the new size of the sub-map back to\n",
    "`size`, so the final value of `size` is correct.\n",
    "\n",
    "The rewritten version of `put` is similar:"
   ]
  },
  {
   "cell_type": "code",
   "execution_count": null,
   "id": "d3f07c5b",
   "metadata": {},
   "outputs": [],
   "source": [
    "public V put(K key, V value) {\n",
    "    MyLinearMap<K, V> map = chooseMap(key);\n",
    "    size -= map.size();\n",
    "    V oldValue = map.put(key, value);\n",
    "    size += map.size();\n",
    "\n",
    "    if (size() > maps.size() * FACTOR) {\n",
    "        size = 0;\n",
    "        rehash();\n",
    "    }\n",
    "    return oldValue;\n",
    "}"
   ]
  },
  {
   "cell_type": "markdown",
   "id": "3b7b0793",
   "metadata": {},
   "source": [
    "We have the same problem here: when we invoke `put` on the sub-map, we\n",
    "don't know whether it added a new entry. So we use the same solution,\n",
    "subtracting off the old size and then adding in the new size.\n",
    "\n",
    "Now the implementation of the `size` method is simple:"
   ]
  },
  {
   "cell_type": "code",
   "execution_count": null,
   "id": "006ea4c9",
   "metadata": {},
   "outputs": [],
   "source": [
    "public int size() {\n",
    "    return size;\n",
    "}"
   ]
  },
  {
   "cell_type": "markdown",
   "id": "14fda5c6",
   "metadata": {},
   "source": [
    "And that's pretty clearly constant time.\n",
    "\n",
    "When I profiled this solution, I found that the total time for putting\n",
    "$n$ keys is proportional to $n$, which means that each `put` is constant\n",
    "time, as it's supposed to be.\n",
    "\n",
    "## UML class diagrams\n",
    "\n",
    "One challenge of working with the code in this chapter is that we have\n",
    "several classes that depend on each other. Here are some of the\n",
    "relationships between the classes:\n",
    "\n",
    "-   `MyLinearMap` contains a `LinkedList` and implements `Map`.\n",
    "\n",
    "-   `MyBetterMap` contains many `MyLinearMap` objects and implements\n",
    "    `Map`.\n",
    "\n",
    "-   `MyHashMap` extends `MyBetterMap`, so it also contains `MyLinearMap`\n",
    "    objects, and it implements `Map`.\n",
    "\n",
    "-   `MyFixedHashMap` extends `MyHashMap` and implements `Map`.\n",
    "\n",
    "To help keep track of relationships like these, software engineers often\n",
    "use **UML class diagrams**. UML stands for Unified Modeling Language\n",
    "(see <http://thinkdast.com/uml>). A \"class diagram\" is one of several\n",
    "graphical standards defined by UML.\n",
    "\n",
    "In a class diagram, each class is represented by a box, and\n",
    "relationships between classes are represented by arrows.\n",
    "Figure [\\[fig-uml\\]](#fig-uml){reference-type=\"ref\" reference=\"fig-uml\"}\n",
    "shows a UML class diagram for the classes from the previous exercise,\n",
    "generated using the online tool yUML at <http://yuml.me/>.\n",
    "\n",
    "![UML diagram for the classes in this\n",
    "chapter.](figs/yuml1.pdf){width=\"5in\"}\n",
    "\n",
    "Different relationships are represented by different arrows:\n",
    "\n",
    "-   Arrows with a solid head indicate HAS-A relationships. For example,\n",
    "    each instance of `MyBetterMap` contains multiple instances of\n",
    "    `MyLinearMap`, so they are connected by a solid arrow.\n",
    "\n",
    "-   Arrows with a hollow head and a solid line indicate IS-A\n",
    "    relationships. For example, `MyHashMap` extends `MyBetterMap`, so\n",
    "    they are connected by an IS-A arrow.\n",
    "\n",
    "-   Arrows with a hollow head and a dashed line indicate that a class\n",
    "    implements an interface; in this diagram, every class implements\n",
    "    `Map`.\n",
    "\n",
    "UML class diagrams provide a concise way to represent a lot of\n",
    "information about a collection of classes. They are used during design\n",
    "phases to communicate about alternative designs, during implementation\n",
    "phases to maintain a shared mental map of the project, and during\n",
    "deployment to document the design."
   ]
  }
 ],
 "metadata": {
  "kernelspec": {
   "display_name": "Python 3",
   "language": "python",
   "name": "python3"
  },
  "language_info": {
   "codemirror_mode": {
    "name": "ipython",
    "version": 3
   },
   "file_extension": ".py",
   "mimetype": "text/x-python",
   "name": "python",
   "nbconvert_exporter": "python",
   "pygments_lexer": "ipython3",
   "version": "3.9.4"
  }
 },
 "nbformat": 4,
 "nbformat_minor": 5
}
