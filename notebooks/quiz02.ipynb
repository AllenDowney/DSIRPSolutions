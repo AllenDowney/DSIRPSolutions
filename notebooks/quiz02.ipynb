{
 "cells": [
  {
   "cell_type": "markdown",
   "metadata": {},
   "source": [
    "# Quiz 2\n",
    "\n",
    "BEFORE YOU START THIS QUIZ:\n",
    "\n",
    "1. Click on \"Copy to Drive\" to make a copy of the quiz,\n",
    "\n",
    "2. Click on \"Share\",\n",
    "    \n",
    "3. Click on \"Change\" and select \"Anyone with this link can edit\"\n",
    "    \n",
    "4. Click \"Copy link\" and\n",
    "\n",
    "5. Paste the link into [this Canvas assignment](https://canvas.olin.edu/courses/313/assignments/4929). \n",
    "\n",
    "This quiz is open notes, open internet. The only thing you can't do is ask for help.\n",
    "\n",
    "Copyright 2021 Allen Downey, [MIT License](http://opensource.org/licenses/MIT)"
   ]
  },
  {
   "cell_type": "markdown",
   "metadata": {},
   "source": [
    "## Question 1\n",
    "\n",
    "Suppose you have a function that takes a lot of options; some are required and some are optional.\n",
    "\n",
    "Before you run the function, you might want to check that:\n",
    "\n",
    "1. All required options are provided, and\n",
    "\n",
    "2. No illegal options are provided.\n",
    "\n",
    "For example, suppose this dictionary contains the provided options and their values:"
   ]
  },
  {
   "cell_type": "code",
   "execution_count": null,
   "metadata": {},
   "outputs": [],
   "source": [
    "options = dict(a=1, b=2)\n",
    "options"
   ]
  },
  {
   "cell_type": "markdown",
   "metadata": {},
   "source": [
    "And suppose that only `a` is required."
   ]
  },
  {
   "cell_type": "code",
   "execution_count": null,
   "metadata": {},
   "outputs": [],
   "source": [
    "required = ['a'] "
   ]
  },
  {
   "cell_type": "markdown",
   "metadata": {},
   "source": [
    "And the optional arguments are `b`, and `c`:"
   ]
  },
  {
   "cell_type": "code",
   "execution_count": null,
   "metadata": {},
   "outputs": [],
   "source": [
    "optional = ['b', 'c'] "
   ]
  },
  {
   "cell_type": "markdown",
   "metadata": {},
   "source": [
    "An option is legal if it is required or optional. All other options are illegal.\n",
    "\n",
    "Write a function called `check_options` that takes a dictionary of options and their values, a sequence of required options, and a sequence of options that are legal but not required.\n",
    "\n",
    "1. It should check that all required options are provided and, if not, print an error message that lists the ones that are missing.\n",
    "\n",
    "2. It should check that all provided options are legal and, if not, print an error message that lists the ones that are illegal.\n",
    "\n",
    "For full credit, you must use set operations when they are appropriate rather than writing `for` loops."
   ]
  },
  {
   "cell_type": "code",
   "execution_count": null,
   "metadata": {},
   "outputs": [],
   "source": [
    "# Solution\n",
    "\n",
    "def check_required(options, required):\n",
    "    leftovers = set(required).difference(options)\n",
    "    if leftovers:\n",
    "        print('Required options missing:', leftovers)\n",
    "\n",
    "def check_legal(options, legal):\n",
    "    illegal = set(options).difference(legal)\n",
    "    if illegal:\n",
    "        print('Illegal options provided:', illegal)\n",
    "        \n",
    "def check_options(options, required, optional):\n",
    "    check_required(options, required)\n",
    "    \n",
    "    legal = set(required).union(optional)\n",
    "    check_legal(options, legal)"
   ]
  },
  {
   "cell_type": "markdown",
   "metadata": {},
   "source": [
    "The following test should display nothing because the dictionary contains all required options and no illegal ones."
   ]
  },
  {
   "cell_type": "code",
   "execution_count": null,
   "metadata": {},
   "outputs": [],
   "source": [
    "options = dict(a=1, b=2)\n",
    "check_options(options, required, optional)"
   ]
  },
  {
   "cell_type": "markdown",
   "metadata": {},
   "source": [
    "The following test should print an error message because the dictionary is missing a required option."
   ]
  },
  {
   "cell_type": "code",
   "execution_count": null,
   "metadata": {},
   "outputs": [],
   "source": [
    "options = dict(b=2, c=3)\n",
    "check_options(options, required, optional)"
   ]
  },
  {
   "cell_type": "markdown",
   "metadata": {},
   "source": [
    "The following test should display an error message because the dictionary contains an illegal option."
   ]
  },
  {
   "cell_type": "code",
   "execution_count": null,
   "metadata": {},
   "outputs": [],
   "source": [
    "options = dict(a=1, b=2, d=4)\n",
    "check_options(options, required, optional)"
   ]
  },
  {
   "cell_type": "markdown",
   "metadata": {},
   "source": [
    "## Question 2\n",
    "\n",
    "The set method `symmetric_difference` operates on two sets and computes the set of elements that appear in either set but not both."
   ]
  },
  {
   "cell_type": "code",
   "execution_count": null,
   "metadata": {},
   "outputs": [],
   "source": [
    "s1 = {1, 2}\n",
    "s2 = {2, 3}\n",
    "\n",
    "s1.symmetric_difference(s2)"
   ]
  },
  {
   "cell_type": "markdown",
   "metadata": {},
   "source": [
    "The symmetric difference operation is also defined for more that two sets. It computes **the set of elements that appear in an odd number of sets**.\n",
    "\n",
    "The `symmetric_difference` method can only handle two sets (unlike some of the other set methods), but you can chain the method like this:"
   ]
  },
  {
   "cell_type": "code",
   "execution_count": null,
   "metadata": {},
   "outputs": [],
   "source": [
    "s3 = {3, 4}\n",
    "s1.symmetric_difference(s2).symmetric_difference(s3)"
   ]
  },
  {
   "cell_type": "markdown",
   "metadata": {},
   "source": [
    "However, for the sake of the exercise, let's suppose we don't have the set method `symmetric_difference` the equivalent `^` operator.\n",
    "\n",
    "Write a function that takes a list of sets as a parameter, computes their symmetric difference, and returns the result as a `set`."
   ]
  },
  {
   "cell_type": "code",
   "execution_count": null,
   "metadata": {},
   "outputs": [],
   "source": [
    "# Solution\n",
    "\n",
    "def symmetric_difference(sets):\n",
    "    d = {}\n",
    "    for s in sets:\n",
    "        for x in s:\n",
    "            if x in d:\n",
    "                d[x] += 1\n",
    "            else:\n",
    "                d[x] = 1\n",
    "    \n",
    "    res = set()\n",
    "    for x, count in d.items():\n",
    "        if count%2 == 1:\n",
    "            res.add(x)\n",
    "    \n",
    "    return res"
   ]
  },
  {
   "cell_type": "markdown",
   "metadata": {},
   "source": [
    "Use the following tests to check your function."
   ]
  },
  {
   "cell_type": "code",
   "execution_count": null,
   "metadata": {},
   "outputs": [],
   "source": [
    "symmetric_difference([s1, s2])    # should be {1, 3}"
   ]
  },
  {
   "cell_type": "code",
   "execution_count": null,
   "metadata": {},
   "outputs": [],
   "source": [
    "symmetric_difference([s2, s3])     # should be {2, 4}"
   ]
  },
  {
   "cell_type": "code",
   "execution_count": null,
   "metadata": {},
   "outputs": [],
   "source": [
    "symmetric_difference([s1, s2, s3]) # should be {1, 4}"
   ]
  },
  {
   "cell_type": "code",
   "execution_count": null,
   "metadata": {},
   "outputs": [],
   "source": [
    "# Solution\n",
    "\n",
    "from collections import Counter\n",
    "\n",
    "def symmetric_difference(sets):\n",
    "    c = Counter()\n",
    "    for s in sets:\n",
    "        c.update(s)\n",
    "    \n",
    "    return {x for x, count in c.items() if count%2 == 1}"
   ]
  },
  {
   "cell_type": "code",
   "execution_count": null,
   "metadata": {},
   "outputs": [],
   "source": [
    "# Solution\n",
    "\n",
    "from itertools import chain\n",
    "\n",
    "for x in chain(s1, s2, s3):\n",
    "    print(x)"
   ]
  },
  {
   "cell_type": "code",
   "execution_count": null,
   "metadata": {},
   "outputs": [],
   "source": [
    "# Solution\n",
    "\n",
    "def symmetric_difference(sets):\n",
    "    c = Counter(chain(*sets)) \n",
    "    return set(x for x, count in c.items() if count%2 == 1)"
   ]
  },
  {
   "cell_type": "code",
   "execution_count": null,
   "metadata": {},
   "outputs": [],
   "source": [
    "# Solution\n",
    "\n",
    "symmetric_difference([s1, s2])"
   ]
  },
  {
   "cell_type": "code",
   "execution_count": null,
   "metadata": {},
   "outputs": [],
   "source": [
    "# Solution\n",
    "\n",
    "symmetric_difference([s1, s2, s3])"
   ]
  },
  {
   "cell_type": "markdown",
   "metadata": {},
   "source": [
    "## Question 3\n",
    "\n",
    "Write a generator function called `evens_and_odds` that takes a list of integers and yields:\n",
    "\n",
    "* All of the elements of the list that are even, followed by\n",
    "\n",
    "* All of the elements of the list that are odd.\n",
    "\n",
    "For example, if the list is `[1, 2, 4, 7]`, the sequence of values generated should be `2, 4, 1, 7`."
   ]
  },
  {
   "cell_type": "code",
   "execution_count": null,
   "metadata": {},
   "outputs": [],
   "source": [
    "# Solution\n",
    "\n",
    "def evens_and_odds(t):\n",
    "    for x in t:\n",
    "        if x%2 == 0:\n",
    "            yield x\n",
    "            \n",
    "    for x in t:\n",
    "        if x%2 == 1:\n",
    "            yield x"
   ]
  },
  {
   "cell_type": "markdown",
   "metadata": {},
   "source": [
    "Use this example to test your function."
   ]
  },
  {
   "cell_type": "code",
   "execution_count": null,
   "metadata": {},
   "outputs": [],
   "source": [
    "t = [1, 2, 4, 7]\n",
    "\n",
    "for x in evens_and_odds(t):\n",
    "    print(x)"
   ]
  },
  {
   "cell_type": "markdown",
   "metadata": {},
   "source": [
    "As a challenge, JUST FOR FUN, write a version of this function that works if the argument is an iterator that you can only iterate once."
   ]
  },
  {
   "cell_type": "code",
   "execution_count": null,
   "metadata": {},
   "outputs": [],
   "source": [
    "# Solution\n",
    "\n",
    "def evens_and_odds_it(it):\n",
    "    saved = []\n",
    "    for x in it:\n",
    "        if x%2 == 0:\n",
    "            yield x\n",
    "        else:\n",
    "            saved.append(x)\n",
    "            \n",
    "    yield from saved"
   ]
  },
  {
   "cell_type": "code",
   "execution_count": null,
   "metadata": {},
   "outputs": [],
   "source": [
    "# Solution\n",
    "\n",
    "for x in evens_and_odds_it(val for val in t):\n",
    "    print(x)"
   ]
  },
  {
   "cell_type": "markdown",
   "metadata": {},
   "source": [
    "## Question 4\n",
    "\n",
    "The following string contains the lyrics of a [well-known song](https://youtu.be/dQw4w9WgXcQ?t=43)."
   ]
  },
  {
   "cell_type": "code",
   "execution_count": null,
   "metadata": {},
   "outputs": [],
   "source": [
    "lyrics = \"\"\"\n",
    "Never gonna give you up\n",
    "Never gonna let you down\n",
    "Never gonna run around and desert you\n",
    "Never gonna make you cry\n",
    "Never gonna say goodbye\n",
    "Never gonna tell a lie and hurt you \n",
    "\"\"\""
   ]
  },
  {
   "cell_type": "markdown",
   "metadata": {},
   "source": [
    "The following generator function yields the words in `lyrics` one at a time."
   ]
  },
  {
   "cell_type": "code",
   "execution_count": null,
   "metadata": {},
   "outputs": [],
   "source": [
    "def generate_lyrics(lyrics):\n",
    "    for word in lyrics.split():\n",
    "        yield word"
   ]
  },
  {
   "cell_type": "markdown",
   "metadata": {},
   "source": [
    "Write a few lines of code that use `generate_lyrics` to iterate through the words **only once** and build a dictionary that maps from each word to the set of words that follow it.\n",
    "\n",
    "For example, the first two entries in the dictionary should be\n",
    "\n",
    "```\n",
    "{'Never': {'gonna'},\n",
    " 'gonna': {'give', 'let', 'make', 'run', 'say', 'tell'},\n",
    " ...\n",
    "```\n",
    "\n",
    "because in `lyrics`, the word \"Never\" is always followed by \"gonna\", and the word \"gonna\" is followed by six different words."
   ]
  },
  {
   "cell_type": "code",
   "execution_count": null,
   "metadata": {},
   "outputs": [],
   "source": [
    "# Solution\n",
    "\n",
    "it = generate_lyrics(lyrics)\n",
    "word1 = next(it)\n",
    "\n",
    "d = {}\n",
    "for word2 in it:\n",
    "    if word1 in d:\n",
    "        d[word1].add(word2)\n",
    "    else:\n",
    "        d[word1] = {word2}\n",
    "    word1 = word2\n",
    "    \n",
    "d"
   ]
  },
  {
   "cell_type": "code",
   "execution_count": null,
   "metadata": {},
   "outputs": [],
   "source": [
    "# Solution\n",
    "\n",
    "it = generate_lyrics(lyrics)\n",
    "word1 = next(it)\n",
    "\n",
    "d = {}\n",
    "for word2 in it:\n",
    "    d.setdefault(word1, set()).add(word2)\n",
    "    word1 = word2\n",
    "\n",
    "d"
   ]
  },
  {
   "cell_type": "code",
   "execution_count": null,
   "metadata": {},
   "outputs": [],
   "source": [
    "# Solution\n",
    "\n",
    "from collections import defaultdict\n",
    "\n",
    "it = generate_lyrics(lyrics)\n",
    "word1 = next(it)\n",
    "\n",
    "dd = defaultdict(set)\n",
    "for word2 in it:\n",
    "    dd[word1].add(word2)\n",
    "    word1 = word2\n",
    "\n",
    "dd"
   ]
  },
  {
   "cell_type": "code",
   "execution_count": null,
   "metadata": {},
   "outputs": [],
   "source": []
  }
 ],
 "metadata": {
  "kernelspec": {
   "display_name": "Python 3",
   "language": "python",
   "name": "python3"
  },
  "language_info": {
   "codemirror_mode": {
    "name": "ipython",
    "version": 3
   },
   "file_extension": ".py",
   "mimetype": "text/x-python",
   "name": "python",
   "nbconvert_exporter": "python",
   "pygments_lexer": "ipython3",
   "version": "3.9.4"
  }
 },
 "nbformat": 4,
 "nbformat_minor": 1
}
