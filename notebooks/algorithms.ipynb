{
 "cells": [
  {
   "cell_type": "markdown",
   "metadata": {},
   "source": [
    "# Algorithms"
   ]
  },
  {
   "cell_type": "markdown",
   "metadata": {},
   "source": [
    "*Data Structures and Information Retrieval in Python*\n",
    "\n",
    "Copyright 2021 Allen Downey\n",
    "\n",
    "License: [Creative Commons Attribution-NonCommercial-ShareAlike 4.0 International](https://creativecommons.org/licenses/by-nc-sa/4.0/)"
   ]
  },
  {
   "cell_type": "markdown",
   "metadata": {},
   "source": [
    "## Searching for anagrams\n",
    "\n",
    "In this notebook we'll implement algorithms for two tasks:\n",
    "\n",
    "* Testing a pair of words to see if they are anagrams of each other, that is, if you can rearrange the letters in one word to spell the other.\n",
    "\n",
    "* Searching a list of words for all pairs that are anagrams of each other.\n",
    "\n",
    "There is a point to these examples, which I will explain at the end."
   ]
  },
  {
   "cell_type": "markdown",
   "metadata": {},
   "source": [
    "**Exercise 1:** Write a function that takes two words and returns `True` if they are anagrams. Test your function with the examples below."
   ]
  },
  {
   "cell_type": "code",
   "execution_count": 3,
   "metadata": {},
   "outputs": [],
   "source": [
    "def is_anagram(word1, word2):\n",
    "    return False"
   ]
  },
  {
   "cell_type": "code",
   "execution_count": 4,
   "metadata": {},
   "outputs": [],
   "source": [
    "# Solution\n",
    "\n",
    "def is_anagram(word1, word2):\n",
    "    t = list(word2)\n",
    "    for letter in word1:\n",
    "        if letter not in t:\n",
    "            return False\n",
    "        t.remove(letter)\n",
    "    return len(t) == 0"
   ]
  },
  {
   "cell_type": "code",
   "execution_count": 5,
   "metadata": {},
   "outputs": [],
   "source": [
    "# Solution\n",
    "\n",
    "from collections import Counter\n",
    "\n",
    "def is_anagram(word1, word2):\n",
    "    return Counter(word1) == Counter(word2)"
   ]
  },
  {
   "cell_type": "code",
   "execution_count": 6,
   "metadata": {},
   "outputs": [],
   "source": [
    "# Solution\n",
    "\n",
    "def is_anagram(word1, word2):\n",
    "    return sorted(word1) == sorted(word2)"
   ]
  },
  {
   "cell_type": "code",
   "execution_count": 7,
   "metadata": {},
   "outputs": [
    {
     "data": {
      "text/plain": [
       "True"
      ]
     },
     "execution_count": 7,
     "metadata": {},
     "output_type": "execute_result"
    }
   ],
   "source": [
    "is_anagram('tachymetric', 'mccarthyite') # True"
   ]
  },
  {
   "cell_type": "code",
   "execution_count": 8,
   "metadata": {},
   "outputs": [
    {
     "data": {
      "text/plain": [
       "False"
      ]
     },
     "execution_count": 8,
     "metadata": {},
     "output_type": "execute_result"
    }
   ],
   "source": [
    "is_anagram('post', 'top') # False, letter not present"
   ]
  },
  {
   "cell_type": "code",
   "execution_count": 9,
   "metadata": {},
   "outputs": [
    {
     "data": {
      "text/plain": [
       "False"
      ]
     },
     "execution_count": 9,
     "metadata": {},
     "output_type": "execute_result"
    }
   ],
   "source": [
    "is_anagram('pott', 'top') # False, letter present but not enough copies"
   ]
  },
  {
   "cell_type": "code",
   "execution_count": 10,
   "metadata": {},
   "outputs": [
    {
     "data": {
      "text/plain": [
       "False"
      ]
     },
     "execution_count": 10,
     "metadata": {},
     "output_type": "execute_result"
    }
   ],
   "source": [
    "is_anagram('top', 'post') # False, letters left over at the end"
   ]
  },
  {
   "cell_type": "markdown",
   "metadata": {},
   "source": [
    "**Exercise 2:** Use `timeit` to see how fast your function is for these examples:"
   ]
  },
  {
   "cell_type": "code",
   "execution_count": 11,
   "metadata": {},
   "outputs": [
    {
     "name": "stdout",
     "output_type": "stream",
     "text": [
      "418 ns ± 6.01 ns per loop (mean ± std. dev. of 7 runs, 1000000 loops each)\n"
     ]
    }
   ],
   "source": [
    "%timeit is_anagram('tops', 'spot')"
   ]
  },
  {
   "cell_type": "code",
   "execution_count": 12,
   "metadata": {},
   "outputs": [
    {
     "name": "stdout",
     "output_type": "stream",
     "text": [
      "780 ns ± 0.647 ns per loop (mean ± std. dev. of 7 runs, 1000000 loops each)\n"
     ]
    }
   ],
   "source": [
    "%timeit is_anagram('tachymetric', 'mccarthyite')"
   ]
  },
  {
   "cell_type": "markdown",
   "metadata": {},
   "source": [
    "NOTE: How can we compare algorithms running on different computers?"
   ]
  },
  {
   "cell_type": "markdown",
   "metadata": {},
   "source": [
    "## Searching for anagram pairs"
   ]
  },
  {
   "cell_type": "markdown",
   "metadata": {},
   "source": [
    "**Exercise 3:** Write a function that takes a word list and returns a list of all anagram pairs."
   ]
  },
  {
   "cell_type": "code",
   "execution_count": 13,
   "metadata": {},
   "outputs": [],
   "source": [
    "short_word_list = ['proudest', 'stop', 'pots', 'tops', 'sprouted']"
   ]
  },
  {
   "cell_type": "code",
   "execution_count": 23,
   "metadata": {},
   "outputs": [],
   "source": [
    "def all_anagram_pairs(word_list):\n",
    "    return []"
   ]
  },
  {
   "cell_type": "code",
   "execution_count": 24,
   "metadata": {},
   "outputs": [],
   "source": [
    "# Solution\n",
    "\n",
    "def all_anagram_pairs(word_list):\n",
    "    \"\"\"Finds all anagram pairs\n",
    "    \"\"\"\n",
    "    res = []\n",
    "    for i, word1 in enumerate(word_list):\n",
    "        for word2 in word_list[i+1:]:\n",
    "            if is_anagram(word1, word2):\n",
    "                res.append((word1, word2))\n",
    "    return res  "
   ]
  },
  {
   "cell_type": "code",
   "execution_count": 25,
   "metadata": {},
   "outputs": [
    {
     "data": {
      "text/plain": [
       "[('proudest', 'sprouted'),\n",
       " ('stop', 'pots'),\n",
       " ('stop', 'tops'),\n",
       " ('pots', 'tops')]"
      ]
     },
     "execution_count": 25,
     "metadata": {},
     "output_type": "execute_result"
    }
   ],
   "source": [
    "all_anagram_pairs(short_word_list)"
   ]
  },
  {
   "cell_type": "markdown",
   "metadata": {},
   "source": [
    "The following cell downloads a file containing a list of English words."
   ]
  },
  {
   "cell_type": "code",
   "execution_count": 26,
   "metadata": {},
   "outputs": [
    {
     "name": "stdout",
     "output_type": "stream",
     "text": [
      "Downloaded american-english\n"
     ]
    }
   ],
   "source": [
    "from os.path import basename, exists\n",
    "\n",
    "def download(url):\n",
    "    filename = basename(url)\n",
    "    if not exists(filename):\n",
    "        from urllib.request import urlretrieve\n",
    "        local, _ = urlretrieve(url, filename)\n",
    "        print('Downloaded ' + local)\n",
    "    \n",
    "download('https://github.com/AllenDowney/DSIRP/raw/main/american-english')"
   ]
  },
  {
   "cell_type": "markdown",
   "metadata": {},
   "source": [
    "The following function reads a file and returns a set of words (I used a set because after we convert words to lower case, there are some repeats.)"
   ]
  },
  {
   "cell_type": "code",
   "execution_count": 61,
   "metadata": {},
   "outputs": [],
   "source": [
    "def read_words(filename):\n",
    "    \"\"\"Read lines from a file and split them into words.\"\"\"\n",
    "    res = set()\n",
    "    for line in open(filename):\n",
    "        for word in line.split():\n",
    "            res.add(word.strip().lower())\n",
    "    return res"
   ]
  },
  {
   "cell_type": "code",
   "execution_count": 62,
   "metadata": {},
   "outputs": [
    {
     "data": {
      "text/plain": [
       "100781"
      ]
     },
     "execution_count": 62,
     "metadata": {},
     "output_type": "execute_result"
    }
   ],
   "source": [
    "word_list = read_words('american-english')\n",
    "len(word_list)"
   ]
  },
  {
   "cell_type": "markdown",
   "metadata": {},
   "source": [
    "**Exercise 4:** Loop through the word list and print all words that are anagrams of `stop`."
   ]
  },
  {
   "cell_type": "code",
   "execution_count": 63,
   "metadata": {},
   "outputs": [
    {
     "name": "stdout",
     "output_type": "stream",
     "text": [
      "tops\n",
      "stop\n",
      "opts\n",
      "spot\n",
      "pots\n",
      "post\n"
     ]
    }
   ],
   "source": [
    "# Solution\n",
    "\n",
    "for word in word_list:\n",
    "    if is_anagram(word, 'stop'):\n",
    "        print(word)"
   ]
  },
  {
   "cell_type": "markdown",
   "metadata": {},
   "source": [
    "Now run `all_anagram_pairs` with the full `word_list`:"
   ]
  },
  {
   "cell_type": "code",
   "execution_count": 87,
   "metadata": {},
   "outputs": [
    {
     "data": {
      "text/plain": [
       "83.33333333333333"
      ]
     },
     "execution_count": 87,
     "metadata": {},
     "output_type": "execute_result"
    }
   ],
   "source": [
    "# pairs = all_anagram_pairs(word_list)"
   ]
  },
  {
   "cell_type": "markdown",
   "metadata": {},
   "source": [
    "**Exercise 5:** While that's running, let's estimate how long it's going to take."
   ]
  },
  {
   "cell_type": "code",
   "execution_count": 88,
   "metadata": {},
   "outputs": [
    {
     "name": "stdout",
     "output_type": "stream",
     "text": [
      "83.33333333333333 minutes\n"
     ]
    }
   ],
   "source": [
    "# Solution \n",
    "\n",
    "print(500e-9 * 1e5 * 1e5 / 60, 'minutes') "
   ]
  },
  {
   "cell_type": "markdown",
   "metadata": {},
   "source": [
    "## A better algorithm\n",
    "\n",
    "**Exercise 6:** Write a better algorithm! Hint: make a dictionary. How much faster is your algorithm?"
   ]
  },
  {
   "cell_type": "code",
   "execution_count": 81,
   "metadata": {},
   "outputs": [],
   "source": [
    "def all_anagram_lists(word_list):\n",
    "    \"\"\"Finds all anagrams in a list of words.\n",
    "\n",
    "    word_list: sequence of strings\n",
    "    \"\"\"\n",
    "    return {}"
   ]
  },
  {
   "cell_type": "code",
   "execution_count": 82,
   "metadata": {},
   "outputs": [],
   "source": [
    "# Solution\n",
    "\n",
    "def all_anagram_lists(word_list):\n",
    "    \"\"\"Finds all anagrams in a list of words.\n",
    "\n",
    "    word_list: sequence of strings\n",
    "    \n",
    "    returns: a map from a tuple of letters to a list of its anagrams.\n",
    "    \"\"\"\n",
    "    d = {}\n",
    "    for word in word_list:\n",
    "        t = tuple(sorted((word)))\n",
    "\n",
    "        if t not in d:\n",
    "            d[t] = [word]\n",
    "        else:\n",
    "            d[t].append(word)\n",
    "    return d"
   ]
  },
  {
   "cell_type": "code",
   "execution_count": 83,
   "metadata": {},
   "outputs": [
    {
     "name": "stdout",
     "output_type": "stream",
     "text": [
      "CPU times: user 204 ms, sys: 0 ns, total: 204 ms\n",
      "Wall time: 203 ms\n"
     ]
    }
   ],
   "source": [
    "%time anagram_map = all_anagram_lists(word_list)"
   ]
  },
  {
   "cell_type": "code",
   "execution_count": 84,
   "metadata": {},
   "outputs": [
    {
     "data": {
      "text/plain": [
       "93406"
      ]
     },
     "execution_count": 84,
     "metadata": {},
     "output_type": "execute_result"
    }
   ],
   "source": [
    "len(anagram_map)"
   ]
  },
  {
   "cell_type": "code",
   "execution_count": 89,
   "metadata": {},
   "outputs": [
    {
     "data": {
      "text/plain": [
       "25000.0"
      ]
     },
     "execution_count": 89,
     "metadata": {},
     "output_type": "execute_result"
    }
   ],
   "source": [
    "# Solution\n",
    "\n",
    "500e-9 * 1e5 * 1e5 / 200e-3"
   ]
  },
  {
   "cell_type": "markdown",
   "metadata": {},
   "source": [
    "## Summary\n",
    "\n",
    "What is the point of the examples in this notebook?\n",
    "\n",
    "* The different versions of `is_anagram` show that, when inputs are small, it is hard to say which algorithm will be the fastest. It often depends on details of the implementation. Anyway, the differences tend to be small, so it might not matter much in practice.\n",
    "\n",
    "* The different algorithms we used to search for anagram pairs show that, when inputs are large, we can often tell which algorithm will be fastest. And the difference between a fast algorithm and a slow one can be huge!"
   ]
  },
  {
   "cell_type": "markdown",
   "metadata": {},
   "source": [
    "## Exercises\n",
    "\n",
    "Before you work on these exercises, you might want to read the Python [Sorting How-To](https://docs.python.org/3/howto/sorting.html). It uses `lambda` to define an anonymous function, which [you can read about here](https://www.w3schools.com/python/python_lambda.asp).\n",
    "\n",
    "**Exercise 7:**\n",
    "Make a dictionary like `anagram_map` that contains only keys that map to a list with more than one element. You can use a `for` loop to make a new dictionary, or a [dictionary comprehension](https://www.freecodecamp.org/news/dictionary-comprehension-in-python-explained-with-examples/)."
   ]
  },
  {
   "cell_type": "code",
   "execution_count": 68,
   "metadata": {},
   "outputs": [
    {
     "data": {
      "text/plain": [
       "5872"
      ]
     },
     "execution_count": 68,
     "metadata": {},
     "output_type": "execute_result"
    }
   ],
   "source": [
    "# Solution\n",
    "\n",
    "anagram_map2 = {key: value for (key, value) in anagram_map.items()\n",
    "                if len(value) > 1}\n",
    "len(anagram_map2)"
   ]
  },
  {
   "cell_type": "markdown",
   "metadata": {},
   "source": [
    "**Exercise 8:**\n",
    "Find the longest word with at least one anagram. Suggestion: use the `key` argument of `sort` or `sorted` ([see here](https://stackoverflow.com/questions/8966538/syntax-behind-sortedkey-lambda))."
   ]
  },
  {
   "cell_type": "code",
   "execution_count": 69,
   "metadata": {},
   "outputs": [
    {
     "name": "stdout",
     "output_type": "stream",
     "text": [
      "[\"permissiveness's\", \"impressiveness's\"]\n",
      "[\"certification's\", \"rectification's\"]\n",
      "[\"amphitheater's\", \"amphitheatre's\"]\n",
      "[\"conservation's\", \"conversation's\"]\n",
      "['impressiveness', 'permissiveness']\n",
      "['certifications', 'rectifications']\n",
      "['tablespoonsful', 'tablespoonfuls']\n",
      "[\"enumeration's\", \"mountaineer's\"]\n",
      "['amphitheaters', 'amphitheatres']\n",
      "[\"edification's\", \"deification's\"]\n"
     ]
    }
   ],
   "source": [
    "# Solution\n",
    "\n",
    "it = sorted(anagram_map2.items(), key=lambda t: len(t[0]), reverse=True)\n",
    "for key, value in it[:10]:\n",
    "    print(value)"
   ]
  },
  {
   "cell_type": "markdown",
   "metadata": {},
   "source": [
    "**Exercise 9:**\n",
    "Find the largest list of words that are anagrams of each other."
   ]
  },
  {
   "cell_type": "code",
   "execution_count": 71,
   "metadata": {},
   "outputs": [
    {
     "name": "stdout",
     "output_type": "stream",
     "text": [
      "['tales', 'least', 'tesla', 'stael', 'slate', 'stale', 'teals', 'steal']\n",
      "['reacts', 'carets', 'traces', 'crates', 'caters', 'recast', 'caster']\n",
      "['pears', 'spear', 'spare', 'rapes', 'parse', 'reaps', 'pares']\n",
      "['cater', 'crate', 'recta', 'react', 'trace', 'caret']\n",
      "['stake', 'teaks', 'steak', 'skate', 'keats', 'takes']\n",
      "['elgar', 'large', 'glare', 'regal', 'alger', 'lager']\n",
      "['abets', 'baste', 'betas', 'beats', 'beast', 'bates']\n",
      "['pleas', 'lapse', 'pales', 'sepal', 'peals', 'leaps']\n",
      "['scrota', 'castor', 'costar', 'actors', 'castro', 'croats']\n",
      "['ingrates', 'gantries', 'rangiest', 'tasering', 'tangiers', 'angriest']\n"
     ]
    }
   ],
   "source": [
    "# Solution\n",
    "\n",
    "it = sorted(anagram_map2.items(), key=lambda t: len(t[1]), reverse=True)\n",
    "for key, value in it[:10]:\n",
    "    print(value)"
   ]
  },
  {
   "cell_type": "markdown",
   "metadata": {},
   "source": [
    "**Exercise 10:**\n",
    "Write a function that takes an integer `word_length` and finds the longest list of words with the given length that are anagrams of each other."
   ]
  },
  {
   "cell_type": "code",
   "execution_count": 72,
   "metadata": {},
   "outputs": [],
   "source": [
    "# Solution\n",
    "\n",
    "def longest_list(anagram_map, word_length):\n",
    "    subset = {key: value for (key, value) in anagram_map.items()\n",
    "              if len(key) == word_length}\n",
    "    t = sorted(subset.items(), key=lambda t: len(t[1]), reverse=True)\n",
    "    for key, value in t[:10]:\n",
    "        print(value)"
   ]
  },
  {
   "cell_type": "code",
   "execution_count": 73,
   "metadata": {},
   "outputs": [
    {
     "name": "stdout",
     "output_type": "stream",
     "text": [
      "['ingrates', 'gantries', 'rangiest', 'tasering', 'tangiers', 'angriest']\n",
      "['dniester', 'nerdiest', 'inserted', 'trendies', 'resident']\n",
      "[\"lenora's\", \"elanor's\", \"loaner's\", \"lorena's\", \"elnora's\"]\n",
      "['integral', 'alerting', 'altering', 'relating', 'triangle']\n",
      "['restrain', 'retrains', 'trainers', 'strainer', 'terrains']\n",
      "[\"luster's\", \"rustle's\", \"ulster's\", \"lustre's\", \"result's\"]\n",
      "[\"resort's\", \"roster's\", \"torres's\", \"sorter's\"]\n",
      "['salesmen', 'maleness', 'nameless', 'lameness']\n",
      "['pertains', 'pantries', 'repaints', 'painters']\n",
      "['prorated', 'teardrop', 'parroted', 'predator']\n"
     ]
    }
   ],
   "source": [
    "# Solution\n",
    "\n",
    "longest_list(anagram_map2, 8)"
   ]
  },
  {
   "cell_type": "markdown",
   "metadata": {},
   "source": [
    "**Exercise 11:**\n",
    "At this point we have a data structure that contains lists of words that are anagrams, but we have not actually enumerated all pairs.\n",
    "Write a function that takes `anagram_map` and returns a list of all anagram pairs.\n",
    "How many are there?"
   ]
  },
  {
   "cell_type": "code",
   "execution_count": 76,
   "metadata": {},
   "outputs": [],
   "source": [
    "# Solution\n",
    "\n",
    "def enumerate_pairs(anagram_map):\n",
    "    res = []\n",
    "    for key, value in anagram_map.items():\n",
    "        for i in range(len(value)):\n",
    "            for j in range(i+1, len(value)):\n",
    "                res.append((value[i], value[j]))\n",
    "    return res"
   ]
  },
  {
   "cell_type": "code",
   "execution_count": 78,
   "metadata": {},
   "outputs": [],
   "source": [
    "# Solution\n",
    "\n",
    "pair_list = enumerate_pairs(anagram_map)"
   ]
  },
  {
   "cell_type": "code",
   "execution_count": 79,
   "metadata": {},
   "outputs": [
    {
     "data": {
      "text/plain": [
       "9396"
      ]
     },
     "execution_count": 79,
     "metadata": {},
     "output_type": "execute_result"
    }
   ],
   "source": [
    "# Solution\n",
    "\n",
    "len(pair_list)"
   ]
  },
  {
   "cell_type": "code",
   "execution_count": 80,
   "metadata": {},
   "outputs": [
    {
     "data": {
      "text/plain": [
       "[('aspic', 'spica'),\n",
       " ('denise', 'denies'),\n",
       " ('betsy', 'bytes'),\n",
       " ('emits', 'mites'),\n",
       " ('emits', 'smite'),\n",
       " ('emits', 'times'),\n",
       " ('emits', 'items'),\n",
       " ('mites', 'smite'),\n",
       " ('mites', 'times'),\n",
       " ('mites', 'items'),\n",
       " ('smite', 'times'),\n",
       " ('smite', 'items'),\n",
       " ('times', 'items'),\n",
       " ('mays', 'yams'),\n",
       " ('bans', 'nabs'),\n",
       " ('monotones', 'moonstone'),\n",
       " ('tubs', 'stub'),\n",
       " ('tubs', 'bust'),\n",
       " ('tubs', 'buts'),\n",
       " ('stub', 'bust')]"
      ]
     },
     "execution_count": 80,
     "metadata": {},
     "output_type": "execute_result"
    }
   ],
   "source": [
    "# Solution\n",
    "\n",
    "pair_list[:20]"
   ]
  },
  {
   "cell_type": "code",
   "execution_count": null,
   "metadata": {},
   "outputs": [],
   "source": []
  }
 ],
 "metadata": {
  "kernelspec": {
   "display_name": "Python 3",
   "language": "python",
   "name": "python3"
  },
  "language_info": {
   "codemirror_mode": {
    "name": "ipython",
    "version": 3
   },
   "file_extension": ".py",
   "mimetype": "text/x-python",
   "name": "python",
   "nbconvert_exporter": "python",
   "pygments_lexer": "ipython3",
   "version": "3.9.4"
  }
 },
 "nbformat": 4,
 "nbformat_minor": 1
}
