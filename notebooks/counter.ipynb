{
 "cells": [
  {
   "cell_type": "markdown",
   "metadata": {},
   "source": [
    "# Chapter xx"
   ]
  },
  {
   "cell_type": "markdown",
   "metadata": {},
   "source": [
    "*Data Structures and Information Retrieval in Python*\n",
    "\n",
    "Copyright 2021 Allen Downey\n",
    "\n",
    "License: [Creative Commons Attribution-NonCommercial-ShareAlike 4.0 International](https://creativecommons.org/licenses/by-nc-sa/4.0/)"
   ]
  },
  {
   "cell_type": "code",
   "execution_count": 1,
   "metadata": {},
   "outputs": [],
   "source": [
    "from collections import Counter"
   ]
  },
  {
   "cell_type": "markdown",
   "metadata": {},
   "source": [
    "## Counter\n",
    "\n",
    "A `Counter` is a map from values to their frequencies.\n",
    "Here are the examples from [the documentation](https://docs.python.org/3/library/collections.html#collections.Counter)."
   ]
  },
  {
   "cell_type": "code",
   "execution_count": 2,
   "metadata": {},
   "outputs": [
    {
     "data": {
      "text/plain": [
       "Counter()"
      ]
     },
     "execution_count": 2,
     "metadata": {},
     "output_type": "execute_result"
    }
   ],
   "source": [
    "Counter()                           # a new, empty counter"
   ]
  },
  {
   "cell_type": "code",
   "execution_count": 3,
   "metadata": {},
   "outputs": [
    {
     "data": {
      "text/plain": [
       "Counter({'g': 1, 'a': 3, 'l': 2, 'h': 1, 'd': 1})"
      ]
     },
     "execution_count": 3,
     "metadata": {},
     "output_type": "execute_result"
    }
   ],
   "source": [
    "Counter('gallahad')                 # a new counter from an iterable"
   ]
  },
  {
   "cell_type": "code",
   "execution_count": 4,
   "metadata": {},
   "outputs": [
    {
     "data": {
      "text/plain": [
       "Counter({'red': 4, 'blue': 2})"
      ]
     },
     "execution_count": 4,
     "metadata": {},
     "output_type": "execute_result"
    }
   ],
   "source": [
    "Counter({'red': 4, 'blue': 2})      # a new counter from a mapping"
   ]
  },
  {
   "cell_type": "code",
   "execution_count": 5,
   "metadata": {},
   "outputs": [
    {
     "data": {
      "text/plain": [
       "Counter({'cats': 4, 'dogs': 8})"
      ]
     },
     "execution_count": 5,
     "metadata": {},
     "output_type": "execute_result"
    }
   ],
   "source": [
    "c = Counter(cats=4, dogs=8)             # a new counter from keyword args\n",
    "c"
   ]
  },
  {
   "cell_type": "code",
   "execution_count": 6,
   "metadata": {},
   "outputs": [
    {
     "data": {
      "text/plain": [
       "4"
      ]
     },
     "execution_count": 6,
     "metadata": {},
     "output_type": "execute_result"
    }
   ],
   "source": [
    "c['cats']"
   ]
  },
  {
   "cell_type": "code",
   "execution_count": 7,
   "metadata": {},
   "outputs": [
    {
     "data": {
      "text/plain": [
       "0"
      ]
     },
     "execution_count": 7,
     "metadata": {},
     "output_type": "execute_result"
    }
   ],
   "source": [
    "c['hamsters']"
   ]
  },
  {
   "cell_type": "code",
   "execution_count": 8,
   "metadata": {},
   "outputs": [
    {
     "data": {
      "text/plain": [
       "dict_keys(['cats', 'dogs'])"
      ]
     },
     "execution_count": 8,
     "metadata": {},
     "output_type": "execute_result"
    }
   ],
   "source": [
    "c.keys()"
   ]
  },
  {
   "cell_type": "code",
   "execution_count": 9,
   "metadata": {},
   "outputs": [
    {
     "data": {
      "text/plain": [
       "dict_values([4, 8])"
      ]
     },
     "execution_count": 9,
     "metadata": {},
     "output_type": "execute_result"
    }
   ],
   "source": [
    "c.values()"
   ]
  },
  {
   "cell_type": "code",
   "execution_count": 10,
   "metadata": {},
   "outputs": [
    {
     "data": {
      "text/plain": [
       "<itertools.chain at 0x7f2ce47e1760>"
      ]
     },
     "execution_count": 10,
     "metadata": {},
     "output_type": "execute_result"
    }
   ],
   "source": [
    "c.elements()"
   ]
  },
  {
   "cell_type": "code",
   "execution_count": 11,
   "metadata": {},
   "outputs": [
    {
     "name": "stdout",
     "output_type": "stream",
     "text": [
      "cats cats cats cats dogs dogs dogs dogs dogs dogs dogs dogs "
     ]
    }
   ],
   "source": [
    "for element in c.elements():\n",
    "    print(element, end=' ')"
   ]
  },
  {
   "cell_type": "code",
   "execution_count": 12,
   "metadata": {},
   "outputs": [
    {
     "data": {
      "text/plain": [
       "[('dogs', 8), ('cats', 4)]"
      ]
     },
     "execution_count": 12,
     "metadata": {},
     "output_type": "execute_result"
    }
   ],
   "source": [
    "c.most_common()"
   ]
  },
  {
   "cell_type": "markdown",
   "metadata": {},
   "source": [
    "If two words are anagrams, they yield equal Counters, so you can use Counters to test anagrams in linear time."
   ]
  },
  {
   "cell_type": "code",
   "execution_count": 13,
   "metadata": {},
   "outputs": [],
   "source": [
    "def is_anagram(word1, word2):\n",
    "    \"\"\"Checks whether the words are anagrams.\n",
    "\n",
    "    word1: string\n",
    "    word2: string\n",
    "\n",
    "    returns: boolean\n",
    "    \"\"\"\n",
    "    return Counter(word1) == Counter(word2)"
   ]
  },
  {
   "cell_type": "code",
   "execution_count": 14,
   "metadata": {},
   "outputs": [
    {
     "data": {
      "text/plain": [
       "True"
      ]
     },
     "execution_count": 14,
     "metadata": {},
     "output_type": "execute_result"
    }
   ],
   "source": [
    "is_anagram('tachymetric', 'mccarthyite')"
   ]
  },
  {
   "cell_type": "code",
   "execution_count": 15,
   "metadata": {},
   "outputs": [
    {
     "data": {
      "text/plain": [
       "False"
      ]
     },
     "execution_count": 15,
     "metadata": {},
     "output_type": "execute_result"
    }
   ],
   "source": [
    "is_anagram('banana', 'peach')"
   ]
  },
  {
   "cell_type": "markdown",
   "metadata": {},
   "source": [
    "## Multiset\n",
    "\n",
    "A Counter is a natural representation of a multiset, which is a set where the elements can appear more than once."
   ]
  },
  {
   "cell_type": "code",
   "execution_count": 16,
   "metadata": {},
   "outputs": [],
   "source": [
    "c = Counter(a=3, b=1)\n",
    "d = Counter(a=1, b=2)"
   ]
  },
  {
   "cell_type": "code",
   "execution_count": 17,
   "metadata": {},
   "outputs": [
    {
     "data": {
      "text/plain": [
       "Counter({'a': 4, 'b': 3})"
      ]
     },
     "execution_count": 17,
     "metadata": {},
     "output_type": "execute_result"
    }
   ],
   "source": [
    "c + d                       # add two counters together:  c[x] + d[x]"
   ]
  },
  {
   "cell_type": "code",
   "execution_count": 18,
   "metadata": {},
   "outputs": [
    {
     "data": {
      "text/plain": [
       "Counter({'a': 2})"
      ]
     },
     "execution_count": 18,
     "metadata": {},
     "output_type": "execute_result"
    }
   ],
   "source": [
    "c - d                       # subtract (keeping only positive counts)"
   ]
  },
  {
   "cell_type": "code",
   "execution_count": 19,
   "metadata": {},
   "outputs": [
    {
     "data": {
      "text/plain": [
       "Counter({'a': 1, 'b': 1})"
      ]
     },
     "execution_count": 19,
     "metadata": {},
     "output_type": "execute_result"
    }
   ],
   "source": [
    "c & d                       # intersection:  min(c[x], d[x]) "
   ]
  },
  {
   "cell_type": "code",
   "execution_count": 20,
   "metadata": {},
   "outputs": [
    {
     "data": {
      "text/plain": [
       "Counter({'a': 3, 'b': 2})"
      ]
     },
     "execution_count": 20,
     "metadata": {},
     "output_type": "execute_result"
    }
   ],
   "source": [
    "c | d                       # union:  max(c[x], d[x])"
   ]
  },
  {
   "cell_type": "markdown",
   "metadata": {},
   "source": [
    "You could use a multiset in a game like Scrabble to see if a given set of tiles can be used to spell a given word."
   ]
  },
  {
   "cell_type": "code",
   "execution_count": 21,
   "metadata": {},
   "outputs": [],
   "source": [
    "def can_spell(word, tiles):\n",
    "    \"\"\"Checks whether a set of tiles can spell a word.\n",
    "\n",
    "    word: string\n",
    "    tiles: string\n",
    "\n",
    "    returns: boolean\n",
    "    \"\"\"\n",
    "    diff = Counter(word) - Counter(tiles)\n",
    "    return len(diff) == 0"
   ]
  },
  {
   "cell_type": "code",
   "execution_count": 22,
   "metadata": {},
   "outputs": [
    {
     "data": {
      "text/plain": [
       "True"
      ]
     },
     "execution_count": 22,
     "metadata": {},
     "output_type": "execute_result"
    }
   ],
   "source": [
    "can_spell('quijibo', 'biijoqu')    # use all the letters"
   ]
  },
  {
   "cell_type": "code",
   "execution_count": 23,
   "metadata": {},
   "outputs": [
    {
     "data": {
      "text/plain": [
       "False"
      ]
     },
     "execution_count": 23,
     "metadata": {},
     "output_type": "execute_result"
    }
   ],
   "source": [
    "can_spell('team', 'i')             # missing some tiles"
   ]
  },
  {
   "cell_type": "code",
   "execution_count": 24,
   "metadata": {},
   "outputs": [
    {
     "data": {
      "text/plain": [
       "True"
      ]
     },
     "execution_count": 24,
     "metadata": {},
     "output_type": "execute_result"
    }
   ],
   "source": [
    "can_spell('SYZYGY', 'AGSYYYZ')"
   ]
  },
  {
   "cell_type": "code",
   "execution_count": null,
   "metadata": {},
   "outputs": [],
   "source": []
  },
  {
   "cell_type": "markdown",
   "metadata": {},
   "source": [
    "## Probability Mass Functions\n",
    "\n",
    "A `Counter` is also a natural way to represent a probability mass function (PMF).\n",
    "\n",
    "`normalize` computes the total of the frequencies and divides through, yielding probabilities that add to 1."
   ]
  },
  {
   "cell_type": "code",
   "execution_count": 25,
   "metadata": {},
   "outputs": [],
   "source": [
    "def normalize(counter):\n",
    "    \"\"\"Normalizes the PMF so the probabilities add to 1.\n",
    "    \"\"\"\n",
    "    total = sum(counter.values())\n",
    "    for key in counter:\n",
    "        counter[key] /= total"
   ]
  },
  {
   "cell_type": "markdown",
   "metadata": {},
   "source": [
    "As an example, we can make a Pmf object that represents a 6-sided die."
   ]
  },
  {
   "cell_type": "code",
   "execution_count": 26,
   "metadata": {},
   "outputs": [
    {
     "data": {
      "text/plain": [
       "Counter({1: 0.16666666666666666,\n",
       "         2: 0.16666666666666666,\n",
       "         3: 0.16666666666666666,\n",
       "         4: 0.16666666666666666,\n",
       "         5: 0.16666666666666666,\n",
       "         6: 0.16666666666666666})"
      ]
     },
     "execution_count": 26,
     "metadata": {},
     "output_type": "execute_result"
    }
   ],
   "source": [
    "d6 = Counter([1,2,3,4,5,6])\n",
    "normalize(d6)\n",
    "d6"
   ]
  },
  {
   "cell_type": "code",
   "execution_count": 27,
   "metadata": {},
   "outputs": [],
   "source": [
    "import matplotlib.pyplot as plt\n",
    "\n",
    "def plot_pmf(pmf, **options):\n",
    "    x, y = list(zip(*pmf.items()))\n",
    "\n",
    "    plt.bar(x, y, **options)\n",
    "    plt.xlabel('Outcome')\n",
    "    plt.ylabel('Probability')"
   ]
  },
  {
   "cell_type": "code",
   "execution_count": 28,
   "metadata": {},
   "outputs": [
    {
     "data": {
      "image/png": "[encoded data removed]",
      "text/plain": [
       "<Figure size 432x288 with 1 Axes>"
      ]
     },
     "metadata": {
      "needs_background": "light"
     },
     "output_type": "display_data"
    }
   ],
   "source": [
    "plot_pmf(d6)"
   ]
  },
  {
   "cell_type": "markdown",
   "metadata": {},
   "source": [
    "Using the `convolve` function, we can compute the distribution for the sum of two dice."
   ]
  },
  {
   "cell_type": "code",
   "execution_count": 29,
   "metadata": {},
   "outputs": [],
   "source": [
    "def convolve(c, d):\n",
    "    \"\"\"Convolves two distributions.\n",
    "\n",
    "    The result is the distribution of sums \n",
    "    of values from the two distributions.\n",
    "    \"\"\"\n",
    "    pmf = Counter()\n",
    "    for key1, prob1 in c.items():\n",
    "        for key2, prob2 in d.items():\n",
    "            pmf[key1 + key2] += prob1 * prob2\n",
    "    return pmf"
   ]
  },
  {
   "cell_type": "code",
   "execution_count": null,
   "metadata": {},
   "outputs": [],
   "source": []
  },
  {
   "cell_type": "code",
   "execution_count": 30,
   "metadata": {},
   "outputs": [
    {
     "name": "stdout",
     "output_type": "stream",
     "text": [
      "2 0.027777777777777776\n",
      "3 0.05555555555555555\n",
      "4 0.08333333333333333\n",
      "5 0.1111111111111111\n",
      "6 0.1388888888888889\n",
      "7 0.16666666666666669\n",
      "8 0.1388888888888889\n",
      "9 0.1111111111111111\n",
      "10 0.08333333333333333\n",
      "11 0.05555555555555555\n",
      "12 0.027777777777777776\n"
     ]
    }
   ],
   "source": [
    "d6_twice = convolve(d6, d6)\n",
    "\n",
    "for key, prob in d6_twice.items():\n",
    "    print(key, prob)"
   ]
  },
  {
   "cell_type": "code",
   "execution_count": 31,
   "metadata": {},
   "outputs": [
    {
     "data": {
      "image/png": "[encoded data removed]",
      "text/plain": [
       "<Figure size 432x288 with 1 Axes>"
      ]
     },
     "metadata": {
      "needs_background": "light"
     },
     "output_type": "display_data"
    }
   ],
   "source": [
    "plot_pmf(d6_twice)"
   ]
  },
  {
   "cell_type": "markdown",
   "metadata": {},
   "source": [
    "## Bayesian Update\n",
    "\n",
    "We can use a Counter to solve the \"Dice Problem,\" from Chapter 3 of <i>Think Bayes</i>.\n",
    "\n",
    "> \"Suppose I have a box of dice that contains a 4-sided die, a 6-sided die, an 8-sided die, a 12-sided die, and a 20-sided die. If you have ever played Dungeons & Dragons, you know what I am talking about.  Suppose I select a die from the box at random, roll it, and get a 6. What is the probability that I rolled each die?\"\n"
   ]
  },
  {
   "cell_type": "code",
   "execution_count": 32,
   "metadata": {},
   "outputs": [
    {
     "data": {
      "text/plain": [
       "Counter({4: 1, 6: 1, 8: 1, 12: 1, 20: 1})"
      ]
     },
     "execution_count": 32,
     "metadata": {},
     "output_type": "execute_result"
    }
   ],
   "source": [
    "hypos = [4, 6, 8, 12, 20]\n",
    "prior = Counter(hypos)\n",
    "prior"
   ]
  },
  {
   "cell_type": "code",
   "execution_count": 33,
   "metadata": {},
   "outputs": [
    {
     "data": {
      "text/plain": [
       "Counter({4: 0.2, 6: 0.2, 8: 0.2, 12: 0.2, 20: 0.2})"
      ]
     },
     "execution_count": 33,
     "metadata": {},
     "output_type": "execute_result"
    }
   ],
   "source": [
    "normalize(prior)\n",
    "prior"
   ]
  },
  {
   "cell_type": "code",
   "execution_count": 34,
   "metadata": {},
   "outputs": [],
   "source": [
    "def likelihood(data, hypo):\n",
    "    outcome = data\n",
    "    sides = hypo\n",
    "    \n",
    "    if outcome > sides:\n",
    "        return 0\n",
    "    \n",
    "    else:\n",
    "        return 1/sides"
   ]
  },
  {
   "cell_type": "code",
   "execution_count": 35,
   "metadata": {},
   "outputs": [
    {
     "data": {
      "text/plain": [
       "0.125"
      ]
     },
     "execution_count": 35,
     "metadata": {},
     "output_type": "execute_result"
    }
   ],
   "source": [
    "likelihood(6, 8)"
   ]
  },
  {
   "cell_type": "code",
   "execution_count": 36,
   "metadata": {},
   "outputs": [
    {
     "data": {
      "text/plain": [
       "0"
      ]
     },
     "execution_count": 36,
     "metadata": {},
     "output_type": "execute_result"
    }
   ],
   "source": [
    "likelihood(10, 8)"
   ]
  },
  {
   "cell_type": "code",
   "execution_count": 37,
   "metadata": {},
   "outputs": [],
   "source": [
    "def update(pmf, outcome):\n",
    "    for hypo in pmf:\n",
    "        pmf[hypo] *= likelihood(outcome, hypo)\n",
    "    normalize(pmf)"
   ]
  },
  {
   "cell_type": "code",
   "execution_count": 38,
   "metadata": {},
   "outputs": [
    {
     "data": {
      "text/plain": [
       "Counter({4: 0.0,\n",
       "         6: 0.3921568627450981,\n",
       "         8: 0.2941176470588236,\n",
       "         12: 0.19607843137254904,\n",
       "         20: 0.11764705882352945})"
      ]
     },
     "execution_count": 38,
     "metadata": {},
     "output_type": "execute_result"
    }
   ],
   "source": [
    "posterior = prior.copy()\n",
    "update(posterior, 6)\n",
    "posterior"
   ]
  },
  {
   "cell_type": "markdown",
   "metadata": {},
   "source": [
    "As expected, the 4-sided die has been eliminated; it now has 0 probability.  The 6-sided die is the most likely, but the 8-sided die is still quite possible.\n",
    "\n",
    "Now suppose I roll the die again and get an 8."
   ]
  },
  {
   "cell_type": "code",
   "execution_count": 39,
   "metadata": {},
   "outputs": [
    {
     "data": {
      "text/plain": [
       "Counter({4: 0.0,\n",
       "         6: 0.0,\n",
       "         8: 0.6232686980609419,\n",
       "         12: 0.27700831024930744,\n",
       "         20: 0.09972299168975073})"
      ]
     },
     "execution_count": 39,
     "metadata": {},
     "output_type": "execute_result"
    }
   ],
   "source": [
    "posterior2 = posterior.copy()\n",
    "update(posterior2, 8)\n",
    "posterior2"
   ]
  },
  {
   "cell_type": "markdown",
   "metadata": {},
   "source": [
    "Now the 6-sided die has been eliminated, the 8-sided die is most likely, and there is less than a 10% chance that I am rolling a 20-sided die.\n",
    "\n"
   ]
  },
  {
   "cell_type": "markdown",
   "metadata": {},
   "source": [
    "Word Frequencies\n",
    "----------------\n",
    "\n",
    "Next topic: let's look at histograms of words, bigrams and trigrams.\n",
    "\n",
    "The following function reads lines from a file or URL and splits them into words:"
   ]
  },
  {
   "cell_type": "code",
   "execution_count": 40,
   "metadata": {},
   "outputs": [],
   "source": [
    "from os.path import basename, exists\n",
    "\n",
    "def download(url):\n",
    "    filename = basename(url)\n",
    "    if not exists(filename):\n",
    "        from urllib.request import urlretrieve\n",
    "        local, _ = urlretrieve(url, filename)\n",
    "        print('Downloaded ' + local)\n",
    "    \n",
    "download('https://github.com/AllenDowney/DSIRP/raw/main/pg2591.txt')"
   ]
  },
  {
   "cell_type": "code",
   "execution_count": 41,
   "metadata": {},
   "outputs": [],
   "source": [
    "def iterate_words(filename):\n",
    "    \"\"\"Read lines from a file and split them into words.\"\"\"\n",
    "    for line in open(filename):\n",
    "        for word in line.split():\n",
    "            yield word.strip()"
   ]
  },
  {
   "cell_type": "markdown",
   "metadata": {},
   "source": [
    "Here's an example using a book from Project Gutenberg.  `wc` is a histogram of word counts:"
   ]
  },
  {
   "cell_type": "code",
   "execution_count": 42,
   "metadata": {},
   "outputs": [],
   "source": [
    "# FAIRY TALES\n",
    "# By The Brothers Grimm\n",
    "# http://www.gutenberg.org/cache/epub/2591/pg2591.txt'\n",
    "wc = Counter(iterate_words('pg2591.txt'))"
   ]
  },
  {
   "cell_type": "markdown",
   "metadata": {},
   "source": [
    "Here are the 20 most common words:"
   ]
  },
  {
   "cell_type": "code",
   "execution_count": 43,
   "metadata": {},
   "outputs": [
    {
     "data": {
      "text/plain": [
       "[('the', 6507),\n",
       " ('and', 5250),\n",
       " ('to', 2707),\n",
       " ('a', 1932),\n",
       " ('he', 1817),\n",
       " ('of', 1450),\n",
       " ('was', 1337),\n",
       " ('in', 1080),\n",
       " ('she', 1049),\n",
       " ('that', 1021),\n",
       " ('his', 1014),\n",
       " ('you', 941),\n",
       " ('it', 881),\n",
       " ('her', 880),\n",
       " ('had', 827),\n",
       " ('I', 755),\n",
       " ('they', 751),\n",
       " ('for', 721),\n",
       " ('with', 720),\n",
       " ('as', 718)]"
      ]
     },
     "execution_count": 43,
     "metadata": {},
     "output_type": "execute_result"
    }
   ],
   "source": [
    "wc.most_common(20)"
   ]
  },
  {
   "cell_type": "markdown",
   "metadata": {},
   "source": [
    "Word frequencies in natural languages follow a predictable pattern called Zipf's law (which is an instance of Stigler's law, which is also an instance of Stigler's law).\n",
    "\n",
    "We can see the pattern by lining up the words in descending order of frequency and plotting their ranks (1st, 2nd, 3rd, ...) versus counts (6507, 5250, 2707):"
   ]
  },
  {
   "cell_type": "code",
   "execution_count": 44,
   "metadata": {},
   "outputs": [],
   "source": [
    "ranks, counts = zip(*enumerate(sorted(wc.values(), reverse=True)))"
   ]
  },
  {
   "cell_type": "code",
   "execution_count": 45,
   "metadata": {},
   "outputs": [
    {
     "data": {
      "text/plain": [
       "Text(0, 0.5, 'count')"
      ]
     },
     "execution_count": 45,
     "metadata": {},
     "output_type": "execute_result"
    },
    {
     "data": {
      "image/png": "[encoded data removed]",
      "text/plain": [
       "<Figure size 432x288 with 1 Axes>"
      ]
     },
     "metadata": {
      "needs_background": "light"
     },
     "output_type": "display_data"
    }
   ],
   "source": [
    "plt.plot(ranks, counts)\n",
    "plt.xlabel('rank')\n",
    "plt.ylabel('count')"
   ]
  },
  {
   "cell_type": "markdown",
   "metadata": {},
   "source": [
    "Huh.  Maybe that's not so clear after all.  The problem is that the counts drop off very quickly.  If we use the highest count to scale the figure, most of the other counts are indistinguishable from zero.\n",
    "\n",
    "Also, there are more than 10,000 words, but most of them appear only a few times, so we are wasting most of the space in the figure in a regime where nothing is happening.\n",
    "\n",
    "This kind of thing happens a lot.  A common way to deal with it is to compute the log of the quantities or to plot them on a log scale:"
   ]
  },
  {
   "cell_type": "code",
   "execution_count": 46,
   "metadata": {},
   "outputs": [
    {
     "data": {
      "image/png": "[encoded data removed]",
      "text/plain": [
       "<Figure size 432x288 with 1 Axes>"
      ]
     },
     "metadata": {
      "needs_background": "light"
     },
     "output_type": "display_data"
    }
   ],
   "source": [
    "plt.plot(ranks, counts)\n",
    "plt.xlabel('rank')\n",
    "plt.ylabel('count')\n",
    "plt.xscale('log')"
   ]
  },
  {
   "cell_type": "code",
   "execution_count": 47,
   "metadata": {},
   "outputs": [
    {
     "data": {
      "image/png": "[encoded data removed]",
      "text/plain": [
       "<Figure size 432x288 with 1 Axes>"
      ]
     },
     "metadata": {
      "needs_background": "light"
     },
     "output_type": "display_data"
    }
   ],
   "source": [
    "plt.plot(ranks, counts)\n",
    "plt.xlabel('rank')\n",
    "plt.ylabel('count')\n",
    "plt.xscale('log')\n",
    "plt.yscale('log')"
   ]
  },
  {
   "cell_type": "markdown",
   "metadata": {},
   "source": [
    "This (approximately) straight line is characteristic of Zipf's law."
   ]
  },
  {
   "cell_type": "markdown",
   "metadata": {},
   "source": [
    "## n-grams\n",
    "\n",
    "\n",
    "On to the next topic: bigrams and trigrams."
   ]
  },
  {
   "cell_type": "code",
   "execution_count": 48,
   "metadata": {},
   "outputs": [],
   "source": [
    "from itertools import tee\n",
    "\n",
    "def pairwise(iterator):\n",
    "    \"\"\"Iterates through a sequence in overlapping pairs.\n",
    "    \n",
    "    If the sequence is 1, 2, 3, the result is (1, 2), (2, 3), (3, 4), etc.\n",
    "    \"\"\"\n",
    "    a, b = tee(iterator)\n",
    "    next(b, None)\n",
    "    return zip(a, b)"
   ]
  },
  {
   "cell_type": "markdown",
   "metadata": {},
   "source": [
    "`bigrams` is the histogram of word pairs:"
   ]
  },
  {
   "cell_type": "code",
   "execution_count": 49,
   "metadata": {},
   "outputs": [],
   "source": [
    "bigrams = Counter(pairwise(iterate_words('pg2591.txt')))"
   ]
  },
  {
   "cell_type": "markdown",
   "metadata": {},
   "source": [
    "And here are the 20 most common:"
   ]
  },
  {
   "cell_type": "code",
   "execution_count": 50,
   "metadata": {},
   "outputs": [
    {
     "data": {
      "text/plain": [
       "[(('to', 'the'), 444),\n",
       " (('in', 'the'), 399),\n",
       " (('of', 'the'), 369),\n",
       " (('and', 'the'), 349),\n",
       " (('into', 'the'), 294),\n",
       " (('said', 'the'), 251),\n",
       " (('on', 'the'), 199),\n",
       " (('and', 'when'), 168),\n",
       " (('he', 'had'), 164),\n",
       " (('he', 'was'), 164),\n",
       " (('to', 'be'), 163),\n",
       " (('it', 'was'), 152),\n",
       " (('Then', 'the'), 151),\n",
       " (('I', 'will'), 149),\n",
       " (('that', 'he'), 143),\n",
       " (('at', 'the'), 142),\n",
       " (('came', 'to'), 138),\n",
       " (('and', 'he'), 135),\n",
       " (('she', 'was'), 129),\n",
       " (('all', 'the'), 125)]"
      ]
     },
     "execution_count": 50,
     "metadata": {},
     "output_type": "execute_result"
    }
   ],
   "source": [
    "bigrams.most_common(20)"
   ]
  },
  {
   "cell_type": "markdown",
   "metadata": {},
   "source": [
    "Similarly, we can iterate the trigrams:"
   ]
  },
  {
   "cell_type": "code",
   "execution_count": 51,
   "metadata": {},
   "outputs": [],
   "source": [
    "def triplewise(iterator):\n",
    "    a, b, c = tee(iterator, 3)\n",
    "    next(b)\n",
    "    next(c)\n",
    "    next(c)\n",
    "    return zip(a, b, c)"
   ]
  },
  {
   "cell_type": "markdown",
   "metadata": {},
   "source": [
    "And make a Counter:"
   ]
  },
  {
   "cell_type": "code",
   "execution_count": 52,
   "metadata": {},
   "outputs": [],
   "source": [
    "trigrams = Counter(triplewise(iterate_words('pg2591.txt')))"
   ]
  },
  {
   "cell_type": "markdown",
   "metadata": {},
   "source": [
    "Here are the 20 most common:"
   ]
  },
  {
   "cell_type": "code",
   "execution_count": 53,
   "metadata": {},
   "outputs": [
    {
     "data": {
      "text/plain": [
       "[(('came', 'to', 'the'), 65),\n",
       " (('and', 'when', 'he'), 50),\n",
       " (('out', 'of', 'the'), 50),\n",
       " (('said', 'to', 'the'), 34),\n",
       " (('he', 'came', 'to'), 33),\n",
       " (('and', 'when', 'she'), 33),\n",
       " (('went', 'into', 'the'), 32),\n",
       " (('went', 'to', 'the'), 31),\n",
       " (('and', 'said', 'to'), 31),\n",
       " (('one', 'of', 'the'), 30),\n",
       " (('came', 'to', 'a'), 30),\n",
       " (('and', 'as', 'he'), 29),\n",
       " (('they', 'came', 'to'), 29),\n",
       " (('he', 'did', 'not'), 28),\n",
       " (('there', 'was', 'a'), 28),\n",
       " (('that', 'he', 'had'), 28),\n",
       " (('and', 'I', 'will'), 27),\n",
       " (('that', 'it', 'was'), 25),\n",
       " (('and', 'at', 'last'), 24),\n",
       " (('and', 'when', 'the'), 24)]"
      ]
     },
     "execution_count": 53,
     "metadata": {},
     "output_type": "execute_result"
    }
   ],
   "source": [
    "trigrams.most_common(20)"
   ]
  },
  {
   "cell_type": "markdown",
   "metadata": {},
   "source": [
    "And now for a little fun.  I'll make a dictionary that maps from each word pair to a Counter of the words that can follow."
   ]
  },
  {
   "cell_type": "code",
   "execution_count": 54,
   "metadata": {},
   "outputs": [],
   "source": [
    "from collections import defaultdict\n",
    "\n",
    "d = defaultdict(Counter)\n",
    "for a, b, c in trigrams:\n",
    "    d[a, b][c] += trigrams[a, b, c]"
   ]
  },
  {
   "cell_type": "markdown",
   "metadata": {},
   "source": [
    "Now we can look up a pair and see what might come next:"
   ]
  },
  {
   "cell_type": "code",
   "execution_count": 55,
   "metadata": {},
   "outputs": [
    {
     "data": {
      "text/plain": [
       "Counter({'ran': 2,\n",
       "         'on': 1,\n",
       "         'of': 2,\n",
       "         'that': 1,\n",
       "         'came,': 1,\n",
       "         'streamed': 1,\n",
       "         'fell': 1,\n",
       "         'might': 1,\n",
       "         'ran.': 1})"
      ]
     },
     "execution_count": 55,
     "metadata": {},
     "output_type": "execute_result"
    }
   ],
   "source": [
    "d['the', 'blood']"
   ]
  },
  {
   "cell_type": "markdown",
   "metadata": {},
   "source": [
    "Here are the most common words that follow \"into the\":"
   ]
  },
  {
   "cell_type": "code",
   "execution_count": 56,
   "metadata": {},
   "outputs": [
    {
     "data": {
      "text/plain": [
       "[('forest', 15),\n",
       " ('forest,', 13),\n",
       " ('garden', 9),\n",
       " ('kitchen,', 8),\n",
       " ('cellar', 8),\n",
       " ('wide', 7),\n",
       " ('room,', 7),\n",
       " ('water,', 7),\n",
       " ('wood', 6),\n",
       " ('kitchen', 6)]"
      ]
     },
     "execution_count": 56,
     "metadata": {},
     "output_type": "execute_result"
    }
   ],
   "source": [
    "d['into', 'the'].most_common(10)"
   ]
  },
  {
   "cell_type": "markdown",
   "metadata": {},
   "source": [
    "Here are the words that follow \"said the\":"
   ]
  },
  {
   "cell_type": "code",
   "execution_count": 57,
   "metadata": {},
   "outputs": [
    {
     "data": {
      "text/plain": [
       "[('old', 13),\n",
       " ('man,', 12),\n",
       " ('little', 10),\n",
       " ('fisherman,', 8),\n",
       " ('father,', 7),\n",
       " ('ass,', 6),\n",
       " ('other;', 5),\n",
       " ('wife,', 5),\n",
       " ('fish;', 5),\n",
       " ('fish.', 5)]"
      ]
     },
     "execution_count": 57,
     "metadata": {},
     "output_type": "execute_result"
    }
   ],
   "source": [
    "d['said', 'the'].most_common(10)"
   ]
  },
  {
   "cell_type": "markdown",
   "metadata": {},
   "source": [
    "`Counter` provides `choice`, which chooses a random word with probability proportional to count:"
   ]
  },
  {
   "cell_type": "code",
   "execution_count": 58,
   "metadata": {},
   "outputs": [],
   "source": [
    "import random\n",
    "\n",
    "def counter_choice(counter):\n",
    "    \"\"\"Chooses a random element.\"\"\"\n",
    "    return random.choice(list(counter.elements()))"
   ]
  },
  {
   "cell_type": "code",
   "execution_count": 59,
   "metadata": {},
   "outputs": [
    {
     "data": {
      "text/plain": [
       "'little'"
      ]
     },
     "execution_count": 59,
     "metadata": {},
     "output_type": "execute_result"
    }
   ],
   "source": [
    "counter_choice(d['said', 'the'])"
   ]
  },
  {
   "cell_type": "markdown",
   "metadata": {},
   "source": [
    "Given a prefix, we can choose a random suffix:"
   ]
  },
  {
   "cell_type": "code",
   "execution_count": 60,
   "metadata": {},
   "outputs": [
    {
     "data": {
      "text/plain": [
       "'fisherman,'"
      ]
     },
     "execution_count": 60,
     "metadata": {},
     "output_type": "execute_result"
    }
   ],
   "source": [
    "prefix = 'said', 'the'\n",
    "suffix = counter_choice(d[prefix])\n",
    "suffix"
   ]
  },
  {
   "cell_type": "markdown",
   "metadata": {},
   "source": [
    "Then we can shift the words and compute the next prefix:"
   ]
  },
  {
   "cell_type": "code",
   "execution_count": 61,
   "metadata": {},
   "outputs": [
    {
     "data": {
      "text/plain": [
       "('the', 'fisherman,')"
      ]
     },
     "execution_count": 61,
     "metadata": {},
     "output_type": "execute_result"
    }
   ],
   "source": [
    "prefix = prefix[1], suffix\n",
    "prefix"
   ]
  },
  {
   "cell_type": "markdown",
   "metadata": {},
   "source": [
    "Repeating this process, we can generate random new text that has the same correlation structure between words as the original:"
   ]
  },
  {
   "cell_type": "code",
   "execution_count": 62,
   "metadata": {},
   "outputs": [
    {
     "name": "stdout",
     "output_type": "stream",
     "text": [
      "'how can you not come back. 'How does that little plot of land; and there it grew dark, they climbed up the wood, seeking some little matters that are coming on Sunday!' 'Heaven forbid!' said the man, 'for I do with you.' They laid themselves down to the door away, so that they had spent the whole day: but though I lose by it in his dreams at night: 'Boy, make me shudder,' thought he. 'That, too, must be of gold, and I will eat the other.' The good little duck did not know whether or not he could not "
     ]
    }
   ],
   "source": [
    "for i in range(100):\n",
    "    suffix = counter_choice(d[prefix])\n",
    "    print(suffix, end=' ')\n",
    "    prefix = prefix[1], suffix"
   ]
  },
  {
   "cell_type": "markdown",
   "metadata": {},
   "source": [
    "With a prefix of two words, we typically get text that flirts with sensibility."
   ]
  },
  {
   "cell_type": "code",
   "execution_count": null,
   "metadata": {},
   "outputs": [],
   "source": []
  }
 ],
 "metadata": {
  "kernelspec": {
   "display_name": "Python 3",
   "language": "python",
   "name": "python3"
  },
  "language_info": {
   "codemirror_mode": {
    "name": "ipython",
    "version": 3
   },
   "file_extension": ".py",
   "mimetype": "text/x-python",
   "name": "python",
   "nbconvert_exporter": "python",
   "pygments_lexer": "ipython3",
   "version": "3.9.4"
  }
 },
 "nbformat": 4,
 "nbformat_minor": 1
}
