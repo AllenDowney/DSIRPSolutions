{
 "cells": [
  {
   "cell_type": "markdown",
   "id": "absent-egypt",
   "metadata": {},
   "source": [
    "# Timing Redis Operations"
   ]
  },
  {
   "cell_type": "markdown",
   "id": "professional-enforcement",
   "metadata": {
    "tags": [
     "remove-cell"
    ]
   },
   "source": [
    "*Data Structures and Information Retrieval in Python*\n",
    "\n",
    "Copyright 2021 Allen Downey\n",
    "\n",
    "License: [Creative Commons Attribution-NonCommercial-ShareAlike 4.0 International](https://creativecommons.org/licenses/by-nc-sa/4.0/)"
   ]
  },
  {
   "cell_type": "markdown",
   "id": "committed-editing",
   "metadata": {},
   "source": [
    "[Click here to run this notebook on Colab](https://colab.research.google.com/github/AllenDowney/DSIRP/blob/main/notebooks/time_redis.ipynb)"
   ]
  },
  {
   "cell_type": "markdown",
   "id": "98857445",
   "metadata": {},
   "source": [
    "## Performance of lpush and rpush\n",
    "\n",
    "The [Redis documentation](https://redis.io/topics/data-types) says\n",
    "\n",
    "> The main features of Redis Lists from the point of view of time complexity are the support for constant time insertion and deletion of elements near the head and tail, even with many millions of inserted items. Accessing elements is very fast near the extremes of the list but is slow if you try accessing the middle of a very big list, as it is an O(N) operation.\n",
    "\n",
    "In class recently, we saw some behavior that suggested that `lpush` might be linear (as we would expect from an array list, like Python lists) rather than constant time (as we would expect from a linked list).\n",
    "\n",
    "So let's find out."
   ]
  },
  {
   "cell_type": "code",
   "execution_count": 1,
   "id": "8acd4949",
   "metadata": {},
   "outputs": [
    {
     "name": "stdout",
     "output_type": "stream",
     "text": [
      "91563:C 04 Nov 2021 14:09:47.144 # oO0OoO0OoO0Oo Redis is starting oO0OoO0OoO0Oo\r\n",
      "91563:C 04 Nov 2021 14:09:47.144 # Redis version=5.0.3, bits=64, commit=00000000, modified=0, pid=91563, just started\r\n",
      "91563:C 04 Nov 2021 14:09:47.144 # Configuration loaded\r\n"
     ]
    }
   ],
   "source": [
    "import sys\n",
    "\n",
    "IN_COLAB = 'google.colab' in sys.modules\n",
    "\n",
    "if IN_COLAB:\n",
    "    !pip install redis-server\n",
    "    !/usr/local/lib/python*/dist-packages/redis_server/bin/redis-server --daemonize yes\n",
    "else:\n",
    "    !redis-server --daemonize yes"
   ]
  },
  {
   "cell_type": "code",
   "execution_count": 2,
   "id": "66429e4d",
   "metadata": {},
   "outputs": [],
   "source": [
    "try:\n",
    "    import redis\n",
    "except ImportError:\n",
    "    !pip install redis"
   ]
  },
  {
   "cell_type": "code",
   "execution_count": 3,
   "id": "16e53edb",
   "metadata": {},
   "outputs": [],
   "source": [
    "import redis\n",
    "\n",
    "r = redis.Redis()"
   ]
  },
  {
   "cell_type": "code",
   "execution_count": 4,
   "id": "enhanced-choir",
   "metadata": {},
   "outputs": [],
   "source": [
    "from os.path import basename, exists\n",
    "\n",
    "def download(url):\n",
    "    filename = basename(url)\n",
    "    if not exists(filename):\n",
    "        from urllib.request import urlretrieve\n",
    "        local, _ = urlretrieve(url, filename)\n",
    "        print('Downloaded ' + local)\n",
    "    \n",
    "download('https://github.com/AllenDowney/DSIRP/raw/main/timing.py')"
   ]
  },
  {
   "cell_type": "markdown",
   "id": "assumed-spell",
   "metadata": {},
   "source": [
    "## lpush\n"
   ]
  },
  {
   "cell_type": "code",
   "execution_count": 5,
   "id": "adjustable-daniel",
   "metadata": {},
   "outputs": [],
   "source": [
    "def lpush(n):\n",
    "    key = 'lpush_test'\n",
    "    [r.lpush(key, x) for x in range(n)]\n",
    "    r.delete(key)"
   ]
  },
  {
   "cell_type": "code",
   "execution_count": 6,
   "id": "6b891129",
   "metadata": {},
   "outputs": [],
   "source": [
    "def rpush(n):\n",
    "    key = 'rpush_test'\n",
    "    [r.rpush(key, x) for x in range(n)]\n",
    "    r.delete(key)"
   ]
  },
  {
   "cell_type": "code",
   "execution_count": 7,
   "id": "living-tamil",
   "metadata": {},
   "outputs": [
    {
     "name": "stdout",
     "output_type": "stream",
     "text": [
      "1024 0.040000000000000036\n",
      "2048 0.06999999999999984\n",
      "4096 0.16000000000000014\n",
      "8192 0.31000000000000005\n",
      "16384 0.6299999999999999\n",
      "32768 1.1999999999999997\n"
     ]
    }
   ],
   "source": [
    "from timing import run_timing_test\n",
    "\n",
    "ns, ts = run_timing_test(rpush)"
   ]
  },
  {
   "cell_type": "code",
   "execution_count": 8,
   "id": "particular-roots",
   "metadata": {},
   "outputs": [
    {
     "data": {
      "image/png": "[encoded data removed]",
      "text/plain": [
       "<Figure size 432x288 with 1 Axes>"
      ]
     },
     "metadata": {
      "needs_background": "light"
     },
     "output_type": "display_data"
    }
   ],
   "source": [
    "from timing import plot_timing_test\n",
    "\n",
    "plot_timing_test(ns, ts, scale='linear')"
   ]
  },
  {
   "cell_type": "code",
   "execution_count": null,
   "id": "specialized-cinema",
   "metadata": {},
   "outputs": [],
   "source": []
  }
 ],
 "metadata": {
  "kernelspec": {
   "display_name": "Python 3",
   "language": "python",
   "name": "python3"
  },
  "language_info": {
   "codemirror_mode": {
    "name": "ipython",
    "version": 3
   },
   "file_extension": ".py",
   "mimetype": "text/x-python",
   "name": "python",
   "nbconvert_exporter": "python",
   "pygments_lexer": "ipython3",
   "version": "3.9.4"
  }
 },
 "nbformat": 4,
 "nbformat_minor": 5
}
