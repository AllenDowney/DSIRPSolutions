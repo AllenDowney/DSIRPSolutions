{
 "cells": [
  {
   "cell_type": "markdown",
   "id": "991da0f7",
   "metadata": {},
   "source": [
    "# Chapter xx"
   ]
  },
  {
   "cell_type": "markdown",
   "id": "831a7e02",
   "metadata": {
    "tags": [
     "remove-cell"
    ]
   },
   "source": [
    "*Data Structures and Information Retrieval in Python*\n",
    "\n",
    "Copyright 2021 Allen Downey\n",
    "\n",
    "License: [Creative Commons Attribution-NonCommercial-ShareAlike 4.0 International](https://creativecommons.org/licenses/by-nc-sa/4.0/)"
   ]
  },
  {
   "cell_type": "code",
   "execution_count": 1,
   "id": "8865e84d",
   "metadata": {
    "tags": [
     "remove-cell"
    ]
   },
   "outputs": [],
   "source": [
    "from os.path import basename, exists\n",
    "\n",
    "def download(url):\n",
    "    filename = basename(url)\n",
    "    if not exists(filename):\n",
    "        from urllib.request import urlretrieve\n",
    "        local, _ = urlretrieve(url, filename)\n",
    "        print('Downloaded ' + local)\n",
    "    \n",
    "# download('https://github.com/AllenDowney/DSIRP/raw/main/utils.py')"
   ]
  },
  {
   "cell_type": "markdown",
   "id": "2a27c595",
   "metadata": {},
   "source": [
    "[Click here to run this chapter on Colab](https://colab.research.google.com/github/AllenDowney/DSIRP/blob/main/chapters/chap01.ipynb)"
   ]
  },
  {
   "cell_type": "code",
   "execution_count": null,
   "id": "41af4178",
   "metadata": {},
   "outputs": [],
   "source": []
  },
  {
   "cell_type": "markdown",
   "id": "9fd569cc",
   "metadata": {},
   "source": [
    "# Doubly-linked list\n",
    "\n",
    "This chapter reviews results from the previous exercise and introduces\n",
    "yet another implementation of the `List` interface, the doubly-linked\n",
    "list.\n",
    "\n",
    "## Performance profiling results\n",
    "\n",
    "In the previous exercise, we used `Profiler.java` to run various\n",
    "`ArrayList` and `LinkedList` operations with a range of problem sizes.\n",
    "We plotted runtime versus problem size on a log-log scale and estimated\n",
    "the slope of the resulting curve, which indicates the leading exponent\n",
    "of the relationship between runtime and problem size.\n",
    "\n",
    "For example, when we used the `add` method to add elements to the end of\n",
    "an `ArrayList`, we found that the total time to perform $n$ adds was\n",
    "proportional to $n$; that is, the estimated slope was close to 1. We\n",
    "concluded that performing $n$ adds is in $O(n)$, so on average the time\n",
    "for a single add is constant time, or $O(1)$, which is what we expect\n",
    "based on algorithm analysis.\n",
    "\n",
    "The exercise asks you to fill in the body of\n",
    "`profileArrayListAddBeginning`, which tests the performance of adding\n",
    "new elements at the beginning of an `ArrayList`. Based on our analysis,\n",
    "we expect each add to be linear, because it has to shift the other\n",
    "elements to the right; so we expect $n$ adds to be quadratic.\n",
    "\n",
    "Here's a solution, which you can find in the `solution` directory of the\n",
    "repository."
   ]
  },
  {
   "cell_type": "code",
   "execution_count": null,
   "id": "bad85b1b",
   "metadata": {},
   "outputs": [],
   "source": [
    "public static void profileArrayListAddBeginning() {\n",
    "    Timeable timeable = new Timeable() {\n",
    "        List<String> list;\n",
    "\n",
    "        public void setup(int n) {\n",
    "            list = new ArrayList<String>();\n",
    "        }\n",
    "\n",
    "        public void timeMe(int n) {\n",
    "            for (int i=0; i<n; i++) {\n",
    "                list.add(0, \"a string\");\n",
    "            }\n",
    "        }\n",
    "    };\n",
    "    int startN = 4000;\n",
    "    int endMillis = 10000;\n",
    "    runProfiler(\"ArrayList add beginning\", timeable, startN, endMillis);\n",
    "}"
   ]
  },
  {
   "cell_type": "markdown",
   "id": "6080099e",
   "metadata": {},
   "source": [
    "This method is almost identical to `profileArrayListAddEnd`. The only\n",
    "difference is in `timeMe`, which uses the two-parameter version of `add`\n",
    "to put the new element at index 0. Also, we increased `endMillis` to get\n",
    "one additional data point.\n",
    "\n",
    "Here are the timing results (problem size on the left, runtime in\n",
    "milliseconds on the right):"
   ]
  },
  {
   "cell_type": "code",
   "execution_count": null,
   "id": "9a60568f",
   "metadata": {},
   "outputs": [],
   "source": [
    "4000, 14\n",
    "8000, 35\n",
    "16000, 150\n",
    "32000, 604\n",
    "64000, 2518\n",
    "128000, 11555"
   ]
  },
  {
   "cell_type": "markdown",
   "id": "8149a892",
   "metadata": {},
   "source": [
    "Figure [\\[fig-profile2\\]](#fig-profile2){reference-type=\"ref\"\n",
    "reference=\"fig-profile2\"} shows the graph of runtime versus problem\n",
    "size.\n",
    "\n",
    "![Profiling results: runtime versus problem size for adding $n$ elements\n",
    "at the beginning of an `ArrayList`.](figs/profile2.png){height=\"2.5in\"}\n",
    "\n",
    "Remember that a straight line on this graph does **not** mean that the\n",
    "algorithm is linear. Rather, if the runtime is proportional to $n^k$ for\n",
    "any exponent, $k$, we expect to see a straight line with slope $k$. In\n",
    "this case, we expect the total time for $n$ adds to be proportional to\n",
    "$n^2$, so we expect a straight line with slope 2. In fact, the estimated\n",
    "slope is 1.992, which is so close I would be afraid to fake data this\n",
    "good.\n",
    "\n",
    "## Profiling `LinkedList` methods\n",
    "\n",
    "In the previous exercise you also profiled the performance of adding new\n",
    "elements at the beginning of a `LinkedList`. Based on our analysis, we\n",
    "expect each `add` to take constant time, because in a linked list, we\n",
    "don't have to shift the existing elements; we can just add a new node at\n",
    "the beginning. So we expect the total time for $n$ adds to be linear.\n",
    "\n",
    "Here's a solution:"
   ]
  },
  {
   "cell_type": "code",
   "execution_count": null,
   "id": "60bc7ec2",
   "metadata": {},
   "outputs": [],
   "source": [
    "public static void profileLinkedListAddBeginning() {\n",
    "    Timeable timeable = new Timeable() {\n",
    "        List<String> list;\n",
    "\n",
    "        public void setup(int n) {\n",
    "            list = new LinkedList<String>();\n",
    "        }\n",
    "\n",
    "        public void timeMe(int n) {\n",
    "            for (int i=0; i<n; i++) {\n",
    "                list.add(0, \"a string\");\n",
    "            }\n",
    "        }\n",
    "    };\n",
    "    int startN = 128000;\n",
    "    int endMillis = 2000;\n",
    "    runProfiler(\"LinkedList add beginning\", timeable, startN, endMillis);\n",
    "}"
   ]
  },
  {
   "cell_type": "markdown",
   "id": "99c2a7b0",
   "metadata": {},
   "source": [
    "We only had a make a few changes, replacing `ArrayList` with\n",
    "`LinkedList` and adjusting `startN` and `endMillis` to get a good range\n",
    "of data. The measurements were noisier than the previous batch; here are\n",
    "the results:"
   ]
  },
  {
   "cell_type": "code",
   "execution_count": null,
   "id": "f23e60ad",
   "metadata": {},
   "outputs": [],
   "source": [
    "128000, 16\n",
    "256000, 19\n",
    "512000, 28\n",
    "1024000, 77\n",
    "2048000, 330\n",
    "4096000, 892\n",
    "8192000, 1047\n",
    "16384000, 4755"
   ]
  },
  {
   "cell_type": "markdown",
   "id": "9131ea78",
   "metadata": {},
   "source": [
    "Figure [\\[fig-profile3\\]](#fig-profile3){reference-type=\"ref\"\n",
    "reference=\"fig-profile3\"} shows the graph of these results.\n",
    "\n",
    "![Profiling results: runtime versus problem size for adding $n$ elements\n",
    "at the beginning of a `LinkedList`.](figs/profile3.png){height=\"2.5in\"}\n",
    "\n",
    "It's not a very straight line, and the slope is not exactly 1; the slope\n",
    "of the least squares fit is 1.23. But these results indicate that the\n",
    "total time for $n$ adds is at least approximately $O(n)$, so each add is\n",
    "constant time.\n",
    "\n",
    "## Adding to the end of a `LinkedList`\n",
    "\n",
    "Adding elements at the beginning is one of the operations where we\n",
    "expect `LinkedList` to be faster than `ArrayList`. But for adding\n",
    "elements at the end, we expect `LinkedList` to be slower. In my\n",
    "implementation, we have to traverse the entire list to add an element to\n",
    "the end, which is linear. So we expect the total time for $n$ adds to be\n",
    "quadratic.\n",
    "\n",
    "Well, it's not. Here's the code:"
   ]
  },
  {
   "cell_type": "code",
   "execution_count": null,
   "id": "170a51e5",
   "metadata": {},
   "outputs": [],
   "source": [
    "public static void profileLinkedListAddEnd() {\n",
    "    Timeable timeable = new Timeable() {\n",
    "        List<String> list;\n",
    "\n",
    "        public void setup(int n) {\n",
    "            list = new LinkedList<String>();\n",
    "        }\n",
    "\n",
    "        public void timeMe(int n) {\n",
    "            for (int i=0; i<n; i++) {\n",
    "                list.add(\"a string\");\n",
    "            }\n",
    "        }\n",
    "    };\n",
    "    int startN = 64000;\n",
    "    int endMillis = 1000;\n",
    "    runProfiler(\"LinkedList add end\", timeable, startN, endMillis);\n",
    "}"
   ]
  },
  {
   "cell_type": "markdown",
   "id": "38f789f6",
   "metadata": {},
   "source": [
    "Here are the results:"
   ]
  },
  {
   "cell_type": "code",
   "execution_count": null,
   "id": "972ff053",
   "metadata": {},
   "outputs": [],
   "source": [
    "64000, 9\n",
    "128000, 9\n",
    "256000, 21\n",
    "512000, 24\n",
    "1024000, 78\n",
    "2048000, 235\n",
    "4096000, 851\n",
    "8192000, 950\n",
    "16384000, 6160"
   ]
  },
  {
   "cell_type": "markdown",
   "id": "6189e048",
   "metadata": {},
   "source": [
    "Figure [\\[fig-profile4\\]](#fig-profile4){reference-type=\"ref\"\n",
    "reference=\"fig-profile4\"} shows the graph of these results.\n",
    "\n",
    "![Profiling results: runtime versus problem size for adding $n$ elements\n",
    "at the end of a `LinkedList`.](figs/profile4.png){height=\"2.5in\"}\n",
    "\n",
    "Again, the measurements are noisy and the line is not perfectly\n",
    "straight, but the estimated slope is 1.19, which is close to what we got\n",
    "adding elements at the beginning, and not very close to 2, which is what\n",
    "we expected based on our analysis. In fact, it is closer to 1, which\n",
    "suggests that adding elements at the end is constant time. What's going\n",
    "on?\n",
    "\n",
    "## Doubly-linked list\n",
    "\n",
    "My implementation of a linked list, `MyLinkedList`, uses a singly-linked\n",
    "list; that is, each element contains a link to the next, and the\n",
    "`MyArrayList` object itself has a link to the first node.\n",
    "\n",
    "But if you read the documentation of `LinkedList` at\n",
    "<http://thinkdast.com/linked>, it says:\n",
    "\n",
    "> Doubly-linked list implementation of the List and Deque interfaces.\n",
    "> \\[...\\] All of the operations perform as could be expected for a\n",
    "> doubly-linked list. Operations that index into the list will traverse\n",
    "> the list from the beginning or the end, whichever is closer to the\n",
    "> specified index.\n",
    "\n",
    "If you are not familiar with doubly-linked lists, you can read more\n",
    "about them at <http://thinkdast.com/doublelist>, but the short version\n",
    "is:\n",
    "\n",
    "-   Each node contains a link to the next node and a link to the\n",
    "    previous node.\n",
    "\n",
    "-   The `LinkedList` object contains links to the first and last\n",
    "    elements of the list.\n",
    "\n",
    "So we can start at either end of the list and traverse it in either\n",
    "direction. As a result, we can add and remove elements from the\n",
    "beginning and the end of the list in constant time!\n",
    "\n",
    "The following table summarizes the performance we expect from\n",
    "`ArrayList`, `MyLinkedList` (singly-linked), and `LinkedList`\n",
    "(doubly-linked):"
   ]
  },
  {
   "cell_type": "code",
   "execution_count": null,
   "id": "0292e33e",
   "metadata": {},
   "outputs": [],
   "source": [
    "MyArrayList   MyLinkedList   LinkedList\n",
    "  ----------------------------- ------------- -------------- ------------\n",
    "  add (at the end)              **1**         n              **1**\n",
    "  add (at the beginning)        n             **1**          **1**\n",
    "  add (in general)              n             n              n\n",
    "  get / set                     **1**         n              n\n",
    "  indexOf / lastIndexOf         n             n              n\n",
    "  isEmpty / size                1             1              1\n",
    "  remove (from the end)         **1**         n              **1**\n",
    "  remove (from the beginning)   n             **1**          **1**\n",
    "  remove (in general)           n             n              n"
   ]
  },
  {
   "cell_type": "markdown",
   "id": "b05e5d0b",
   "metadata": {},
   "source": [
    "## Choosing a Structure\n",
    "\n",
    "The doubly-linked implementation is better than `ArrayList` for adding\n",
    "and removing at the beginning, and just as good as `ArrayList` for\n",
    "adding and removing at the end. So the only advantage of `ArrayList` is\n",
    "for `get` and `set`, which require linear time in a linked list, even if\n",
    "it is doubly-linked.\n",
    "\n",
    "If you know that the runtime of your application depends on the time it\n",
    "takes to `get` and `set` elements, an `ArrayList` might be the better\n",
    "choice. If the runtime depends on adding and removing elements near the\n",
    "beginning or the end, `LinkedList` might be better.\n",
    "\n",
    "But remember that these recommendations are based on the order of growth\n",
    "for large problems. There are other factors to consider:\n",
    "\n",
    "-   If these operations don't take up a substantial fraction of the\n",
    "    runtime for your application --- that is, if your applications\n",
    "    spends most of its time doing other things --- then your choice of a\n",
    "    `List` implementation won't matter very much.\n",
    "\n",
    "-   If the lists you are working with are not very big, you might not\n",
    "    get the performance you expect. For small problems, a quadratic\n",
    "    algorithm might be faster than a linear algorithm, or linear might\n",
    "    be faster than constant time. And for small problems, the difference\n",
    "    probably doesn't matter.\n",
    "\n",
    "-   Also, don't forget about space. So far we have focused on runtime,\n",
    "    but different implementations require different amounts of space. In\n",
    "    an `ArrayList`, the elements are stored side-by-side in a single\n",
    "    chunk of memory, so there is little wasted space, and computer\n",
    "    hardware is often faster with contiguous chunks. In a linked list,\n",
    "    each element requires a node with one or two links. The links take\n",
    "    up space (sometimes more than the data!), and with nodes scattered\n",
    "    around in memory, the hardware might be less efficient.\n",
    "\n",
    "In summary, analysis of algorithms provides some guidance for choosing\n",
    "data structures, but only if\n",
    "\n",
    "1.  The runtime of your application is important,\n",
    "\n",
    "2.  The runtime of your application depends on your choice of data\n",
    "    structure, and\n",
    "\n",
    "3.  The problem size is large enough that the order of growth actually\n",
    "    predicts which data structure is better.\n",
    "\n",
    "You could have a long career as a software engineer without ever finding\n",
    "yourself in this situation."
   ]
  }
 ],
 "metadata": {},
 "nbformat": 4,
 "nbformat_minor": 5
}
