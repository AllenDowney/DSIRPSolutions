{
 "cells": [
  {
   "cell_type": "markdown",
   "id": "af0fce85",
   "metadata": {},
   "source": [
    "# Chapter xx"
   ]
  },
  {
   "cell_type": "markdown",
   "id": "c5ff28a0",
   "metadata": {
    "tags": [
     "remove-cell"
    ]
   },
   "source": [
    "*Data Structures and Information Retrieval in Python*\n",
    "\n",
    "Copyright 2021 Allen Downey\n",
    "\n",
    "License: [Creative Commons Attribution-NonCommercial-ShareAlike 4.0 International](https://creativecommons.org/licenses/by-nc-sa/4.0/)"
   ]
  },
  {
   "cell_type": "code",
   "execution_count": 1,
   "id": "9a28b6a7",
   "metadata": {
    "tags": [
     "remove-cell"
    ]
   },
   "outputs": [],
   "source": [
    "from os.path import basename, exists\n",
    "\n",
    "def download(url):\n",
    "    filename = basename(url)\n",
    "    if not exists(filename):\n",
    "        from urllib.request import urlretrieve\n",
    "        local, _ = urlretrieve(url, filename)\n",
    "        print('Downloaded ' + local)\n",
    "    \n",
    "# download('https://github.com/AllenDowney/DSIRP/raw/main/utils.py')"
   ]
  },
  {
   "cell_type": "markdown",
   "id": "c91bcf8f",
   "metadata": {},
   "source": [
    "[Click here to run this chapter on Colab](https://colab.research.google.com/github/AllenDowney/DSIRP/blob/main/chapters/chap01.ipynb)"
   ]
  },
  {
   "cell_type": "markdown",
   "id": "36900610",
   "metadata": {},
   "source": [
    "## Linked Lists\n",
    "\n",
    "Implementing operations on linked lists is a staple of programming classes and technical interviews.\n",
    "\n",
    "I resist them because it is unlikely that you will ever have to implement a linked list in your professional work. And if you do, someone has made a bad decision.\n",
    "\n",
    "However, they can be good etudes, that is, pieces that you practice in order to learn, but never perform.\n",
    "\n",
    "For many of these problems, there are several possible solutions, depending on the requirements:\n",
    "\n",
    "* Are you allowed to modify an existing list, or create new ones?\n",
    "\n",
    "* If you modify an existing structure, are you also supposed to return a reference to it?\n",
    "\n",
    "* Are you allowed to allocate temporary structures, or do you have to perform all operations in place?\n",
    "\n",
    "And for all of these problems, you could write a solution iteratively or recursively. So there are many possible solutions for each.\n",
    "\n",
    "As we consider alternatives, some of the factors to keep in mind are:\n",
    "\n",
    "* Performance in terms of time and space.\n",
    "\n",
    "* Readability and demonstrably correctness.\n",
    "\n",
    "In general, performance should be asymptotically correct, but we might be willing to pay some overhead to achieve bulletproof correctness.\n"
   ]
  },
  {
   "cell_type": "code",
   "execution_count": 2,
   "id": "c3eda892",
   "metadata": {},
   "outputs": [],
   "source": [
    "class Node:\n",
    "    def __init__(self, data, next=None):\n",
    "        self.data = data\n",
    "        self.next = next"
   ]
  },
  {
   "cell_type": "code",
   "execution_count": 3,
   "id": "3eb18535",
   "metadata": {},
   "outputs": [],
   "source": [
    "node1 = Node(1, None)"
   ]
  },
  {
   "cell_type": "code",
   "execution_count": 4,
   "id": "eff28640",
   "metadata": {},
   "outputs": [],
   "source": [
    "def node_repr(node):\n",
    "    if node is None:\n",
    "        return 'None'\n",
    "    \n",
    "    rest = node_repr(node.next)\n",
    "    return f'Node({node.data}, {rest})'"
   ]
  },
  {
   "cell_type": "code",
   "execution_count": 5,
   "id": "116217c1",
   "metadata": {},
   "outputs": [
    {
     "data": {
      "text/plain": [
       "'Node(1, None)'"
      ]
     },
     "execution_count": 5,
     "metadata": {},
     "output_type": "execute_result"
    }
   ],
   "source": [
    "node_repr(node1)"
   ]
  },
  {
   "cell_type": "code",
   "execution_count": 6,
   "id": "49e063af",
   "metadata": {},
   "outputs": [],
   "source": [
    "Node.__repr__ = node_repr"
   ]
  },
  {
   "cell_type": "code",
   "execution_count": 7,
   "id": "4887eb0c",
   "metadata": {},
   "outputs": [
    {
     "data": {
      "text/plain": [
       "Node(1, None)"
      ]
     },
     "execution_count": 7,
     "metadata": {},
     "output_type": "execute_result"
    }
   ],
   "source": [
    "node1"
   ]
  },
  {
   "cell_type": "code",
   "execution_count": 8,
   "id": "936b26b2",
   "metadata": {},
   "outputs": [],
   "source": [
    "node2 = Node(2)\n",
    "node3 = Node(3)"
   ]
  },
  {
   "cell_type": "markdown",
   "id": "fdfd0222",
   "metadata": {},
   "source": [
    "And then link them up, like this:"
   ]
  },
  {
   "cell_type": "code",
   "execution_count": 9,
   "id": "80748b5d",
   "metadata": {},
   "outputs": [],
   "source": [
    "node1.next = node2\n",
    "node2.next = node3"
   ]
  },
  {
   "cell_type": "code",
   "execution_count": 10,
   "id": "29a7ebcc",
   "metadata": {},
   "outputs": [
    {
     "data": {
      "text/plain": [
       "Node(1, Node(2, Node(3, None)))"
      ]
     },
     "execution_count": 10,
     "metadata": {},
     "output_type": "execute_result"
    }
   ],
   "source": [
    "node1"
   ]
  },
  {
   "cell_type": "code",
   "execution_count": 11,
   "id": "f1c32da2",
   "metadata": {},
   "outputs": [],
   "source": [
    "class LinkedList:\n",
    "    def __init__(self, head=None):\n",
    "        self.head = head"
   ]
  },
  {
   "cell_type": "code",
   "execution_count": 12,
   "id": "f8def755",
   "metadata": {},
   "outputs": [
    {
     "data": {
      "text/plain": [
       "<__main__.LinkedList at 0x7f7da7c57d90>"
      ]
     },
     "execution_count": 12,
     "metadata": {},
     "output_type": "execute_result"
    }
   ],
   "source": [
    "t = LinkedList(node1)\n",
    "t"
   ]
  },
  {
   "cell_type": "code",
   "execution_count": 13,
   "id": "9a658b42",
   "metadata": {},
   "outputs": [],
   "source": [
    "def LinkedList_repr(node):\n",
    "    return f'LinkedList({node_repr(node.head)})'"
   ]
  },
  {
   "cell_type": "code",
   "execution_count": 14,
   "id": "4f6381f1",
   "metadata": {},
   "outputs": [
    {
     "data": {
      "text/plain": [
       "'LinkedList(Node(1, Node(2, Node(3, None))))'"
      ]
     },
     "execution_count": 14,
     "metadata": {},
     "output_type": "execute_result"
    }
   ],
   "source": [
    "LinkedList_repr(t)"
   ]
  },
  {
   "cell_type": "code",
   "execution_count": 15,
   "id": "e0999e6e",
   "metadata": {},
   "outputs": [],
   "source": [
    "LinkedList.__repr__ = LinkedList_repr"
   ]
  },
  {
   "cell_type": "code",
   "execution_count": 16,
   "id": "ac112697",
   "metadata": {},
   "outputs": [
    {
     "data": {
      "text/plain": [
       "LinkedList(Node(1, Node(2, Node(3, None))))"
      ]
     },
     "execution_count": 16,
     "metadata": {},
     "output_type": "execute_result"
    }
   ],
   "source": [
    "t"
   ]
  },
  {
   "cell_type": "markdown",
   "id": "e38e3c31",
   "metadata": {},
   "source": [
    "## Search"
   ]
  },
  {
   "cell_type": "code",
   "execution_count": 17,
   "id": "0ce358f1",
   "metadata": {},
   "outputs": [],
   "source": [
    "def is_in(data, t):\n",
    "    node = t.head\n",
    "    while node:\n",
    "        if node.data == data:\n",
    "            return True\n",
    "        node = node.next\n",
    "    return False"
   ]
  },
  {
   "cell_type": "code",
   "execution_count": 18,
   "id": "70165057",
   "metadata": {},
   "outputs": [
    {
     "data": {
      "text/plain": [
       "(True, True, False)"
      ]
     },
     "execution_count": 18,
     "metadata": {},
     "output_type": "execute_result"
    }
   ],
   "source": [
    "is_in(1, t), is_in(3, t), is_in(5, t)"
   ]
  },
  {
   "cell_type": "code",
   "execution_count": 19,
   "id": "bfa34538",
   "metadata": {},
   "outputs": [],
   "source": [
    "def is_in_helper(node, data):\n",
    "    if node is None:\n",
    "        return False\n",
    "    if node.data == data:\n",
    "        return True\n",
    "    return is_in_helper(node.next, data)\n",
    "\n",
    "def is_in(data, t):\n",
    "    return is_in_helper(t.head, data)"
   ]
  },
  {
   "cell_type": "code",
   "execution_count": 20,
   "id": "f6a5bdff",
   "metadata": {},
   "outputs": [
    {
     "data": {
      "text/plain": [
       "(True, True, False)"
      ]
     },
     "execution_count": 20,
     "metadata": {},
     "output_type": "execute_result"
    }
   ],
   "source": [
    "is_in(1, t), is_in(3, t), is_in(5, t)"
   ]
  },
  {
   "cell_type": "markdown",
   "id": "a889a92a",
   "metadata": {},
   "source": [
    "## Total"
   ]
  },
  {
   "cell_type": "code",
   "execution_count": 21,
   "id": "2b4c04c4",
   "metadata": {},
   "outputs": [],
   "source": [
    "def LinkedList_total(t):\n",
    "    total = 0\n",
    "    node = t.head\n",
    "    while node:\n",
    "        total += node.data\n",
    "        node = node.next\n",
    "    return total"
   ]
  },
  {
   "cell_type": "code",
   "execution_count": 22,
   "id": "e645eb41",
   "metadata": {},
   "outputs": [
    {
     "data": {
      "text/plain": [
       "6"
      ]
     },
     "execution_count": 22,
     "metadata": {},
     "output_type": "execute_result"
    }
   ],
   "source": [
    "LinkedList_total(t)"
   ]
  },
  {
   "cell_type": "code",
   "execution_count": 23,
   "id": "68c9fcab",
   "metadata": {},
   "outputs": [],
   "source": [
    "def LinkedList_total_helper(node):\n",
    "    if node is None:\n",
    "        return 0\n",
    "    return node.data + LinkedList_total_helper(node.next)\n",
    "\n",
    "def LinkedList_total(t):\n",
    "    return LinkedList_total_helper(t.head)"
   ]
  },
  {
   "cell_type": "code",
   "execution_count": 24,
   "id": "dcb7d86b",
   "metadata": {},
   "outputs": [
    {
     "data": {
      "text/plain": [
       "6"
      ]
     },
     "execution_count": 24,
     "metadata": {},
     "output_type": "execute_result"
    }
   ],
   "source": [
    "LinkedList_total(t)"
   ]
  },
  {
   "cell_type": "markdown",
   "id": "44af708a",
   "metadata": {},
   "source": [
    "## Push and Pop"
   ]
  },
  {
   "cell_type": "code",
   "execution_count": 25,
   "id": "7b522c71",
   "metadata": {},
   "outputs": [],
   "source": [
    "def push(t, node):\n",
    "    node.next = t.head\n",
    "    t.head = node"
   ]
  },
  {
   "cell_type": "code",
   "execution_count": 26,
   "id": "9ee37b46",
   "metadata": {},
   "outputs": [
    {
     "data": {
      "text/plain": [
       "LinkedList(Node(1, Node(2, Node(3, None))))"
      ]
     },
     "execution_count": 26,
     "metadata": {},
     "output_type": "execute_result"
    }
   ],
   "source": [
    "t = LinkedList()\n",
    "push(t, Node(3))\n",
    "push(t, Node(2))\n",
    "push(t, Node(1))\n",
    "t"
   ]
  },
  {
   "cell_type": "code",
   "execution_count": 27,
   "id": "541d2764",
   "metadata": {},
   "outputs": [],
   "source": [
    "def pop(t):\n",
    "    if t.head is None:\n",
    "        raise ValueError('Tried to pop from empty LinkedList')\n",
    "    data = t.head.data\n",
    "    t.head = t.head.next\n",
    "    return data"
   ]
  },
  {
   "cell_type": "code",
   "execution_count": 28,
   "id": "091cf27c",
   "metadata": {},
   "outputs": [
    {
     "data": {
      "text/plain": [
       "(1, 2, 3)"
      ]
     },
     "execution_count": 28,
     "metadata": {},
     "output_type": "execute_result"
    }
   ],
   "source": [
    "pop(t), pop(t), pop(t)"
   ]
  },
  {
   "cell_type": "code",
   "execution_count": 29,
   "id": "23ac16de",
   "metadata": {},
   "outputs": [
    {
     "data": {
      "text/plain": [
       "LinkedList(None)"
      ]
     },
     "execution_count": 29,
     "metadata": {},
     "output_type": "execute_result"
    }
   ],
   "source": [
    "t"
   ]
  },
  {
   "cell_type": "markdown",
   "id": "0c1dc751",
   "metadata": {},
   "source": [
    "## Reverse\n",
    "\n",
    "Based on https://www.geeksforgeeks.org/reverse-a-linked-LinkedList/\n",
    "\n",
    "Simplest if you are allowed to make a new list."
   ]
  },
  {
   "cell_type": "code",
   "execution_count": 30,
   "id": "8e09adea",
   "metadata": {},
   "outputs": [],
   "source": [
    "def reverse(t):\n",
    "    t2 = LinkedList()\n",
    "    node = t.head\n",
    "    while node:\n",
    "        push(t2, Node(node.data))\n",
    "        node = node.next\n",
    "\n",
    "    return t2"
   ]
  },
  {
   "cell_type": "code",
   "execution_count": 31,
   "id": "638d2a4c",
   "metadata": {},
   "outputs": [
    {
     "data": {
      "text/plain": [
       "LinkedList(Node(3, Node(2, Node(1, None))))"
      ]
     },
     "execution_count": 31,
     "metadata": {},
     "output_type": "execute_result"
    }
   ],
   "source": [
    "t = LinkedList(Node(1, Node(2, Node(3, None))))\n",
    "reverse(t)"
   ]
  },
  {
   "cell_type": "markdown",
   "id": "e14694f3",
   "metadata": {},
   "source": [
    "This one allocates a queue and a temporary `LinkedList`, but it reuses the Node objects"
   ]
  },
  {
   "cell_type": "code",
   "execution_count": 32,
   "id": "8e28d79f",
   "metadata": {},
   "outputs": [],
   "source": [
    "def reverse(t):\n",
    "    queue = []\n",
    "    node = t.head\n",
    "    while node:\n",
    "        queue.append(node)\n",
    "        node = node.next\n",
    "\n",
    "    t2 = LinkedList()\n",
    "    for node in queue:\n",
    "        push(t2, node)\n",
    "        \n",
    "    t.head = t2.head"
   ]
  },
  {
   "cell_type": "code",
   "execution_count": 33,
   "id": "71e266a3",
   "metadata": {},
   "outputs": [
    {
     "data": {
      "text/plain": [
       "LinkedList(Node(3, Node(2, Node(1, None))))"
      ]
     },
     "execution_count": 33,
     "metadata": {},
     "output_type": "execute_result"
    }
   ],
   "source": [
    "t = LinkedList(Node(1, Node(2, Node(3, None))))\n",
    "reverse(t)\n",
    "t"
   ]
  },
  {
   "cell_type": "markdown",
   "id": "650cd970",
   "metadata": {},
   "source": [
    "Here's a recursive version that doesn't allocate anything"
   ]
  },
  {
   "cell_type": "code",
   "execution_count": 34,
   "id": "39ecaac5",
   "metadata": {},
   "outputs": [],
   "source": [
    "def reverse_helper(node):\n",
    " \n",
    "    # if there are 0 or 1 nodes\n",
    "    if node is None or node.next is None:\n",
    "        return node\n",
    "\n",
    "    # reverse the rest LinkedList\n",
    "    rest = reverse_helper(node.next)\n",
    "\n",
    "    # Put first element at the end\n",
    "    node.next.next = node\n",
    "    node.next = None\n",
    "\n",
    "    return rest\n",
    "\n",
    "def reverse(t):\n",
    "    t.head = reverse_helper(t.head)"
   ]
  },
  {
   "cell_type": "code",
   "execution_count": 35,
   "id": "a1b1c5b4",
   "metadata": {},
   "outputs": [
    {
     "data": {
      "text/plain": [
       "LinkedList(Node(3, Node(2, Node(1, None))))"
      ]
     },
     "execution_count": 35,
     "metadata": {},
     "output_type": "execute_result"
    }
   ],
   "source": [
    "t = LinkedList(Node(1, Node(2, Node(3, None))))\n",
    "reverse(t)\n",
    "t"
   ]
  },
  {
   "cell_type": "markdown",
   "id": "24e735a0",
   "metadata": {},
   "source": [
    "And finally an iterative version that doesn't allocate anything."
   ]
  },
  {
   "cell_type": "code",
   "execution_count": 36,
   "id": "a99a76d9",
   "metadata": {},
   "outputs": [],
   "source": [
    "def reverse(t):\n",
    "    prev = None\n",
    "    current = t.head\n",
    "    while current :\n",
    "        next = current.next\n",
    "        current.next = prev\n",
    "        prev = current\n",
    "        current = next\n",
    "    t.head = prev"
   ]
  },
  {
   "cell_type": "markdown",
   "id": "cf2e89ec",
   "metadata": {},
   "source": [
    "## Remove"
   ]
  },
  {
   "cell_type": "code",
   "execution_count": 37,
   "id": "9b7d0ef5",
   "metadata": {},
   "outputs": [],
   "source": [
    "def remove_after(node):\n",
    "    node.next = node.next.next"
   ]
  },
  {
   "cell_type": "code",
   "execution_count": 38,
   "id": "fbb1598d",
   "metadata": {},
   "outputs": [
    {
     "data": {
      "text/plain": [
       "LinkedList(Node(1, Node(3, None)))"
      ]
     },
     "execution_count": 38,
     "metadata": {},
     "output_type": "execute_result"
    }
   ],
   "source": [
    "t = LinkedList(Node(1, Node(2, Node(3, None))))\n",
    "remove_after(t.head)\n",
    "t"
   ]
  },
  {
   "cell_type": "code",
   "execution_count": 39,
   "id": "aaa399ce",
   "metadata": {},
   "outputs": [],
   "source": [
    "def remove(t, data):\n",
    "    if t.head is None:\n",
    "        raise ValueError('Tried to remove from an empty LinkedList')\n",
    "        \n",
    "    node = t.head\n",
    "    if node.data == data:\n",
    "        t.head = node.next\n",
    "        return\n",
    "\n",
    "    while node.next:\n",
    "        if node.next.data == data:\n",
    "            remove_after(node)\n",
    "            return\n",
    "        node = node.next\n",
    "        \n",
    "    raise ValueError('Value not found')"
   ]
  },
  {
   "cell_type": "code",
   "execution_count": 40,
   "id": "f8038acf",
   "metadata": {},
   "outputs": [
    {
     "data": {
      "text/plain": [
       "LinkedList(Node(1, Node(3, None)))"
      ]
     },
     "execution_count": 40,
     "metadata": {},
     "output_type": "execute_result"
    }
   ],
   "source": [
    "t = LinkedList(Node(1, Node(2, Node(3, None))))\n",
    "remove(t, 2)\n",
    "t"
   ]
  },
  {
   "cell_type": "code",
   "execution_count": 41,
   "id": "0531d0b5",
   "metadata": {},
   "outputs": [
    {
     "data": {
      "text/plain": [
       "LinkedList(Node(3, None))"
      ]
     },
     "execution_count": 41,
     "metadata": {},
     "output_type": "execute_result"
    }
   ],
   "source": [
    "remove(t, 1)\n",
    "t"
   ]
  },
  {
   "cell_type": "code",
   "execution_count": 42,
   "id": "191c9489",
   "metadata": {},
   "outputs": [
    {
     "name": "stdout",
     "output_type": "stream",
     "text": [
      "Value not found\n"
     ]
    }
   ],
   "source": [
    "try:\n",
    "    remove(t, 4)\n",
    "except ValueError as e:\n",
    "    print(e)"
   ]
  },
  {
   "cell_type": "code",
   "execution_count": 43,
   "id": "41214410",
   "metadata": {},
   "outputs": [
    {
     "data": {
      "text/plain": [
       "LinkedList(None)"
      ]
     },
     "execution_count": 43,
     "metadata": {},
     "output_type": "execute_result"
    }
   ],
   "source": [
    "remove(t, 3)\n",
    "t"
   ]
  },
  {
   "cell_type": "code",
   "execution_count": 44,
   "id": "99aecad6",
   "metadata": {},
   "outputs": [
    {
     "name": "stdout",
     "output_type": "stream",
     "text": [
      "Tried to remove from an empty LinkedList\n"
     ]
    }
   ],
   "source": [
    "try:\n",
    "    remove(t, 5)\n",
    "except ValueError as e:\n",
    "    print(e)"
   ]
  },
  {
   "cell_type": "markdown",
   "id": "ab7f0a6a",
   "metadata": {},
   "source": [
    "## Insert Sorted"
   ]
  },
  {
   "cell_type": "code",
   "execution_count": 45,
   "id": "3e754808",
   "metadata": {},
   "outputs": [],
   "source": [
    "def insert_after(node, data):\n",
    "    node.next = Node(data, node.next)"
   ]
  },
  {
   "cell_type": "code",
   "execution_count": 46,
   "id": "c8022b07",
   "metadata": {},
   "outputs": [
    {
     "data": {
      "text/plain": [
       "LinkedList(Node(1, Node(5, Node(2, Node(3, None)))))"
      ]
     },
     "execution_count": 46,
     "metadata": {},
     "output_type": "execute_result"
    }
   ],
   "source": [
    "t = LinkedList(Node(1, Node(2, Node(3, None))))\n",
    "insert_after(t.head, 5)\n",
    "t"
   ]
  },
  {
   "cell_type": "code",
   "execution_count": 47,
   "id": "ec6634e9",
   "metadata": {},
   "outputs": [],
   "source": [
    "def insert_sorted(t, data):\n",
    "    if t.head is None or t.head.data > data:\n",
    "        push(t, Node(data))\n",
    "        return\n",
    "    \n",
    "    node = t.head\n",
    "    while node.next:\n",
    "        if node.next.data > data:\n",
    "            insert_after(node, data)\n",
    "            return\n",
    "        node = node.next\n",
    "    \n",
    "    insert_after(node, data)"
   ]
  },
  {
   "cell_type": "code",
   "execution_count": 48,
   "id": "57cb85bf",
   "metadata": {},
   "outputs": [
    {
     "data": {
      "text/plain": [
       "LinkedList(Node(1, None))"
      ]
     },
     "execution_count": 48,
     "metadata": {},
     "output_type": "execute_result"
    }
   ],
   "source": [
    "t = LinkedList()\n",
    "insert_sorted(t, 1)\n",
    "t"
   ]
  },
  {
   "cell_type": "code",
   "execution_count": 49,
   "id": "aff32ed5",
   "metadata": {},
   "outputs": [
    {
     "data": {
      "text/plain": [
       "LinkedList(Node(1, Node(3, None)))"
      ]
     },
     "execution_count": 49,
     "metadata": {},
     "output_type": "execute_result"
    }
   ],
   "source": [
    "insert_sorted(t, 3)\n",
    "t"
   ]
  },
  {
   "cell_type": "code",
   "execution_count": 50,
   "id": "14fd6809",
   "metadata": {},
   "outputs": [
    {
     "data": {
      "text/plain": [
       "LinkedList(Node(0, Node(1, Node(3, None))))"
      ]
     },
     "execution_count": 50,
     "metadata": {},
     "output_type": "execute_result"
    }
   ],
   "source": [
    "insert_sorted(t, 0)\n",
    "t"
   ]
  },
  {
   "cell_type": "code",
   "execution_count": 51,
   "id": "f612292f",
   "metadata": {},
   "outputs": [
    {
     "data": {
      "text/plain": [
       "LinkedList(Node(0, Node(1, Node(2, Node(3, None)))))"
      ]
     },
     "execution_count": 51,
     "metadata": {},
     "output_type": "execute_result"
    }
   ],
   "source": [
    "insert_sorted(t, 2)\n",
    "t"
   ]
  },
  {
   "cell_type": "code",
   "execution_count": null,
   "id": "f51a66dc",
   "metadata": {},
   "outputs": [],
   "source": []
  }
 ],
 "metadata": {
  "kernelspec": {
   "display_name": "Python 3",
   "language": "python",
   "name": "python3"
  },
  "language_info": {
   "codemirror_mode": {
    "name": "ipython",
    "version": 3
   },
   "file_extension": ".py",
   "mimetype": "text/x-python",
   "name": "python",
   "nbconvert_exporter": "python",
   "pygments_lexer": "ipython3",
   "version": "3.9.4"
  }
 },
 "nbformat": 4,
 "nbformat_minor": 5
}
