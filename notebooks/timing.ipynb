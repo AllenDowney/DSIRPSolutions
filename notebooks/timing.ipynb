{
 "cells": [
  {
   "cell_type": "markdown",
   "id": "17fb04da",
   "metadata": {},
   "source": [
    "# Chapter xx"
   ]
  },
  {
   "cell_type": "markdown",
   "id": "b4939489",
   "metadata": {
    "tags": [
     "remove-cell"
    ]
   },
   "source": [
    "*Data Structures and Information Retrieval in Python*\n",
    "\n",
    "Copyright 2021 Allen Downey\n",
    "\n",
    "License: [Creative Commons Attribution-NonCommercial-ShareAlike 4.0 International](https://creativecommons.org/licenses/by-nc-sa/4.0/)"
   ]
  },
  {
   "cell_type": "code",
   "execution_count": 83,
   "id": "17c28d70",
   "metadata": {
    "tags": [
     "remove-cell"
    ]
   },
   "outputs": [],
   "source": [
    "from os.path import basename, exists\n",
    "\n",
    "def download(url):\n",
    "    filename = basename(url)\n",
    "    if not exists(filename):\n",
    "        from urllib.request import urlretrieve\n",
    "        local, _ = urlretrieve(url, filename)\n",
    "        print('Downloaded ' + local)\n",
    "    return filename\n",
    "    \n",
    "# download('https://github.com/AllenDowney/DSIRP/raw/main/utils.py')"
   ]
  },
  {
   "cell_type": "markdown",
   "id": "457822ea",
   "metadata": {},
   "source": [
    "[Click here to run this chapter on Colab](https://colab.research.google.com/github/AllenDowney/DSIRP/blob/main/chapters/chap01.ipynb)"
   ]
  },
  {
   "cell_type": "markdown",
   "id": "f8bbd91f",
   "metadata": {},
   "source": [
    "[documentation of os.times](https://docs.python.org/3/library/os.html#os.times)"
   ]
  },
  {
   "cell_type": "code",
   "execution_count": 2,
   "id": "fc83bfb4",
   "metadata": {},
   "outputs": [],
   "source": [
    "import os\n",
    "\n",
    "def etime():\n",
    "    \"\"\"Measures user and system time this process has used.\n",
    "\n",
    "    Returns the sum of user and system time.\"\"\"\n",
    "    user, sys, chuser, chsys, real = os.times()\n",
    "    return user+sys"
   ]
  },
  {
   "cell_type": "code",
   "execution_count": 4,
   "id": "658abbaa",
   "metadata": {},
   "outputs": [
    {
     "data": {
      "text/plain": [
       "0.010000000000000009"
      ]
     },
     "execution_count": 4,
     "metadata": {},
     "output_type": "execute_result"
    }
   ],
   "source": [
    "start = etime()\n",
    "t = [x**2 for x in range(10000)]\n",
    "end = etime()\n",
    "end - start"
   ]
  },
  {
   "cell_type": "code",
   "execution_count": 3,
   "id": "ebe25162",
   "metadata": {},
   "outputs": [
    {
     "data": {
      "text/plain": [
       "0.0"
      ]
     },
     "execution_count": 3,
     "metadata": {},
     "output_type": "execute_result"
    }
   ],
   "source": [
    "from time import sleep\n",
    "\n",
    "start = etime()\n",
    "sleep(1)\n",
    "end = etime()\n",
    "end - start"
   ]
  },
  {
   "cell_type": "code",
   "execution_count": 10,
   "id": "047c71e7",
   "metadata": {},
   "outputs": [],
   "source": [
    "def time_func(func, n):\n",
    "    \"\"\"Run a function and return the elapsed time.\n",
    "\n",
    "    func: function\n",
    "    n: problem size\n",
    "\n",
    "    returns: user+sys time in seconds\n",
    "    \"\"\"\n",
    "    start = etime()\n",
    "    func(n)\n",
    "    end = etime()\n",
    "    elapsed = end - start\n",
    "    return elapsed"
   ]
  },
  {
   "cell_type": "code",
   "execution_count": 11,
   "id": "f9376047",
   "metadata": {},
   "outputs": [],
   "source": [
    "def list_append(n):\n",
    "    t = []\n",
    "    [t.append(x) for x in range(n)]"
   ]
  },
  {
   "cell_type": "code",
   "execution_count": 12,
   "id": "7c2885d4",
   "metadata": {},
   "outputs": [
    {
     "name": "stdout",
     "output_type": "stream",
     "text": [
      "522 µs ± 900 ns per loop (mean ± std. dev. of 7 runs, 1000 loops each)\n"
     ]
    }
   ],
   "source": [
    "%timeit list_append(10000)"
   ]
  },
  {
   "cell_type": "code",
   "execution_count": 13,
   "id": "1cf8fb47",
   "metadata": {},
   "outputs": [
    {
     "data": {
      "text/plain": [
       "0.0"
      ]
     },
     "execution_count": 13,
     "metadata": {},
     "output_type": "execute_result"
    }
   ],
   "source": [
    "time_func(list_append, 10000)"
   ]
  },
  {
   "cell_type": "code",
   "execution_count": 14,
   "id": "fa868100",
   "metadata": {},
   "outputs": [
    {
     "data": {
      "text/plain": [
       "0.009999999999999787"
      ]
     },
     "execution_count": 14,
     "metadata": {},
     "output_type": "execute_result"
    }
   ],
   "source": [
    "time_func(list_append, 100000)"
   ]
  },
  {
   "cell_type": "code",
   "execution_count": 15,
   "id": "b06ea31e",
   "metadata": {},
   "outputs": [
    {
     "data": {
      "text/plain": [
       "0.07000000000000028"
      ]
     },
     "execution_count": 15,
     "metadata": {},
     "output_type": "execute_result"
    }
   ],
   "source": [
    "time_func(list_append, 1000000)"
   ]
  },
  {
   "cell_type": "code",
   "execution_count": 16,
   "id": "0dd65d8c",
   "metadata": {},
   "outputs": [
    {
     "data": {
      "text/plain": [
       "0.6399999999999988"
      ]
     },
     "execution_count": 16,
     "metadata": {},
     "output_type": "execute_result"
    }
   ],
   "source": [
    "time_func(list_append, 10000000)"
   ]
  },
  {
   "cell_type": "code",
   "execution_count": 17,
   "id": "398a0ad4",
   "metadata": {},
   "outputs": [],
   "source": [
    "def run_timing_test(func, max_time=1):\n",
    "    \"\"\"Tests the given function with a range of values for n.\n",
    "\n",
    "    func: function object\n",
    "\n",
    "    returns: list of ns and a list of run times.\n",
    "    \"\"\"\n",
    "    ns = []\n",
    "    ts = []\n",
    "    for i in range(10, 28):\n",
    "        n = 2**i\n",
    "        t = time_func(func, n)\n",
    "        print(n, t)\n",
    "        if t > 0:\n",
    "            ns.append(n)\n",
    "            ts.append(t)\n",
    "        if t > max_time:\n",
    "            break\n",
    "\n",
    "    return ns, ts"
   ]
  },
  {
   "cell_type": "code",
   "execution_count": 18,
   "id": "a7de057d",
   "metadata": {},
   "outputs": [
    {
     "name": "stdout",
     "output_type": "stream",
     "text": [
      "1024 0.0\n",
      "2048 0.0\n",
      "4096 0.0\n",
      "8192 0.0\n",
      "16384 0.0\n",
      "32768 0.010000000000001563\n",
      "65536 0.0\n",
      "131072 0.009999999999999787\n",
      "262144 0.02000000000000135\n",
      "524288 0.03999999999999915\n",
      "1048576 0.07000000000000028\n",
      "2097152 0.1399999999999988\n",
      "4194304 0.29999999999999893\n",
      "8388608 0.5600000000000023\n",
      "16777216 1.0599999999999987\n"
     ]
    }
   ],
   "source": [
    "ns, ts = run_timing_test(list_append)"
   ]
  },
  {
   "cell_type": "code",
   "execution_count": 19,
   "id": "484a1bc4",
   "metadata": {},
   "outputs": [],
   "source": [
    "def fit(ns, ts, exp=1.0, index=-1):\n",
    "    \"\"\"Fits a curve with the given exponent.\n",
    "\n",
    "    ns: sequence of problem sizes\n",
    "    ts: sequence of times\n",
    "    exp: exponent of the fitted curve\n",
    "    index: index of the element the fitted line should go through\n",
    "\n",
    "    returns: sequence of fitted times\n",
    "\n",
    "\n",
    "    \"\"\"\n",
    "    # Use the element with the given index as a reference point,\n",
    "    # and scale all other points accordingly.\n",
    "    nref = ns[index]\n",
    "    tref = ts[index]\n",
    "\n",
    "    tfit = []\n",
    "    for n in ns:\n",
    "        ratio = n / nref\n",
    "        t = ratio**exp * tref\n",
    "        tfit.append(t)\n",
    "\n",
    "    return tfit"
   ]
  },
  {
   "cell_type": "code",
   "execution_count": 22,
   "id": "8b9fb5a1",
   "metadata": {},
   "outputs": [
    {
     "data": {
      "text/plain": [
       "[0.0020703124999999975,\n",
       " 0.00828124999999999,\n",
       " 0.01656249999999998,\n",
       " 0.03312499999999996,\n",
       " 0.06624999999999992,\n",
       " 0.13249999999999984,\n",
       " 0.2649999999999997,\n",
       " 0.5299999999999994,\n",
       " 1.0599999999999987]"
      ]
     },
     "execution_count": 22,
     "metadata": {},
     "output_type": "execute_result"
    }
   ],
   "source": [
    "ts_fit = fit(ns, ts)\n",
    "ts_fit"
   ]
  },
  {
   "cell_type": "code",
   "execution_count": 23,
   "id": "a8ce5c69",
   "metadata": {},
   "outputs": [],
   "source": [
    "import matplotlib.pyplot as plt\n",
    "\n",
    "def plot_timing_test(ns, ts, label='', color='C0', exp=1.0, scale='log'):\n",
    "    \"\"\"Plots data and a fitted curve.\n",
    "\n",
    "    ns: sequence of n (problem size)\n",
    "    ts: sequence of t (run time)\n",
    "    label: string label for the data curve\n",
    "    color: string color for the data curve\n",
    "    exp: exponent (slope) for the fitted curve\n",
    "    scale: string passed to xscale and yscale\n",
    "    \"\"\"\n",
    "    ts_fit = fit(ns, ts, exp)\n",
    "    fit_label = 'exp = %d' % exp\n",
    "    plt.plot(ns, ts_fit, label=fit_label, color='0.7', linestyle='dashed')\n",
    "    plt.plot(ns, ts, 'o-', label=label, color=color, alpha=0.7)\n",
    "    plt.xlabel('Problem size (n)')\n",
    "    plt.ylabel('Runtime (seconds)')\n",
    "    plt.xscale(scale)\n",
    "    plt.yscale(scale)\n",
    "    plt.legend()"
   ]
  },
  {
   "cell_type": "code",
   "execution_count": null,
   "id": "900e5271",
   "metadata": {},
   "outputs": [],
   "source": [
    "plot_timing_test(ns, ts, scale='linear')\n",
    "plt.title('list append')"
   ]
  },
  {
   "cell_type": "code",
   "execution_count": 25,
   "id": "6794ce85",
   "metadata": {},
   "outputs": [
    {
     "data": {
      "image/png": "[encoded data removed]",
      "text/plain": [
       "<Figure size 432x288 with 1 Axes>"
      ]
     },
     "metadata": {
      "needs_background": "light"
     },
     "output_type": "display_data"
    }
   ],
   "source": [
    "plot_timing_test(ns, ts, scale='log')\n",
    "plt.title('list append')"
   ]
  },
  {
   "cell_type": "code",
   "execution_count": 28,
   "id": "ba060426",
   "metadata": {},
   "outputs": [],
   "source": [
    "def list_pop(n):\n",
    "    t = []\n",
    "    [t.append(x) for x in range(n)]\n",
    "    [t.pop() for _ in range(n)]\n",
    "\n",
    "ns, ts = run_timing_test(list_pop)\n",
    "\n",
    "plot_timing_test(ns, ts, scale='log')\n",
    "plt.title('list pop');"
   ]
  },
  {
   "cell_type": "code",
   "execution_count": 31,
   "id": "373932c4",
   "metadata": {},
   "outputs": [],
   "source": [
    "def list_pop0(n):\n",
    "    t = []\n",
    "    [t.append(x) for x in range(n)]\n",
    "    [t.pop(0) for _ in range(n)]\n",
    "\n",
    "ns, ts = run_timing_test(list_pop0)\n",
    "\n",
    "plot_timing_test(ns, ts, scale='log', exp=2)\n",
    "plt.title('list pop(0)');"
   ]
  },
  {
   "cell_type": "code",
   "execution_count": 46,
   "id": "76cd5fe9",
   "metadata": {},
   "outputs": [
    {
     "name": "stdout",
     "output_type": "stream",
     "text": [
      "1024 0.0\n",
      "2048 0.0\n",
      "4096 0.0\n",
      "8192 0.0\n",
      "16384 0.010000000000005116\n",
      "32768 0.0\n",
      "65536 0.00999999999999801\n",
      "131072 0.020000000000003126\n",
      "262144 0.02999999999999403\n",
      "524288 0.07000000000000028\n",
      "1048576 0.11999999999999744\n",
      "2097152 0.25\n",
      "4194304 0.5600000000000023\n",
      "8388608 1.0500000000000043\n"
     ]
    },
    {
     "data": {
      "image/png": "[encoded data removed]",
      "text/plain": [
       "<Figure size 432x288 with 1 Axes>"
      ]
     },
     "metadata": {
      "needs_background": "light"
     },
     "output_type": "display_data"
    }
   ],
   "source": [
    "def list_index0(n):\n",
    "    t = []\n",
    "    [t.append(x) for x in range(n)]\n",
    "    [t.index(0) for _ in range(n)]\n",
    "\n",
    "ns, ts = run_timing_test(list_index0)\n",
    "\n",
    "plot_timing_test(ns, ts, scale='log', exp=1)\n",
    "plt.title('list index(0)');"
   ]
  },
  {
   "cell_type": "code",
   "execution_count": 47,
   "id": "cb53f5cb",
   "metadata": {},
   "outputs": [
    {
     "name": "stdout",
     "output_type": "stream",
     "text": [
      "1024 0.00999999999999801\n",
      "2048 0.03999999999999915\n",
      "4096 0.14999999999999858\n",
      "8192 0.5700000000000003\n",
      "16384 2.260000000000005\n"
     ]
    },
    {
     "data": {
      "image/png": "[encoded data removed]",
      "text/plain": [
       "<Figure size 432x288 with 1 Axes>"
      ]
     },
     "metadata": {
      "needs_background": "light"
     },
     "output_type": "display_data"
    }
   ],
   "source": [
    "def list_index_n(n):\n",
    "    t = []\n",
    "    [t.append(x) for x in range(n)]\n",
    "    [t.index(n-1) for _ in range(n)]\n",
    "\n",
    "ns, ts = run_timing_test(list_index_n)\n",
    "\n",
    "plot_timing_test(ns, ts, scale='log', exp=2)\n",
    "plt.title('list index(n-1)');"
   ]
  },
  {
   "cell_type": "code",
   "execution_count": 50,
   "id": "efad2b15",
   "metadata": {},
   "outputs": [
    {
     "name": "stdout",
     "output_type": "stream",
     "text": [
      "1024 0.0\n",
      "2048 0.0\n",
      "4096 0.0\n",
      "8192 0.0\n",
      "16384 0.0\n",
      "32768 0.0\n",
      "65536 0.00999999999999801\n",
      "131072 0.010000000000005116\n",
      "262144 0.02999999999999403\n",
      "524288 0.05000000000000426\n",
      "1048576 0.09999999999999432\n",
      "2097152 0.23000000000000398\n",
      "4194304 0.46999999999999886\n",
      "8388608 0.9699999999999989\n",
      "16777216 1.8300000000000054\n"
     ]
    },
    {
     "data": {
      "image/png": "[encoded data removed]",
      "text/plain": [
       "<Figure size 432x288 with 1 Axes>"
      ]
     },
     "metadata": {
      "needs_background": "light"
     },
     "output_type": "display_data"
    }
   ],
   "source": [
    "def dict_add(n):\n",
    "    d = {}\n",
    "    [d.setdefault(x, x) for x in range(n)]\n",
    "\n",
    "ns, ts = run_timing_test(dict_add)\n",
    "\n",
    "plot_timing_test(ns, ts, scale='log', exp=1)\n",
    "plt.title('dict add');"
   ]
  },
  {
   "cell_type": "code",
   "execution_count": 52,
   "id": "2c8d0aa9",
   "metadata": {},
   "outputs": [
    {
     "name": "stdout",
     "output_type": "stream",
     "text": [
      "1024 0.0\n",
      "2048 0.0\n",
      "4096 0.010000000000005116\n",
      "8192 0.0\n",
      "16384 0.0\n",
      "32768 0.0\n",
      "65536 0.00999999999999801\n",
      "131072 0.020000000000003126\n",
      "262144 0.03999999999999915\n",
      "524288 0.0799999999999983\n",
      "1048576 0.1600000000000037\n",
      "2097152 0.3299999999999983\n",
      "4194304 0.6599999999999966\n",
      "8388608 1.3700000000000045\n"
     ]
    },
    {
     "data": {
      "image/png": "[encoded data removed]",
      "text/plain": [
       "<Figure size 432x288 with 1 Axes>"
      ]
     },
     "metadata": {
      "needs_background": "light"
     },
     "output_type": "display_data"
    }
   ],
   "source": [
    "def dict_lookup(n):\n",
    "    d = {}\n",
    "    [d.setdefault(x, x) for x in range(n)]\n",
    "    [d[x] for x in range(n)]\n",
    "\n",
    "ns, ts = run_timing_test(dict_lookup)\n",
    "\n",
    "plot_timing_test(ns, ts, scale='log', exp=1)\n",
    "plt.title('dict lookup');"
   ]
  },
  {
   "cell_type": "code",
   "execution_count": null,
   "id": "837d8649",
   "metadata": {},
   "outputs": [],
   "source": []
  }
 ],
 "metadata": {
  "kernelspec": {
   "display_name": "Python 3",
   "language": "python",
   "name": "python3"
  },
  "language_info": {
   "codemirror_mode": {
    "name": "ipython",
    "version": 3
   },
   "file_extension": ".py",
   "mimetype": "text/x-python",
   "name": "python",
   "nbconvert_exporter": "python",
   "pygments_lexer": "ipython3",
   "version": "3.9.4"
  }
 },
 "nbformat": 4,
 "nbformat_minor": 5
}
