{
 "cells": [
  {
   "cell_type": "markdown",
   "id": "db23f9d1",
   "metadata": {},
   "source": [
    "# Chapter xx"
   ]
  },
  {
   "cell_type": "markdown",
   "id": "d68ae686",
   "metadata": {
    "tags": [
     "remove-cell"
    ]
   },
   "source": [
    "*Data Structures and Information Retrieval in Python*\n",
    "\n",
    "Copyright 2021 Allen Downey\n",
    "\n",
    "License: [Creative Commons Attribution-NonCommercial-ShareAlike 4.0 International](https://creativecommons.org/licenses/by-nc-sa/4.0/)"
   ]
  },
  {
   "cell_type": "code",
   "execution_count": 1,
   "id": "a300b080",
   "metadata": {
    "tags": [
     "remove-cell"
    ]
   },
   "outputs": [],
   "source": [
    "from os.path import basename, exists\n",
    "\n",
    "def download(url):\n",
    "    filename = basename(url)\n",
    "    if not exists(filename):\n",
    "        from urllib.request import urlretrieve\n",
    "        local, _ = urlretrieve(url, filename)\n",
    "        print('Downloaded ' + local)\n",
    "    \n",
    "# download('https://github.com/AllenDowney/DSIRP/raw/main/utils.py')"
   ]
  },
  {
   "cell_type": "markdown",
   "id": "4ffa8333",
   "metadata": {},
   "source": [
    "[Click here to run this chapter on Colab](https://colab.research.google.com/github/AllenDowney/DSIRP/blob/main/chapters/chap01.ipynb)"
   ]
  },
  {
   "cell_type": "code",
   "execution_count": null,
   "id": "a12efd5f",
   "metadata": {},
   "outputs": [],
   "source": []
  },
  {
   "cell_type": "markdown",
   "id": "b9c65ca0",
   "metadata": {},
   "source": [
    "# The Map interface\n",
    "\n",
    "In the next few exercises, I present several implementations of the\n",
    "`Map` interface. One of them is based on a **hash table**, which is\n",
    "arguably the most magical data structure ever invented. Another, which\n",
    "is similar to `TreeMap`, is not quite as magical, but it has the added\n",
    "capability that it can iterate the elements in order.\n",
    "\n",
    "You will have a chance to implement these data structures, and then we\n",
    "will analyze their performance.\n",
    "\n",
    "But before we can explain hash tables, we'll start with a simple\n",
    "implementation of a `Map` using a `List` of key-value pairs.\n",
    "\n",
    "## Implementing `MyLinearMap`\n",
    "\n",
    "As usual, I provide starter code and you will fill in the missing\n",
    "methods. Here's the beginning of the `MyLinearMap` class definition:"
   ]
  },
  {
   "cell_type": "code",
   "execution_count": 1,
   "id": "0dbdf3e8",
   "metadata": {},
   "outputs": [],
   "source": [
    "class LinearMap:\n",
    "    \"\"\"A simple implementation of a map using a list of tuples\n",
    "    where each tuple is a key-value pair.\"\"\"\n",
    "\n",
    "    def __init__(self):\n",
    "        self.items = []\n",
    "\n",
    "    def add(self, k, v):\n",
    "        \"\"\"Adds a new item that maps from key (k) to value (v).\n",
    "        Assumes that they keys are unique.\"\"\"\n",
    "        self.items.append((k, v))\n",
    "\n",
    "    def get(self, k):\n",
    "        \"\"\"Looks up the key (k) and returns the corresponding value,\n",
    "        or raises KeyError if the key is not found.\"\"\"\n",
    "        for key, val in self.items:\n",
    "            if key == k:\n",
    "                return val\n",
    "        raise KeyError\n"
   ]
  },
  {
   "cell_type": "markdown",
   "id": "19baeceb",
   "metadata": {},
   "source": [
    "This class uses two type parameters, `K`, which is the type of the keys,\n",
    "and `V`, which is the type of the values. `MyLinearMap` implements\n",
    "`Map`, which means it has to provide the methods in the `Map` interface.\n",
    "\n",
    "A `MyLinearMap` object has a single instance variable, `entries`, which\n",
    "is an `ArrayList` of `Entry` objects. Each `Entry` contains a key-value\n",
    "pair. Here is the definition:"
   ]
  },
  {
   "cell_type": "code",
   "execution_count": null,
   "id": "9d26d008",
   "metadata": {},
   "outputs": [],
   "source": []
  },
  {
   "cell_type": "markdown",
   "id": "a079aaae",
   "metadata": {},
   "source": [
    "There's not much to it; an `Entry` is just a container for a key and a\n",
    "value. This definition is nested inside `MyLinearList`, so it uses the\n",
    "same type parameters, `K` and `V`.\n",
    "\n",
    "That's all you need to do the exercise, so let's get started.\n",
    "\n",
    "## Exercise 7\n",
    "\n",
    "In the repository for this book, you'll find the source files for this\n",
    "exercise:\n",
    "\n",
    "-   `MyLinearMap.java` contains starter code for the first part of the\n",
    "    exercise.\n",
    "\n",
    "-   `MyLinearMapTest.java` contains the unit tests for `MyLinearMap`.\n",
    "\n",
    "You'll also find the Ant build file `build.xml`.\n",
    "\n",
    "Run `ant build` to compile the source files. Then run ; several tests\n",
    "should fail, because you have some work to do!\n",
    "\n",
    "First, fill in the body of `findEntry`. This is a helper method that is\n",
    "not part of the `Map` interface, but once you get it working, you can\n",
    "use it for several methods. Given a target key, it should search through\n",
    "the entries and return the entry that contains the target (as a key, not\n",
    "a value) or `null` if it's not there. Notice that I provide an `equals`\n",
    "method that compares two keys and handles `null` correctly.\n",
    "\n",
    "You can run `ant MyLinearMapTest` again, but even if your `findEntry` is\n",
    "correct, the tests won't pass because `put` is not complete.\n",
    "\n",
    "Fill in `put`. You should read the documentation of `Map.put` at\n",
    "<http://thinkdast.com/listput> so you know what it is supposed to do.\n",
    "You might want to start with a version of `put` that always adds a new\n",
    "entry and does not modify an existing entry; that way you can test the\n",
    "simple case first. Or if you feel more confident, you can write the\n",
    "whole thing at once.\n",
    "\n",
    "Once you've got `put` working, the test for `containsKey` should pass.\n",
    "\n",
    "Read the documentation of `Map.get` at <http://thinkdast.com/listget>\n",
    "and then fill in the method. Run the tests again.\n",
    "\n",
    "Finally, read the documentation of `Map.remove` at\n",
    "<http://thinkdast.com/maprem> and fill in the method.\n",
    "\n",
    "At this point, all tests should pass. Congratulations!"
   ]
  },
  {
   "cell_type": "markdown",
   "id": "fa9f6a5b",
   "metadata": {},
   "source": [
    "## Analyzing `MyLinearMap`\n",
    "\n",
    "In this section I present a solution to the previous exercise and\n",
    "analyze the performance of the core methods. Here are `findEntry` and\n",
    "`equals`:"
   ]
  },
  {
   "cell_type": "code",
   "execution_count": null,
   "id": "d11a9a6b",
   "metadata": {},
   "outputs": [],
   "source": [
    "private Entry findEntry(Object target) {\n",
    "    for (Entry entry: entries) {\n",
    "        if (equals(target, entry.getKey())) {\n",
    "            return entry;\n",
    "        }\n",
    "    }\n",
    "    return null;\n",
    "}\n",
    "\n",
    "private boolean equals(Object target, Object obj) {\n",
    "    if (target == null) {\n",
    "        return obj == null;\n",
    "    }\n",
    "    return target.equals(obj);\n",
    "}"
   ]
  },
  {
   "cell_type": "markdown",
   "id": "d11ec719",
   "metadata": {},
   "source": [
    "The runtime of `equals` might depend on the size of the `target` and the\n",
    "keys, but does not generally depend on the number of entries, $n$. So\n",
    "`equals` is constant time.\n",
    "\n",
    "In `findEntry`, we might get lucky and find the key we're looking for at\n",
    "the beginning, but we can't count on it. In general, the number of\n",
    "entries we have to search is proportional to $n$, so `findEntry` is\n",
    "linear.\n",
    "\n",
    "Most of the core methods in `MyLinearMap` use `findEntry`, including\n",
    "`put`, `get`, and `remove`. Here's what they look like:"
   ]
  },
  {
   "cell_type": "code",
   "execution_count": null,
   "id": "05a0e4bd",
   "metadata": {},
   "outputs": [],
   "source": [
    "public V put(K key, V value) {\n",
    "    Entry entry = findEntry(key);\n",
    "    if (entry == null) {\n",
    "        entries.add(new Entry(key, value));\n",
    "        return null;\n",
    "    } else {\n",
    "        V oldValue = entry.getValue();\n",
    "        entry.setValue(value);\n",
    "        return oldValue;\n",
    "    }\n",
    "}\n",
    "\n",
    "public V get(Object key) {\n",
    "    Entry entry = findEntry(key);\n",
    "    if (entry == null) {\n",
    "        return null;\n",
    "    }\n",
    "    return entry.getValue();\n",
    "}\n",
    "\n",
    "public V remove(Object key) {\n",
    "    Entry entry = findEntry(key);\n",
    "    if (entry == null) {\n",
    "        return null;\n",
    "    } else {\n",
    "        V value = entry.getValue();\n",
    "        entries.remove(entry);\n",
    "        return value;\n",
    "    }\n",
    "}"
   ]
  },
  {
   "cell_type": "markdown",
   "id": "12fd1dd1",
   "metadata": {},
   "source": [
    "After `put` calls `findEntry`, everything else is constant time.\n",
    "Remember that `entries` is an `ArrayList`, so adding an element *at the\n",
    "end* is constant time, on average. If the key is already in the map, we\n",
    "don't have to add an entry, but we have to call `entry.getValue` and\n",
    "`entry.setValue`, and those are both constant time. Putting it all\n",
    "together, `put` is linear.\n",
    "\n",
    "By the same reasoning, `get` is also linear.\n",
    "\n",
    "`remove` is slightly more complicated because `entries.remove` might\n",
    "have to remove an element from the beginning or middle of the\n",
    "`ArrayList`, and that takes linear time. But that's OK: two linear\n",
    "operations are still linear.\n",
    "\n",
    "In summary, the core methods are all linear, which is why we called this\n",
    "implementation `MyLinearMap` (ta-da!).\n",
    "\n",
    "If we know that the number of entries will be small, this implementation\n",
    "might be good enough, but we can do better. In fact, there is an\n",
    "implementation of `Map` where all of the core methods are constant time.\n",
    "When you first hear that, it might not seem possible. What we are\n",
    "saying, in effect, is that you can find a needle in a haystack in\n",
    "constant time, regardless of how big the haystack is. It's magic.\n",
    "\n",
    "I'll explain how it works in two steps:\n",
    "\n",
    "1.  Instead of storing entries in one big `List`, we'll break them up\n",
    "    into lots of short lists. For each key, we'll use a **hash code**\n",
    "    (explained in the next section) to determine which list to use.\n",
    "\n",
    "2.  Using lots of short lists is faster than using just one, but as I'll\n",
    "    explain, it doesn't change the order of growth; the core operations\n",
    "    are still linear. But there is one more trick: if we increase the\n",
    "    number of lists to limit the number of entries per list, the result\n",
    "    is a constant-time map. You'll see the details in the next exercise,\n",
    "    but first: hashing!\n",
    "\n",
    "In the next chapter, I'll present a solution, analyze the performance of\n",
    "the core `Map` methods, and introduce a more efficient implementation."
   ]
  },
  {
   "cell_type": "code",
   "execution_count": null,
   "id": "c8834e01",
   "metadata": {},
   "outputs": [],
   "source": []
  },
  {
   "cell_type": "code",
   "execution_count": null,
   "id": "39c9abf1",
   "metadata": {},
   "outputs": [],
   "source": []
  },
  {
   "cell_type": "code",
   "execution_count": null,
   "id": "f2c58a8e",
   "metadata": {},
   "outputs": [],
   "source": []
  },
  {
   "cell_type": "code",
   "execution_count": null,
   "id": "e6247030",
   "metadata": {},
   "outputs": [],
   "source": []
  }
 ],
 "metadata": {
  "kernelspec": {
   "display_name": "Python 3",
   "language": "python",
   "name": "python3"
  },
  "language_info": {
   "codemirror_mode": {
    "name": "ipython",
    "version": 3
   },
   "file_extension": ".py",
   "mimetype": "text/x-python",
   "name": "python",
   "nbconvert_exporter": "python",
   "pygments_lexer": "ipython3",
   "version": "3.9.4"
  }
 },
 "nbformat": 4,
 "nbformat_minor": 5
}
