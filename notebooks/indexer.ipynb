{
 "cells": [
  {
   "cell_type": "markdown",
   "id": "17fb04da",
   "metadata": {},
   "source": [
    "# Chapter xx"
   ]
  },
  {
   "cell_type": "markdown",
   "id": "b4939489",
   "metadata": {
    "tags": [
     "remove-cell"
    ]
   },
   "source": [
    "*Data Structures and Information Retrieval in Python*\n",
    "\n",
    "Copyright 2021 Allen Downey\n",
    "\n",
    "License: [Creative Commons Attribution-NonCommercial-ShareAlike 4.0 International](https://creativecommons.org/licenses/by-nc-sa/4.0/)"
   ]
  },
  {
   "cell_type": "code",
   "execution_count": 83,
   "id": "17c28d70",
   "metadata": {
    "tags": [
     "remove-cell"
    ]
   },
   "outputs": [],
   "source": [
    "from os.path import basename, exists\n",
    "\n",
    "def download(url):\n",
    "    filename = basename(url)\n",
    "    if not exists(filename):\n",
    "        from urllib.request import urlretrieve\n",
    "        local, _ = urlretrieve(url, filename)\n",
    "        print('Downloaded ' + local)\n",
    "    return filename\n",
    "    \n",
    "# download('https://github.com/AllenDowney/DSIRP/raw/main/utils.py')"
   ]
  },
  {
   "cell_type": "markdown",
   "id": "457822ea",
   "metadata": {},
   "source": [
    "[Click here to run this chapter on Colab](https://colab.research.google.com/github/AllenDowney/DSIRP/blob/main/chapters/chap01.ipynb)"
   ]
  },
  {
   "cell_type": "code",
   "execution_count": 1,
   "id": "32366201",
   "metadata": {},
   "outputs": [],
   "source": [
    "html_doc = \"\"\"\n",
    "<html><head><title>The Dormouse's story</title></head>\n",
    "<body>\n",
    "<p class=\"title\"><b>The Dormouse's story</b></p>\n",
    "\n",
    "<p class=\"story\">Once upon a time there were three little sisters; and their names were\n",
    "<a href=\"http://example.com/elsie\" class=\"sister\" id=\"link1\">Elsie</a>,\n",
    "<a href=\"http://example.com/lacie\" class=\"sister\" id=\"link2\">Lacie</a> and\n",
    "<a href=\"http://example.com/tillie\" class=\"sister\" id=\"link3\">Tillie</a>;\n",
    "and they lived at the bottom of a well.</p>\n",
    "\n",
    "<p class=\"story\">...</p>\n",
    "\"\"\""
   ]
  },
  {
   "cell_type": "code",
   "execution_count": 24,
   "id": "ca8689bc",
   "metadata": {},
   "outputs": [
    {
     "data": {
      "text/plain": [
       "bs4.BeautifulSoup"
      ]
     },
     "execution_count": 24,
     "metadata": {},
     "output_type": "execute_result"
    }
   ],
   "source": [
    "from bs4 import BeautifulSoup\n",
    "\n",
    "soup = BeautifulSoup(html_doc)\n",
    "type(soup)"
   ]
  },
  {
   "cell_type": "code",
   "execution_count": 25,
   "id": "a0a853ba",
   "metadata": {},
   "outputs": [],
   "source": [
    "def iterative_DFS(root):\n",
    "    stack = []\n",
    "    stack.append(root)\n",
    "    \n",
    "    while(stack):\n",
    "        tag = stack.pop()\n",
    "        yield tag\n",
    "\n",
    "        children = getattr(tag, \"contents\", [])\n",
    "        for child in reversed(children):\n",
    "            stack.append(child)"
   ]
  },
  {
   "cell_type": "code",
   "execution_count": 26,
   "id": "e7b75e21",
   "metadata": {},
   "outputs": [
    {
     "name": "stdout",
     "output_type": "stream",
     "text": [
      "The Dormouse's story\n",
      "\n",
      "The Dormouse's story\n",
      "Once upon a time there were three little sisters; and their names were\n",
      "Elsie,\n",
      "Lacie and\n",
      "Tillie;\n",
      "and they lived at the bottom of a well.\n",
      "...\n"
     ]
    }
   ],
   "source": [
    "from bs4 import NavigableString\n",
    "\n",
    "for element in iterative_DFS(soup):\n",
    "    if isinstance(element, NavigableString):\n",
    "        print(element.string, end='')"
   ]
  },
  {
   "cell_type": "code",
   "execution_count": 58,
   "id": "e17d4abc",
   "metadata": {},
   "outputs": [],
   "source": [
    "from string import whitespace, punctuation\n",
    "\n",
    "def iterate_words(soup):\n",
    "    for element in iterative_DFS(soup):\n",
    "        if isinstance(element, NavigableString):\n",
    "            for word in element.string.split():\n",
    "                word = word.strip(whitespace + punctuation)\n",
    "                if word:\n",
    "                    yield word"
   ]
  },
  {
   "cell_type": "code",
   "execution_count": 59,
   "id": "afd6efc8",
   "metadata": {},
   "outputs": [
    {
     "name": "stdout",
     "output_type": "stream",
     "text": [
      "The\n",
      "Dormouse's\n",
      "story\n",
      "The\n",
      "Dormouse's\n",
      "story\n",
      "Once\n",
      "upon\n",
      "a\n",
      "time\n",
      "there\n",
      "were\n",
      "three\n",
      "little\n",
      "sisters\n",
      "and\n",
      "their\n",
      "names\n",
      "were\n",
      "Elsie\n",
      "Lacie\n",
      "and\n",
      "Tillie\n",
      "and\n",
      "they\n",
      "lived\n",
      "at\n",
      "the\n",
      "bottom\n",
      "of\n",
      "a\n",
      "well\n"
     ]
    }
   ],
   "source": [
    "for word in iterate_words(soup):\n",
    "    print(word)"
   ]
  },
  {
   "cell_type": "code",
   "execution_count": 54,
   "id": "5ff865bc",
   "metadata": {},
   "outputs": [
    {
     "name": "stdout",
     "output_type": "stream",
     "text": [
      "The\n",
      "Dormouse's\n",
      "story\n",
      "The\n",
      "Dormouse's\n",
      "story\n",
      "Once\n",
      "upon\n",
      "a\n",
      "time\n",
      "there\n",
      "were\n",
      "three\n",
      "little\n",
      "sisters\n",
      "and\n",
      "their\n",
      "names\n",
      "were\n",
      "Elsie\n",
      "Lacie\n",
      "and\n",
      "Tillie\n",
      "and\n",
      "they\n",
      "lived\n",
      "at\n",
      "the\n",
      "bottom\n",
      "of\n",
      "a\n",
      "well\n",
      "\n"
     ]
    }
   ],
   "source": [
    "from bs4 import NavigableString\n",
    "\n",
    "text = soup.get_text()\n",
    "for word in text.split():\n",
    "    print(word.strip(whitespace + punctuation))"
   ]
  },
  {
   "cell_type": "code",
   "execution_count": 60,
   "id": "319748e3",
   "metadata": {},
   "outputs": [
    {
     "data": {
      "text/plain": [
       "Counter({'The': 2,\n",
       "         \"Dormouse's\": 2,\n",
       "         'story': 2,\n",
       "         'Once': 1,\n",
       "         'upon': 1,\n",
       "         'a': 2,\n",
       "         'time': 1,\n",
       "         'there': 1,\n",
       "         'were': 2,\n",
       "         'three': 1,\n",
       "         'little': 1,\n",
       "         'sisters': 1,\n",
       "         'and': 3,\n",
       "         'their': 1,\n",
       "         'names': 1,\n",
       "         'Elsie': 1,\n",
       "         'Lacie': 1,\n",
       "         'Tillie': 1,\n",
       "         'they': 1,\n",
       "         'lived': 1,\n",
       "         'at': 1,\n",
       "         'the': 1,\n",
       "         'bottom': 1,\n",
       "         'of': 1,\n",
       "         'well': 1})"
      ]
     },
     "execution_count": 60,
     "metadata": {},
     "output_type": "execute_result"
    }
   ],
   "source": [
    "from collections import Counter\n",
    "\n",
    "counter = Counter(iterate_words(soup))\n",
    "counter"
   ]
  },
  {
   "cell_type": "code",
   "execution_count": null,
   "id": "236c9bcd",
   "metadata": {},
   "outputs": [],
   "source": []
  },
  {
   "cell_type": "code",
   "execution_count": null,
   "id": "86e87379",
   "metadata": {},
   "outputs": [],
   "source": []
  },
  {
   "cell_type": "code",
   "execution_count": null,
   "id": "196f8723",
   "metadata": {},
   "outputs": [],
   "source": []
  },
  {
   "cell_type": "code",
   "execution_count": 84,
   "id": "a3d44c97",
   "metadata": {},
   "outputs": [],
   "source": [
    "url = \"https://en.wikipedia.org/wiki/Python_(programming_language)\"\n",
    "filename = download(url)"
   ]
  },
  {
   "cell_type": "code",
   "execution_count": 85,
   "id": "98856065",
   "metadata": {},
   "outputs": [],
   "source": [
    "fp = open(filename)\n",
    "soup2 = BeautifulSoup(fp)"
   ]
  },
  {
   "cell_type": "code",
   "execution_count": 61,
   "id": "48b223c6",
   "metadata": {},
   "outputs": [
    {
     "data": {
      "text/plain": [
       "[('Python', 426),\n",
       " ('the', 270),\n",
       " ('and', 265),\n",
       " ('a', 218),\n",
       " ('of', 196),\n",
       " ('to', 173),\n",
       " ('Retrieved', 167),\n",
       " ('in', 149),\n",
       " ('is', 134),\n",
       " ('for', 118)]"
      ]
     },
     "execution_count": 61,
     "metadata": {},
     "output_type": "execute_result"
    }
   ],
   "source": [
    "counter2 = Counter(iterate_words(soup2))\n",
    "counter2.most_common(10)"
   ]
  },
  {
   "cell_type": "markdown",
   "id": "fbfd17ff",
   "metadata": {},
   "source": [
    "This list suggests TF/IDF."
   ]
  },
  {
   "cell_type": "code",
   "execution_count": 64,
   "id": "68fecf23",
   "metadata": {},
   "outputs": [
    {
     "name": "stdout",
     "output_type": "stream",
     "text": [
      "128077:C 10 Aug 2021 14:07:17.642 # oO0OoO0OoO0Oo Redis is starting oO0OoO0OoO0Oo\r\n",
      "128077:C 10 Aug 2021 14:07:17.642 # Redis version=5.0.3, bits=64, commit=00000000, modified=0, pid=128077, just started\r\n",
      "128077:C 10 Aug 2021 14:07:17.642 # Configuration loaded\r\n"
     ]
    }
   ],
   "source": [
    "!redis-server --daemonize yes"
   ]
  },
  {
   "cell_type": "code",
   "execution_count": 65,
   "id": "5e35a4cd",
   "metadata": {},
   "outputs": [],
   "source": [
    "import redis\n",
    "\n",
    "r = redis.Redis()"
   ]
  },
  {
   "cell_type": "code",
   "execution_count": 79,
   "id": "fd340651",
   "metadata": {},
   "outputs": [
    {
     "data": {
      "text/plain": [
       "'Counter(test)'"
      ]
     },
     "execution_count": 79,
     "metadata": {},
     "output_type": "execute_result"
    }
   ],
   "source": [
    "key = f'Counter(test)'\n",
    "key"
   ]
  },
  {
   "cell_type": "code",
   "execution_count": 80,
   "id": "2c5a8245",
   "metadata": {},
   "outputs": [],
   "source": [
    "for word in iterate_words(soup):\n",
    "    r.hincrby(key, word, 1)"
   ]
  },
  {
   "cell_type": "code",
   "execution_count": 82,
   "id": "1d0d053c",
   "metadata": {},
   "outputs": [
    {
     "data": {
      "text/plain": [
       "b'4'"
      ]
     },
     "execution_count": 82,
     "metadata": {},
     "output_type": "execute_result"
    }
   ],
   "source": [
    "r.hget(key, 'The')"
   ]
  },
  {
   "cell_type": "code",
   "execution_count": 73,
   "id": "82538d50",
   "metadata": {},
   "outputs": [
    {
     "data": {
      "text/plain": [
       "[b'The',\n",
       " b\"Dormouse's\",\n",
       " b'story',\n",
       " b'Once',\n",
       " b'upon',\n",
       " b'a',\n",
       " b'time',\n",
       " b'there',\n",
       " b'were',\n",
       " b'three',\n",
       " b'little',\n",
       " b'sisters',\n",
       " b'and',\n",
       " b'their',\n",
       " b'names',\n",
       " b'Elsie',\n",
       " b'Lacie',\n",
       " b'Tillie',\n",
       " b'they',\n",
       " b'lived',\n",
       " b'at',\n",
       " b'the',\n",
       " b'bottom',\n",
       " b'of',\n",
       " b'well']"
      ]
     },
     "execution_count": 73,
     "metadata": {},
     "output_type": "execute_result"
    }
   ],
   "source": [
    "words = r.hkeys(key)\n",
    "words"
   ]
  },
  {
   "cell_type": "code",
   "execution_count": 75,
   "id": "f200afb0",
   "metadata": {},
   "outputs": [
    {
     "name": "stdout",
     "output_type": "stream",
     "text": [
      "(b'The', b'2')\n",
      "(b\"Dormouse's\", b'2')\n",
      "(b'story', b'2')\n",
      "(b'Once', b'1')\n",
      "(b'upon', b'1')\n",
      "(b'a', b'2')\n",
      "(b'time', b'1')\n",
      "(b'there', b'1')\n",
      "(b'were', b'2')\n",
      "(b'three', b'1')\n",
      "(b'little', b'1')\n",
      "(b'sisters', b'1')\n",
      "(b'and', b'3')\n",
      "(b'their', b'1')\n",
      "(b'names', b'1')\n",
      "(b'Elsie', b'1')\n",
      "(b'Lacie', b'1')\n",
      "(b'Tillie', b'1')\n",
      "(b'they', b'1')\n",
      "(b'lived', b'1')\n",
      "(b'at', b'1')\n",
      "(b'the', b'1')\n",
      "(b'bottom', b'1')\n",
      "(b'of', b'1')\n",
      "(b'well', b'1')\n"
     ]
    }
   ],
   "source": [
    "for item in r.hscan_iter(key):\n",
    "    print(item)"
   ]
  },
  {
   "cell_type": "code",
   "execution_count": 88,
   "id": "00aca8ad",
   "metadata": {},
   "outputs": [],
   "source": [
    "def redis_word_count(url):\n",
    "    filename = download(url)\n",
    "    soup = BeautifulSoup(open(filename))\n",
    "\n",
    "    key = f'Counter({url})'\n",
    "    r.delete(key)\n",
    "    \n",
    "    for word in iterate_words(soup):\n",
    "        r.hincrby(key, word, 1)\n",
    "        \n",
    "    return key"
   ]
  },
  {
   "cell_type": "code",
   "execution_count": 89,
   "id": "97742a26",
   "metadata": {},
   "outputs": [],
   "source": [
    "key = redis_word_count(url)"
   ]
  },
  {
   "cell_type": "code",
   "execution_count": 90,
   "id": "ce4d5628",
   "metadata": {},
   "outputs": [
    {
     "data": {
      "text/plain": [
       "b'426'"
      ]
     },
     "execution_count": 90,
     "metadata": {},
     "output_type": "execute_result"
    }
   ],
   "source": [
    "r.hget(key, 'Python')"
   ]
  },
  {
   "cell_type": "markdown",
   "id": "a2bd0e02",
   "metadata": {},
   "source": [
    "TODO: Count the words locally and upload the counter to Redis"
   ]
  },
  {
   "cell_type": "markdown",
   "id": "0fd7a1fa",
   "metadata": {},
   "source": [
    "# Indexer\n",
    "\n",
    "At this point we have built a basic Web crawler; the next piece we will\n",
    "work on is the **index**. In the context of web search, an index is a\n",
    "data structure that makes it possible to look up a search term and find\n",
    "the pages where that term appears. In addition, we would like to know\n",
    "how many times the search term appears on each page, which will help\n",
    "identify the pages most relevant to the term.\n",
    "\n",
    "For example, if a user submits the search terms \"Java\" and\n",
    "\"programming\", we would look up both search terms and get two sets of\n",
    "pages. Pages with the word \"Java\" would include pages about the island\n",
    "of Java, the nickname for coffee, and the programming language. Pages\n",
    "with the word \"programming\" would include pages about different\n",
    "programming languages, as well as other uses of the word. By selecting\n",
    "pages with both terms, we hope to eliminate irrelevant pages and find\n",
    "the ones about Java programming.\n",
    "\n",
    "Now that we understand what the index is and what operations it\n",
    "performs, we can design a data structure to represent it."
   ]
  },
  {
   "cell_type": "code",
   "execution_count": 94,
   "id": "9e20c70b",
   "metadata": {},
   "outputs": [
    {
     "name": "stdout",
     "output_type": "stream",
     "text": [
      "The 2\n",
      "Dormouse's 2\n",
      "story 2\n",
      "Once 1\n",
      "upon 1\n",
      "a 2\n",
      "time 1\n",
      "there 1\n",
      "were 2\n",
      "three 1\n",
      "little 1\n",
      "sisters 1\n",
      "and 3\n",
      "their 1\n",
      "names 1\n",
      "Elsie 1\n",
      "Lacie 1\n",
      "Tillie 1\n",
      "they 1\n",
      "lived 1\n",
      "at 1\n",
      "the 1\n",
      "bottom 1\n",
      "of 1\n",
      "well 1\n"
     ]
    }
   ],
   "source": [
    "for word, count in counter.items():\n",
    "    print(word, count)"
   ]
  },
  {
   "cell_type": "code",
   "execution_count": 95,
   "id": "cae0f2ea",
   "metadata": {},
   "outputs": [],
   "source": [
    "def redis_index(url):\n",
    "    filename = download(url)\n",
    "    soup = BeautifulSoup(open(filename))\n",
    "    counter = Counter(iterate_words(soup))\n",
    "    for word, count in counter.items():\n",
    "        key = f'Index({word})'\n",
    "        r.hset(key, url, count)"
   ]
  },
  {
   "cell_type": "code",
   "execution_count": 98,
   "id": "f160da90",
   "metadata": {},
   "outputs": [
    {
     "data": {
      "text/plain": [
       "b'426'"
      ]
     },
     "execution_count": 98,
     "metadata": {},
     "output_type": "execute_result"
    }
   ],
   "source": [
    "key = f'Index(Python)'\n",
    "r.hget(key, url)"
   ]
  },
  {
   "cell_type": "code",
   "execution_count": 100,
   "id": "7d8f71e9",
   "metadata": {},
   "outputs": [
    {
     "name": "stdout",
     "output_type": "stream",
     "text": [
      "b'https://en.wikipedia.org/wiki/Python_(programming_language)' b'426'\n"
     ]
    }
   ],
   "source": [
    "for page, count in r.hscan_iter(key):\n",
    "    print(page, count)"
   ]
  },
  {
   "cell_type": "code",
   "execution_count": null,
   "id": "ea2fb338",
   "metadata": {},
   "outputs": [],
   "source": []
  },
  {
   "cell_type": "code",
   "execution_count": null,
   "id": "a52d34ad",
   "metadata": {},
   "outputs": [],
   "source": []
  },
  {
   "cell_type": "code",
   "execution_count": null,
   "id": "9d695915",
   "metadata": {},
   "outputs": [],
   "source": []
  },
  {
   "cell_type": "code",
   "execution_count": null,
   "id": "a2b82180",
   "metadata": {},
   "outputs": [],
   "source": [
    "!killall redis-server"
   ]
  }
 ],
 "metadata": {
  "kernelspec": {
   "display_name": "Python 3",
   "language": "python",
   "name": "python3"
  },
  "language_info": {
   "codemirror_mode": {
    "name": "ipython",
    "version": 3
   },
   "file_extension": ".py",
   "mimetype": "text/x-python",
   "name": "python",
   "nbconvert_exporter": "python",
   "pygments_lexer": "ipython3",
   "version": "3.9.4"
  }
 },
 "nbformat": 4,
 "nbformat_minor": 5
}
