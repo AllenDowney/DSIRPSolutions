{
 "cells": [
  {
   "cell_type": "markdown",
   "id": "af0fce85",
   "metadata": {},
   "source": [
    "# Recursion"
   ]
  },
  {
   "cell_type": "markdown",
   "id": "c5ff28a0",
   "metadata": {
    "tags": [
     "remove-cell"
    ]
   },
   "source": [
    "*Data Structures and Information Retrieval in Python*\n",
    "\n",
    "Copyright 2021 Allen Downey\n",
    "\n",
    "License: [Creative Commons Attribution-NonCommercial-ShareAlike 4.0 International](https://creativecommons.org/licenses/by-nc-sa/4.0/)"
   ]
  },
  {
   "cell_type": "markdown",
   "id": "c91bcf8f",
   "metadata": {},
   "source": [
    "[Click here to run this chapter on Colab](https://colab.research.google.com/github/AllenDowney/DSIRP/blob/main/notebooks/recursion.ipynb)"
   ]
  },
  {
   "cell_type": "markdown",
   "id": "89aeaea0",
   "metadata": {},
   "source": [
    "Here's an example of recursion from [this section of Think Python](https://greenteapress.com/thinkpython2/html/thinkpython2006.html#sec62)."
   ]
  },
  {
   "cell_type": "code",
   "execution_count": 2,
   "id": "c89b8408",
   "metadata": {
    "tags": [
     "fill-in"
    ]
   },
   "outputs": [],
   "source": [
    "def countdown(n):\n",
    "    if n <= 0:\n",
    "        print('Blastoff!')\n",
    "    else:\n",
    "        print(n)\n",
    "        countdown(n-1)"
   ]
  },
  {
   "cell_type": "code",
   "execution_count": 3,
   "id": "3cb7b3e9",
   "metadata": {},
   "outputs": [
    {
     "name": "stdout",
     "output_type": "stream",
     "text": [
      "3\n",
      "2\n",
      "1\n",
      "Blastoff!\n"
     ]
    }
   ],
   "source": [
    "countdown(3)"
   ]
  },
  {
   "cell_type": "markdown",
   "id": "82d0b414",
   "metadata": {},
   "source": [
    "Here's the stack diagram to show what happens when this function runs.\n",
    "\n",
    "<img src=\"https://greenteapress.com/thinkpython2/html/thinkpython2005.png\">"
   ]
  },
  {
   "cell_type": "markdown",
   "id": "fd817529",
   "metadata": {},
   "source": [
    "Here's an example of recursion with a function that returns a value, from [this section of Think Python](https://greenteapress.com/thinkpython2/html/thinkpython2007.html#sec74)."
   ]
  },
  {
   "cell_type": "code",
   "execution_count": 9,
   "id": "c983acee",
   "metadata": {
    "tags": [
     "fill-in"
    ]
   },
   "outputs": [],
   "source": [
    "def factorial(n):\n",
    "    if n == 0:\n",
    "        print(n, 1)\n",
    "        return 1\n",
    "    else:\n",
    "        recurse = factorial(n-1)\n",
    "        result = n * recurse\n",
    "        print(n, recurse, result)\n",
    "        return result"
   ]
  },
  {
   "cell_type": "code",
   "execution_count": 10,
   "id": "ffff8a40",
   "metadata": {},
   "outputs": [
    {
     "name": "stdout",
     "output_type": "stream",
     "text": [
      "0 1\n",
      "1 1 1\n",
      "2 1 2\n",
      "3 2 6\n"
     ]
    },
    {
     "data": {
      "text/plain": [
       "6"
      ]
     },
     "execution_count": 10,
     "metadata": {},
     "output_type": "execute_result"
    }
   ],
   "source": [
    "factorial(3)"
   ]
  },
  {
   "cell_type": "markdown",
   "id": "16193034",
   "metadata": {},
   "source": [
    "<img src=\"https://greenteapress.com/thinkpython2/html/thinkpython2007.png\">"
   ]
  },
  {
   "cell_type": "markdown",
   "id": "15dbd023",
   "metadata": {},
   "source": [
    "Here's a version that generates a sort of stack diagram as it runs."
   ]
  },
  {
   "cell_type": "code",
   "execution_count": 15,
   "id": "5229c02a",
   "metadata": {},
   "outputs": [],
   "source": [
    "def factorial(n):\n",
    "    space = ' ' * (4 * n)\n",
    "    print(space, 'factorial', n)\n",
    "    if n == 0:\n",
    "        print(space, 'returning 1')\n",
    "        return 1\n",
    "    else:\n",
    "        recurse = factorial(n-1)\n",
    "        result = n * recurse\n",
    "        print(space, 'returning', result)\n",
    "        return result"
   ]
  },
  {
   "cell_type": "code",
   "execution_count": 17,
   "id": "d2cbc1a5",
   "metadata": {},
   "outputs": [
    {
     "name": "stdout",
     "output_type": "stream",
     "text": [
      "             factorial 3\n",
      "         factorial 2\n",
      "     factorial 1\n",
      " factorial 0\n",
      " returning 1\n",
      "     returning 1\n",
      "         returning 2\n",
      "             returning 6\n"
     ]
    },
    {
     "data": {
      "text/plain": [
       "6"
      ]
     },
     "execution_count": 17,
     "metadata": {},
     "output_type": "execute_result"
    }
   ],
   "source": [
    "factorial(3)"
   ]
  },
  {
   "cell_type": "markdown",
   "id": "48ce57a0",
   "metadata": {},
   "source": [
    "Here's a second example of recursion from [this section of Think Python](https://greenteapress.com/thinkpython2/html/thinkpython2007.html#sec76)."
   ]
  },
  {
   "cell_type": "code",
   "execution_count": 12,
   "id": "07aebbaf",
   "metadata": {
    "tags": [
     "fill-in"
    ]
   },
   "outputs": [],
   "source": [
    "def fibonacci(n):\n",
    "    print(n)\n",
    "    if n == 0:\n",
    "        return 0\n",
    "    elif  n == 1:\n",
    "        return 1\n",
    "    else:\n",
    "        return fibonacci(n-1) + fibonacci(n-2)"
   ]
  },
  {
   "cell_type": "code",
   "execution_count": 14,
   "id": "369c8615",
   "metadata": {},
   "outputs": [
    {
     "name": "stdout",
     "output_type": "stream",
     "text": [
      "4\n",
      "3\n",
      "2\n",
      "1\n",
      "0\n",
      "1\n",
      "2\n",
      "1\n",
      "0\n"
     ]
    },
    {
     "data": {
      "text/plain": [
       "3"
      ]
     },
     "execution_count": 14,
     "metadata": {},
     "output_type": "execute_result"
    }
   ],
   "source": [
    "fibonacci(4)"
   ]
  },
  {
   "cell_type": "markdown",
   "id": "b56e37f0",
   "metadata": {},
   "source": [
    "<img src=\"https://greenteapress.com/thinkpython2/html/thinkpython2017.png\">"
   ]
  },
  {
   "cell_type": "markdown",
   "id": "200aa231",
   "metadata": {},
   "source": [
    "Here's the [section from Think Python](https://greenteapress.com/thinkpython2/html/thinkpython2012.html#sec135) that shows how we can make fibonacci faster by \"memoizing\" it. That's not a typo; the word is really [memoize](https://en.wikipedia.org/wiki/Memoization)."
   ]
  },
  {
   "cell_type": "code",
   "execution_count": 28,
   "id": "8f90686e",
   "metadata": {
    "tags": [
     "fill-in"
    ]
   },
   "outputs": [],
   "source": [
    "known = {0:0, 1:1}\n",
    "\n",
    "def fibonacci_memo(n):\n",
    "    if n in known:\n",
    "        return known[n]\n",
    "\n",
    "    print(n)\n",
    "    res = fibonacci_memo(n-1) + fibonacci_memo(n-2)\n",
    "    known[n] = res\n",
    "    return res"
   ]
  },
  {
   "cell_type": "code",
   "execution_count": 29,
   "id": "a330c4b5",
   "metadata": {},
   "outputs": [
    {
     "name": "stdout",
     "output_type": "stream",
     "text": [
      "4\n",
      "3\n",
      "2\n"
     ]
    },
    {
     "data": {
      "text/plain": [
       "3"
      ]
     },
     "execution_count": 29,
     "metadata": {},
     "output_type": "execute_result"
    }
   ],
   "source": [
    "fibonacci_memo(4)"
   ]
  },
  {
   "cell_type": "markdown",
   "id": "736e10ae",
   "metadata": {},
   "source": [
    "Many things we do iteratively can be expressed recursively as well."
   ]
  },
  {
   "cell_type": "code",
   "execution_count": 30,
   "id": "2d6c25ac",
   "metadata": {
    "tags": [
     "fill-in"
    ]
   },
   "outputs": [],
   "source": [
    "def reverse(s):\n",
    "    if len(s) < 2:\n",
    "        return s\n",
    "    \n",
    "    return reverse(s[1:]) + s[0]"
   ]
  },
  {
   "cell_type": "code",
   "execution_count": 31,
   "id": "4fb89fb7",
   "metadata": {},
   "outputs": [
    {
     "data": {
      "text/plain": [
       "'esrever'"
      ]
     },
     "execution_count": 31,
     "metadata": {},
     "output_type": "execute_result"
    }
   ],
   "source": [
    "reverse('reverse')"
   ]
  },
  {
   "cell_type": "markdown",
   "id": "1b2de09d",
   "metadata": {},
   "source": [
    "For sequences and mapping types, there's usually no advantage of the recursive version. But for trees and graphs, a recursive implementation can be clearer, more concise, and more demonstrably correct."
   ]
  },
  {
   "cell_type": "markdown",
   "id": "dac413c8",
   "metadata": {},
   "source": [
    "Here's one of my favorite Car Talk Puzzlers (http://www.cartalk.com/content/puzzlers):\n",
    "\n",
    ">What is the longest English word, that remains a valid English word, as you remove its letters one at a time?\n",
    "\n",
    ">Now, letters can be removed from either end, or the middle, but you can’t rearrange any of the letters. Every time you drop a letter, you wind up with another English word. If you do that, you’re eventually going to wind up with one letter and that too is going to be an English word—one that’s found in the dictionary. I want to know what’s the longest word and how many letters does it have?\n",
    "\n",
    ">I’m going to give you a little modest example: Sprite. Ok? You start off with sprite, you take a letter off, one from the interior of the word, take the r away, and we’re left with the word spite, then we take the e off the end, we’re left with spit, we take the s off, we’re left with pit, it, and I. \n",
    "\n",
    "Write a program to find all words that can be reduced in this way, and then find the longest one.\n",
    "\n",
    "This exercise is a little more challenging than most, so here are some suggestions:\n",
    "\n",
    "* You might want to write a function that takes a word and computes a list of all the words that can be formed by removing one letter. These are the “children” of the word.\n",
    "    \n",
    "* Recursively, a word is reducible if any of its children are reducible. As a base case, you can consider the empty string reducible.\n",
    "    \n",
    "* The wordlist I provided, words.txt, doesn’t contain single letter words. So you might want to add “I”, “a”, and the empty string.\n",
    "    \n",
    "* To improve the performance of your program, you might want to memoize the words that are known to be reducible.\n",
    "\n",
    "Solution: http://thinkpython2.com/code/reducible.py."
   ]
  },
  {
   "cell_type": "code",
   "execution_count": 52,
   "id": "df662062",
   "metadata": {},
   "outputs": [],
   "source": [
    "from os.path import basename, exists\n",
    "\n",
    "def download(url):\n",
    "    filename = basename(url)\n",
    "    if not exists(filename):\n",
    "        from urllib.request import urlretrieve\n",
    "        local, _ = urlretrieve(url, filename)\n",
    "        print('Downloaded ' + local)\n",
    "    \n",
    "download('https://github.com/AllenDowney/DSIRP/raw/main/american-english')"
   ]
  },
  {
   "cell_type": "code",
   "execution_count": 53,
   "id": "d8f036e8",
   "metadata": {},
   "outputs": [],
   "source": [
    "def read_words(filename):\n",
    "    \"\"\"Read lines from a file and split them into words.\"\"\"\n",
    "    res = set()\n",
    "    for line in open(filename):\n",
    "        for word in line.split():\n",
    "            res.add(word.strip().lower())\n",
    "    return res"
   ]
  },
  {
   "cell_type": "code",
   "execution_count": 95,
   "id": "7ee98c37",
   "metadata": {},
   "outputs": [
    {
     "data": {
      "text/plain": [
       "100781"
      ]
     },
     "execution_count": 95,
     "metadata": {},
     "output_type": "execute_result"
    }
   ],
   "source": [
    "word_set = read_words('american-english')\n",
    "len(word_set)"
   ]
  },
  {
   "cell_type": "code",
   "execution_count": 98,
   "id": "044ef5ef",
   "metadata": {},
   "outputs": [],
   "source": [
    "def children(word):\n",
    "    \"\"\"List of words that can be formed by removing one letter.\n",
    "    \n",
    "    word: string\n",
    "    \n",
    "    returns: list of strings\n",
    "    \"\"\"\n",
    "    res = []\n",
    "    for i in range(len(word)):\n",
    "        child = word[:i] + word[i+1:]\n",
    "        if child in word_set:\n",
    "            res.append(child)\n",
    "    return res"
   ]
  },
  {
   "cell_type": "code",
   "execution_count": 99,
   "id": "0139ccc1",
   "metadata": {},
   "outputs": [
    {
     "data": {
      "text/plain": [
       "['spite']"
      ]
     },
     "execution_count": 99,
     "metadata": {},
     "output_type": "execute_result"
    }
   ],
   "source": [
    "children('sprite')"
   ]
  },
  {
   "cell_type": "code",
   "execution_count": 105,
   "id": "4f843d7d",
   "metadata": {
    "tags": [
     "fill-in"
    ]
   },
   "outputs": [],
   "source": [
    "\"\"\"memo is the set of words considered reducible.\"\"\"\n",
    "\n",
    "memo = {'a', 'i'}\n",
    "\n",
    "def is_reducible(word):\n",
    "    \"\"\"Test if the word is reducible.\n",
    "    \n",
    "    word: string\n",
    "    \"\"\"    \n",
    "     # if we've already checked this word, return the answer\n",
    "    if word in memo:\n",
    "        return True\n",
    "\n",
    "    # check each of the children\n",
    "    for child in children(word):\n",
    "        if is_reducible(child):\n",
    "            memo.add(word)\n",
    "            return True\n",
    "\n",
    "    return False"
   ]
  },
  {
   "cell_type": "code",
   "execution_count": 106,
   "id": "8c6b71a8",
   "metadata": {
    "tags": [
     "fill-in"
    ]
   },
   "outputs": [
    {
     "data": {
      "text/plain": [
       "True"
      ]
     },
     "execution_count": 106,
     "metadata": {},
     "output_type": "execute_result"
    }
   ],
   "source": [
    "is_reducible('sprite')"
   ]
  },
  {
   "cell_type": "code",
   "execution_count": 108,
   "id": "a77ee4da",
   "metadata": {
    "tags": [
     "fill-in"
    ]
   },
   "outputs": [],
   "source": [
    "reducible_words = [word for word in word_set if is_reducible(word)]"
   ]
  },
  {
   "cell_type": "code",
   "execution_count": 109,
   "id": "7767ba27",
   "metadata": {
    "tags": [
     "fill-in"
    ]
   },
   "outputs": [
    {
     "data": {
      "text/plain": [
       "\"bridgette's\""
      ]
     },
     "execution_count": 109,
     "metadata": {},
     "output_type": "execute_result"
    }
   ],
   "source": [
    "max(reducible_words, key=len)"
   ]
  },
  {
   "cell_type": "code",
   "execution_count": 110,
   "id": "0a356d37",
   "metadata": {
    "tags": [
     "fill-in"
    ]
   },
   "outputs": [
    {
     "data": {
      "text/plain": [
       "[\"bridgette's\",\n",
       " \"splitting's\",\n",
       " \"islander's\",\n",
       " \"caroller's\",\n",
       " \"stocking's\",\n",
       " \"stringer's\",\n",
       " 'trowelling',\n",
       " \"marciano's\",\n",
       " \"stalking's\",\n",
       " \"hairline's\"]"
      ]
     },
     "execution_count": 110,
     "metadata": {},
     "output_type": "execute_result"
    }
   ],
   "source": [
    "sorted(reducible_words, key=len, reverse=True)[:10]"
   ]
  },
  {
   "cell_type": "markdown",
   "id": "85788c5b",
   "metadata": {},
   "source": [
    "For a version that keeps track of the path, [see here](http://thinkpython2.com/code/reducible.py)."
   ]
  },
  {
   "cell_type": "code",
   "execution_count": null,
   "id": "956ff88b",
   "metadata": {},
   "outputs": [],
   "source": []
  }
 ],
 "metadata": {
  "celltoolbar": "Tags",
  "kernelspec": {
   "display_name": "Python 3",
   "language": "python",
   "name": "python3"
  },
  "language_info": {
   "codemirror_mode": {
    "name": "ipython",
    "version": 3
   },
   "file_extension": ".py",
   "mimetype": "text/x-python",
   "name": "python",
   "nbconvert_exporter": "python",
   "pygments_lexer": "ipython3",
   "version": "3.9.4"
  }
 },
 "nbformat": 4,
 "nbformat_minor": 5
}
